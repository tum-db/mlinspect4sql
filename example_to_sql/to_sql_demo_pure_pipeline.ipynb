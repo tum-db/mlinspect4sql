{
 "cells": [
  {
   "cell_type": "markdown",
   "metadata": {
    "collapsed": true,
    "pycharm": {
     "name": "#%% md\n"
    }
   },
   "source": [
    "# Benchmark pure pipeline:\n",
    "\n",
    "Runtime comparison, of the translated pipelines."
   ]
  },
  {
   "cell_type": "markdown",
   "source": [
    "## Required packages:\n",
    "See: requirements/requirements.txt and requirements/requirements.dev.txt"
   ],
   "metadata": {
    "collapsed": false
   }
  },
  {
   "cell_type": "markdown",
   "source": [
    "## Some parameters you might want to set:"
   ],
   "metadata": {
    "collapsed": false
   }
  },
  {
   "cell_type": "code",
   "execution_count": 1,
   "outputs": [],
   "source": [
    "import pathlib\n",
    "import timeit\n",
    "from inspect import cleandoc\n",
    "import matplotlib.pyplot as plt\n",
    "from tqdm import tqdm\n",
    "\n",
    "from mlinspect.to_sql.dbms_connectors.postgresql_connector import PostgresqlConnector\n",
    "from mlinspect.to_sql.dbms_connectors.umbra_connector import UmbraConnector\n",
    "from pandas_connector import PandasConnector\n",
    "from mlinspect import PipelineInspector\n",
    "from mlinspect.utils import get_project_root\n",
    "from _code_as_string import get_healthcare_pipe_code\n",
    "from pandas_connector import PandasConnector\n",
    "from _benchmark_utility import plot_compare, ROOT_DIR, PLOT_DIR\n",
    "from _code_as_string import Join, GroupBy, Selection, Projection\n",
    "\n",
    "DO_CLEANUP = True\n",
    "SIZES = [(10 ** i) for i in range(2, 8, 1)]\n",
    "BENCH_REP = 3\n",
    "MLINSPECT_ROOT_DIR = get_project_root()\n",
    "\n",
    "# DBMS related:\n",
    "UMBRA_DIR = r\"/home/luca/Documents/Bachelorarbeit/umbra-students\"\n",
    "UMBRA_USER = \"postgres\"\n",
    "UMBRA_PW = \" \"\n",
    "UMBRA_DB = \"\"\n",
    "UMBRA_PORT = 5433\n",
    "UMBRA_HOST = \"/tmp/\"\n",
    "\n",
    "POSTGRES_USER = \"luca\"\n",
    "POSTGRES_PW = \"password\"\n",
    "POSTGRES_DB = \"healthcare_benchmark\"\n",
    "POSTGRES_PORT = 5432\n",
    "POSTGRES_HOST = \"localhost\""
   ],
   "metadata": {
    "collapsed": false,
    "pycharm": {
     "name": "#%%\n"
    }
   }
  },
  {
   "cell_type": "markdown",
   "source": [
    "# Data Generation\n",
    "\n",
    "To be able to benchmark and compare the different approaches, some datasets\n",
    "will need to be generated before. The datasets are just and expansion of the\n",
    "original ones."
   ],
   "metadata": {
    "collapsed": false
   }
  },
  {
   "cell_type": "code",
   "execution_count": 2,
   "outputs": [
    {
     "name": "stdout",
     "output_type": "stream",
     "text": [
      "/bin/bash: {sys.executable}: command not found\r\n",
      "Data generated or found for: size = 100 -- compas\n",
      "Data generated or found for: size = 1000 -- compas\n",
      "Data generated or found for: size = 10000 -- compas\n",
      "Data generated or found for: size = 100000 -- compas\n",
      "Data generated or found for: size = 1000000 -- compas\n",
      "Data generated or found for: size = 10000000 -- compas\n",
      "Data generated or found for: size = 100 -- healthcare\n",
      "Data generated or found for: size = 1000 -- healthcare\n",
      "Data generated or found for: size = 10000 -- healthcare\n",
      "Data generated or found for: size = 100000 -- healthcare\n",
      "Data generated or found for: size = 1000000 -- healthcare\n",
      "Data generated or found for: size = 10000000 -- healthcare\n"
     ]
    }
   ],
   "source": [
    "!{sys.executable} -m pip install faker\n",
    "\n",
    "from data_generation.compas_data_generation import generate_compas_dataset\n",
    "from data_generation.healthcare_data_generation import generate_healthcare_dataset\n",
    "\n",
    "# We only generate the files, that are not already existing:\n",
    "\n",
    "COMPAS_DATA_PATHS = generate_compas_dataset(SIZES)\n",
    "HEALTHCARE_DATA_PATHS = generate_healthcare_dataset(SIZES)"
   ],
   "metadata": {
    "collapsed": false,
    "pycharm": {
     "name": "#%%\n"
    }
   }
  },
  {
   "cell_type": "markdown",
   "source": [
    "## Demo:"
   ],
   "metadata": {
    "collapsed": false,
    "pycharm": {
     "name": "#%% md\n"
    }
   }
  },
  {
   "cell_type": "code",
   "execution_count": 3,
   "outputs": [],
   "source": [
    "def get_healthcare_sql_str(pipeline_code, mode, materialize):\n",
    "    PipelineInspector \\\n",
    "        .on_pipeline_from_string(pipeline_code) \\\n",
    "        .execute_in_sql(dbms_connector=None, mode=mode, materialize=materialize)\n",
    "\n",
    "    setup_file = \\\n",
    "        pathlib.Path(MLINSPECT_ROOT_DIR / r\"mlinspect/to_sql/generated_code/create_table.sql\")\n",
    "    test_file = \\\n",
    "        pathlib.Path(MLINSPECT_ROOT_DIR / r\"mlinspect/to_sql/generated_code/pipeline.sql\")\n",
    "\n",
    "    with setup_file.open(\"r\") as file:\n",
    "        setup_code = file.read()\n",
    "\n",
    "    with test_file.open(\"r\") as file:\n",
    "        test_code = file.read()\n",
    "\n",
    "    return setup_code, test_code"
   ],
   "metadata": {
    "collapsed": false,
    "pycharm": {
     "name": "#%%\n"
    }
   }
  },
  {
   "cell_type": "code",
   "execution_count": null,
   "outputs": [
    {
     "name": "stdout",
     "output_type": "stream",
     "text": [
      "ITERATION: 0 - for table size of: 100\n",
      "\n",
      "Just translation to SQL is performed! \n",
      "-> SQL-Code placed at: mlinspect/to_sql/generated_code\n",
      "\n"
     ]
    },
    {
     "name": "stderr",
     "output_type": "stream",
     "text": [
      "2021-07-29 08:06:49.244675: W tensorflow/stream_executor/platform/default/dso_loader.cc:64] Could not load dynamic library 'libcudart.so.11.0'; dlerror: libcudart.so.11.0: cannot open shared object file: No such file or directory\n",
      "2021-07-29 08:06:49.244701: I tensorflow/stream_executor/cuda/cudart_stub.cc:29] Ignore above cudart dlerror if you do not have a GPU set up on your machine.\n"
     ]
    },
    {
     "name": "stdout",
     "output_type": "stream",
     "text": [
      "Executing Query in Umbra...\n",
      "Done in 0.0006233333333333333!\n",
      "Executing Query in Postgres...\n",
      "Done in 2.0386666666666664!\n",
      "Executing Query in Pandas...\n",
      "Done in 11.654675668978598!\n",
      "ITERATION: 1 - for table size of: 1000\n",
      "\n",
      "Just translation to SQL is performed! \n",
      "-> SQL-Code placed at: mlinspect/to_sql/generated_code\n",
      "\n",
      "Executing Query in Umbra...\n",
      "Done in 0.0011616666666666668!\n",
      "Executing Query in Postgres...\n",
      "Done in 15.445666666666668!\n",
      "Executing Query in Pandas...\n",
      "Done in 12.353357332661593!\n",
      "ITERATION: 2 - for table size of: 10000\n",
      "\n",
      "Just translation to SQL is performed! \n",
      "-> SQL-Code placed at: mlinspect/to_sql/generated_code\n",
      "\n",
      "Executing Query in Umbra...\n",
      "Done in 0.0038743333333333334!\n",
      "Executing Query in Postgres...\n",
      "Done in 148.79166666666666!\n",
      "Executing Query in Pandas...\n",
      "Done in 25.925816664918482!\n",
      "ITERATION: 3 - for table size of: 100000\n",
      "\n",
      "Just translation to SQL is performed! \n",
      "-> SQL-Code placed at: mlinspect/to_sql/generated_code\n",
      "\n",
      "Executing Query in Umbra...\n",
      "Done in 0.013052333333333332!\n",
      "Executing Query in Postgres...\n",
      "Done in 2485.936!\n",
      "Executing Query in Pandas...\n",
      "Done in 200.59446266532177!\n",
      "ITERATION: 4 - for table size of: 1000000\n",
      "\n",
      "Just translation to SQL is performed! \n",
      "-> SQL-Code placed at: mlinspect/to_sql/generated_code\n",
      "\n",
      "Executing Query in Umbra...\n",
      "Done in 0.08495133333333332!\n",
      "Executing Query in Postgres...\n",
      "Done in 26567.162!\n",
      "Executing Query in Pandas...\n",
      "Done in 2053.0562580000455!\n",
      "ITERATION: 5 - for table size of: 10000000\n",
      "\n",
      "Just translation to SQL is performed! \n",
      "-> SQL-Code placed at: mlinspect/to_sql/generated_code\n",
      "\n",
      "Executing Query in Umbra...\n",
      "Done in 0.7826986666666667!\n",
      "Executing Query in Postgres...\n"
     ]
    }
   ],
   "source": [
    "def pure_pipeline_benchmark(add_impute_and_onehot=False, title = \"HealthcarePurePipeComparison\"):\n",
    "    umbra_times = []\n",
    "    postgres_times = []\n",
    "    pandas_times = []\n",
    "\n",
    "    postgres = PostgresqlConnector(dbname=\"healthcare_benchmark\", user=\"luca\", password=\"password\", port=5432,\n",
    "                                   host=\"localhost\")\n",
    "    pandas = PandasConnector()\n",
    "\n",
    "    for i, (path_to_csv_his, path_to_csv_pat) in enumerate(HEALTHCARE_DATA_PATHS):\n",
    "        print(f\"ITERATION: {i} - for table size of: {SIZES[i]}\")\n",
    "\n",
    "        setup_code_orig, test_code_orig = get_healthcare_pipe_code(path_to_csv_his, path_to_csv_pat, add_impute_and_onehot=add_impute_and_onehot)\n",
    "\n",
    "        setup_code, test_code = get_healthcare_sql_str(setup_code_orig + \"\\n\" + test_code_orig, mode=\"CTE\",\n",
    "                                                       materialize=False)\n",
    "\n",
    "        ################################################################################################################\n",
    "        # time Umbra:\n",
    "        umbra = UmbraConnector(dbname=\"\", user=\"postgres\", password=\" \", port=5433, host=\"/tmp/\", umbra_dir=UMBRA_DIR)\n",
    "        umbra.run(setup_code)\n",
    "        umbra_times.append(umbra.benchmark_run(test_code, repetitions=BENCH_REP))\n",
    "\n",
    "        ################################################################################################################\n",
    "        # time Postgres:\n",
    "        postgres.run(setup_code)\n",
    "        postgres_times.append(postgres.benchmark_run(test_code, repetitions=BENCH_REP))\n",
    "\n",
    "        ################################################################################################################\n",
    "        # time Pandas:\n",
    "        pandas_times.append(pandas.benchmark_run(pandas_code=test_code_orig, setup_code=setup_code_orig,\n",
    "                                                 repetitions=BENCH_REP))\n",
    "        ################################################################################################################\n",
    "\n",
    "    print(f\"Plotting..\")\n",
    "    names = [\"Umbra\", \"Postgresql\", \"Pandas\"]\n",
    "    table = [umbra_times, postgres_times, pandas_times]\n",
    "    plot_compare(title, SIZES, all_y=table, all_y_names=names, save=True)\n",
    "\n",
    "pure_pipeline_benchmark()"
   ],
   "metadata": {
    "collapsed": false,
    "pycharm": {
     "name": "#%%\n"
    }
   }
  },
  {
   "cell_type": "markdown",
   "source": [
    "### The original results:\n",
    "**Pipeline runtimes**:\n",
    "\n",
    "![p_r](plots/HealthcarePurePipeComparison.png)\n",
    "\n",
    "<img src=\"plots/HealthcarePurePipeComparison.png\" width=\"60\" height=\"60\" />"
   ],
   "metadata": {
    "collapsed": false
   }
  },
  {
   "cell_type": "code",
   "execution_count": null,
   "outputs": [],
   "source": [
    "pure_pipeline_benchmark(add_impute_and_onehot=True, title=\"HealthcarePurePipeComparisonSimpImpOneHot\")"
   ],
   "metadata": {
    "collapsed": false,
    "pycharm": {
     "name": "#%%\n"
    }
   }
  },
  {
   "cell_type": "markdown",
   "source": [
    "## When also considering \"Simple Imputer\" and \"OneHotEncoder\" from scikit-learn:\n"
   ],
   "metadata": {
    "collapsed": false
   }
  },
  {
   "cell_type": "markdown",
   "source": [
    "### The original results:\n",
    "**Pipeline runtimes**:\n",
    "\n",
    "![p_r](plots/HealthcarePurePipeComparisonSimpImpOneHot.png)\n"
   ],
   "metadata": {
    "collapsed": false
   }
  },
  {
   "cell_type": "code",
   "execution_count": null,
   "outputs": [],
   "source": [
    "# Clean_up:\n",
    "if DO_CLEANUP:\n",
    "    [f.unlink() for f in PLOT_DIR.glob(\"*_.png\") if f.is_file()]"
   ],
   "metadata": {
    "collapsed": false,
    "pycharm": {
     "name": "#%%\n"
    }
   }
  }
 ],
 "metadata": {
  "kernelspec": {
   "display_name": "Python 3",
   "language": "python",
   "name": "python3"
  },
  "language_info": {
   "codemirror_mode": {
    "name": "ipython",
    "version": 2
   },
   "file_extension": ".py",
   "mimetype": "text/x-python",
   "name": "python",
   "nbconvert_exporter": "python",
   "pygments_lexer": "ipython2",
   "version": "2.7.6"
  }
 },
 "nbformat": 4,
 "nbformat_minor": 0
}
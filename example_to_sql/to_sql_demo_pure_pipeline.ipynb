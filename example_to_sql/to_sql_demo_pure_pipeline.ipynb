{
 "cells": [
  {
   "cell_type": "markdown",
   "metadata": {
    "collapsed": true,
    "pycharm": {
     "name": "#%% md\n"
    }
   },
   "source": [
    "# Benchmark pure pipeline:\n",
    "\n",
    "Runtime comparison, of the translated pipelines. As well as showcase of the original and translated code."
   ]
  },
  {
   "cell_type": "code",
   "execution_count": 1,
   "outputs": [],
   "source": [
    "import pathlib\n",
    "import os\n",
    "from mlinspect import PipelineInspector\n",
    "from mlinspect.utils import get_project_root\n",
    "from _code_as_string import get_healthcare_pipe_code"
   ],
   "metadata": {
    "collapsed": false,
    "pycharm": {
     "name": "#%%\n"
    }
   }
  },
  {
   "cell_type": "code",
   "execution_count": null,
   "outputs": [],
   "source": [
    "# The files from the original pipeline:\n",
    "patients = os.path.join( str(get_project_root()), \"example_pipelines\", \"healthcare\", \"patients.csv\")\n",
    "histories = os.path.join( str(get_project_root()), \"example_pipelines\", \"healthcare\", \"histories.csv\")\n",
    "\n",
    "# Get the code of the pipeline:\n",
    "setup_code_orig, test_code_orig = get_healthcare_pipe_code(histories, patients, add_impute_and_onehot=False)"
   ],
   "metadata": {
    "collapsed": false,
    "pycharm": {
     "name": "#%%\n"
    }
   }
  },
  {
   "cell_type": "markdown",
   "source": [
    "### The code of the pipeline we will translate:"
   ],
   "metadata": {
    "collapsed": false,
    "pycharm": {
     "name": "#%% md\n"
    }
   }
  },
  {
   "cell_type": "code",
   "execution_count": null,
   "outputs": [],
   "source": [
    "pipeline_code = setup_code_orig + \"\\n\" + test_code_orig\n",
    "print(pipeline_code)\n"
   ],
   "metadata": {
    "collapsed": false,
    "pycharm": {
     "name": "#%%\n"
    }
   }
  },
  {
   "cell_type": "code",
   "execution_count": null,
   "outputs": [],
   "source": [
    "## The function to retrieve the generated code:\n",
    "def get_healthcare_sql_str(pipeline_code, mode, materialize):\n",
    "    PipelineInspector \\\n",
    "        .on_pipeline_from_string(pipeline_code) \\\n",
    "        .execute_in_sql(dbms_connector=None, mode=mode, materialize=materialize)\n",
    "\n",
    "    setup_file = \\\n",
    "        pathlib.Path(get_project_root() / r\"mlinspect/to_sql/generated_code/create_table.sql\")\n",
    "    test_file = \\\n",
    "        pathlib.Path(get_project_root() / r\"mlinspect/to_sql/generated_code/pipeline.sql\")\n",
    "\n",
    "    with setup_file.open(\"r\") as file:\n",
    "        setup_code = file.read()\n",
    "\n",
    "    with test_file.open(\"r\") as file:\n",
    "        test_code = file.read()\n",
    "\n",
    "    return setup_code, test_code"
   ],
   "metadata": {
    "collapsed": false,
    "pycharm": {
     "name": "#%%\n"
    }
   }
  },
  {
   "cell_type": "markdown",
   "source": [
    "### The code generated using \"CTE\":"
   ],
   "metadata": {
    "collapsed": false,
    "pycharm": {
     "name": "#%% md\n"
    }
   }
  },
  {
   "cell_type": "code",
   "execution_count": null,
   "outputs": [],
   "source": [
    "setup_code, test_code = get_healthcare_sql_str(pipeline_code, mode=\"CTE\", materialize=False)\n",
    "\n",
    "print(setup_code + \"\\n\" + test_code)\n"
   ],
   "metadata": {
    "collapsed": false,
    "pycharm": {
     "name": "#%%\n"
    }
   }
  },
  {
   "cell_type": "markdown",
   "source": [
    "### The code generated using \"VIEW\":"
   ],
   "metadata": {
    "collapsed": false
   }
  },
  {
   "cell_type": "code",
   "execution_count": null,
   "outputs": [],
   "source": [
    "setup_code, test_code = get_healthcare_sql_str(pipeline_code, mode=\"VIEW\", materialize=False)\n",
    "\n",
    "print(setup_code + \"\\n\" + test_code)"
   ],
   "metadata": {
    "collapsed": false,
    "pycharm": {
     "name": "#%%\n"
    }
   }
  },
  {
   "cell_type": "markdown",
   "source": [
    "### The code generated using \"VIEW\" + \"MATERIALIZE\":"
   ],
   "metadata": {
    "collapsed": false
   }
  },
  {
   "cell_type": "code",
   "execution_count": null,
   "outputs": [],
   "source": [
    "setup_code, test_code = get_healthcare_sql_str(pipeline_code, mode=\"VIEW\", materialize=True)\n",
    "\n",
    "print(setup_code + \"\\n\" + test_code)"
   ],
   "metadata": {
    "collapsed": false,
    "pycharm": {
     "name": "#%%\n"
    }
   }
  },
  {
   "cell_type": "markdown",
   "source": [
    "## Presentation of the benchmark results for executing the translated pipelines:\n",
    "\n",
    "### The original results:\n",
    "**Pipeline runtimes**:\n",
    "\n",
    "![p_r](plots/HealthcarePurePipeComparison.png)"
   ],
   "metadata": {
    "collapsed": false
   }
  },
  {
   "cell_type": "markdown",
   "source": [
    "## When also considering \"SimpleImputer\" and \"OneHotEncoder\" from scikit-learn:\n",
    "**Pipeline runtimes**:\n",
    "\n",
    "![p_r](plots/HealthcarePurePipeComparisonSimpImpOneHot.png)"
   ],
   "metadata": {
    "collapsed": false,
    "pycharm": {
     "name": "#%% md\n"
    }
   }
  }
 ],
 "metadata": {
  "kernelspec": {
   "display_name": "Python 3",
   "language": "python",
   "name": "python3"
  },
  "language_info": {
   "codemirror_mode": {
    "name": "ipython",
    "version": 2
   },
   "file_extension": ".py",
   "mimetype": "text/x-python",
   "name": "python",
   "nbconvert_exporter": "python",
   "pygments_lexer": "ipython2",
   "version": "2.7.6"
  }
 },
 "nbformat": 4,
 "nbformat_minor": 0
}
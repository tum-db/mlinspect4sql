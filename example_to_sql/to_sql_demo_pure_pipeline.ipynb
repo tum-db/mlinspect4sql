{
 "cells": [
  {
   "cell_type": "markdown",
   "metadata": {
    "collapsed": true,
    "pycharm": {
     "name": "#%% md\n"
    }
   },
   "source": [
    "# Benchmark pure pipeline:\n",
    "\n",
    "Runtime comparison, of the translated pipelines. As well as showcase of the original and translated code."
   ]
  },
  {
   "cell_type": "code",
   "execution_count": 8,
   "outputs": [],
   "source": [
    "import pathlib\n",
    "import re\n",
    "from inspect import cleandoc\n",
    "from mlinspect import PipelineInspector\n",
    "from mlinspect.utils import get_project_root"
   ],
   "metadata": {
    "collapsed": false,
    "pycharm": {
     "name": "#%%\n"
    }
   }
  },
  {
   "cell_type": "markdown",
   "source": [
    "### The code of the pipeline we will translate:"
   ],
   "metadata": {
    "collapsed": false,
    "pycharm": {
     "name": "#%% md\n"
    }
   }
  },
  {
   "cell_type": "code",
   "execution_count": 9,
   "outputs": [
    {
     "name": "stdout",
     "output_type": "stream",
     "text": [
      "import os\n",
      "import pandas as pd\n",
      "from mlinspect.utils import get_project_root\n",
      "\n",
      "COUNTIES_OF_INTEREST = ['county2', 'county3']\n",
      "\n",
      "patients = pd.read_csv(\n",
      "    os.path.join( str(get_project_root()), \"example_pipelines\", \"healthcare\", \"patients.csv\"),\n",
      "    na_values='?')\n",
      "histories = pd.read_csv(\n",
      "    os.path.join( str(get_project_root()), \"example_pipelines\", \"healthcare\", \"histories.csv\"),\n",
      "    na_values='?')\n",
      "\n",
      "data = patients.merge(histories, on=['ssn'])\n",
      "complications = data.groupby('age_group').agg(mean_complications=('complications', 'mean'))\n",
      "data = data.merge(complications, on=['age_group'])\n",
      "data['label'] = data['complications'] > 1.2 * data['mean_complications']\n",
      "data = data[['smoker', 'last_name', 'county', 'num_children', 'race', 'income', 'label']]\n",
      "data = data[data['county'].isin(COUNTIES_OF_INTEREST)]\n"
     ]
    }
   ],
   "source": [
    "pipeline_code = cleandoc(\"\"\"\n",
    "    import os\n",
    "    import pandas as pd\n",
    "    from mlinspect.utils import get_project_root\n",
    "\n",
    "    COUNTIES_OF_INTEREST = ['county2', 'county3']\n",
    "\n",
    "    patients = pd.read_csv(\n",
    "        os.path.join( str(get_project_root()), \"example_pipelines\", \"healthcare\", \"patients.csv\"),\n",
    "        na_values='?')\n",
    "    histories = pd.read_csv(\n",
    "        os.path.join( str(get_project_root()), \"example_pipelines\", \"healthcare\", \"histories.csv\"),\n",
    "        na_values='?')\n",
    "\n",
    "    data = patients.merge(histories, on=['ssn'])\n",
    "    complications = data.groupby('age_group').agg(mean_complications=('complications', 'mean'))\n",
    "    data = data.merge(complications, on=['age_group'])\n",
    "    data['label'] = data['complications'] > 1.2 * data['mean_complications']\n",
    "    data = data[['smoker', 'last_name', 'county', 'num_children', 'race', 'income', 'label']]\n",
    "    data = data[data['county'].isin(COUNTIES_OF_INTEREST)]\n",
    "    \"\"\")\n",
    "\n",
    "\n",
    "print(pipeline_code)\n"
   ],
   "metadata": {
    "collapsed": false,
    "pycharm": {
     "name": "#%%\n"
    }
   }
  },
  {
   "cell_type": "code",
   "execution_count": 10,
   "outputs": [],
   "source": [
    "## The function to retrieve the generated code:\n",
    "def get_sql_query(pipeline_code, mode, materialize):\n",
    "    PipelineInspector \\\n",
    "        .on_pipeline_from_string(pipeline_code) \\\n",
    "        .execute_in_sql(dbms_connector=None, mode=mode, materialize=materialize)\n",
    "\n",
    "    setup_file = \\\n",
    "        pathlib.Path(get_project_root() / r\"mlinspect/to_sql/generated_code/create_table.sql\")\n",
    "    test_file = \\\n",
    "        pathlib.Path(get_project_root() / r\"mlinspect/to_sql/generated_code/pipeline.sql\")\n",
    "\n",
    "    with setup_file.open(\"r\") as file:\n",
    "        set_up_code = file.read()\n",
    "\n",
    "    with test_file.open(\"r\") as file:\n",
    "        test__code = file.read()\n",
    "\n",
    "    return set_up_code, test__code"
   ],
   "metadata": {
    "collapsed": false,
    "pycharm": {
     "name": "#%%\n"
    }
   }
  },
  {
   "cell_type": "markdown",
   "source": [
    "### The code generated using \"CTE\":"
   ],
   "metadata": {
    "collapsed": false,
    "pycharm": {
     "name": "#%% md\n"
    }
   }
  },
  {
   "cell_type": "code",
   "execution_count": 11,
   "outputs": [
    {
     "name": "stdout",
     "output_type": "stream",
     "text": [
      "\n",
      "Just translation to SQL is performed! \n",
      "-> SQL-Code placed at: mlinspect/to_sql/generated_code\n",
      "\n",
      "CREATE TABLE patients_mlinid0 (\n",
      "\t\"id\" INT,\n",
      "\t\"first_name\" VARCHAR(100),\n",
      "\t\"last_name\" VARCHAR(100),\n",
      "\t\"race\" VARCHAR(100),\n",
      "\t\"county\" VARCHAR(100),\n",
      "\t\"num_children\" INT,\n",
      "\t\"income\" FLOAT,\n",
      "\t\"age_group\" VARCHAR(100),\n",
      "\t\"ssn\" VARCHAR(100)\n",
      ");\n",
      "\n",
      "COPY patients_mlinid0(\"id\", \"first_name\", \"last_name\", \"race\", \"county\", \"num_children\", \"income\", \"age_group\", \"ssn\") FROM '/home/luca/Documents/Bachelorarbeit/mlinspect/example_pipelines/healthcare/patients.csv' WITH (DELIMITER ',', NULL '?', FORMAT CSV, HEADER TRUE);\n",
      "\n",
      "\n",
      "CREATE TABLE histories_mlinid1 (\n",
      "\t\"smoker\" VARCHAR(100),\n",
      "\t\"complications\" INT,\n",
      "\t\"ssn\" VARCHAR(100)\n",
      ");\n",
      "\n",
      "COPY histories_mlinid1(\"smoker\", \"complications\", \"ssn\") FROM '/home/luca/Documents/Bachelorarbeit/mlinspect/example_pipelines/healthcare/histories.csv' WITH (DELIMITER ',', NULL '?', FORMAT CSV, HEADER TRUE);\n",
      "\n",
      "\n",
      "\n",
      "WITH patients_mlinid0_ctid AS (\n",
      "\tSELECT *, ctid AS patients_mlinid0_ctid\n",
      "\tFROM patients_mlinid0\n",
      "),\n",
      "histories_mlinid1_ctid AS (\n",
      "\tSELECT *, ctid AS histories_mlinid1_ctid\n",
      "\tFROM histories_mlinid1\n",
      "),\n",
      "block_mlinid2_57 AS (\n",
      "\tSELECT tb1.\"id\", tb1.\"first_name\", tb1.\"last_name\", tb1.\"race\", tb1.\"county\", tb1.\"num_children\", tb1.\"income\", tb1.\"age_group\", tb1.\"ssn\", tb1.patients_mlinid0_ctid, tb2.\"smoker\", tb2.\"complications\", tb2.histories_mlinid1_ctid\n",
      "\tFROM patients_mlinid0_ctid tb1 \n",
      "\tINNER JOIN histories_mlinid1_ctid tb2 ON tb1.\"ssn\" = tb2.\"ssn\"\n",
      "),\n",
      "block_mlinid3_58 AS (\n",
      "\tSELECT \"age_group\", AVG(\"complications\") AS \"mean_complications\" \n",
      "\tFROM block_mlinid2_57\n",
      "\tGROUP BY \"age_group\"\n",
      "),\n",
      "block_mlinid4_59 AS (\n",
      "\tSELECT tb1.\"id\", tb1.\"first_name\", tb1.\"last_name\", tb1.\"race\", tb1.\"county\", tb1.\"num_children\", tb1.\"income\", tb1.\"age_group\", tb1.\"ssn\", tb1.\"smoker\", tb1.\"complications\", tb1.histories_mlinid1_ctid, tb1.patients_mlinid0_ctid, tb2.\"mean_complications\"\n",
      "\tFROM block_mlinid2_57 tb1 \n",
      "\tINNER JOIN block_mlinid3_58 tb2 ON tb1.\"age_group\" = tb2.\"age_group\"\n",
      "),\n",
      "block_mlinid5_60 AS (\n",
      "\tSELECT \"complications\", histories_mlinid1_ctid, patients_mlinid0_ctid\n",
      "\tFROM block_mlinid4_59\n",
      "),\n",
      "block_mlinid6_61 AS (\n",
      "\tSELECT \"mean_complications\", histories_mlinid1_ctid, patients_mlinid0_ctid\n",
      "\tFROM block_mlinid4_59\n",
      "),\n",
      "block_mlinid7_63 AS (\n",
      "\tSELECT (1.2 * \"mean_complications\") AS op_62, histories_mlinid1_ctid, patients_mlinid0_ctid\n",
      "\tFROM block_mlinid4_59\n",
      "),\n",
      "block_mlinid8_65 AS (\n",
      "\tSELECT ((\"complications\" > (1.2 * \"mean_complications\"))) AS op_64, histories_mlinid1_ctid, patients_mlinid0_ctid\n",
      "\tFROM block_mlinid4_59\n",
      "),\n",
      "block_mlinid9_66 AS (\n",
      "\tSELECT *, (\"complications\" > (1.2 * \"mean_complications\")) AS label\n",
      "\tFROM block_mlinid4_59\n",
      "),\n",
      "block_mlinid10_67 AS (\n",
      "\tSELECT \"smoker\", \"last_name\", \"county\", \"num_children\", \"race\", \"income\", \"label\", histories_mlinid1_ctid, patients_mlinid0_ctid\n",
      "\tFROM block_mlinid9_66\n",
      "),\n",
      "block_mlinid11_68 AS (\n",
      "\tSELECT \"county\", histories_mlinid1_ctid, patients_mlinid0_ctid\n",
      "\tFROM block_mlinid10_67\n",
      "),\n",
      "block_mlinid12_69 AS (\n",
      "\tSELECT (\"county\" IN ('county2', 'county3')), histories_mlinid1_ctid, patients_mlinid0_ctid\n",
      "\tFROM block_mlinid10_67\n",
      "),\n",
      "block_mlinid13_70 AS (\n",
      "\tSELECT * \n",
      "\tFROM block_mlinid10_67 \n",
      "\tWHERE (\"county\" IN ('county2', 'county3'))\n",
      ")\n",
      "SELECT \"smoker\", \"last_name\", \"county\", \"num_children\", \"race\", \"income\", \"label\" FROM block_mlinid13_70;\n"
     ]
    }
   ],
   "source": [
    "setup_code, test_code = get_sql_query(pipeline_code, mode=\"CTE\", materialize=False)\n",
    "\n",
    "print(setup_code + \"\\n\" + test_code)\n"
   ],
   "metadata": {
    "collapsed": false,
    "pycharm": {
     "name": "#%%\n"
    }
   }
  },
  {
   "cell_type": "markdown",
   "source": [
    "### The code generated using \"VIEW\":"
   ],
   "metadata": {
    "collapsed": false
   }
  },
  {
   "cell_type": "code",
   "execution_count": 12,
   "outputs": [
    {
     "name": "stdout",
     "output_type": "stream",
     "text": [
      "\n",
      "Just translation to SQL is performed! \n",
      "-> SQL-Code placed at: mlinspect/to_sql/generated_code\n",
      "\n",
      "CREATE TABLE patients_mlinid0 (\n",
      "\t\"id\" INT,\n",
      "\t\"first_name\" VARCHAR(100),\n",
      "\t\"last_name\" VARCHAR(100),\n",
      "\t\"race\" VARCHAR(100),\n",
      "\t\"county\" VARCHAR(100),\n",
      "\t\"num_children\" INT,\n",
      "\t\"income\" FLOAT,\n",
      "\t\"age_group\" VARCHAR(100),\n",
      "\t\"ssn\" VARCHAR(100)\n",
      ");\n",
      "\n",
      "COPY patients_mlinid0(\"id\", \"first_name\", \"last_name\", \"race\", \"county\", \"num_children\", \"income\", \"age_group\", \"ssn\") FROM '/home/luca/Documents/Bachelorarbeit/mlinspect/example_pipelines/healthcare/patients.csv' WITH (DELIMITER ',', NULL '?', FORMAT CSV, HEADER TRUE);\n",
      "\n",
      "\n",
      "CREATE TABLE histories_mlinid1 (\n",
      "\t\"smoker\" VARCHAR(100),\n",
      "\t\"complications\" INT,\n",
      "\t\"ssn\" VARCHAR(100)\n",
      ");\n",
      "\n",
      "COPY histories_mlinid1(\"smoker\", \"complications\", \"ssn\") FROM '/home/luca/Documents/Bachelorarbeit/mlinspect/example_pipelines/healthcare/histories.csv' WITH (DELIMITER ',', NULL '?', FORMAT CSV, HEADER TRUE);\n",
      "\n",
      "\n",
      "\n",
      "CREATE VIEW patients_mlinid0_ctid AS (\n",
      "\tSELECT *, ctid AS patients_mlinid0_ctid\n",
      "\tFROM patients_mlinid0\n",
      ");\n",
      "CREATE VIEW histories_mlinid1_ctid AS (\n",
      "\tSELECT *, ctid AS histories_mlinid1_ctid\n",
      "\tFROM histories_mlinid1\n",
      ");\n",
      "CREATE VIEW block_mlinid2_71 AS (\n",
      "\tSELECT tb1.\"id\", tb1.\"first_name\", tb1.\"last_name\", tb1.\"race\", tb1.\"county\", tb1.\"num_children\", tb1.\"income\", tb1.\"age_group\", tb1.\"ssn\", tb1.patients_mlinid0_ctid, tb2.\"smoker\", tb2.\"complications\", tb2.histories_mlinid1_ctid\n",
      "\tFROM patients_mlinid0_ctid tb1 \n",
      "\tINNER JOIN histories_mlinid1_ctid tb2 ON tb1.\"ssn\" = tb2.\"ssn\"\n",
      ");\n",
      "CREATE VIEW block_mlinid3_72 AS (\n",
      "\tSELECT \"age_group\", AVG(\"complications\") AS \"mean_complications\" \n",
      "\tFROM block_mlinid2_71\n",
      "\tGROUP BY \"age_group\"\n",
      ");\n",
      "CREATE VIEW block_mlinid4_73 AS (\n",
      "\tSELECT tb1.\"id\", tb1.\"first_name\", tb1.\"last_name\", tb1.\"race\", tb1.\"county\", tb1.\"num_children\", tb1.\"income\", tb1.\"age_group\", tb1.\"ssn\", tb1.\"smoker\", tb1.\"complications\", tb1.histories_mlinid1_ctid, tb1.patients_mlinid0_ctid, tb2.\"mean_complications\"\n",
      "\tFROM block_mlinid2_71 tb1 \n",
      "\tINNER JOIN block_mlinid3_72 tb2 ON tb1.\"age_group\" = tb2.\"age_group\"\n",
      ");\n",
      "CREATE VIEW block_mlinid5_74 AS (\n",
      "\tSELECT \"complications\", histories_mlinid1_ctid, patients_mlinid0_ctid\n",
      "\tFROM block_mlinid4_73\n",
      ");\n",
      "CREATE VIEW block_mlinid6_75 AS (\n",
      "\tSELECT \"mean_complications\", histories_mlinid1_ctid, patients_mlinid0_ctid\n",
      "\tFROM block_mlinid4_73\n",
      ");\n",
      "CREATE VIEW block_mlinid7_77 AS (\n",
      "\tSELECT (1.2 * \"mean_complications\") AS op_76, histories_mlinid1_ctid, patients_mlinid0_ctid\n",
      "\tFROM block_mlinid4_73\n",
      ");\n",
      "CREATE VIEW block_mlinid8_79 AS (\n",
      "\tSELECT ((\"complications\" > (1.2 * \"mean_complications\"))) AS op_78, histories_mlinid1_ctid, patients_mlinid0_ctid\n",
      "\tFROM block_mlinid4_73\n",
      ");\n",
      "CREATE VIEW block_mlinid9_80 AS (\n",
      "\tSELECT *, (\"complications\" > (1.2 * \"mean_complications\")) AS label\n",
      "\tFROM block_mlinid4_73\n",
      ");\n",
      "CREATE VIEW block_mlinid10_81 AS (\n",
      "\tSELECT \"smoker\", \"last_name\", \"county\", \"num_children\", \"race\", \"income\", \"label\", histories_mlinid1_ctid, patients_mlinid0_ctid\n",
      "\tFROM block_mlinid9_80\n",
      ");\n",
      "CREATE VIEW block_mlinid11_82 AS (\n",
      "\tSELECT \"county\", histories_mlinid1_ctid, patients_mlinid0_ctid\n",
      "\tFROM block_mlinid10_81\n",
      ");\n",
      "CREATE VIEW block_mlinid12_83 AS (\n",
      "\tSELECT (\"county\" IN ('county2', 'county3')), histories_mlinid1_ctid, patients_mlinid0_ctid\n",
      "\tFROM block_mlinid10_81\n",
      ");\n",
      "CREATE VIEW block_mlinid13_84 AS (\n",
      "\tSELECT * \n",
      "\tFROM block_mlinid10_81 \n",
      "\tWHERE (\"county\" IN ('county2', 'county3'))\n",
      ");\n",
      "\n",
      "SELECT \"smoker\", \"last_name\", \"county\", \"num_children\", \"race\", \"income\", \"label\" FROM block_mlinid13_84;\n"
     ]
    }
   ],
   "source": [
    "setup_code, test_code = get_sql_query(pipeline_code, mode=\"VIEW\", materialize=False)\n",
    "\n",
    "view_no_mat = setup_code + \"\\n\" + test_code\n",
    "print(view_no_mat)"
   ],
   "metadata": {
    "collapsed": false,
    "pycharm": {
     "name": "#%%\n"
    }
   }
  },
  {
   "cell_type": "markdown",
   "source": [
    "### The code generated using \"VIEW\" + \"MATERIALIZE\":\n",
    "\n",
    "Attention: the materialization will be done used internally to avoid redundancy in the inspection, so the result for\n",
    "the entire pipeline will be the same (Besides IDs, as no reset is done between rounds!).\n",
    "\n",
    "The performance difference can be seen here: example_to_sql/to_sql_pure_pipeline_benchmark.py"
   ],
   "metadata": {
    "collapsed": false
   }
  },
  {
   "cell_type": "code",
   "execution_count": 13,
   "outputs": [
    {
     "name": "stdout",
     "output_type": "stream",
     "text": [
      "\n",
      "Just translation to SQL is performed! \n",
      "-> SQL-Code placed at: mlinspect/to_sql/generated_code\n",
      "\n",
      "The results are the same (besides IDs):True\n"
     ]
    }
   ],
   "source": [
    "setup_code_m, test_code_m = get_sql_query(pipeline_code, mode=\"VIEW\", materialize=True)\n",
    "view_with_mat = setup_code_m + \"\\n\" + test_code_m\n",
    "print(\"The results are the same (besides IDs): \" + str(re.sub('\\d', '', view_no_mat) == re.sub('\\d', '', view_with_mat)))"
   ],
   "metadata": {
    "collapsed": false,
    "pycharm": {
     "name": "#%%\n"
    }
   }
  },
  {
   "cell_type": "markdown",
   "source": [
    "## Presentation of the benchmark results for executing the translated pipelines:\n",
    "\n",
    "### The original results:\n",
    "**Pipeline runtimes**:\n",
    "\n",
    "<img alt=\"p_r\" src=\"plots/HealthcarePurePipeComparison.png\" width=\"200\"/>"
   ],
   "metadata": {
    "collapsed": false
   }
  },
  {
   "cell_type": "markdown",
   "source": [
    "## When also considering \"SimpleImputer\" and \"OneHotEncoder\" from scikit-learn:\n",
    "**Pipeline runtimes**:\n",
    "\n",
    "<img alt=\"p_r\" src=\"plots/HealthcarePurePipeComparisonSimpImpOneHot.png\" width=\"200\"/>"
   ],
   "metadata": {
    "collapsed": false,
    "pycharm": {
     "name": "#%% md\n"
    }
   }
  }
 ],
 "metadata": {
  "kernelspec": {
   "display_name": "Python 3",
   "language": "python",
   "name": "python3"
  },
  "language_info": {
   "codemirror_mode": {
    "name": "ipython",
    "version": 2
   },
   "file_extension": ".py",
   "mimetype": "text/x-python",
   "name": "python",
   "nbconvert_exporter": "python",
   "pygments_lexer": "ipython2",
   "version": "2.7.6"
  }
 },
 "nbformat": 4,
 "nbformat_minor": 0
}
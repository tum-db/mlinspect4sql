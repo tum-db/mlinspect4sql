{
 "cells": [
  {
   "cell_type": "markdown",
   "metadata": {},
   "source": [
    "# Performance showcase of added \"to_sql\" functionality in mlinspect\n",
    "\n",
    "Here the performance of the proposed inspection using sql will be compared to the original one in pandas. Part of\n",
    "the \"healthcare\" and \"compas\" pipeline will be used."
   ]
  },
  {
   "cell_type": "markdown",
   "metadata": {},
   "source": [
    "## Required packages:\n",
    "See: requirements/requirements.txt and requirements/requirements.dev.txt"
   ]
  },
  {
   "cell_type": "markdown",
   "metadata": {},
   "source": [
    "## Some parameters you might want to set:"
   ]
  },
  {
   "cell_type": "code",
   "execution_count": 1,
   "metadata": {
    "pycharm": {
     "name": "#%%\n"
    }
   },
   "outputs": [],
   "source": [
    "import os\n",
    "import sys\n",
    "import time\n",
    "\n",
    "module_path = os.path.abspath(os.path.join('..'))\n",
    "if module_path not in sys.path:\n",
    "    sys.path.append(module_path)\n",
    "from inspect import cleandoc\n",
    "from mlinspect.utils import get_project_root\n",
    "from mlinspect import PipelineInspector, OperatorType\n",
    "from mlinspect.inspections import HistogramForColumns, RowLineage, MaterializeFirstOutputRows\n",
    "from mlinspect.checks import NoBiasIntroducedFor, NoIllegalFeatures\n",
    "from demo.feature_overview.no_missing_embeddings import NoMissingEmbeddings\n",
    "from example_pipelines.healthcare import custom_monkeypatching\n",
    "from mlinspect.to_sql.dbms_connectors.postgresql_connector import PostgresqlConnector\n",
    "\n",
    "from mlinspect.to_sql.dbms_connectors.umbra_connector import UmbraConnector\n",
    "\n",
    "\n",
    "# DBMS related:\n",
    "UMBRA_USER = \"postgres\"\n",
    "UMBRA_PW = \"\"\n",
    "UMBRA_DB = \"\"\n",
    "UMBRA_PORT = 5433\n",
    "UMBRA_HOST = \"/tmp/\"\n",
    "\n",
    "POSTGRES_USER = \"luca\"\n",
    "POSTGRES_PW = \"password\"\n",
    "POSTGRES_DB = \"healthcare_benchmark\"\n",
    "POSTGRES_PORT = 5432\n",
    "POSTGRES_HOST = \"localhost\"\n",
    "\n",
    "pipe = cleandoc(\"\"\"\n",
    "    import warnings\n",
    "    import os\n",
    "    import pandas as pd\n",
    "    from sklearn.compose import ColumnTransformer\n",
    "    from sklearn.impute import SimpleImputer\n",
    "    from sklearn.pipeline import Pipeline\n",
    "    from mlinspect.utils import get_project_root\n",
    "\n",
    "    taxi = pd.read_csv(\n",
    "        os.path.join( str(get_project_root()), \"example_pipelines\", \"taxi\", \"yellow_tripdata_202101_head.csv\"),\n",
    "        na_values='?')\n",
    "\n",
    "    taxi = taxi[(taxi['passenger_count']>=1)]\n",
    "\"\"\")\n",
    "BIAS = ['passenger_count']"
   ]
  },
  {
   "cell_type": "markdown",
   "metadata": {},
   "source": [
    "## Benchmark setup:"
   ]
  },
  {
   "cell_type": "code",
   "execution_count": 2,
   "metadata": {
    "pycharm": {
     "name": "#%%\n"
    }
   },
   "outputs": [],
   "source": [
    "def run_inspection(code, bias, to_sql, dbms_connector=None, mode=None, materialize=None):\n",
    "    from PIL import Image\n",
    "    import matplotlib.pyplot as plt\n",
    "    from mlinspect.visualisation import save_fig_to_path\n",
    "\n",
    "    inspector_result = PipelineInspector \\\n",
    "        .on_pipeline_from_string(code) \\\n",
    "        .add_custom_monkey_patching_module(custom_monkeypatching) \\\n",
    "        .add_check(NoBiasIntroducedFor(bias))\n",
    "\n",
    "    if to_sql:\n",
    "        inspector_result = inspector_result.execute_in_sql(dbms_connector=dbms_connector, mode=mode,\n",
    "                                                           materialize=materialize)\n",
    "    else:\n",
    "        inspector_result = inspector_result.execute()\n",
    "\n",
    "    check_results = inspector_result.check_to_check_results\n",
    "    no_bias_check_result = check_results[NoBiasIntroducedFor(bias)]\n",
    "\n",
    "    distribution_changes_overview_df = NoBiasIntroducedFor.get_distribution_changes_overview_as_df(\n",
    "        no_bias_check_result)\n",
    "    result = \"\"\n",
    "    result += distribution_changes_overview_df.to_markdown()\n",
    "\n",
    "    for i in list(no_bias_check_result.bias_distribution_change.items()):\n",
    "        _, join_distribution_changes = i\n",
    "        for column, distribution_change in join_distribution_changes.items():\n",
    "            result += \"\\n\"\n",
    "            result += f\"\\033[1m Column '{column}'\\033[0m\"\n",
    "            result += distribution_change.before_and_after_df.to_markdown()\n",
    "\n",
    "    print(result)\n",
    "    return result"
   ]
  },
  {
   "cell_type": "markdown",
   "metadata": {},
   "source": [
    "## Benchmark of default inspection using CTEs:"
   ]
  },
  {
   "cell_type": "code",
   "execution_count": 3,
   "metadata": {
    "pycharm": {
     "name": "#%%\n"
    }
   },
   "outputs": [],
   "source": [
    "dbms_connector_u = UmbraConnector(dbname=UMBRA_DB, user=UMBRA_USER, password=UMBRA_PW, port=UMBRA_PORT, host=UMBRA_HOST)\n",
    "\n",
    "dbms_connector_p = PostgresqlConnector(dbname=POSTGRES_DB, user=POSTGRES_USER, password=POSTGRES_PW,\n",
    "                                       port=POSTGRES_PORT, host=POSTGRES_HOST)\n",
    "\n",
    "def run_for_all(code, bias, mode=\"\", materialize=None):\n",
    "    t0 = time.time()\n",
    "    #run_inspection(code=code, bias=bias, to_sql=False)\n",
    "    t1 = time.time()\n",
    "    print(\"\\nTime spend with original (pandas): \" + str(t1 - t0))\n",
    "\n",
    "    t0 = time.time()\n",
    "    run_inspection(code=code, bias=bias, to_sql=True, dbms_connector=dbms_connector_p, mode=mode,\n",
    "                   materialize=materialize)\n",
    "    t1 = time.time()\n",
    "    print(\"\\nTime spend with modified SQL inspections (PSQL): \" + str(t1 - t0))\n",
    "\n",
    "    if not materialize: # Materialized not supported by Umbra -> main-memory performance\n",
    "        t0 = time.time()\n",
    "        run_inspection(code=code, bias=bias, to_sql=True, dbms_connector=dbms_connector_u, mode=mode,\n",
    "                       materialize=materialize)\n",
    "        t1 = time.time()\n",
    "        print(\"\\nTime spend with modified SQL inspections (Umbra): \" + str(t1 - t0))\n"
   ]
  },
  {
   "cell_type": "markdown",
   "metadata": {},
   "source": [
    "## End-to-End example of the preprocessing-pipeline inspection + model training:\n",
    "\n",
    "Slightly different inspections results are expected because of the random split. Still, the resulting model accuracy should\n",
    "be similar."
   ]
  },
  {
   "cell_type": "code",
   "execution_count": 4,
   "metadata": {
    "pycharm": {
     "name": "#%%\n"
    }
   },
   "outputs": [
    {
     "name": "stdout",
     "output_type": "stream",
     "text": [
      "\n",
      "Time spend with original (pandas): 2.384185791015625e-07\n"
     ]
    },
    {
     "name": "stderr",
     "output_type": "stream",
     "text": [
      "2022-04-21 11:56:38.540932: W tensorflow/stream_executor/platform/default/dso_loader.cc:64] Could not load dynamic library 'libcudart.so.11.0'; dlerror: libcudart.so.11.0: cannot open shared object file: No such file or directory; LD_LIBRARY_PATH: /usr/local/lib64\n",
      "2022-04-21 11:56:38.540972: I tensorflow/stream_executor/cuda/cudart_stub.cc:29] Ignore above cudart dlerror if you do not have a GPU set up on your machine.\n"
     ]
    },
    {
     "name": "stdout",
     "output_type": "stream",
     "text": [
      "|    | operator_type          | description                                          | code_reference                                                           | source_code                        | module                                                                | 'passenger_count' distribution change below the configured minimum test threshold   |\n",
      "|---:|:-----------------------|:-----------------------------------------------------|:-------------------------------------------------------------------------|:-----------------------------------|:----------------------------------------------------------------------|:------------------------------------------------------------------------------------|\n",
      "|  0 | OperatorType.SELECTION | Select by Series: taxi[(taxi['passenger_count']>=1)] | CodeReference(lineno=13, col_offset=7, end_lineno=13, end_col_offset=41) | taxi[(taxi['passenger_count']>=1)] | FunctionInfo(module='pandas.core.frame', function_name='__getitem__') | True                                                                                |\n",
      "\u001b[1m Column 'passenger_count'\u001b[0m|    |   sensitive_column_value |   count_before |   count_after |   ratio_before |   ratio_after |   relative_ratio_change |\n",
      "|---:|-------------------------:|---------------:|--------------:|---------------:|--------------:|------------------------:|\n",
      "|  0 |                        0 |          26726 |             0 |    0.0210207   |   0           |              -1         |\n",
      "|  1 |                        1 |         966233 |        966233 |    0.759968    |   0.776286    |               0.0214721 |\n",
      "|  2 |                        2 |         161670 |        161670 |    0.127158    |   0.129888    |               0.0214721 |\n",
      "|  3 |                        3 |          43935 |         43935 |    0.034556    |   0.035298    |               0.0214721 |\n",
      "|  4 |                        4 |          16391 |         16391 |    0.012892    |   0.0131688   |               0.0214721 |\n",
      "|  5 |                        5 |          31089 |         31089 |    0.0244523   |   0.0249774   |               0.0214721 |\n",
      "|  6 |                        6 |          25362 |         25362 |    0.0199479   |   0.0203762   |               0.0214721 |\n",
      "|  7 |                        7 |              5 |             5 |    3.93263e-06 |   4.01707e-06 |               0.0214721 |\n",
      "|  8 |                        8 |              2 |             2 |    1.57305e-06 |   1.60683e-06 |               0.0214721 |\n",
      "\n",
      "Time spend with modified SQL inspections (PSQL): 5.790027141571045\n",
      "|    | operator_type          | description                                          | code_reference                                                           | source_code                        | module                                                                | 'passenger_count' distribution change below the configured minimum test threshold   |\n",
      "|---:|:-----------------------|:-----------------------------------------------------|:-------------------------------------------------------------------------|:-----------------------------------|:----------------------------------------------------------------------|:------------------------------------------------------------------------------------|\n",
      "|  0 | OperatorType.SELECTION | Select by Series: taxi[(taxi['passenger_count']>=1)] | CodeReference(lineno=13, col_offset=7, end_lineno=13, end_col_offset=41) | taxi[(taxi['passenger_count']>=1)] | FunctionInfo(module='pandas.core.frame', function_name='__getitem__') | True                                                                                |\n",
      "\u001b[1m Column 'passenger_count'\u001b[0m|    |   sensitive_column_value |   count_before |   count_after |   ratio_before |   ratio_after |   relative_ratio_change |\n",
      "|---:|-------------------------:|---------------:|--------------:|---------------:|--------------:|------------------------:|\n",
      "|  0 |                        0 |          26726 |             0 |    0.0210207   |   0           |              -1         |\n",
      "|  1 |                        1 |         966233 |        966233 |    0.759968    |   0.776286    |               0.0214721 |\n",
      "|  2 |                        2 |         161670 |        161670 |    0.127158    |   0.129888    |               0.0214721 |\n",
      "|  3 |                        3 |          43935 |         43935 |    0.034556    |   0.035298    |               0.0214721 |\n",
      "|  4 |                        4 |          16391 |         16391 |    0.012892    |   0.0131688   |               0.0214721 |\n",
      "|  5 |                        5 |          31089 |         31089 |    0.0244523   |   0.0249774   |               0.0214721 |\n",
      "|  6 |                        6 |          25362 |         25362 |    0.0199479   |   0.0203762   |               0.0214721 |\n",
      "|  7 |                        7 |              5 |             5 |    3.93263e-06 |   4.01707e-06 |               0.0214721 |\n",
      "|  8 |                        8 |              2 |             2 |    1.57305e-06 |   1.60683e-06 |               0.0214721 |\n",
      "\n",
      "Time spend with modified SQL inspections (Umbra): 7.7752251625061035\n"
     ]
    }
   ],
   "source": [
    "run_for_all(pipe, BIAS, mode=\"VIEW\", materialize=False)"
   ]
  }
 ],
 "metadata": {
  "interpreter": {
   "hash": "88cf9573b7b8588226248109e4f46f163d87635f37520c23a7b39ed1f0288615"
  },
  "kernelspec": {
   "display_name": "venv",
   "language": "python",
   "name": "venv"
  },
  "language_info": {
   "codemirror_mode": {
    "name": "ipython",
    "version": 3
   },
   "file_extension": ".py",
   "mimetype": "text/x-python",
   "name": "python",
   "nbconvert_exporter": "python",
   "pygments_lexer": "ipython3",
   "version": "3.8.10"
  }
 },
 "nbformat": 4,
 "nbformat_minor": 1
}

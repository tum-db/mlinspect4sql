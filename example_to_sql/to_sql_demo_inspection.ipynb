{
 "cells": [
  {
   "cell_type": "markdown",
   "metadata": {
    "collapsed": true,
    "pycharm": {
     "name": "#%% md\n"
    }
   },
   "source": [
    "# Performance showcase of novel \"to_sql\" functionality in mlinspect\n",
    "\n",
    "Here the performance of the proposed inspection using sql will be compared to the original one in pandas. Part of\n",
    "the \"healthcare\" and \"compas\" pipeline will be used."
   ]
  },
  {
   "cell_type": "markdown",
   "source": [
    "## Required packages:\n",
    "See: requirements/requirements.txt and requirements/requirements.dev.txt"
   ],
   "metadata": {
    "collapsed": false
   }
  },
  {
   "cell_type": "markdown",
   "source": [
    "## Some parameters you might want to set:"
   ],
   "metadata": {
    "collapsed": false
   }
  },
  {
   "cell_type": "code",
   "execution_count": 1,
   "outputs": [
    {
     "ename": "KeyboardInterrupt",
     "evalue": "",
     "output_type": "error",
     "traceback": [
      "\u001B[0;31m---------------------------------------------------------------------------\u001B[0m",
      "\u001B[0;31mKeyboardInterrupt\u001B[0m                         Traceback (most recent call last)",
      "\u001B[0;32m/tmp/ipykernel_30179/3749258640.py\u001B[0m in \u001B[0;36m<module>\u001B[0;34m\u001B[0m\n\u001B[1;32m      1\u001B[0m \u001B[0;32mimport\u001B[0m \u001B[0mtimeit\u001B[0m\u001B[0;34m\u001B[0m\u001B[0;34m\u001B[0m\u001B[0m\n\u001B[1;32m      2\u001B[0m \u001B[0;32mfrom\u001B[0m \u001B[0minspect\u001B[0m \u001B[0;32mimport\u001B[0m \u001B[0mcleandoc\u001B[0m\u001B[0;34m\u001B[0m\u001B[0;34m\u001B[0m\u001B[0m\n\u001B[0;32m----> 3\u001B[0;31m \u001B[0;32mfrom\u001B[0m \u001B[0mmlinspect\u001B[0m\u001B[0;34m.\u001B[0m\u001B[0mutils\u001B[0m \u001B[0;32mimport\u001B[0m \u001B[0mget_project_root\u001B[0m\u001B[0;34m\u001B[0m\u001B[0;34m\u001B[0m\u001B[0m\n\u001B[0m\u001B[1;32m      4\u001B[0m \u001B[0;32mfrom\u001B[0m \u001B[0m_code_as_string\u001B[0m \u001B[0;32mimport\u001B[0m \u001B[0mget_healthcare_pipe_code\u001B[0m\u001B[0;34m,\u001B[0m \u001B[0mget_compas_pipe_code\u001B[0m\u001B[0;34m,\u001B[0m \u001B[0mprint_generated_code\u001B[0m\u001B[0;34m\u001B[0m\u001B[0;34m\u001B[0m\u001B[0m\n\u001B[1;32m      5\u001B[0m \u001B[0;32mfrom\u001B[0m \u001B[0m_benchmark_utility\u001B[0m \u001B[0;32mimport\u001B[0m \u001B[0mplot_compare\u001B[0m\u001B[0;34m\u001B[0m\u001B[0;34m\u001B[0m\u001B[0m\n",
      "\u001B[0;32m~/Documents/Bachelorarbeit/mlinspect/mlinspect/__init__.py\u001B[0m in \u001B[0;36m<module>\u001B[0;34m\u001B[0m\n\u001B[1;32m      2\u001B[0m \u001B[0mPackages\u001B[0m \u001B[0;32mand\u001B[0m \u001B[0mclasses\u001B[0m \u001B[0mwe\u001B[0m \u001B[0mwant\u001B[0m \u001B[0mto\u001B[0m \u001B[0mexpose\u001B[0m \u001B[0mto\u001B[0m \u001B[0musers\u001B[0m\u001B[0;34m\u001B[0m\u001B[0;34m\u001B[0m\u001B[0m\n\u001B[1;32m      3\u001B[0m \"\"\"\n\u001B[0;32m----> 4\u001B[0;31m \u001B[0;32mfrom\u001B[0m \u001B[0;34m.\u001B[0m\u001B[0m_pipeline_inspector\u001B[0m \u001B[0;32mimport\u001B[0m \u001B[0mPipelineInspector\u001B[0m\u001B[0;34m\u001B[0m\u001B[0;34m\u001B[0m\u001B[0m\n\u001B[0m\u001B[1;32m      5\u001B[0m \u001B[0;32mfrom\u001B[0m \u001B[0;34m.\u001B[0m\u001B[0m_inspector_result\u001B[0m \u001B[0;32mimport\u001B[0m \u001B[0mInspectorResult\u001B[0m\u001B[0;34m\u001B[0m\u001B[0;34m\u001B[0m\u001B[0m\n\u001B[1;32m      6\u001B[0m \u001B[0;32mfrom\u001B[0m \u001B[0;34m.\u001B[0m\u001B[0minspections\u001B[0m\u001B[0;34m.\u001B[0m\u001B[0m_inspection_input\u001B[0m \u001B[0;32mimport\u001B[0m \u001B[0mOperatorContext\u001B[0m\u001B[0;34m,\u001B[0m \u001B[0mFunctionInfo\u001B[0m\u001B[0;34m,\u001B[0m \u001B[0mOperatorType\u001B[0m\u001B[0;34m\u001B[0m\u001B[0;34m\u001B[0m\u001B[0m\n",
      "\u001B[0;32m~/Documents/Bachelorarbeit/mlinspect/mlinspect/_pipeline_inspector.py\u001B[0m in \u001B[0;36m<module>\u001B[0;34m\u001B[0m\n\u001B[1;32m      7\u001B[0m \u001B[0;34m\u001B[0m\u001B[0m\n\u001B[1;32m      8\u001B[0m \u001B[0;32mfrom\u001B[0m \u001B[0mmlinspect\u001B[0m\u001B[0;34m.\u001B[0m\u001B[0minspections\u001B[0m\u001B[0;34m.\u001B[0m\u001B[0m_inspection\u001B[0m \u001B[0;32mimport\u001B[0m \u001B[0mInspection\u001B[0m\u001B[0;34m\u001B[0m\u001B[0;34m\u001B[0m\u001B[0m\n\u001B[0;32m----> 9\u001B[0;31m \u001B[0;32mfrom\u001B[0m \u001B[0;34m.\u001B[0m\u001B[0mchecks\u001B[0m\u001B[0;34m.\u001B[0m\u001B[0m_check\u001B[0m \u001B[0;32mimport\u001B[0m \u001B[0mCheck\u001B[0m\u001B[0;34m,\u001B[0m \u001B[0mCheckResult\u001B[0m\u001B[0;34m\u001B[0m\u001B[0;34m\u001B[0m\u001B[0m\n\u001B[0m\u001B[1;32m     10\u001B[0m \u001B[0;32mfrom\u001B[0m \u001B[0;34m.\u001B[0m\u001B[0m_inspector_result\u001B[0m \u001B[0;32mimport\u001B[0m \u001B[0mInspectorResult\u001B[0m\u001B[0;34m\u001B[0m\u001B[0;34m\u001B[0m\u001B[0m\n\u001B[1;32m     11\u001B[0m \u001B[0;32mfrom\u001B[0m \u001B[0;34m.\u001B[0m\u001B[0minstrumentation\u001B[0m\u001B[0;34m.\u001B[0m\u001B[0m_pipeline_executor\u001B[0m \u001B[0;32mimport\u001B[0m \u001B[0msingleton\u001B[0m\u001B[0;34m\u001B[0m\u001B[0;34m\u001B[0m\u001B[0m\n",
      "\u001B[0;32m~/Documents/Bachelorarbeit/mlinspect/mlinspect/checks/__init__.py\u001B[0m in \u001B[0;36m<module>\u001B[0;34m\u001B[0m\n\u001B[1;32m      2\u001B[0m \u001B[0mPackages\u001B[0m \u001B[0;32mand\u001B[0m \u001B[0mclasses\u001B[0m \u001B[0mwe\u001B[0m \u001B[0mwant\u001B[0m \u001B[0mto\u001B[0m \u001B[0mexpose\u001B[0m \u001B[0mto\u001B[0m \u001B[0musers\u001B[0m\u001B[0;34m\u001B[0m\u001B[0;34m\u001B[0m\u001B[0m\n\u001B[1;32m      3\u001B[0m \"\"\"\n\u001B[0;32m----> 4\u001B[0;31m \u001B[0;32mfrom\u001B[0m \u001B[0;34m.\u001B[0m\u001B[0m_no_bias_introduced_for\u001B[0m \u001B[0;32mimport\u001B[0m \u001B[0mNoBiasIntroducedFor\u001B[0m\u001B[0;34m,\u001B[0m \u001B[0mNoBiasIntroducedForResult\u001B[0m\u001B[0;34m\u001B[0m\u001B[0;34m\u001B[0m\u001B[0m\n\u001B[0m\u001B[1;32m      5\u001B[0m \u001B[0;32mfrom\u001B[0m \u001B[0;34m.\u001B[0m\u001B[0m_no_illegal_features\u001B[0m \u001B[0;32mimport\u001B[0m \u001B[0mNoIllegalFeatures\u001B[0m\u001B[0;34m,\u001B[0m \u001B[0mNoIllegalFeaturesResult\u001B[0m\u001B[0;34m\u001B[0m\u001B[0;34m\u001B[0m\u001B[0m\n\u001B[1;32m      6\u001B[0m \u001B[0;32mfrom\u001B[0m \u001B[0;34m.\u001B[0m\u001B[0m_check\u001B[0m \u001B[0;32mimport\u001B[0m \u001B[0mCheck\u001B[0m\u001B[0;34m,\u001B[0m \u001B[0mCheckResult\u001B[0m\u001B[0;34m,\u001B[0m \u001B[0mCheckStatus\u001B[0m\u001B[0;34m\u001B[0m\u001B[0;34m\u001B[0m\u001B[0m\n",
      "\u001B[0;32m/usr/lib/python3.8/importlib/_bootstrap.py\u001B[0m in \u001B[0;36m_find_and_load\u001B[0;34m(name, import_)\u001B[0m\n",
      "\u001B[0;32m/usr/lib/python3.8/importlib/_bootstrap.py\u001B[0m in \u001B[0;36m_find_and_load_unlocked\u001B[0;34m(name, import_)\u001B[0m\n",
      "\u001B[0;32m/usr/lib/python3.8/importlib/_bootstrap.py\u001B[0m in \u001B[0;36m_load_unlocked\u001B[0;34m(spec)\u001B[0m\n",
      "\u001B[0;32m/usr/lib/python3.8/importlib/_bootstrap_external.py\u001B[0m in \u001B[0;36mexec_module\u001B[0;34m(self, module)\u001B[0m\n",
      "\u001B[0;32m/usr/lib/python3.8/importlib/_bootstrap_external.py\u001B[0m in \u001B[0;36mget_code\u001B[0;34m(self, fullname)\u001B[0m\n",
      "\u001B[0;32m/usr/lib/python3.8/importlib/_bootstrap_external.py\u001B[0m in \u001B[0;36m_compile_bytecode\u001B[0;34m(data, name, bytecode_path, source_path)\u001B[0m\n",
      "\u001B[0;31mKeyboardInterrupt\u001B[0m: "
     ]
    }
   ],
   "source": [
    "import timeit\n",
    "from inspect import cleandoc\n",
    "from mlinspect.utils import get_project_root\n",
    "from _code_as_string import get_healthcare_pipe_code, get_compas_pipe_code, print_generated_code\n",
    "from _benchmark_utility import plot_compare\n",
    "\n",
    "DO_CLEANUP = True\n",
    "SIZES = [(10 ** i) for i in range(2, 5, 1)]\n",
    "BENCH_REP = 1\n",
    "MLINSPECT_ROOT_DIR = get_project_root()\n",
    "\n",
    "# DBMS related:\n",
    "UMBRA_DIR = r\"/home/luca/Documents/Bachelorarbeit/umbra-students\"\n",
    "UMBRA_USER = \"postgres\"\n",
    "UMBRA_PW = \" \"\n",
    "UMBRA_DB = \"\"\n",
    "UMBRA_PORT = 5433\n",
    "UMBRA_HOST = \"/tmp/\"\n",
    "\n",
    "POSTGRES_USER = \"luca\"\n",
    "POSTGRES_PW = \"password\"\n",
    "POSTGRES_DB = \"healthcare_benchmark\"\n",
    "POSTGRES_PORT = 5432\n",
    "POSTGRES_HOST = \"localhost\""
   ],
   "metadata": {
    "collapsed": false,
    "pycharm": {
     "name": "#%%\n"
    }
   }
  },
  {
   "cell_type": "markdown",
   "source": [
    "# Data GenerationCTE\n",
    "\n",
    "To be able to benchmark and compare the different approaches, some datasets\n",
    "will need to be generated before. The datasets are just and expansion of the\n",
    "original ones."
   ],
   "metadata": {
    "collapsed": false
   }
  },
  {
   "cell_type": "code",
   "execution_count": null,
   "outputs": [],
   "source": [
    "!{sys.executable} -m pip install faker\n",
    "\n",
    "from data_generation.compas_data_generation import generate_compas_dataset\n",
    "from data_generation.healthcare_data_generation import generate_healthcare_dataset\n",
    "\n",
    "# We only generate the files, that are not already existing:\n",
    "\n",
    "COMPAS_DATA_PATHS = generate_compas_dataset(SIZES)\n",
    "HEALTHCARE_DATA_PATHS = generate_healthcare_dataset(SIZES)"
   ],
   "metadata": {
    "collapsed": false,
    "pycharm": {
     "name": "#%%\n"
    }
   }
  },
  {
   "cell_type": "markdown",
   "source": [
    "## Benchmark setup:"
   ],
   "metadata": {
    "collapsed": false
   }
  },
  {
   "cell_type": "code",
   "execution_count": 2,
   "outputs": [],
   "source": [
    "def get_inspection_code(pipeline_code, to_sql, dbms_connector, no_bias, mode, materialize=False,\n",
    "                                   one_run=False):\n",
    "    setup_code = cleandoc(f\"\"\"\n",
    "from inspect import cleandoc\n",
    "from mlinspect.utils import get_project_root\n",
    "from mlinspect import PipelineInspector\n",
    "from mlinspect.inspections import RowLineage, MaterializeFirstOutputRows\n",
    "from mlinspect.checks import NoBiasIntroducedFor, NoIllegalFeatures\n",
    "from demo.feature_overview.no_missing_embeddings import NoMissingEmbeddings\n",
    "from inspect import cleandoc\n",
    "from example_pipelines.healthcare import custom_monkeypatching\n",
    "from mlinspect.to_sql.dbms_connectors.postgresql_connector import PostgresqlConnector\n",
    "from mlinspect.to_sql.dbms_connectors.umbra_connector import UmbraConnector\n",
    "from mlinspect import PipelineInspector\n",
    "\n",
    "dbms_connector_u = UmbraConnector(dbname=\\'{UMBRA_DB}\\', user=\\'{UMBRA_USER}\\', password=\\'{UMBRA_PW}\\',\n",
    "    port={UMBRA_PORT}, host=\\'{UMBRA_HOST}\\', umbra_dir= r\\'{UMBRA_DIR}\\')\n",
    "dbms_connector_p = PostgresqlConnector(dbname=\\'{POSTGRES_DB}\\', user=\\'{POSTGRES_USER}\\',\n",
    "    password=\\'{POSTGRES_PW}\\', port={POSTGRES_PORT}, host=\\'{POSTGRES_HOST}\\')\n",
    "\n",
    "pipeline_code = cleandoc(f\\\"\\\"\\\"{pipeline_code}\\\"\\\"\\\")\n",
    "\n",
    "pipeline_inspector = PipelineInspector.on_pipeline_from_string(pipeline_code) \\\\\n",
    "    .add_custom_monkey_patching_module(custom_monkeypatching) \\\\\n",
    "    .add_check(NoBiasIntroducedFor({no_bias})) \\\\\n",
    "    .add_check(NoIllegalFeatures()) \\\\\n",
    "    .add_check(NoMissingEmbeddings()) \\\\\n",
    "    .add_required_inspection(RowLineage(5)) \\\\\n",
    "    .add_required_inspection(MaterializeFirstOutputRows(5))\n",
    "    \"\"\") + \"\\n\"\n",
    "    if to_sql:\n",
    "        return setup_code, f\"pipeline_inspector.execute_in_sql(dbms_connector={dbms_connector}, \" \\\n",
    "                           f\"sql_one_run={one_run}, mode=\\'{mode}\\', materialize={materialize})\"\n",
    "\n",
    "    return setup_code, f\"pipeline_inspector.execute()\"\n",
    "\n",
    "\n",
    "def run(pipeline_code, to_sql=False, dbms_connector=None, no_bias=None, mode=None, materialize=False, one_run=False):\n",
    "    setup_code, test_code = get_inspection_code(pipeline_code, to_sql, dbms_connector, no_bias,\n",
    "                                                           mode, materialize, one_run)\n",
    "    if to_sql:\n",
    "        result = []\n",
    "        for i in range(BENCH_REP):\n",
    "            # print(f\"run {i} of {BENCH_REP} ...\")\n",
    "            # This special case is necessary to deduct the time for dropping the existing tables and views!\n",
    "            result.append(timeit.timeit(test_code, setup=setup_code, number=1) * 1000)  # in s\n",
    "        return sum(result) / BENCH_REP\n",
    "\n",
    "    return (timeit.timeit(test_code, setup=setup_code, number=BENCH_REP) / BENCH_REP) * 1000  # in s\n",
    "\n",
    "\n",
    "def pipeline_inspection_benchmark(data_paths, no_bias, mode, title, materialize=False, exclude_umbra=False,\n",
    "                                  display_hardware_usage: bool = False):\n",
    "    pandas_times = []\n",
    "    postgres_times = []\n",
    "    umbra_times = []\n",
    "    for i, (path_to_csv_1, path_to_csv_2) in enumerate(data_paths):\n",
    "\n",
    "        if \"compas\" in str(path_to_csv_1):\n",
    "            setup_code, test_code = get_compas_pipe_code(path_to_csv_1, path_to_csv_2)\n",
    "        elif \"healthcare\" in str(path_to_csv_1):\n",
    "            setup_code, test_code = get_healthcare_pipe_code(path_to_csv_1, path_to_csv_2)\n",
    "        else:\n",
    "            assert False\n",
    "        pipe_code = setup_code + test_code\n",
    "\n",
    "        print(f\"Running pandas...  -- size {SIZES[i]}\")\n",
    "        pandas_times.append(run(pipe_code, to_sql=False, dbms_connector=None, no_bias=no_bias))\n",
    "        print(f\"Running postgres...  -- size {SIZES[i]}\")\n",
    "        postgres_times.append(run(pipe_code, True, \"dbms_connector_p\", no_bias, mode=mode, materialize=materialize))\n",
    "        if not exclude_umbra:\n",
    "            print(f\"Running umbra... -- size {SIZES[i]}\")\n",
    "            umbra_times.append(run(pipe_code, True, \"dbms_connector_u\", no_bias, mode=mode, materialize=materialize))\n",
    "\n",
    "        # sys.argv = [\"psrecord\", \"--duration=100\", \"--log=activity.txt\", \"1540\"]\n",
    "        # main()\n",
    "\n",
    "    names = [\"Pandas\", \"Postgresql\", \"Umbra\"]\n",
    "    table = [pandas_times, postgres_times, umbra_times]\n",
    "    if exclude_umbra:\n",
    "        names = names[:-1]\n",
    "        table = table[:-1]\n",
    "    plot_compare(title, SIZES, all_y=table, all_y_names=names, save=True)"
   ],
   "metadata": {
    "collapsed": false,
    "pycharm": {
     "name": "#%%\n"
    }
   }
  },
  {
   "cell_type": "markdown",
   "source": [
    "## Benchmark of default inspection using CTEs:"
   ],
   "metadata": {
    "collapsed": false,
    "pycharm": {
     "name": "#%% md\n"
    }
   }
  },
  {
   "cell_type": "code",
   "execution_count": null,
   "outputs": [],
   "source": [
    "healthcare_no_bias = \"[\\'age_group\\', \\'race\\']\"\n",
    "compas_no_bias = \"[\\'sex\\', \\'race\\']\"\n",
    "\n",
    "# Example of the SQL code that gets generated for healthcare with CTE:\n",
    "set_up, test = get_healthcare_pipe_code(*HEALTHCARE_DATA_PATHS[0])\n",
    "set_up, test = get_inspection_code(set_up+test, to_sql=True, dbms_connector=None,\n",
    "                                          no_bias=healthcare_no_bias, mode=\"CTE\", materialize=False, one_run=False)\n",
    "exec(set_up+test)\n",
    "\n",
    "# print_generated_code()"
   ],
   "metadata": {
    "collapsed": false,
    "pycharm": {
     "name": "#%%\n"
    }
   }
  },
  {
   "cell_type": "code",
   "execution_count": null,
   "outputs": [],
   "source": [
    "pipeline_inspection_benchmark(HEALTHCARE_DATA_PATHS, healthcare_no_bias, mode=\"CTE\",\n",
    "                              title=\"HealthcareInspectionComparisonCTE\")"
   ],
   "metadata": {
    "collapsed": false,
    "pycharm": {
     "name": "#%%\n"
    }
   }
  },
  {
   "cell_type": "code",
   "execution_count": null,
   "outputs": [],
   "source": [
    "pipeline_inspection_benchmark(COMPAS_DATA_PATHS, compas_no_bias, mode=\"CTE\",\n",
    "                              title=\"CompasInspectionComparisonCTE\")"
   ],
   "metadata": {
    "collapsed": false,
    "pycharm": {
     "name": "#%%\n"
    }
   }
  },
  {
   "cell_type": "markdown",
   "source": [
    "## Benchmark of default inspection using VIEWs:"
   ],
   "metadata": {
    "collapsed": false
   }
  },
  {
   "cell_type": "code",
   "execution_count": null,
   "outputs": [],
   "source": [
    "# The SQL code that gets generated for compas with VIEW:\n",
    "set_up, test = get_compas_pipe_code(*COMPAS_DATA_PATHS[0])\n",
    "set_up, test = get_inspection_code(set_up+test, to_sql=True, dbms_connector=None,\n",
    "                                          no_bias=healthcare_no_bias, mode=\"VIEW\", materialize=False, one_run=False)\n",
    "exec(set_up+test)\n",
    "\n",
    "# print_generated_code()\n"
   ],
   "metadata": {
    "collapsed": false,
    "pycharm": {
     "name": "#%%\n"
    }
   }
  },
  {
   "cell_type": "code",
   "execution_count": null,
   "outputs": [],
   "source": [
    "pipeline_inspection_benchmark(HEALTHCARE_DATA_PATHS, healthcare_no_bias, mode=\"VIEW\",\n",
    "                              title=\"HealthcareInspectionComparisonVIEW\")"
   ],
   "metadata": {
    "collapsed": false,
    "pycharm": {
     "name": "#%%\n"
    }
   }
  },
  {
   "cell_type": "code",
   "execution_count": null,
   "outputs": [],
   "source": [
    "pipeline_inspection_benchmark(COMPAS_DATA_PATHS, compas_no_bias, mode=\"VIEW\",\n",
    "                              title=\"CompasInspectionComparisonVIEW\")"
   ],
   "metadata": {
    "collapsed": false,
    "pycharm": {
     "name": "#%%\n"
    }
   }
  },
  {
   "cell_type": "markdown",
   "source": [
    "## Benchmark of default inspection using MATERIALIZED VIEWs:\n",
    "\n",
    "While doing the default inspection, parts of the generated code get executed multiple times. This is the reason\n",
    "the option to MATERIALIZE Views, called more that once, got added. This way NO part of the pipeline is executed\n",
    "more that ONCE.\n",
    "\n",
    "In our case only postgres supports this option."
   ],
   "metadata": {
    "collapsed": false
   }
  },
  {
   "cell_type": "code",
   "execution_count": null,
   "outputs": [],
   "source": [
    "pipeline_inspection_benchmark(HEALTHCARE_DATA_PATHS, healthcare_no_bias, mode=\"VIEW\", materialize=True,\n",
    "                              exclude_umbra=True, title=\"HealthcareInspectionComparisonVIEWMAT\")"
   ],
   "metadata": {
    "collapsed": false,
    "pycharm": {
     "name": "#%%\n"
    }
   }
  },
  {
   "cell_type": "code",
   "execution_count": null,
   "outputs": [],
   "source": [
    "# SQL code that got generated for healthcare with VIEW with the MATERIALIZE OPTION:\n",
    "# print_generated_code()\n"
   ],
   "metadata": {
    "collapsed": false,
    "pycharm": {
     "name": "#%%\n"
    }
   }
  },
  {
   "cell_type": "markdown",
   "source": [
    "## Main memory usage consideration:\n",
    "\n",
    "Despite the improved runtime, also the main memory usage can profit from relying\n",
    "on a DBMS. This can be also seen with Grizzly: https://edbt2021proceedings.github.io/docs/p174.pdf\n",
    "\n",
    "This code for example requires more than 32GB in main memory to run:"
   ],
   "metadata": {
    "collapsed": false
   }
  },
  {
   "cell_type": "code",
   "execution_count": null,
   "outputs": [],
   "source": [
    "size = (10 ** 6)\n",
    "path_to_csv_his, path_to_csv_pat = generate_healthcare_dataset([size])[0]\n",
    "setup_code, test_code = get_healthcare_pipe_code(path_to_csv_his, path_to_csv_pat, add_impute_and_onehot=True)\n",
    "\n",
    "test_code += \"\\nimpute_and_one_hot_encode.fit_transform(data)\"\n",
    "\n",
    "pipe_code = setup_code + test_code"
   ],
   "metadata": {
    "collapsed": false,
    "pycharm": {
     "name": "#%%\n"
    }
   }
  },
  {
   "cell_type": "code",
   "execution_count": null,
   "outputs": [],
   "source": [
    "# Requires lots of memory:\n",
    "print(f\"Running pandas...  -- size {size}\")\n",
    "print(\"pandas_times * \" + str(run(pipe_code, to_sql=False, dbms_connector=None, no_bias=healthcare_no_bias)))"
   ],
   "metadata": {
    "collapsed": false,
    "pycharm": {
     "name": "#%%\n"
    }
   }
  },
  {
   "cell_type": "code",
   "execution_count": null,
   "outputs": [],
   "source": [
    "# Requires trough swiftly:\n",
    "print(f\"Running postgres...  -- size {size}\")\n",
    "print(\"postgres_times: \" + str(run(pipe_code, True, \"dbms_connector_p\", no_bias=healthcare_no_bias, mode=\"CTE\",\n",
    "                          materialize=False)))\n",
    "\n",
    "\n"
   ],
   "metadata": {
    "collapsed": false,
    "pycharm": {
     "name": "#%%\n"
    }
   }
  }
 ],
 "metadata": {
  "kernelspec": {
   "display_name": "Python 3",
   "language": "python",
   "name": "python3"
  },
  "language_info": {
   "codemirror_mode": {
    "name": "ipython",
    "version": 2
   },
   "file_extension": ".py",
   "mimetype": "text/x-python",
   "name": "python",
   "nbconvert_exporter": "python",
   "pygments_lexer": "ipython2",
   "version": "2.7.6"
  }
 },
 "nbformat": 4,
 "nbformat_minor": 0
}
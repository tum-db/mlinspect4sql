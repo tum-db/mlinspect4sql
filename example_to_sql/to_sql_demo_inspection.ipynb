{
 "cells": [
  {
   "cell_type": "markdown",
   "metadata": {
    "collapsed": true,
    "pycharm": {
     "name": "#%% md\n"
    }
   },
   "source": [
    "# Performance showcase of novel \"to_sql\" functionality in mlinspect\n",
    "\n",
    "Here the performance of the proposed inspection using sql will be compared to the original one in pandas. Part of\n",
    "the \"healthcare\" and \"compas\" pipeline will be used."
   ]
  },
  {
   "cell_type": "markdown",
   "metadata": {},
   "source": [
    "## Required packages:\n",
    "See: requirements/requirements.txt and requirements/requirements.dev.txt"
   ]
  },
  {
   "cell_type": "markdown",
   "metadata": {},
   "source": [
    "## Some parameters you might want to set:"
   ]
  },
  {
   "cell_type": "code",
   "execution_count": 1,
   "metadata": {
    "pycharm": {
     "name": "#%%\n"
    }
   },
   "outputs": [],
   "source": [
    "import os\n",
    "import sys\n",
    "module_path = os.path.abspath(os.path.join('..'))\n",
    "if module_path not in sys.path:\n",
    "    sys.path.append(module_path)\n",
    "\n",
    "import timeit\n",
    "from inspect import cleandoc\n",
    "from mlinspect.utils import get_project_root\n",
    "from _code_as_string import get_healthcare_pipe_code, get_compas_pipe_code, print_generated_code\n",
    "from _benchmark_utility import plot_compare\n",
    "\n",
    "DO_CLEANUP = True\n",
    "SIZES = [(10 ** i) for i in range(2, 5, 1)]\n",
    "BENCH_REP = 2\n",
    "MLINSPECT_ROOT_DIR = get_project_root()\n",
    "\n",
    "# DBMS related:\n",
    "UMBRA_DIR = r\"/home/luca/Documents/Bachelorarbeit/umbra-students\"\n",
    "UMBRA_USER = \"postgres\"\n",
    "UMBRA_PW = \" \"\n",
    "UMBRA_DB = \"\"\n",
    "UMBRA_PORT = 5433\n",
    "UMBRA_HOST = \"/tmp/\"\n",
    "\n",
    "POSTGRES_USER = \"luca\"\n",
    "POSTGRES_PW = \"password\"\n",
    "POSTGRES_DB = \"healthcare_benchmark\"\n",
    "POSTGRES_PORT = 5432\n",
    "POSTGRES_HOST = \"localhost\""
   ]
  },
  {
   "cell_type": "markdown",
   "metadata": {},
   "source": [
    "# Data GenerationCTE\n",
    "\n",
    "To be able to benchmark and compare the different approaches, some datasets\n",
    "will need to be generated before. The datasets are just and expansion of the\n",
    "original ones."
   ]
  },
  {
   "cell_type": "code",
   "execution_count": 2,
   "metadata": {
    "pycharm": {
     "name": "#%%\n"
    }
   },
   "outputs": [
    {
     "name": "stdout",
     "output_type": "stream",
     "text": [
      "Requirement already satisfied: faker in /home/luca/Documents/Bachelorarbeit/mlinspect/venv/lib/python3.8/site-packages (8.10.2)\n",
      "Requirement already satisfied: python-dateutil>=2.4 in /home/luca/Documents/Bachelorarbeit/mlinspect/venv/lib/python3.8/site-packages (from faker) (2.8.2)\n",
      "Requirement already satisfied: text-unidecode==1.3 in /home/luca/Documents/Bachelorarbeit/mlinspect/venv/lib/python3.8/site-packages (from faker) (1.3)\n",
      "Requirement already satisfied: six>=1.5 in /home/luca/Documents/Bachelorarbeit/mlinspect/venv/lib/python3.8/site-packages (from python-dateutil>=2.4->faker) (1.15.0)\n",
      "\u001B[33mWARNING: You are using pip version 21.1.3; however, version 21.2.1 is available.\n",
      "You should consider upgrading via the '/home/luca/Documents/Bachelorarbeit/mlinspect/venv/bin/python -m pip install --upgrade pip' command.\u001B[0m\n",
      "Data generated or found for: size = 100 -- compas\n",
      "Data generated or found for: size = 1000 -- compas\n",
      "Data generated or found for: size = 10000 -- compas\n",
      "Data generated or found for: size = 100 -- healthcare\n",
      "Data generated or found for: size = 1000 -- healthcare\n",
      "Data generated or found for: size = 10000 -- healthcare\n"
     ]
    }
   ],
   "source": [
    "!{sys.executable} -m pip install faker\n",
    "\n",
    "from data_generation.compas_data_generation import generate_compas_dataset\n",
    "from data_generation.healthcare_data_generation import generate_healthcare_dataset\n",
    "\n",
    "# We only generate the files, that are not already existing:\n",
    "\n",
    "COMPAS_DATA_PATHS = generate_compas_dataset(SIZES)\n",
    "HEALTHCARE_DATA_PATHS = generate_healthcare_dataset(SIZES)"
   ]
  },
  {
   "cell_type": "markdown",
   "metadata": {},
   "source": [
    "## Benchmark setup:"
   ]
  },
  {
   "cell_type": "code",
   "execution_count": 3,
   "metadata": {
    "pycharm": {
     "name": "#%%\n"
    }
   },
   "outputs": [],
   "source": [
    "def get_inspection_code(pipeline_code, to_sql, dbms_connector, no_bias, mode, materialize=False,\n",
    "                                   one_run=False):\n",
    "    setup_code = cleandoc(f\"\"\"\n",
    "from inspect import cleandoc\n",
    "from mlinspect.utils import get_project_root\n",
    "from mlinspect import PipelineInspector\n",
    "from mlinspect.inspections import RowLineage, MaterializeFirstOutputRows\n",
    "from mlinspect.checks import NoBiasIntroducedFor, NoIllegalFeatures\n",
    "from demo.feature_overview.no_missing_embeddings import NoMissingEmbeddings\n",
    "from inspect import cleandoc\n",
    "from example_pipelines.healthcare import custom_monkeypatching\n",
    "from mlinspect.to_sql.dbms_connectors.postgresql_connector import PostgresqlConnector\n",
    "from mlinspect.to_sql.dbms_connectors.umbra_connector import UmbraConnector\n",
    "from mlinspect import PipelineInspector\n",
    "\n",
    "dbms_connector_u = UmbraConnector(dbname=\\'{UMBRA_DB}\\', user=\\'{UMBRA_USER}\\', password=\\'{UMBRA_PW}\\',\n",
    "    port={UMBRA_PORT}, host=\\'{UMBRA_HOST}\\', umbra_dir= r\\'{UMBRA_DIR}\\')\n",
    "dbms_connector_p = PostgresqlConnector(dbname=\\'{POSTGRES_DB}\\', user=\\'{POSTGRES_USER}\\',\n",
    "    password=\\'{POSTGRES_PW}\\', port={POSTGRES_PORT}, host=\\'{POSTGRES_HOST}\\')\n",
    "\n",
    "pipeline_code = cleandoc(f\\\"\\\"\\\"{pipeline_code}\\\"\\\"\\\")\n",
    "\n",
    "pipeline_inspector = PipelineInspector.on_pipeline_from_string(pipeline_code) \\\\\n",
    "    .add_custom_monkey_patching_module(custom_monkeypatching) \\\\\n",
    "    .add_check(NoBiasIntroducedFor({no_bias})) \\\\\n",
    "    .add_check(NoIllegalFeatures()) \\\\\n",
    "    .add_check(NoMissingEmbeddings()) \\\\\n",
    "    .add_required_inspection(RowLineage(5)) \\\\\n",
    "    .add_required_inspection(MaterializeFirstOutputRows(5))\n",
    "    \"\"\") + \"\\n\"\n",
    "    if to_sql:\n",
    "        return setup_code, f\"pipeline_inspector.execute_in_sql(dbms_connector={dbms_connector}, \" \\\n",
    "                           f\"sql_one_run={one_run}, mode=\\'{mode}\\', materialize={materialize})\"\n",
    "\n",
    "    return setup_code, f\"pipeline_inspector.execute()\"\n",
    "\n",
    "\n",
    "def run(pipeline_code, to_sql=False, dbms_connector=None, no_bias=None, mode=None, materialize=False, one_run=False):\n",
    "    setup_code, test_code = get_inspection_code(pipeline_code, to_sql, dbms_connector, no_bias,\n",
    "                                                           mode, materialize, one_run)\n",
    "    if to_sql:\n",
    "        result = []\n",
    "        for i in range(BENCH_REP):\n",
    "            # print(f\"run {i} of {BENCH_REP} ...\")\n",
    "            # This special case is necessary to deduct the time for dropping the existing tables and views!\n",
    "            result.append(timeit.timeit(test_code, setup=setup_code, number=1) * 1000)  # in s\n",
    "        return sum(result) / BENCH_REP\n",
    "\n",
    "    return (timeit.timeit(test_code, setup=setup_code, number=BENCH_REP) / BENCH_REP) * 1000  # in s\n",
    "\n",
    "\n",
    "def pipeline_inspection_benchmark(data_paths, no_bias, mode, title, materialize=False, exclude_umbra=False,\n",
    "                                  display_hardware_usage: bool = False):\n",
    "    pandas_times = []\n",
    "    postgres_times = []\n",
    "    umbra_times = []\n",
    "    for i, (path_to_csv_1, path_to_csv_2) in enumerate(data_paths):\n",
    "\n",
    "        if \"compas\" in str(path_to_csv_1):\n",
    "            setup_code, test_code = get_compas_pipe_code(path_to_csv_1, path_to_csv_2)\n",
    "        elif \"healthcare\" in str(path_to_csv_1):\n",
    "            setup_code, test_code = get_healthcare_pipe_code(path_to_csv_1, path_to_csv_2)\n",
    "        else:\n",
    "            assert False\n",
    "        pipe_code = setup_code + test_code\n",
    "\n",
    "        print(f\"Running pandas...  -- size {SIZES[i]}\")\n",
    "        pandas_times.append(run(pipe_code, to_sql=False, dbms_connector=None, no_bias=no_bias))\n",
    "        print(f\"Running postgres...  -- size {SIZES[i]}\")\n",
    "        postgres_times.append(run(pipe_code, True, \"dbms_connector_p\", no_bias, mode=mode, materialize=materialize))\n",
    "        if not exclude_umbra:\n",
    "            print(f\"Running umbra... -- size {SIZES[i]}\")\n",
    "            umbra_times.append(run(pipe_code, True, \"dbms_connector_u\", no_bias, mode=mode, materialize=materialize))\n",
    "\n",
    "        # sys.argv = [\"psrecord\", \"--duration=100\", \"--log=activity.txt\", \"1540\"]\n",
    "        # main()\n",
    "\n",
    "    names = [\"Pandas\", \"Postgresql\", \"Umbra\"]\n",
    "    table = [pandas_times, postgres_times, umbra_times]\n",
    "    if exclude_umbra:\n",
    "        names = names[:-1]\n",
    "        table = table[:-1]\n",
    "    plot_compare(title, SIZES, all_y=table, all_y_names=names, save=True)"
   ]
  },
  {
   "cell_type": "markdown",
   "metadata": {
    "pycharm": {
     "name": "#%% md\n"
    }
   },
   "source": [
    "## Benchmark of default inspection using CTEs:"
   ]
  },
  {
   "cell_type": "code",
   "execution_count": 4,
   "metadata": {
    "pycharm": {
     "is_executing": true,
     "name": "#%%\n"
    }
   },
   "outputs": [
    {
     "name": "stdout",
     "output_type": "stream",
     "text": [
      "\n",
      "Just translation to SQL is performed! \n",
      "-> SQL-Code placed at: mlinspect/to_sql/generated_code\n",
      "\n"
     ]
    },
    {
     "name": "stderr",
     "output_type": "stream",
     "text": [
      "2021-07-30 09:12:45.038140: W tensorflow/stream_executor/platform/default/dso_loader.cc:64] Could not load dynamic library 'libcudart.so.11.0'; dlerror: libcudart.so.11.0: cannot open shared object file: No such file or directory\n",
      "2021-07-30 09:12:45.038167: I tensorflow/stream_executor/cuda/cudart_stub.cc:29] Ignore above cudart dlerror if you do not have a GPU set up on your machine.\n"
     ]
    }
   ],
   "source": [
    "healthcare_no_bias = \"[\\'age_group\\', \\'race\\']\"\n",
    "compas_no_bias = \"[\\'sex\\', \\'race\\']\"\n",
    "\n",
    "# Example of the SQL code that gets generated for healthcare with CTE:\n",
    "set_up, test = get_healthcare_pipe_code(*HEALTHCARE_DATA_PATHS[-1])\n",
    "set_up, test = get_inspection_code(set_up+test, to_sql=True, dbms_connector=None,\n",
    "                                          no_bias=healthcare_no_bias, mode=\"CTE\", materialize=False, one_run=False)\n",
    "exec(set_up+test)\n",
    "\n",
    "# print_generated_code()"
   ]
  },
  {
   "cell_type": "code",
   "execution_count": 5,
   "metadata": {
    "pycharm": {
     "name": "#%%\n"
    }
   },
   "outputs": [
    {
     "name": "stdout",
     "output_type": "stream",
     "text": [
      "Running pandas...  -- size 100\n",
      "Running postgres...  -- size 100\n",
      "Running umbra... -- size 100\n",
      "Running pandas...  -- size 1000\n",
      "Running postgres...  -- size 1000\n",
      "Running umbra... -- size 1000\n",
      "Running pandas...  -- size 10000\n",
      "Running postgres...  -- size 10000\n",
      "Running umbra... -- size 10000\n"
     ]
    },
    {
     "data": {
      "image/png": "[encoded data removed]",
      "text/plain": [
       "<Figure size 288x288 with 1 Axes>"
      ]
     },
     "metadata": {},
     "output_type": "display_data"
    }
   ],
   "source": [
    "pipeline_inspection_benchmark(HEALTHCARE_DATA_PATHS, healthcare_no_bias, mode=\"CTE\",\n",
    "                              title=\"HealthcareInspectionComparisonCTE\")"
   ]
  },
  {
   "cell_type": "code",
   "execution_count": 6,
   "metadata": {
    "pycharm": {
     "is_executing": true,
     "name": "#%%\n"
    }
   },
   "outputs": [
    {
     "name": "stdout",
     "output_type": "stream",
     "text": [
      "Running pandas...  -- size 100\n",
      "Running postgres...  -- size 100\n",
      "Running umbra... -- size 100\n",
      "Running pandas...  -- size 1000\n",
      "Running postgres...  -- size 1000\n",
      "Running umbra... -- size 1000\n",
      "Running pandas...  -- size 10000\n",
      "Running postgres...  -- size 10000\n",
      "Running umbra... -- size 10000\n"
     ]
    },
    {
     "data": {
      "image/png": "[encoded data removed]",
      "text/plain": [
       "<Figure size 288x288 with 1 Axes>"
      ]
     },
     "metadata": {},
     "output_type": "display_data"
    }
   ],
   "source": [
    "pipeline_inspection_benchmark(COMPAS_DATA_PATHS, compas_no_bias, mode=\"CTE\",\n",
    "                              title=\"CompasInspectionComparisonCTE\")"
   ]
  },
  {
   "cell_type": "markdown",
   "metadata": {},
   "source": [
    "## Benchmark of default inspection using VIEWs:"
   ]
  },
  {
   "cell_type": "code",
   "execution_count": 7,
   "metadata": {
    "pycharm": {
     "is_executing": true,
     "name": "#%%\n"
    }
   },
   "outputs": [
    {
     "name": "stdout",
     "output_type": "stream",
     "text": [
      "\n",
      "Just translation to SQL is performed! \n",
      "-> SQL-Code placed at: mlinspect/to_sql/generated_code\n",
      "\n"
     ]
    }
   ],
   "source": [
    "# The SQL code that gets generated for compas with VIEW:\n",
    "set_up, test = get_compas_pipe_code(*COMPAS_DATA_PATHS[0])\n",
    "set_up, test = get_inspection_code(set_up+test, to_sql=True, dbms_connector=None,\n",
    "                                          no_bias=healthcare_no_bias, mode=\"VIEW\", materialize=False, one_run=False)\n",
    "exec(set_up+test)\n",
    "\n",
    "# print_generated_code()\n"
   ]
  },
  {
   "cell_type": "code",
   "execution_count": 8,
   "metadata": {
    "pycharm": {
     "is_executing": true,
     "name": "#%%\n"
    }
   },
   "outputs": [
    {
     "name": "stdout",
     "output_type": "stream",
     "text": [
      "Running pandas...  -- size 100\n",
      "Running postgres...  -- size 100\n",
      "Running umbra... -- size 100\n",
      "Running pandas...  -- size 1000\n",
      "Running postgres...  -- size 1000\n",
      "Running umbra... -- size 1000\n",
      "Running pandas...  -- size 10000\n",
      "Running postgres...  -- size 10000\n",
      "Running umbra... -- size 10000\n"
     ]
    },
    {
     "data": {
      "image/png": "[encoded data removed]",
      "text/plain": [
       "<Figure size 288x288 with 1 Axes>"
      ]
     },
     "metadata": {},
     "output_type": "display_data"
    }
   ],
   "source": [
    "pipeline_inspection_benchmark(HEALTHCARE_DATA_PATHS, healthcare_no_bias, mode=\"VIEW\",\n",
    "                              title=\"HealthcareInspectionComparisonVIEW\")"
   ]
  },
  {
   "cell_type": "code",
   "execution_count": 9,
   "metadata": {
    "pycharm": {
     "is_executing": true,
     "name": "#%%\n"
    }
   },
   "outputs": [
    {
     "name": "stdout",
     "output_type": "stream",
     "text": [
      "Running pandas...  -- size 100\n",
      "Running postgres...  -- size 100\n",
      "Running umbra... -- size 100\n",
      "Running pandas...  -- size 1000\n",
      "Running postgres...  -- size 1000\n",
      "Running umbra... -- size 1000\n",
      "Running pandas...  -- size 10000\n",
      "Running postgres...  -- size 10000\n",
      "Running umbra... -- size 10000\n"
     ]
    },
    {
     "data": {
      "image/png": "[encoded data removed]",
      "text/plain": [
       "<Figure size 288x288 with 1 Axes>"
      ]
     },
     "metadata": {},
     "output_type": "display_data"
    }
   ],
   "source": [
    "pipeline_inspection_benchmark(COMPAS_DATA_PATHS, compas_no_bias, mode=\"VIEW\",\n",
    "                              title=\"CompasInspectionComparisonVIEW\")"
   ]
  },
  {
   "cell_type": "markdown",
   "metadata": {},
   "source": [
    "## Benchmark of default inspection using MATERIALIZED VIEWs:\n",
    "\n",
    "While doing the default inspection, parts of the generated code get executed multiple times. This is the reason\n",
    "the option to MATERIALIZE Views, called more that once, got added. This way NO part of the pipeline is executed\n",
    "more that ONCE.\n",
    "\n",
    "In our case only postgres supports this option."
   ]
  },
  {
   "cell_type": "code",
   "execution_count": 10,
   "metadata": {
    "pycharm": {
     "is_executing": true,
     "name": "#%%\n"
    }
   },
   "outputs": [
    {
     "name": "stdout",
     "output_type": "stream",
     "text": [
      "Running pandas...  -- size 100\n",
      "Running postgres...  -- size 100\n",
      "Running pandas...  -- size 1000\n",
      "Running postgres...  -- size 1000\n",
      "Running pandas...  -- size 10000\n",
      "Running postgres...  -- size 10000\n"
     ]
    },
    {
     "data": {
      "image/png": "[encoded data removed]",
      "text/plain": [
       "<Figure size 288x288 with 1 Axes>"
      ]
     },
     "metadata": {},
     "output_type": "display_data"
    }
   ],
   "source": [
    "pipeline_inspection_benchmark(HEALTHCARE_DATA_PATHS, healthcare_no_bias, mode=\"VIEW\", materialize=True,\n",
    "                              exclude_umbra=True, title=\"HealthcareInspectionComparisonVIEWMAT\")"
   ]
  },
  {
   "cell_type": "code",
   "execution_count": 11,
   "metadata": {
    "pycharm": {
     "is_executing": true,
     "name": "#%%\n"
    }
   },
   "outputs": [],
   "source": [
    "# SQL code that got generated for healthcare with VIEW with the MATERIALIZE OPTION:\n",
    "# print_generated_code()\n"
   ]
  },
  {
   "cell_type": "markdown",
   "metadata": {},
   "source": [
    "## Main memory usage consideration:\n",
    "\n",
    "Despite the improved runtime, also the main memory usage can profit from relying\n",
    "on a DBMS. This can be also seen with Grizzly: https://edbt2021proceedings.github.io/docs/p174.pdf\n",
    "\n",
    "This code for example requires more than 32GB in main memory to run:"
   ]
  },
  {
   "cell_type": "code",
   "execution_count": 12,
   "metadata": {
    "pycharm": {
     "is_executing": true,
     "name": "#%%\n"
    }
   },
   "outputs": [
    {
     "name": "stdout",
     "output_type": "stream",
     "text": [
      "Data generated or found for: size = 1000000 -- healthcare\n"
     ]
    }
   ],
   "source": [
    "size = (10 ** 6)\n",
    "path_to_csv_his, path_to_csv_pat = generate_healthcare_dataset([size])[0]\n",
    "setup_code, test_code = get_healthcare_pipe_code(path_to_csv_his, path_to_csv_pat, add_impute_and_onehot=True)\n",
    "setup_code += \"\\n\" + \"from sklearn.impute import SimpleImputer\" + \\\n",
    "                \"\\n\" + \"from sklearn.pipeline import Pipeline\" + \\\n",
    "                \"\\n\" + \"from sklearn.preprocessing import OneHotEncoder, StandardScaler\" + \"\\n\"\n",
    "\n",
    "test_code += \"\\n\" + \"test = impute_and_one_hot_encode.fit_transform(data)\"\n",
    "\n",
    "pipe_code = setup_code + test_code\n"
   ]
  },
  {
   "cell_type": "code",
   "execution_count": 13,
   "metadata": {
    "pycharm": {
     "is_executing": true,
     "name": "#%%\n"
    }
   },
   "outputs": [
    {
     "name": "stdout",
     "output_type": "stream",
     "text": [
      "Running postgres...  -- size 1000000\n"
     ]
    },
    {
     "ename": "KeyboardInterrupt",
     "evalue": "",
     "output_type": "error",
     "traceback": [
      "\u001B[0;31m---------------------------------------------------------------------------\u001B[0m",
      "\u001B[0;31mKeyboardInterrupt\u001B[0m                         Traceback (most recent call last)",
      "\u001B[0;32m/tmp/ipykernel_10365/2245665757.py\u001B[0m in \u001B[0;36m<module>\u001B[0;34m\u001B[0m\n\u001B[1;32m      1\u001B[0m \u001B[0;31m# Requires trough swiftly:\u001B[0m\u001B[0;34m\u001B[0m\u001B[0;34m\u001B[0m\u001B[0;34m\u001B[0m\u001B[0m\n\u001B[1;32m      2\u001B[0m \u001B[0mprint\u001B[0m\u001B[0;34m(\u001B[0m\u001B[0;34mf\"Running postgres...  -- size {size}\"\u001B[0m\u001B[0;34m)\u001B[0m\u001B[0;34m\u001B[0m\u001B[0;34m\u001B[0m\u001B[0m\n\u001B[0;32m----> 3\u001B[0;31m print(\"postgres_times: \" + str(run(pipe_code, True, \"dbms_connector_p\", no_bias=healthcare_no_bias, mode=\"CTE\",\n\u001B[0m\u001B[1;32m      4\u001B[0m                           materialize=False)))\n",
      "\u001B[0;32m/tmp/ipykernel_10365/3979356313.py\u001B[0m in \u001B[0;36mrun\u001B[0;34m(pipeline_code, to_sql, dbms_connector, no_bias, mode, materialize, one_run)\u001B[0m\n\u001B[1;32m     44\u001B[0m             \u001B[0;31m# print(f\"run {i} of {BENCH_REP} ...\")\u001B[0m\u001B[0;34m\u001B[0m\u001B[0;34m\u001B[0m\u001B[0;34m\u001B[0m\u001B[0m\n\u001B[1;32m     45\u001B[0m             \u001B[0;31m# This special case is necessary to deduct the time for dropping the existing tables and views!\u001B[0m\u001B[0;34m\u001B[0m\u001B[0;34m\u001B[0m\u001B[0;34m\u001B[0m\u001B[0m\n\u001B[0;32m---> 46\u001B[0;31m             \u001B[0mresult\u001B[0m\u001B[0;34m.\u001B[0m\u001B[0mappend\u001B[0m\u001B[0;34m(\u001B[0m\u001B[0mtimeit\u001B[0m\u001B[0;34m.\u001B[0m\u001B[0mtimeit\u001B[0m\u001B[0;34m(\u001B[0m\u001B[0mtest_code\u001B[0m\u001B[0;34m,\u001B[0m \u001B[0msetup\u001B[0m\u001B[0;34m=\u001B[0m\u001B[0msetup_code\u001B[0m\u001B[0;34m,\u001B[0m \u001B[0mnumber\u001B[0m\u001B[0;34m=\u001B[0m\u001B[0;36m1\u001B[0m\u001B[0;34m)\u001B[0m \u001B[0;34m*\u001B[0m \u001B[0;36m1000\u001B[0m\u001B[0;34m)\u001B[0m  \u001B[0;31m# in s\u001B[0m\u001B[0;34m\u001B[0m\u001B[0;34m\u001B[0m\u001B[0m\n\u001B[0m\u001B[1;32m     47\u001B[0m         \u001B[0;32mreturn\u001B[0m \u001B[0msum\u001B[0m\u001B[0;34m(\u001B[0m\u001B[0mresult\u001B[0m\u001B[0;34m)\u001B[0m \u001B[0;34m/\u001B[0m \u001B[0mBENCH_REP\u001B[0m\u001B[0;34m\u001B[0m\u001B[0;34m\u001B[0m\u001B[0m\n\u001B[1;32m     48\u001B[0m \u001B[0;34m\u001B[0m\u001B[0m\n",
      "\u001B[0;32m/usr/lib/python3.8/timeit.py\u001B[0m in \u001B[0;36mtimeit\u001B[0;34m(stmt, setup, timer, number, globals)\u001B[0m\n\u001B[1;32m    231\u001B[0m            number=default_number, globals=None):\n\u001B[1;32m    232\u001B[0m     \u001B[0;34m\"\"\"Convenience function to create Timer object and call timeit method.\"\"\"\u001B[0m\u001B[0;34m\u001B[0m\u001B[0;34m\u001B[0m\u001B[0m\n\u001B[0;32m--> 233\u001B[0;31m     \u001B[0;32mreturn\u001B[0m \u001B[0mTimer\u001B[0m\u001B[0;34m(\u001B[0m\u001B[0mstmt\u001B[0m\u001B[0;34m,\u001B[0m \u001B[0msetup\u001B[0m\u001B[0;34m,\u001B[0m \u001B[0mtimer\u001B[0m\u001B[0;34m,\u001B[0m \u001B[0mglobals\u001B[0m\u001B[0;34m)\u001B[0m\u001B[0;34m.\u001B[0m\u001B[0mtimeit\u001B[0m\u001B[0;34m(\u001B[0m\u001B[0mnumber\u001B[0m\u001B[0;34m)\u001B[0m\u001B[0;34m\u001B[0m\u001B[0;34m\u001B[0m\u001B[0m\n\u001B[0m\u001B[1;32m    234\u001B[0m \u001B[0;34m\u001B[0m\u001B[0m\n\u001B[1;32m    235\u001B[0m def repeat(stmt=\"pass\", setup=\"pass\", timer=default_timer,\n",
      "\u001B[0;32m/usr/lib/python3.8/timeit.py\u001B[0m in \u001B[0;36mtimeit\u001B[0;34m(self, number)\u001B[0m\n\u001B[1;32m    175\u001B[0m         \u001B[0mgc\u001B[0m\u001B[0;34m.\u001B[0m\u001B[0mdisable\u001B[0m\u001B[0;34m(\u001B[0m\u001B[0;34m)\u001B[0m\u001B[0;34m\u001B[0m\u001B[0;34m\u001B[0m\u001B[0m\n\u001B[1;32m    176\u001B[0m         \u001B[0;32mtry\u001B[0m\u001B[0;34m:\u001B[0m\u001B[0;34m\u001B[0m\u001B[0;34m\u001B[0m\u001B[0m\n\u001B[0;32m--> 177\u001B[0;31m             \u001B[0mtiming\u001B[0m \u001B[0;34m=\u001B[0m \u001B[0mself\u001B[0m\u001B[0;34m.\u001B[0m\u001B[0minner\u001B[0m\u001B[0;34m(\u001B[0m\u001B[0mit\u001B[0m\u001B[0;34m,\u001B[0m \u001B[0mself\u001B[0m\u001B[0;34m.\u001B[0m\u001B[0mtimer\u001B[0m\u001B[0;34m)\u001B[0m\u001B[0;34m\u001B[0m\u001B[0;34m\u001B[0m\u001B[0m\n\u001B[0m\u001B[1;32m    178\u001B[0m         \u001B[0;32mfinally\u001B[0m\u001B[0;34m:\u001B[0m\u001B[0;34m\u001B[0m\u001B[0;34m\u001B[0m\u001B[0m\n\u001B[1;32m    179\u001B[0m             \u001B[0;32mif\u001B[0m \u001B[0mgcold\u001B[0m\u001B[0;34m:\u001B[0m\u001B[0;34m\u001B[0m\u001B[0;34m\u001B[0m\u001B[0m\n",
      "\u001B[0;32m/usr/lib/python3.8/timeit.py\u001B[0m in \u001B[0;36minner\u001B[0;34m(_it, _timer)\u001B[0m\n",
      "\u001B[0;32m~/Documents/Bachelorarbeit/mlinspect/mlinspect/_pipeline_inspector.py\u001B[0m in \u001B[0;36mexecute_in_sql\u001B[0;34m(self, dbms_connector, sql_one_run, mode, materialize, row_wise)\u001B[0m\n\u001B[1;32m    102\u001B[0m         \"\"\"\n\u001B[1;32m    103\u001B[0m         \u001B[0;32massert\u001B[0m \u001B[0;34m(\u001B[0m\u001B[0misinstance\u001B[0m\u001B[0;34m(\u001B[0m\u001B[0mdbms_connector\u001B[0m\u001B[0;34m,\u001B[0m \u001B[0mConnector\u001B[0m\u001B[0;34m)\u001B[0m \u001B[0;32mor\u001B[0m \u001B[0mdbms_connector\u001B[0m \u001B[0;32mis\u001B[0m \u001B[0;32mNone\u001B[0m\u001B[0;34m)\u001B[0m\u001B[0;34m\u001B[0m\u001B[0;34m\u001B[0m\u001B[0m\n\u001B[0;32m--> 104\u001B[0;31m         return singleton.run(notebook_path=self.notebook_path,\n\u001B[0m\u001B[1;32m    105\u001B[0m                              \u001B[0mpython_path\u001B[0m\u001B[0;34m=\u001B[0m\u001B[0mself\u001B[0m\u001B[0;34m.\u001B[0m\u001B[0mpython_path\u001B[0m\u001B[0;34m,\u001B[0m\u001B[0;34m\u001B[0m\u001B[0;34m\u001B[0m\u001B[0m\n\u001B[1;32m    106\u001B[0m                              \u001B[0mpython_code\u001B[0m\u001B[0;34m=\u001B[0m\u001B[0mself\u001B[0m\u001B[0;34m.\u001B[0m\u001B[0mpython_code\u001B[0m\u001B[0;34m,\u001B[0m\u001B[0;34m\u001B[0m\u001B[0;34m\u001B[0m\u001B[0m\n",
      "\u001B[0;32m~/Documents/Bachelorarbeit/mlinspect/mlinspect/instrumentation/_pipeline_executor.py\u001B[0m in \u001B[0;36mrun\u001B[0;34m(self, notebook_path, python_path, python_code, inspections, checks, reset_state, track_code_references, custom_monkey_patching, to_sql, sql_one_run, dbms_connector, mode, materialize, row_wise)\u001B[0m\n\u001B[1;32m    168\u001B[0m \u001B[0;34m\u001B[0m\u001B[0m\n\u001B[1;32m    169\u001B[0m         \u001B[0;31m# Here the modified code is created and run:\u001B[0m\u001B[0;34m\u001B[0m\u001B[0;34m\u001B[0m\u001B[0;34m\u001B[0m\u001B[0m\n\u001B[0;32m--> 170\u001B[0;31m         \u001B[0mself\u001B[0m\u001B[0;34m.\u001B[0m\u001B[0mrun_inspections\u001B[0m\u001B[0;34m(\u001B[0m\u001B[0mnotebook_path\u001B[0m\u001B[0;34m,\u001B[0m \u001B[0mpython_code\u001B[0m\u001B[0;34m,\u001B[0m \u001B[0mpython_path\u001B[0m\u001B[0;34m)\u001B[0m\u001B[0;34m\u001B[0m\u001B[0;34m\u001B[0m\u001B[0m\n\u001B[0m\u001B[1;32m    171\u001B[0m         check_to_results = dict(\n\u001B[1;32m    172\u001B[0m             (check, check.evaluate(self.inspection_results)) for check in checks)\n",
      "\u001B[0;32m~/Documents/Bachelorarbeit/mlinspect/mlinspect/instrumentation/_pipeline_executor.py\u001B[0m in \u001B[0;36mrun_inspections\u001B[0;34m(self, notebook_path, python_code, python_path)\u001B[0m\n\u001B[1;32m    186\u001B[0m         \u001B[0mmodified_code\u001B[0m \u001B[0;34m=\u001B[0m \u001B[0mastor\u001B[0m\u001B[0;34m.\u001B[0m\u001B[0mto_source\u001B[0m\u001B[0;34m(\u001B[0m\u001B[0mparsed_modified_ast\u001B[0m\u001B[0;34m)\u001B[0m\u001B[0;34m\u001B[0m\u001B[0;34m\u001B[0m\u001B[0m\n\u001B[1;32m    187\u001B[0m         \u001B[0;31m# Do the monkey patching and the inspection:\u001B[0m\u001B[0;34m\u001B[0m\u001B[0;34m\u001B[0m\u001B[0;34m\u001B[0m\u001B[0m\n\u001B[0;32m--> 188\u001B[0;31m         \u001B[0mexec\u001B[0m\u001B[0;34m(\u001B[0m\u001B[0mcompile\u001B[0m\u001B[0;34m(\u001B[0m\u001B[0mmodified_code\u001B[0m\u001B[0;34m,\u001B[0m \u001B[0mfilename\u001B[0m\u001B[0;34m=\u001B[0m\u001B[0mself\u001B[0m\u001B[0;34m.\u001B[0m\u001B[0msource_code_path\u001B[0m\u001B[0;34m,\u001B[0m \u001B[0mmode\u001B[0m\u001B[0;34m=\u001B[0m\u001B[0;34m\"exec\"\u001B[0m\u001B[0;34m)\u001B[0m\u001B[0;34m,\u001B[0m \u001B[0mPipelineExecutor\u001B[0m\u001B[0;34m.\u001B[0m\u001B[0mscript_scope\u001B[0m\u001B[0;34m)\u001B[0m\u001B[0;34m\u001B[0m\u001B[0;34m\u001B[0m\u001B[0m\n\u001B[0m\u001B[1;32m    189\u001B[0m         \u001B[0;32mreturn\u001B[0m\u001B[0;34m\u001B[0m\u001B[0;34m\u001B[0m\u001B[0m\n\u001B[1;32m    190\u001B[0m \u001B[0;34m\u001B[0m\u001B[0m\n",
      "\u001B[0;32m<string-source>\u001B[0m in \u001B[0;36m<module>\u001B[0;34m\u001B[0m\n",
      "\u001B[0;32m~/Documents/Bachelorarbeit/mlinspect/mlinspect/monkeypatchingSQL/_patch_to_sql.py\u001B[0m in \u001B[0;36mpatched_merge\u001B[0;34m(self, *args, **kwargs)\u001B[0m\n\u001B[1;32m    578\u001B[0m             \u001B[0;32mreturn\u001B[0m \u001B[0mresult\u001B[0m\u001B[0;34m\u001B[0m\u001B[0;34m\u001B[0m\u001B[0m\n\u001B[1;32m    579\u001B[0m \u001B[0;34m\u001B[0m\u001B[0m\n\u001B[0;32m--> 580\u001B[0;31m         \u001B[0;32mreturn\u001B[0m \u001B[0mexecute_patched_func\u001B[0m\u001B[0;34m(\u001B[0m\u001B[0moriginal\u001B[0m\u001B[0;34m,\u001B[0m \u001B[0mexecute_inspections\u001B[0m\u001B[0;34m,\u001B[0m \u001B[0mself\u001B[0m\u001B[0;34m,\u001B[0m \u001B[0;34m*\u001B[0m\u001B[0margs\u001B[0m\u001B[0;34m,\u001B[0m \u001B[0;34m**\u001B[0m\u001B[0mkwargs\u001B[0m\u001B[0;34m)\u001B[0m\u001B[0;34m\u001B[0m\u001B[0;34m\u001B[0m\u001B[0m\n\u001B[0m\u001B[1;32m    581\u001B[0m \u001B[0;34m\u001B[0m\u001B[0m\n\u001B[1;32m    582\u001B[0m     \u001B[0;34m@\u001B[0m\u001B[0mgorilla\u001B[0m\u001B[0;34m.\u001B[0m\u001B[0mname\u001B[0m\u001B[0;34m(\u001B[0m\u001B[0;34m'groupby'\u001B[0m\u001B[0;34m)\u001B[0m\u001B[0;34m\u001B[0m\u001B[0;34m\u001B[0m\u001B[0m\n",
      "\u001B[0;32m~/Documents/Bachelorarbeit/mlinspect/mlinspect/monkeypatching/_monkey_patching_utils.py\u001B[0m in \u001B[0;36mexecute_patched_func\u001B[0;34m(original_func, execute_inspections_func, *args, **kwargs)\u001B[0m\n\u001B[1;32m     54\u001B[0m                                               \u001B[0msingleton\u001B[0m\u001B[0;34m.\u001B[0m\u001B[0mend_lineno_next_call_or_subscript\u001B[0m\u001B[0;34m,\u001B[0m\u001B[0;34m\u001B[0m\u001B[0;34m\u001B[0m\u001B[0m\n\u001B[1;32m     55\u001B[0m                                               singleton.end_col_offset_next_call_or_subscript)\n\u001B[0;32m---> 56\u001B[0;31m         result = execute_inspections_func(op_id, caller_filename, caller_lineno, caller_code_reference,\n\u001B[0m\u001B[1;32m     57\u001B[0m                                           caller_source_code)\n\u001B[1;32m     58\u001B[0m     \u001B[0;32melse\u001B[0m\u001B[0;34m:\u001B[0m\u001B[0;34m\u001B[0m\u001B[0;34m\u001B[0m\u001B[0m\n",
      "\u001B[0;32m~/Documents/Bachelorarbeit/mlinspect/mlinspect/monkeypatchingSQL/_patch_to_sql.py\u001B[0m in \u001B[0;36mexecute_inspections\u001B[0;34m(op_id, caller_filename, lineno, optional_code_reference, optional_source_code)\u001B[0m\n\u001B[1;32m    571\u001B[0m                                \u001B[0mDagNodeDetails\u001B[0m\u001B[0;34m(\u001B[0m\u001B[0mdescription\u001B[0m\u001B[0;34m,\u001B[0m \u001B[0mlist\u001B[0m\u001B[0;34m(\u001B[0m\u001B[0mresult\u001B[0m\u001B[0;34m.\u001B[0m\u001B[0mcolumns\u001B[0m\u001B[0;34m)\u001B[0m\u001B[0;34m)\u001B[0m\u001B[0;34m,\u001B[0m\u001B[0;34m\u001B[0m\u001B[0;34m\u001B[0m\u001B[0m\n\u001B[1;32m    572\u001B[0m                                get_optional_code_info_or_none(optional_code_reference, optional_source_code))\n\u001B[0;32m--> 573\u001B[0;31m             backend_result = singleton.update_hist.sql_update_backend_result(result, backend_result,\n\u001B[0m\u001B[1;32m    574\u001B[0m                                                                              \u001B[0mcurr_sql_expr_name\u001B[0m\u001B[0;34m=\u001B[0m\u001B[0mcte_name\u001B[0m\u001B[0;34m,\u001B[0m\u001B[0;34m\u001B[0m\u001B[0;34m\u001B[0m\u001B[0m\n\u001B[1;32m    575\u001B[0m                                                                              curr_sql_expr_columns=columns_without_tracking)\n",
      "\u001B[0;32m~/Documents/Bachelorarbeit/mlinspect/mlinspect/to_sql/checks_and_inspections_sql/_histogram_for_columns.py\u001B[0m in \u001B[0;36msql_update_backend_result\u001B[0;34m(self, result, backend_result, curr_sql_expr_name, curr_sql_expr_columns)\u001B[0m\n\u001B[1;32m     79\u001B[0m                 \u001B[0;32mif\u001B[0m \u001B[0msc\u001B[0m \u001B[0;32min\u001B[0m \u001B[0mcurr_sql_expr_columns\u001B[0m\u001B[0;34m:\u001B[0m\u001B[0;34m\u001B[0m\u001B[0;34m\u001B[0m\u001B[0m\n\u001B[1;32m     80\u001B[0m                     \u001B[0mquery\u001B[0m \u001B[0;34m=\u001B[0m \u001B[0;34mf\"SELECT {sc}, count(*) FROM {curr_sql_expr_name} GROUP BY {sc};\"\u001B[0m\u001B[0;34m\u001B[0m\u001B[0;34m\u001B[0m\u001B[0m\n\u001B[0;32m---> 81\u001B[0;31m                     new_dict[sc], curr_sql_expr_name = self.__get_ratio_count(query=query,\n\u001B[0m\u001B[1;32m     82\u001B[0m                                                                               \u001B[0mcurr_sql_expr_name\u001B[0m\u001B[0;34m=\u001B[0m\u001B[0mcurr_sql_expr_name\u001B[0m\u001B[0;34m,\u001B[0m\u001B[0;34m\u001B[0m\u001B[0;34m\u001B[0m\u001B[0m\n\u001B[1;32m     83\u001B[0m                                                                               \u001B[0mcurr_sql_expr_columns\u001B[0m\u001B[0;34m=\u001B[0m\u001B[0mcurr_sql_expr_columns\u001B[0m\u001B[0;34m,\u001B[0m\u001B[0;34m\u001B[0m\u001B[0;34m\u001B[0m\u001B[0m\n",
      "\u001B[0;32m~/Documents/Bachelorarbeit/mlinspect/mlinspect/to_sql/checks_and_inspections_sql/_histogram_for_columns.py\u001B[0m in \u001B[0;36m__get_ratio_count\u001B[0;34m(self, query, curr_sql_expr_name, curr_sql_expr_columns, init)\u001B[0m\n\u001B[1;32m    125\u001B[0m         \u001B[0;32mif\u001B[0m \u001B[0mself\u001B[0m\u001B[0;34m.\u001B[0m\u001B[0msql_obj\u001B[0m\u001B[0;34m.\u001B[0m\u001B[0mmode\u001B[0m \u001B[0;34m==\u001B[0m \u001B[0mSQLObjRep\u001B[0m\u001B[0;34m.\u001B[0m\u001B[0mCTE\u001B[0m\u001B[0;34m:\u001B[0m\u001B[0;34m\u001B[0m\u001B[0;34m\u001B[0m\u001B[0m\n\u001B[1;32m    126\u001B[0m             \u001B[0mquery\u001B[0m \u001B[0;34m=\u001B[0m \u001B[0mself\u001B[0m\u001B[0;34m.\u001B[0m\u001B[0mpipeline_container\u001B[0m\u001B[0;34m.\u001B[0m\u001B[0mget_pipe_without_selection\u001B[0m\u001B[0;34m(\u001B[0m\u001B[0;34m)\u001B[0m \u001B[0;34m+\u001B[0m \u001B[0;34m\"\\n\"\u001B[0m \u001B[0;34m+\u001B[0m \u001B[0mquery\u001B[0m\u001B[0;34m\u001B[0m\u001B[0;34m\u001B[0m\u001B[0m\n\u001B[0;32m--> 127\u001B[0;31m             \u001B[0msc_hist_result\u001B[0m \u001B[0;34m=\u001B[0m \u001B[0mself\u001B[0m\u001B[0;34m.\u001B[0m\u001B[0mdbms_connector\u001B[0m\u001B[0;34m.\u001B[0m\u001B[0mrun\u001B[0m\u001B[0;34m(\u001B[0m\u001B[0mquery\u001B[0m\u001B[0;34m)\u001B[0m\u001B[0;34m[\u001B[0m\u001B[0;36m0\u001B[0m\u001B[0;34m]\u001B[0m\u001B[0;34m\u001B[0m\u001B[0;34m\u001B[0m\u001B[0m\n\u001B[0m\u001B[1;32m    128\u001B[0m         \u001B[0;32melse\u001B[0m\u001B[0;34m:\u001B[0m\u001B[0;34m\u001B[0m\u001B[0;34m\u001B[0m\u001B[0m\n\u001B[1;32m    129\u001B[0m \u001B[0;34m\u001B[0m\u001B[0m\n",
      "\u001B[0;32m~/Documents/Bachelorarbeit/mlinspect/mlinspect/to_sql/dbms_connectors/postgresql_connector.py\u001B[0m in \u001B[0;36mrun\u001B[0;34m(self, sql_query)\u001B[0m\n\u001B[1;32m     37\u001B[0m         \u001B[0;32mfor\u001B[0m \u001B[0mq\u001B[0m \u001B[0;32min\u001B[0m \u001B[0msuper\u001B[0m\u001B[0;34m(\u001B[0m\u001B[0;34m)\u001B[0m\u001B[0;34m.\u001B[0m\u001B[0m_prepare_query\u001B[0m\u001B[0;34m(\u001B[0m\u001B[0msql_query\u001B[0m\u001B[0;34m)\u001B[0m\u001B[0;34m:\u001B[0m\u001B[0;34m\u001B[0m\u001B[0;34m\u001B[0m\u001B[0m\n\u001B[1;32m     38\u001B[0m             \u001B[0;31m# print(\"TO\")\u001B[0m\u001B[0;34m\u001B[0m\u001B[0;34m\u001B[0m\u001B[0;34m\u001B[0m\u001B[0m\n\u001B[0;32m---> 39\u001B[0;31m             \u001B[0mself\u001B[0m\u001B[0;34m.\u001B[0m\u001B[0mcur\u001B[0m\u001B[0;34m.\u001B[0m\u001B[0mexecute\u001B[0m\u001B[0;34m(\u001B[0m\u001B[0mq\u001B[0m\u001B[0;34m)\u001B[0m\u001B[0;34m\u001B[0m\u001B[0;34m\u001B[0m\u001B[0m\n\u001B[0m\u001B[1;32m     40\u001B[0m             \u001B[0;31m# print(\"DONE\")\u001B[0m\u001B[0;34m\u001B[0m\u001B[0;34m\u001B[0m\u001B[0;34m\u001B[0m\u001B[0m\n\u001B[1;32m     41\u001B[0m             \u001B[0;32mtry\u001B[0m\u001B[0;34m:\u001B[0m\u001B[0;34m\u001B[0m\u001B[0;34m\u001B[0m\u001B[0m\n",
      "\u001B[0;32m/usr/lib/python3.8/encodings/utf_8.py\u001B[0m in \u001B[0;36mdecode\u001B[0;34m(input, errors)\u001B[0m\n\u001B[1;32m     13\u001B[0m \u001B[0mencode\u001B[0m \u001B[0;34m=\u001B[0m \u001B[0mcodecs\u001B[0m\u001B[0;34m.\u001B[0m\u001B[0mutf_8_encode\u001B[0m\u001B[0;34m\u001B[0m\u001B[0;34m\u001B[0m\u001B[0m\n\u001B[1;32m     14\u001B[0m \u001B[0;34m\u001B[0m\u001B[0m\n\u001B[0;32m---> 15\u001B[0;31m \u001B[0;32mdef\u001B[0m \u001B[0mdecode\u001B[0m\u001B[0;34m(\u001B[0m\u001B[0minput\u001B[0m\u001B[0;34m,\u001B[0m \u001B[0merrors\u001B[0m\u001B[0;34m=\u001B[0m\u001B[0;34m'strict'\u001B[0m\u001B[0;34m)\u001B[0m\u001B[0;34m:\u001B[0m\u001B[0;34m\u001B[0m\u001B[0;34m\u001B[0m\u001B[0m\n\u001B[0m\u001B[1;32m     16\u001B[0m     \u001B[0;32mreturn\u001B[0m \u001B[0mcodecs\u001B[0m\u001B[0;34m.\u001B[0m\u001B[0mutf_8_decode\u001B[0m\u001B[0;34m(\u001B[0m\u001B[0minput\u001B[0m\u001B[0;34m,\u001B[0m \u001B[0merrors\u001B[0m\u001B[0;34m,\u001B[0m \u001B[0;32mTrue\u001B[0m\u001B[0;34m)\u001B[0m\u001B[0;34m\u001B[0m\u001B[0;34m\u001B[0m\u001B[0m\n\u001B[1;32m     17\u001B[0m \u001B[0;34m\u001B[0m\u001B[0m\n",
      "\u001B[0;31mKeyboardInterrupt\u001B[0m: "
     ]
    }
   ],
   "source": [
    "# Requires trough swiftly:\n",
    "print(f\"Running postgres...  -- size {size}\")\n",
    "print(\"postgres_times: \" + str(run(pipe_code, True, \"dbms_connector_p\", no_bias=healthcare_no_bias, mode=\"CTE\",\n",
    "                          materialize=False)))"
   ]
  },
  {
   "cell_type": "code",
   "execution_count": null,
   "metadata": {
    "pycharm": {
     "is_executing": true,
     "name": "#%%\n"
    }
   },
   "outputs": [],
   "source": [
    "# Requires lots of memory (600+ GiB):\n",
    "print(f\"Running pandas...  -- size {size}\")\n",
    "print(\"pandas_times * \" + str(run(pipe_code, to_sql=False, dbms_connector=None, no_bias=healthcare_no_bias)))\n",
    "\n",
    "\n"
   ]
  }
 ],
 "metadata": {
  "kernelspec": {
   "display_name": "Python 3 (ipykernel)",
   "language": "python",
   "name": "python3"
  },
  "language_info": {
   "codemirror_mode": {
    "name": "ipython",
    "version": 3
   },
   "file_extension": ".py",
   "mimetype": "text/x-python",
   "name": "python",
   "nbconvert_exporter": "python",
   "pygments_lexer": "ipython3",
   "version": "3.8.10"
  }
 },
 "nbformat": 4,
 "nbformat_minor": 1
}
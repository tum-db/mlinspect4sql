{
 "cells": [
  {
   "cell_type": "markdown",
   "metadata": {},
   "source": [
    "# Performance showcase of added \"to_sql\" functionality in mlinspect\n",
    "\n",
    "Here the performance of the proposed inspection using sql will be compared to the original one in pandas. Part of\n",
    "the \"healthcare\" and \"compas\" pipeline will be used."
   ]
  },
  {
   "cell_type": "markdown",
   "metadata": {},
   "source": [
    "## Required packages:\n",
    "See: requirements/requirements.txt and requirements/requirements.dev.txt"
   ]
  },
  {
   "cell_type": "markdown",
   "metadata": {},
   "source": [
    "## Some parameters you might want to set:"
   ]
  },
  {
   "cell_type": "code",
   "execution_count": 1,
   "metadata": {
    "pycharm": {
     "name": "#%%\n"
    }
   },
   "outputs": [],
   "source": [
    "import os\n",
    "import sys\n",
    "import time\n",
    "\n",
    "module_path = os.path.abspath(os.path.join('..'))\n",
    "if module_path not in sys.path:\n",
    "    sys.path.append(module_path)\n",
    "\n",
    "from mlinspect.utils import get_project_root\n",
    "from mlinspect import PipelineInspector, OperatorType\n",
    "from mlinspect.inspections import HistogramForColumns, RowLineage, MaterializeFirstOutputRows\n",
    "from mlinspect.checks import NoBiasIntroducedFor, NoIllegalFeatures\n",
    "from demo.feature_overview.no_missing_embeddings import NoMissingEmbeddings\n",
    "from example_pipelines.healthcare import custom_monkeypatching\n",
    "from mlinspect.to_sql.dbms_connectors.postgresql_connector import PostgresqlConnector\n",
    "\n",
    "from mlinspect.to_sql.dbms_connectors.umbra_connector import UmbraConnector\n",
    "\n",
    "SIZES = [(10 ** i) for i in range(2, 5, 1)]\n",
    "\n",
    "# DBMS related:\n",
    "UMBRA_DIR = r\"/home/maximilian/TUM/umbra\"\n",
    "UMBRA_USER = \"postgres\"\n",
    "UMBRA_PW = \" \"\n",
    "UMBRA_DB = \"\"\n",
    "UMBRA_PORT = 5433\n",
    "UMBRA_HOST = \"/tmp/\"\n",
    "\n",
    "POSTGRES_USER = \"luca\"\n",
    "POSTGRES_PW = \"password\"\n",
    "POSTGRES_DB = \"healthcare_benchmark\"\n",
    "POSTGRES_PORT = 5432\n",
    "POSTGRES_HOST = \"localhost\"\n",
    "\n",
    "HEALTHCARE_FILE_PY = os.path.join(str(get_project_root()), \"example_pipelines\", \"healthcare\", \"healthcare.py\")\n",
    "COMPAS_FILE_PY = os.path.join(str(get_project_root()), \"example_pipelines\", \"compas\", \"compas.py\")\n",
    "ADULT_SIMPLE_FILE_PY = os.path.join(str(get_project_root()), \"example_pipelines\", \"adult_simple\", \"adult_simple.py\")\n",
    "ADULT_COMPLEX_FILE_PY = os.path.join(str(get_project_root()), \"example_pipelines\", \"adult_complex\", \"adult_complex.py\")\n",
    "\n",
    "# No model training:\n",
    "HEALTHCARE_FILE_PY_R = os.path.join(str(get_project_root()), \"test\", \"monkeypatchingSQL\", \"pipelines_for_tests\",\n",
    "                                    \"healthcare\", \"healthcare_res.py\")\n",
    "COMPAS_FILE_PY_R = os.path.join(str(get_project_root()), \"test\", \"monkeypatchingSQL\", \"pipelines_for_tests\", \"compas\",\n",
    "                              \"compas_res.py\")\n",
    "ADULT_SIMPLE_FILE_PY_R = os.path.join(str(get_project_root()), \"test\", \"monkeypatchingSQL\", \"pipelines_for_tests\",\n",
    "                                    \"adult_simple\", \"adult_simple_res.py\")\n",
    "ADULT_COMPLEX_FILE_PY_R = os.path.join(str(get_project_root()), \"test\", \"monkeypatchingSQL\", \"pipelines_for_tests\",\n",
    "                                     \"adult_complex\", \"adult_complex_res.py\")\n",
    "\n",
    "# HEALTHCARE_BIAS = \"[\\'age_group\\', \\'race\\']\"\n",
    "# COMPAS_BIAS = \"[\\'sex\\', \\'race\\']\"\n",
    "HEALTHCARE_BIAS = ['age_group', 'race']\n",
    "COMPAS_BIAS = ['sex', 'race']"
   ]
  },
  {
   "cell_type": "markdown",
   "metadata": {},
   "source": [
    "## Benchmark setup:"
   ]
  },
  {
   "cell_type": "code",
   "execution_count": 2,
   "metadata": {
    "pycharm": {
     "name": "#%%\n"
    }
   },
   "outputs": [],
   "source": [
    "def run_inspection(file_location, bias, to_sql, dbms_connector=None, mode=None, materialize=None):\n",
    "    from PIL import Image\n",
    "    import matplotlib.pyplot as plt\n",
    "    from mlinspect.visualisation import save_fig_to_path\n",
    "\n",
    "    inspector_result = PipelineInspector \\\n",
    "        .on_pipeline_from_py_file(file_location) \\\n",
    "        .add_custom_monkey_patching_module(custom_monkeypatching) \\\n",
    "        .add_check(NoBiasIntroducedFor(bias)) \\\n",
    "        .add_check(NoIllegalFeatures()) \\\n",
    "        .add_check(NoMissingEmbeddings()) \\\n",
    "        .add_required_inspection(RowLineage(5)) \\\n",
    "        .add_required_inspection(MaterializeFirstOutputRows(5))\n",
    "\n",
    "    if to_sql:\n",
    "        inspector_result = inspector_result.execute_in_sql(dbms_connector=dbms_connector, mode=mode,\n",
    "                                                           materialize=materialize)\n",
    "    else:\n",
    "        inspector_result = inspector_result.execute()\n",
    "\n",
    "    extracted_dag = inspector_result.dag\n",
    "    filename = os.path.join(str(get_project_root()), \"demo\", \"feature_overview\", \"healthcare.png\")\n",
    "    save_fig_to_path(extracted_dag, filename)\n",
    "    im = Image.open(filename)\n",
    "    plt.imshow(im)\n",
    "\n",
    "    check_results = inspector_result.check_to_check_results\n",
    "    no_bias_check_result = check_results[NoBiasIntroducedFor(bias)]\n",
    "\n",
    "    distribution_changes_overview_df = NoBiasIntroducedFor.get_distribution_changes_overview_as_df(\n",
    "        no_bias_check_result)\n",
    "    result = \"\"\n",
    "    result += distribution_changes_overview_df.to_markdown()\n",
    "\n",
    "    for i in list(no_bias_check_result.bias_distribution_change.items()):\n",
    "        _, join_distribution_changes = i\n",
    "        for column, distribution_change in join_distribution_changes.items():\n",
    "            result += \"\\n\"\n",
    "            result += f\"\\033[1m Column '{column}'\\033[0m\"\n",
    "            result += distribution_change.before_and_after_df.to_markdown()\n",
    "\n",
    "    print(result)\n",
    "    return result"
   ]
  },
  {
   "cell_type": "markdown",
   "metadata": {},
   "source": [
    "## Benchmark of default inspection using CTEs:"
   ]
  },
  {
   "cell_type": "code",
   "execution_count": 3,
   "metadata": {
    "pycharm": {
     "name": "#%%\n"
    }
   },
   "outputs": [],
   "source": [
    "umbra_path = r\"/home/maximilian/TUM/umbra\"\n",
    "dbms_connector_u = UmbraConnector(dbname=UMBRA_DB, user=UMBRA_USER, password=UMBRA_PW, port=UMBRA_PORT, host=UMBRA_HOST,\n",
    "                                  umbra_dir=UMBRA_DIR)\n",
    "\n",
    "dbms_connector_p = PostgresqlConnector(dbname=POSTGRES_DB, user=POSTGRES_USER, password=POSTGRES_PW,\n",
    "                                       port=POSTGRES_PORT, host=POSTGRES_HOST)\n",
    "\n",
    "def run_for_all(file_location, bias, mode=\"\", materialize=None):\n",
    "    t0 = time.time()\n",
    "    run_inspection(file_location=file_location, bias=bias, to_sql=False)\n",
    "    t1 = time.time()\n",
    "    print(\"\\nTime spend with original: \" + str(t1 - t0))\n",
    "\n",
    "    t0 = time.time()\n",
    "    run_inspection(file_location=file_location, bias=bias, to_sql=True, dbms_connector=dbms_connector_p, mode=mode,\n",
    "                   materialize=materialize)\n",
    "    t1 = time.time()\n",
    "    print(\"\\nTime spend with modified SQL inspections: \" + str(t1 - t0))\n",
    "\n",
    "    if not materialize: # Materialized not supported by Umbra -> main-memory performance\n",
    "        t0 = time.time()\n",
    "        run_inspection(file_location=file_location, bias=bias, to_sql=True, dbms_connector=dbms_connector_u, mode=mode,\n",
    "                       materialize=materialize)\n",
    "        t1 = time.time()\n",
    "        print(\"\\nTime spend with modified SQL inspections: \" + str(t1 - t0))\n"
   ]
  },
  {
   "cell_type": "markdown",
   "metadata": {},
   "source": [
    "## End-to-End example of the preprocessing-pipeline inspection + model training:\n",
    "\n",
    "Slightly different inspections results are expected because of the random split. Still, the resulting model accuracy should\n",
    "be similar."
   ]
  },
  {
   "cell_type": "code",
   "execution_count": 4,
   "metadata": {
    "pycharm": {
     "name": "#%%\n"
    }
   },
   "outputs": [
    {
     "name": "stderr",
     "output_type": "stream",
     "text": [
      "2022-02-01 11:39:33.267022: W tensorflow/stream_executor/platform/default/dso_loader.cc:64] Could not load dynamic library 'libcudart.so.11.0'; dlerror: libcudart.so.11.0: cannot open shared object file: No such file or directory; LD_LIBRARY_PATH: /usr/local/lib64\n",
      "2022-02-01 11:39:33.267042: I tensorflow/stream_executor/cuda/cudart_stub.cc:29] Ignore above cudart dlerror if you do not have a GPU set up on your machine.\n",
      "2022-02-01 11:39:34.454995: I tensorflow/stream_executor/platform/default/dso_loader.cc:53] Successfully opened dynamic library libcuda.so.1\n",
      "2022-02-01 11:39:34.505736: I tensorflow/stream_executor/cuda/cuda_gpu_executor.cc:937] successful NUMA node read from SysFS had negative value (-1), but there must be at least one NUMA node, so returning NUMA node zero\n",
      "2022-02-01 11:39:34.506129: I tensorflow/core/common_runtime/gpu/gpu_device.cc:1733] Found device 0 with properties: \n",
      "pciBusID: 0000:01:00.0 name: GeForce GTX 1050 computeCapability: 6.1\n",
      "coreClock: 1.493GHz coreCount: 5 deviceMemorySize: 3.95GiB deviceMemoryBandwidth: 104.43GiB/s\n",
      "2022-02-01 11:39:34.506217: W tensorflow/stream_executor/platform/default/dso_loader.cc:64] Could not load dynamic library 'libcudart.so.11.0'; dlerror: libcudart.so.11.0: cannot open shared object file: No such file or directory; LD_LIBRARY_PATH: /usr/local/lib64\n",
      "2022-02-01 11:39:34.506278: W tensorflow/stream_executor/platform/default/dso_loader.cc:64] Could not load dynamic library 'libcublas.so.11'; dlerror: libcublas.so.11: cannot open shared object file: No such file or directory; LD_LIBRARY_PATH: /usr/local/lib64\n",
      "2022-02-01 11:39:34.506332: W tensorflow/stream_executor/platform/default/dso_loader.cc:64] Could not load dynamic library 'libcublasLt.so.11'; dlerror: libcublasLt.so.11: cannot open shared object file: No such file or directory; LD_LIBRARY_PATH: /usr/local/lib64\n",
      "2022-02-01 11:39:34.507486: I tensorflow/stream_executor/platform/default/dso_loader.cc:53] Successfully opened dynamic library libcufft.so.10\n",
      "2022-02-01 11:39:34.507718: I tensorflow/stream_executor/platform/default/dso_loader.cc:53] Successfully opened dynamic library libcurand.so.10\n",
      "2022-02-01 11:39:34.507783: W tensorflow/stream_executor/platform/default/dso_loader.cc:64] Could not load dynamic library 'libcusolver.so.11'; dlerror: libcusolver.so.11: cannot open shared object file: No such file or directory; LD_LIBRARY_PATH: /usr/local/lib64\n",
      "2022-02-01 11:39:34.507840: W tensorflow/stream_executor/platform/default/dso_loader.cc:64] Could not load dynamic library 'libcusparse.so.11'; dlerror: libcusparse.so.11: cannot open shared object file: No such file or directory; LD_LIBRARY_PATH: /usr/local/lib64\n",
      "2022-02-01 11:39:34.507895: W tensorflow/stream_executor/platform/default/dso_loader.cc:64] Could not load dynamic library 'libcudnn.so.8'; dlerror: libcudnn.so.8: cannot open shared object file: No such file or directory; LD_LIBRARY_PATH: /usr/local/lib64\n",
      "2022-02-01 11:39:34.507904: W tensorflow/core/common_runtime/gpu/gpu_device.cc:1766] Cannot dlopen some GPU libraries. Please make sure the missing libraries mentioned above are installed properly if you would like to use GPU. Follow the guide at https://www.tensorflow.org/install/gpu for how to download and setup the required libraries for your platform.\n",
      "Skipping registering GPU devices...\n",
      "2022-02-01 11:39:34.508169: I tensorflow/core/platform/cpu_feature_guard.cc:142] This TensorFlow binary is optimized with oneAPI Deep Neural Network Library (oneDNN) to use the following CPU instructions in performance-critical operations:  AVX2 FMA\n",
      "To enable them in other operations, rebuild TensorFlow with the appropriate compiler flags.\n",
      "2022-02-01 11:39:34.508401: I tensorflow/core/common_runtime/gpu/gpu_device.cc:1258] Device interconnect StreamExecutor with strength 1 edge matrix:\n",
      "2022-02-01 11:39:34.508410: I tensorflow/core/common_runtime/gpu/gpu_device.cc:1264]      \n",
      "2022-02-01 11:39:34.656579: I tensorflow/compiler/mlir/mlir_graph_optimization_pass.cc:176] None of the MLIR Optimization Passes are enabled (registered 2)\n",
      "2022-02-01 11:39:34.656996: I tensorflow/core/platform/profile_utils/cpu_utils.cc:114] CPU Frequency: 2799925000 Hz\n"
     ]
    },
    {
     "name": "stdout",
     "output_type": "stream",
     "text": [
      "Mean accuracy: 0.9178082346916199\n",
      "|    | operator_type            | description                                                                                                                                     | code_reference                                                            | source_code                                                                                                                   | module                                                                     | 'age_group' distribution change below the configured minimum test threshold   | 'race' distribution change below the configured minimum test threshold   |\n",
      "|---:|:-------------------------|:------------------------------------------------------------------------------------------------------------------------------------------------|:--------------------------------------------------------------------------|:------------------------------------------------------------------------------------------------------------------------------|:---------------------------------------------------------------------------|:------------------------------------------------------------------------------|:-------------------------------------------------------------------------|\n",
      "|  0 | OperatorType.JOIN        | on '['ssn']'                                                                                                                                    | CodeReference(lineno=37, col_offset=7, end_lineno=37, end_col_offset=44)  | patients.merge(histories, on=['ssn'])                                                                                         | FunctionInfo(module='pandas.core.frame', function_name='merge')            | False                                                                         | False                                                                    |\n",
      "|  1 | OperatorType.JOIN        | on '['age_group']'                                                                                                                              | CodeReference(lineno=46, col_offset=7, end_lineno=46, end_col_offset=50)  | data.merge(complications, on=['age_group'])                                                                                   | FunctionInfo(module='pandas.core.frame', function_name='merge')            | False                                                                         | False                                                                    |\n",
      "|  2 | OperatorType.SELECTION   | Select by Series: data[['smoker', 'last_name', 'county', 'num_children', 'race', 'income', 'label']][data['county'].isin(COUNTIES_OF_INTEREST)] | CodeReference(lineno=54, col_offset=7, end_lineno=54, end_col_offset=132) | data[['smoker', 'last_name', 'county', 'num_children', 'race', 'income', 'label']][data['county'].isin(COUNTIES_OF_INTEREST)] | FunctionInfo(module='pandas.core.frame', function_name='__getitem__')      | False                                                                         | True                                                                     |\n",
      "|  3 | OperatorType.TRANSFORMER | Simple Imputer                                                                                                                                  | CodeReference(lineno=58, col_offset=15, end_lineno=58, end_col_offset=54) | SimpleImputer(strategy='most_frequent')                                                                                       | FunctionInfo(module='sklearn.impute._base', function_name='SimpleImputer') | False                                                                         | False                                                                    |\n",
      "\u001b[1m Column 'age_group'\u001b[0m|    | sensitive_column_value   |   count_before |   count_after |   ratio_before |   ratio_after |   relative_ratio_change |\n",
      "|---:|:-------------------------|---------------:|--------------:|---------------:|--------------:|------------------------:|\n",
      "|  0 | group1                   |            281 |           281 |       0.316798 |      0.316798 |                       0 |\n",
      "|  1 | group2                   |            298 |           298 |       0.335964 |      0.335964 |                       0 |\n",
      "|  2 | group3                   |            308 |           308 |       0.347238 |      0.347238 |                       0 |\n",
      "\u001b[1m Column 'race'\u001b[0m|    | sensitive_column_value   |   count_before |   count_after |   ratio_before |   ratio_after |   relative_ratio_change |\n",
      "|---:|:-------------------------|---------------:|--------------:|---------------:|--------------:|------------------------:|\n",
      "|  0 | race1                    |            284 |           284 |       0.32018  |      0.32018  |                       0 |\n",
      "|  1 | race2                    |            232 |           232 |       0.261556 |      0.261556 |                       0 |\n",
      "|  2 | race3                    |            276 |           276 |       0.311161 |      0.311161 |                       0 |\n",
      "|  3 | nan                      |             95 |            95 |       0.107103 |      0.107103 |                       0 |\n",
      "\u001b[1m Column 'age_group'\u001b[0m|    | sensitive_column_value   |   count_before |   count_after |   ratio_before |   ratio_after |   relative_ratio_change |\n",
      "|---:|:-------------------------|---------------:|--------------:|---------------:|--------------:|------------------------:|\n",
      "|  0 | group1                   |              1 |           281 |       0.333333 |      0.316798 |             -0.0496054  |\n",
      "|  1 | group2                   |              1 |           298 |       0.333333 |      0.335964 |              0.00789177 |\n",
      "|  2 | group3                   |              1 |           308 |       0.333333 |      0.347238 |              0.0417136  |\n",
      "\u001b[1m Column 'race'\u001b[0m|    | sensitive_column_value   |   count_before |   count_after |   ratio_before |   ratio_after |   relative_ratio_change |\n",
      "|---:|:-------------------------|---------------:|--------------:|---------------:|--------------:|------------------------:|\n",
      "|  0 | race1                    |            284 |           284 |       0.32018  |      0.32018  |                       0 |\n",
      "|  1 | race2                    |            232 |           232 |       0.261556 |      0.261556 |                       0 |\n",
      "|  2 | race3                    |            276 |           276 |       0.311161 |      0.311161 |                       0 |\n",
      "|  3 | nan                      |             95 |            95 |       0.107103 |      0.107103 |                       0 |\n",
      "\u001b[1m Column 'age_group'\u001b[0m|    | sensitive_column_value   |   count_before |   count_after |   ratio_before |   ratio_after |   relative_ratio_change |\n",
      "|---:|:-------------------------|---------------:|--------------:|---------------:|--------------:|------------------------:|\n",
      "|  0 | group1                   |            281 |            92 |       0.316798 |      0.317241 |              0.00139894 |\n",
      "|  1 | group2                   |            298 |            99 |       0.335964 |      0.341379 |              0.016119   |\n",
      "|  2 | group3                   |            308 |            99 |       0.347238 |      0.341379 |             -0.0168719  |\n",
      "\u001b[1m Column 'race'\u001b[0m|    | sensitive_column_value   |   count_before |   count_after |   ratio_before |   ratio_after |   relative_ratio_change |\n",
      "|---:|:-------------------------|---------------:|--------------:|---------------:|--------------:|------------------------:|\n",
      "|  0 | race1                    |            284 |           117 |       0.32018  |      0.403448 |               0.260066  |\n",
      "|  1 | race2                    |            232 |           100 |       0.261556 |      0.344828 |               0.318371  |\n",
      "|  2 | race3                    |            276 |            39 |       0.311161 |      0.134483 |              -0.567804  |\n",
      "|  3 | nan                      |             95 |            34 |       0.107103 |      0.117241 |               0.0946642 |\n",
      "\u001b[1m Column 'age_group'\u001b[0m|    | sensitive_column_value   |   count_before |   count_after |   ratio_before |   ratio_after |   relative_ratio_change |\n",
      "|---:|:-------------------------|---------------:|--------------:|---------------:|--------------:|------------------------:|\n",
      "|  0 | group1                   |             64 |            64 |       0.294931 |      0.294931 |                       0 |\n",
      "|  1 | group2                   |             78 |            78 |       0.359447 |      0.359447 |                       0 |\n",
      "|  2 | group3                   |             75 |            75 |       0.345622 |      0.345622 |                       0 |\n",
      "\u001b[1m Column 'race'\u001b[0m|    | sensitive_column_value   |   count_before |   count_after |   ratio_before |   ratio_after |   relative_ratio_change |\n",
      "|---:|:-------------------------|---------------:|--------------:|---------------:|--------------:|------------------------:|\n",
      "|  0 | race1                    |             91 |           115 |       0.419355 |      0.529954 |                0.263736 |\n",
      "|  1 | race2                    |             70 |            70 |       0.322581 |      0.322581 |                0        |\n",
      "|  2 | race3                    |             32 |            32 |       0.147465 |      0.147465 |                0        |\n",
      "|  3 | nan                      |             24 |             0 |       0.110599 |      0        |               -1        |\n",
      "\n",
      "Time spend with original: 3.273038864135742\n"
     ]
    },
    {
     "name": "stdout",
     "output_type": "stream",
     "text": [
      "Mean accuracy: 0.9178082346916199\n",
      "|    | operator_type            | description                                                                                                                                     | code_reference                                                            | source_code                                                                                                                   | module                                                                     | 'age_group' distribution change below the configured minimum test threshold   | 'race' distribution change below the configured minimum test threshold   |\n",
      "|---:|:-------------------------|:------------------------------------------------------------------------------------------------------------------------------------------------|:--------------------------------------------------------------------------|:------------------------------------------------------------------------------------------------------------------------------|:---------------------------------------------------------------------------|:------------------------------------------------------------------------------|:-------------------------------------------------------------------------|\n",
      "|  0 | OperatorType.JOIN        | on '['ssn']'                                                                                                                                    | CodeReference(lineno=37, col_offset=7, end_lineno=37, end_col_offset=44)  | patients.merge(histories, on=['ssn'])                                                                                         | FunctionInfo(module='pandas.core.frame', function_name='merge')            | False                                                                         | False                                                                    |\n",
      "|  1 | OperatorType.JOIN        | on '['age_group']'                                                                                                                              | CodeReference(lineno=46, col_offset=7, end_lineno=46, end_col_offset=50)  | data.merge(complications, on=['age_group'])                                                                                   | FunctionInfo(module='pandas.core.frame', function_name='merge')            | False                                                                         | False                                                                    |\n",
      "|  2 | OperatorType.SELECTION   | Select by Series: data[['smoker', 'last_name', 'county', 'num_children', 'race', 'income', 'label']][data['county'].isin(COUNTIES_OF_INTEREST)] | CodeReference(lineno=54, col_offset=7, end_lineno=54, end_col_offset=132) | data[['smoker', 'last_name', 'county', 'num_children', 'race', 'income', 'label']][data['county'].isin(COUNTIES_OF_INTEREST)] | FunctionInfo(module='pandas.core.frame', function_name='__getitem__')      | False                                                                         | True                                                                     |\n",
      "|  3 | OperatorType.TRANSFORMER | Simple Imputer                                                                                                                                  | CodeReference(lineno=58, col_offset=15, end_lineno=58, end_col_offset=54) | SimpleImputer(strategy='most_frequent')                                                                                       | FunctionInfo(module='sklearn.impute._base', function_name='SimpleImputer') | False                                                                         | False                                                                    |\n",
      "\u001b[1m Column 'age_group'\u001b[0m|    | sensitive_column_value   |   count_before |   count_after |   ratio_before |   ratio_after |   relative_ratio_change |\n",
      "|---:|:-------------------------|---------------:|--------------:|---------------:|--------------:|------------------------:|\n",
      "|  0 | group1                   |            281 |           281 |       0.316798 |      0.316798 |                       0 |\n",
      "|  1 | group2                   |            298 |           298 |       0.335964 |      0.335964 |                       0 |\n",
      "|  2 | group3                   |            308 |           308 |       0.347238 |      0.347238 |                       0 |\n",
      "\u001b[1m Column 'race'\u001b[0m|    | sensitive_column_value   |   count_before |   count_after |   ratio_before |   ratio_after |   relative_ratio_change |\n",
      "|---:|:-------------------------|---------------:|--------------:|---------------:|--------------:|------------------------:|\n",
      "|  0 | race1                    |            284 |           284 |       0.32018  |      0.32018  |                       0 |\n",
      "|  1 | race2                    |            232 |           232 |       0.261556 |      0.261556 |                       0 |\n",
      "|  2 | race3                    |            276 |           276 |       0.311161 |      0.311161 |                       0 |\n",
      "|  3 | nan                      |             95 |            95 |       0.107103 |      0.107103 |                       0 |\n",
      "\u001b[1m Column 'age_group'\u001b[0m|    | sensitive_column_value   |   count_before |   count_after |   ratio_before |   ratio_after |   relative_ratio_change |\n",
      "|---:|:-------------------------|---------------:|--------------:|---------------:|--------------:|------------------------:|\n",
      "|  0 | group1                   |              1 |           281 |       0.333333 |      0.316798 |             -0.0496054  |\n",
      "|  1 | group2                   |              1 |           298 |       0.333333 |      0.335964 |              0.00789177 |\n",
      "|  2 | group3                   |              1 |           308 |       0.333333 |      0.347238 |              0.0417136  |\n",
      "\u001b[1m Column 'race'\u001b[0m|    | sensitive_column_value   |   count_before |   count_after |   ratio_before |   ratio_after |   relative_ratio_change |\n",
      "|---:|:-------------------------|---------------:|--------------:|---------------:|--------------:|------------------------:|\n",
      "|  0 | race1                    |            284 |           284 |       0.32018  |      0.32018  |                       0 |\n",
      "|  1 | race2                    |            232 |           232 |       0.261556 |      0.261556 |                       0 |\n",
      "|  2 | race3                    |            276 |           276 |       0.311161 |      0.311161 |                       0 |\n",
      "|  3 | nan                      |             95 |            95 |       0.107103 |      0.107103 |                       0 |\n",
      "\u001b[1m Column 'age_group'\u001b[0m|    | sensitive_column_value   |   count_before |   count_after |   ratio_before |   ratio_after |   relative_ratio_change |\n",
      "|---:|:-------------------------|---------------:|--------------:|---------------:|--------------:|------------------------:|\n",
      "|  0 | group1                   |            281 |            92 |       0.316798 |      0.317241 |              0.00139894 |\n",
      "|  1 | group2                   |            298 |            99 |       0.335964 |      0.341379 |              0.016119   |\n",
      "|  2 | group3                   |            308 |            99 |       0.347238 |      0.341379 |             -0.0168719  |\n",
      "\u001b[1m Column 'race'\u001b[0m|    | sensitive_column_value   |   count_before |   count_after |   ratio_before |   ratio_after |   relative_ratio_change |\n",
      "|---:|:-------------------------|---------------:|--------------:|---------------:|--------------:|------------------------:|\n",
      "|  0 | race1                    |            284 |           117 |       0.32018  |      0.403448 |               0.260066  |\n",
      "|  1 | race2                    |            232 |           100 |       0.261556 |      0.344828 |               0.318371  |\n",
      "|  2 | race3                    |            276 |            39 |       0.311161 |      0.134483 |              -0.567804  |\n",
      "|  3 | nan                      |             95 |            34 |       0.107103 |      0.117241 |               0.0946642 |\n",
      "\u001b[1m Column 'age_group'\u001b[0m|    | sensitive_column_value   |   count_before |   count_after |   ratio_before |   ratio_after |   relative_ratio_change |\n",
      "|---:|:-------------------------|---------------:|--------------:|---------------:|--------------:|------------------------:|\n",
      "|  0 | group1                   |             19 |            19 |      0.0875576 |     0.0875576 |                       0 |\n",
      "|  1 | group2                   |             99 |            99 |      0.456221  |     0.456221  |                       0 |\n",
      "|  2 | group3                   |             99 |            99 |      0.456221  |     0.456221  |                       0 |\n",
      "\u001b[1m Column 'race'\u001b[0m|    | sensitive_column_value   |   count_before |   count_after |   ratio_before |   ratio_after |   relative_ratio_change |\n",
      "|---:|:-------------------------|---------------:|--------------:|---------------:|--------------:|------------------------:|\n",
      "|  0 | race1                    |             86 |           109 |       0.396313 |      0.502304 |                0.267442 |\n",
      "|  1 | race2                    |             79 |            79 |       0.364055 |      0.364055 |                0        |\n",
      "|  2 | race3                    |             29 |            29 |       0.133641 |      0.133641 |                0        |\n",
      "|  3 | nan                      |             23 |             0 |       0.105991 |      0        |               -1        |\n",
      "\n",
      "Time spend with modified SQL inspections: 1.8653044700622559\n"
     ]
    },
    {
     "data": {
      "image/png": "[encoded data removed]",
      "text/plain": [
       "<Figure size 432x288 with 1 Axes>"
      ]
     },
     "metadata": {
      "needs_background": "light"
     },
     "output_type": "display_data"
    }
   ],
   "source": [
    "run_for_all(HEALTHCARE_FILE_PY, HEALTHCARE_BIAS, mode=\"VIEW\", materialize=True)"
   ]
  },
  {
   "cell_type": "markdown",
   "metadata": {},
   "source": [
    "## Execute and inspect just the inspections:"
   ]
  },
  {
   "cell_type": "code",
   "execution_count": null,
   "metadata": {
    "pycharm": {
     "name": "#%%\n"
    }
   },
   "outputs": [
    {
     "name": "stdout",
     "output_type": "stream",
     "text": [
      "|    | operator_type            | description                                                       | code_reference                                                            | source_code                                     | module                                                                     | 'age_group' distribution change below the configured minimum test threshold   | 'race' distribution change below the configured minimum test threshold   |\n",
      "|---:|:-------------------------|:------------------------------------------------------------------|:--------------------------------------------------------------------------|:------------------------------------------------|:---------------------------------------------------------------------------|:------------------------------------------------------------------------------|:-------------------------------------------------------------------------|\n",
      "|  0 | OperatorType.JOIN        | on '['ssn']'                                                      | CodeReference(lineno=25, col_offset=7, end_lineno=25, end_col_offset=44)  | patients.merge(histories, on=['ssn'])           | FunctionInfo(module='pandas.core.frame', function_name='merge')            | False                                                                         | False                                                                    |\n",
      "|  1 | OperatorType.JOIN        | on '['age_group']'                                                | CodeReference(lineno=28, col_offset=7, end_lineno=28, end_col_offset=50)  | data.merge(complications, on=['age_group'])     | FunctionInfo(module='pandas.core.frame', function_name='merge')            | False                                                                         | False                                                                    |\n",
      "|  2 | OperatorType.SELECTION   | Select by Series: data[data['county'].isin(COUNTIES_OF_INTEREST)] | CodeReference(lineno=31, col_offset=7, end_lineno=31, end_col_offset=54)  | data[data['county'].isin(COUNTIES_OF_INTEREST)] | FunctionInfo(module='pandas.core.frame', function_name='__getitem__')      | False                                                                         | True                                                                     |\n",
      "|  3 | OperatorType.TRANSFORMER | Simple Imputer                                                    | CodeReference(lineno=34, col_offset=15, end_lineno=34, end_col_offset=54) | SimpleImputer(strategy='most_frequent')         | FunctionInfo(module='sklearn.impute._base', function_name='SimpleImputer') | False                                                                         | False                                                                    |\n",
      "\u001b[1m Column 'age_group'\u001b[0m|    | sensitive_column_value   |   count_before |   count_after |   ratio_before |   ratio_after |   relative_ratio_change |\n",
      "|---:|:-------------------------|---------------:|--------------:|---------------:|--------------:|------------------------:|\n",
      "|  0 | group1                   |            281 |           281 |       0.316798 |      0.316798 |                       0 |\n",
      "|  1 | group2                   |            298 |           298 |       0.335964 |      0.335964 |                       0 |\n",
      "|  2 | group3                   |            308 |           308 |       0.347238 |      0.347238 |                       0 |\n",
      "\u001b[1m Column 'race'\u001b[0m|    | sensitive_column_value   |   count_before |   count_after |   ratio_before |   ratio_after |   relative_ratio_change |\n",
      "|---:|:-------------------------|---------------:|--------------:|---------------:|--------------:|------------------------:|\n",
      "|  0 | race1                    |            284 |           284 |       0.32018  |      0.32018  |                       0 |\n",
      "|  1 | race2                    |            232 |           232 |       0.261556 |      0.261556 |                       0 |\n",
      "|  2 | race3                    |            276 |           276 |       0.311161 |      0.311161 |                       0 |\n",
      "|  3 | nan                      |             95 |            95 |       0.107103 |      0.107103 |                       0 |\n",
      "\u001b[1m Column 'age_group'\u001b[0m|    | sensitive_column_value   |   count_before |   count_after |   ratio_before |   ratio_after |   relative_ratio_change |\n",
      "|---:|:-------------------------|---------------:|--------------:|---------------:|--------------:|------------------------:|\n",
      "|  0 | group1                   |              1 |           281 |       0.333333 |      0.316798 |             -0.0496054  |\n",
      "|  1 | group2                   |              1 |           298 |       0.333333 |      0.335964 |              0.00789177 |\n",
      "|  2 | group3                   |              1 |           308 |       0.333333 |      0.347238 |              0.0417136  |\n",
      "\u001b[1m Column 'race'\u001b[0m|    | sensitive_column_value   |   count_before |   count_after |   ratio_before |   ratio_after |   relative_ratio_change |\n",
      "|---:|:-------------------------|---------------:|--------------:|---------------:|--------------:|------------------------:|\n",
      "|  0 | race1                    |            284 |           284 |       0.32018  |      0.32018  |                       0 |\n",
      "|  1 | race2                    |            232 |           232 |       0.261556 |      0.261556 |                       0 |\n",
      "|  2 | race3                    |            276 |           276 |       0.311161 |      0.311161 |                       0 |\n",
      "|  3 | nan                      |             95 |            95 |       0.107103 |      0.107103 |                       0 |\n",
      "\u001b[1m Column 'age_group'\u001b[0m|    | sensitive_column_value   |   count_before |   count_after |   ratio_before |   ratio_after |   relative_ratio_change |\n",
      "|---:|:-------------------------|---------------:|--------------:|---------------:|--------------:|------------------------:|\n",
      "|  0 | group1                   |            281 |            92 |       0.316798 |      0.317241 |              0.00139894 |\n",
      "|  1 | group2                   |            298 |            99 |       0.335964 |      0.341379 |              0.016119   |\n",
      "|  2 | group3                   |            308 |            99 |       0.347238 |      0.341379 |             -0.0168719  |\n",
      "\u001b[1m Column 'race'\u001b[0m|    | sensitive_column_value   |   count_before |   count_after |   ratio_before |   ratio_after |   relative_ratio_change |\n",
      "|---:|:-------------------------|---------------:|--------------:|---------------:|--------------:|------------------------:|\n",
      "|  0 | race1                    |            284 |           117 |       0.32018  |      0.403448 |               0.260066  |\n",
      "|  1 | race2                    |            232 |           100 |       0.261556 |      0.344828 |               0.318371  |\n",
      "|  2 | race3                    |            276 |            39 |       0.311161 |      0.134483 |              -0.567804  |\n",
      "|  3 | nan                      |             95 |            34 |       0.107103 |      0.117241 |               0.0946642 |\n",
      "\u001b[1m Column 'age_group'\u001b[0m|    | sensitive_column_value   |   count_before |   count_after |   ratio_before |   ratio_after |   relative_ratio_change |\n",
      "|---:|:-------------------------|---------------:|--------------:|---------------:|--------------:|------------------------:|\n",
      "|  0 | group1                   |             92 |            92 |       0.317241 |      0.317241 |                       0 |\n",
      "|  1 | group2                   |             99 |            99 |       0.341379 |      0.341379 |                       0 |\n",
      "|  2 | group3                   |             99 |            99 |       0.341379 |      0.341379 |                       0 |\n",
      "\u001b[1m Column 'race'\u001b[0m|    | sensitive_column_value   |   count_before |   count_after |   ratio_before |   ratio_after |   relative_ratio_change |\n",
      "|---:|:-------------------------|---------------:|--------------:|---------------:|--------------:|------------------------:|\n",
      "|  0 | race1                    |            117 |           151 |       0.403448 |      0.52069  |                0.290598 |\n",
      "|  1 | race2                    |            100 |           100 |       0.344828 |      0.344828 |                0        |\n",
      "|  2 | race3                    |             39 |            39 |       0.134483 |      0.134483 |                0        |\n",
      "|  3 | nan                      |             34 |             0 |       0.117241 |      0        |               -1        |\n",
      "\n",
      "Time spend with original: 0.5693140029907227\n"
     ]
    },
    {
     "name": "stdout",
     "output_type": "stream",
     "text": [
      "|    | operator_type            | description                                                       | code_reference                                                            | source_code                                     | module                                                                     | 'age_group' distribution change below the configured minimum test threshold   | 'race' distribution change below the configured minimum test threshold   |\n",
      "|---:|:-------------------------|:------------------------------------------------------------------|:--------------------------------------------------------------------------|:------------------------------------------------|:---------------------------------------------------------------------------|:------------------------------------------------------------------------------|:-------------------------------------------------------------------------|\n",
      "|  0 | OperatorType.JOIN        | on '['ssn']'                                                      | CodeReference(lineno=25, col_offset=7, end_lineno=25, end_col_offset=44)  | patients.merge(histories, on=['ssn'])           | FunctionInfo(module='pandas.core.frame', function_name='merge')            | False                                                                         | False                                                                    |\n",
      "|  1 | OperatorType.JOIN        | on '['age_group']'                                                | CodeReference(lineno=28, col_offset=7, end_lineno=28, end_col_offset=50)  | data.merge(complications, on=['age_group'])     | FunctionInfo(module='pandas.core.frame', function_name='merge')            | False                                                                         | False                                                                    |\n",
      "|  2 | OperatorType.SELECTION   | Select by Series: data[data['county'].isin(COUNTIES_OF_INTEREST)] | CodeReference(lineno=31, col_offset=7, end_lineno=31, end_col_offset=54)  | data[data['county'].isin(COUNTIES_OF_INTEREST)] | FunctionInfo(module='pandas.core.frame', function_name='__getitem__')      | False                                                                         | True                                                                     |\n",
      "|  3 | OperatorType.TRANSFORMER | Simple Imputer                                                    | CodeReference(lineno=34, col_offset=15, end_lineno=34, end_col_offset=54) | SimpleImputer(strategy='most_frequent')         | FunctionInfo(module='sklearn.impute._base', function_name='SimpleImputer') | False                                                                         | False                                                                    |\n",
      "\u001b[1m Column 'age_group'\u001b[0m|    | sensitive_column_value   |   count_before |   count_after |   ratio_before |   ratio_after |   relative_ratio_change |\n",
      "|---:|:-------------------------|---------------:|--------------:|---------------:|--------------:|------------------------:|\n",
      "|  0 | group1                   |            281 |           281 |       0.316798 |      0.316798 |                       0 |\n",
      "|  1 | group2                   |            298 |           298 |       0.335964 |      0.335964 |                       0 |\n",
      "|  2 | group3                   |            308 |           308 |       0.347238 |      0.347238 |                       0 |\n",
      "\u001b[1m Column 'race'\u001b[0m|    | sensitive_column_value   |   count_before |   count_after |   ratio_before |   ratio_after |   relative_ratio_change |\n",
      "|---:|:-------------------------|---------------:|--------------:|---------------:|--------------:|------------------------:|\n",
      "|  0 | race1                    |            284 |           284 |       0.32018  |      0.32018  |                       0 |\n",
      "|  1 | race2                    |            232 |           232 |       0.261556 |      0.261556 |                       0 |\n",
      "|  2 | race3                    |            276 |           276 |       0.311161 |      0.311161 |                       0 |\n",
      "|  3 | nan                      |             95 |            95 |       0.107103 |      0.107103 |                       0 |\n",
      "\u001b[1m Column 'age_group'\u001b[0m|    | sensitive_column_value   |   count_before |   count_after |   ratio_before |   ratio_after |   relative_ratio_change |\n",
      "|---:|:-------------------------|---------------:|--------------:|---------------:|--------------:|------------------------:|\n",
      "|  0 | group1                   |              1 |           281 |       0.333333 |      0.316798 |             -0.0496054  |\n",
      "|  1 | group2                   |              1 |           298 |       0.333333 |      0.335964 |              0.00789177 |\n",
      "|  2 | group3                   |              1 |           308 |       0.333333 |      0.347238 |              0.0417136  |\n",
      "\u001b[1m Column 'race'\u001b[0m|    | sensitive_column_value   |   count_before |   count_after |   ratio_before |   ratio_after |   relative_ratio_change |\n",
      "|---:|:-------------------------|---------------:|--------------:|---------------:|--------------:|------------------------:|\n",
      "|  0 | race1                    |            284 |           284 |       0.32018  |      0.32018  |                       0 |\n",
      "|  1 | race2                    |            232 |           232 |       0.261556 |      0.261556 |                       0 |\n",
      "|  2 | race3                    |            276 |           276 |       0.311161 |      0.311161 |                       0 |\n",
      "|  3 | nan                      |             95 |            95 |       0.107103 |      0.107103 |                       0 |\n",
      "\u001b[1m Column 'age_group'\u001b[0m|    | sensitive_column_value   |   count_before |   count_after |   ratio_before |   ratio_after |   relative_ratio_change |\n",
      "|---:|:-------------------------|---------------:|--------------:|---------------:|--------------:|------------------------:|\n",
      "|  0 | group1                   |            281 |            92 |       0.316798 |      0.317241 |              0.00139894 |\n",
      "|  1 | group2                   |            298 |            99 |       0.335964 |      0.341379 |              0.016119   |\n",
      "|  2 | group3                   |            308 |            99 |       0.347238 |      0.341379 |             -0.0168719  |\n",
      "\u001b[1m Column 'race'\u001b[0m|    | sensitive_column_value   |   count_before |   count_after |   ratio_before |   ratio_after |   relative_ratio_change |\n",
      "|---:|:-------------------------|---------------:|--------------:|---------------:|--------------:|------------------------:|\n",
      "|  0 | race1                    |            284 |           117 |       0.32018  |      0.403448 |               0.260066  |\n",
      "|  1 | race2                    |            232 |           100 |       0.261556 |      0.344828 |               0.318371  |\n",
      "|  2 | race3                    |            276 |            39 |       0.311161 |      0.134483 |              -0.567804  |\n",
      "|  3 | nan                      |             95 |            34 |       0.107103 |      0.117241 |               0.0946642 |\n",
      "\u001b[1m Column 'age_group'\u001b[0m|    | sensitive_column_value   |   count_before |   count_after |   ratio_before |   ratio_after |   relative_ratio_change |\n",
      "|---:|:-------------------------|---------------:|--------------:|---------------:|--------------:|------------------------:|\n",
      "|  0 | group1                   |             92 |            92 |       0.317241 |      0.317241 |                       0 |\n",
      "|  1 | group2                   |             99 |            99 |       0.341379 |      0.341379 |                       0 |\n",
      "|  2 | group3                   |             99 |            99 |       0.341379 |      0.341379 |                       0 |\n",
      "\u001b[1m Column 'race'\u001b[0m|    | sensitive_column_value   |   count_before |   count_after |   ratio_before |   ratio_after |   relative_ratio_change |\n",
      "|---:|:-------------------------|---------------:|--------------:|---------------:|--------------:|------------------------:|\n",
      "|  0 | race1                    |            117 |           151 |       0.403448 |      0.52069  |                0.290598 |\n",
      "|  1 | race2                    |            100 |           100 |       0.344828 |      0.344828 |                0        |\n",
      "|  2 | race3                    |             39 |            39 |       0.134483 |      0.134483 |                0        |\n",
      "|  3 | nan                      |             34 |             0 |       0.117241 |      0        |               -1        |\n",
      "\n",
      "Time spend with modified SQL inspections: 0.5302622318267822\n"
     ]
    }
   ],
   "source": [
    "run_for_all(HEALTHCARE_FILE_PY_R, HEALTHCARE_BIAS, mode=\"CTE\", materialize=None)\n"
   ]
  },
  {
   "cell_type": "code",
   "execution_count": null,
   "metadata": {
    "pycharm": {
     "name": "#%%\n"
    }
   },
   "outputs": [],
   "source": [
    "run_for_all(COMPAS_FILE_PY_R, COMPAS_BIAS, mode=\"CTE\", materialize=None)\n",
    "\n",
    "\n",
    "\n",
    "\n",
    "\n"
   ]
  }
 ],
 "metadata": {
  "kernelspec": {
   "display_name": "venv",
   "language": "python",
   "name": "venv"
  },
  "language_info": {
   "codemirror_mode": {
    "name": "ipython",
    "version": 3
   },
   "file_extension": ".py",
   "mimetype": "text/x-python",
   "name": "python",
   "nbconvert_exporter": "python",
   "pygments_lexer": "ipython3",
   "version": "3.8.10"
  }
 },
 "nbformat": 4,
 "nbformat_minor": 1
}

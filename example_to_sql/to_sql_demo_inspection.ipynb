{
 "cells": [
  {
   "cell_type": "markdown",
   "source": [
    "# Performance showcase of novel \"to_sql\" functionality in mlinspect\n",
    "\n",
    "Here the performance of the proposed inspection using sql will be compared to the original one in pandas. Part of\n",
    "the \"healthcare\" and \"compas\" pipeline will be used."
   ],
   "metadata": {
    "collapsed": false
   }
  },
  {
   "cell_type": "markdown",
   "source": [
    "## Required packages:\n",
    "See: requirements/requirements.txt and requirements/requirements.dev.txt"
   ],
   "metadata": {
    "collapsed": false
   }
  },
  {
   "cell_type": "markdown",
   "source": [
    "## Some parameters you might want to set:"
   ],
   "metadata": {
    "collapsed": false
   }
  },
  {
   "cell_type": "code",
   "execution_count": null,
   "outputs": [],
   "source": [
    "import os\n",
    "import sys\n",
    "module_path = os.path.abspath(os.path.join('..'))\n",
    "if module_path not in sys.path:\n",
    "    sys.path.append(module_path)\n",
    "import time\n",
    "\n",
    "import timeit\n",
    "from inspect import cleandoc\n",
    "from mlinspect.utils import get_project_root\n",
    "from _code_as_string import get_healthcare_pipe_code, get_compas_pipe_code, print_generated_code\n",
    "from _benchmark_utility import plot_compare\n",
    "import os\n",
    "\n",
    "import numpy as np\n",
    "\n",
    "from mlinspect.utils import get_project_root\n",
    "import pandas as pd\n",
    "from mlinspect import PipelineInspector, OperatorType\n",
    "from mlinspect.inspections import HistogramForColumns, RowLineage, MaterializeFirstOutputRows\n",
    "from mlinspect.checks import NoBiasIntroducedFor, NoIllegalFeatures\n",
    "from demo.feature_overview.no_missing_embeddings import NoMissingEmbeddings\n",
    "from inspect import cleandoc\n",
    "from example_pipelines.healthcare import custom_monkeypatching\n",
    "from mlinspect.to_sql.dbms_connectors.postgresql_connector import PostgresqlConnector\n",
    "import time\n",
    "from IPython.display import display\n",
    "from mlinspect.to_sql.dbms_connectors.umbra_connector import UmbraConnector\n",
    "\n",
    "DO_CLEANUP = True\n",
    "SIZES = [(10 ** i) for i in range(2, 5, 1)]\n",
    "BENCH_REP = 2\n",
    "MLINSPECT_ROOT_DIR = get_project_root()\n",
    "\n",
    "# DBMS related:\n",
    "UMBRA_DIR = r\"/home/luca/Documents/Bachelorarbeit/umbra-students\"\n",
    "UMBRA_USER = \"postgres\"\n",
    "UMBRA_PW = \" \"\n",
    "UMBRA_DB = \"\"\n",
    "UMBRA_PORT = 5433\n",
    "UMBRA_HOST = \"/tmp/\"\n",
    "\n",
    "POSTGRES_USER = \"luca\"\n",
    "POSTGRES_PW = \"password\"\n",
    "POSTGRES_DB = \"healthcare_benchmark\"\n",
    "POSTGRES_PORT = 5432\n",
    "POSTGRES_HOST = \"localhost\"\n",
    "\n",
    "HEALTHCARE_FILE_PY = os.path.join(str(get_project_root()), \"example_pipelines\", \"healthcare\", \"healthcare.py\")\n",
    "COMPAS_FILE_PY = os.path.join(str(get_project_root()), \"example_pipelines\", \"compas\", \"compas.py\")\n",
    "ADULT_SIMPLE_FILE_PY = os.path.join(str(get_project_root()), \"example_pipelines\", \"adult_simple\", \"adult_simple.py\")\n",
    "ADULT_COMPLEX_FILE_PY = os.path.join(str(get_project_root()), \"example_pipelines\", \"adult_complex\",\n",
    "                                     \"adult_complex.py\")\n",
    "ROW_WISE_FILE_PY = os.path.join(str(get_project_root()), \"example_pipelines\", \"row_wise\",\n",
    "                                \"row_wise.py\")\n",
    "\n",
    "HEALTHCARE_BIAS = \"[\\'age_group\\', \\'race\\']\"\n",
    "COMPAS_BIAS = \"[\\'sex\\', \\'race\\']\""
   ],
   "metadata": {
    "collapsed": false,
    "pycharm": {
     "name": "#%%\n"
    }
   }
  },
  {
   "cell_type": "markdown",
   "source": [
    "## Benchmark setup:"
   ],
   "metadata": {
    "collapsed": false
   }
  },
  {
   "cell_type": "code",
   "execution_count": null,
   "outputs": [],
   "source": [
    "def run_inspection(file_location, bias, to_sql, sql_one_run=False, dbms_connector=None, mode=None, materialize=None):\n",
    "    from PIL import Image\n",
    "    import matplotlib.pyplot as plt\n",
    "    from mlinspect.visualisation import save_fig_to_path\n",
    "\n",
    "    inspector_result = PipelineInspector \\\n",
    "        .on_pipeline_from_py_file(file_location) \\\n",
    "        .add_custom_monkey_patching_module(custom_monkeypatching) \\\n",
    "        .add_check(NoBiasIntroducedFor(bias)) \\\n",
    "        .add_check(NoIllegalFeatures()) \\\n",
    "        .add_check(NoMissingEmbeddings()) \\\n",
    "        .add_required_inspection(RowLineage(5)) \\\n",
    "        .add_required_inspection(MaterializeFirstOutputRows(5))\n",
    "\n",
    "    if to_sql:\n",
    "        assert (dbms_connector)\n",
    "        inspector_result = inspector_result.execute_in_sql(dbms_connector=dbms_connector, sql_one_run=sql_one_run,\n",
    "                                                           mode=mode, materialize=materialize, row_wise=False)\n",
    "    else:\n",
    "        inspector_result = inspector_result.execute()\n",
    "\n",
    "    extracted_dag = inspector_result.dag\n",
    "    filename = os.path.join(str(get_project_root()), \"demo\", \"feature_overview\", \"healthcare.png\")\n",
    "    save_fig_to_path(extracted_dag, filename)\n",
    "    im = Image.open(filename)\n",
    "    plt.imshow(im)\n",
    "\n",
    "    check_results = inspector_result.check_to_check_results\n",
    "    no_bias_check_result = check_results[NoBiasIntroducedFor([\"age_group\", \"race\"])]\n",
    "\n",
    "    distribution_changes_overview_df = NoBiasIntroducedFor.get_distribution_changes_overview_as_df(\n",
    "        no_bias_check_result)\n",
    "    result = \"\"\n",
    "    result += distribution_changes_overview_df.to_markdown()\n",
    "\n",
    "    for i in list(no_bias_check_result.bias_distribution_change.items()):\n",
    "        _, join_distribution_changes = i\n",
    "        for column, distribution_change in join_distribution_changes.items():\n",
    "            result += \"\\n\"\n",
    "            result += f\"\\033[1m Column '{column}'\\033[0m\"\n",
    "            result += distribution_change.before_and_after_df.to_markdown()\n",
    "\n",
    "    print(result)\n",
    "    return result"
   ],
   "metadata": {
    "collapsed": false,
    "pycharm": {
     "name": "#%%\n"
    }
   }
  },
  {
   "cell_type": "markdown",
   "source": [
    "## Benchmark of default inspection using CTEs:"
   ],
   "metadata": {
    "collapsed": false
   }
  },
  {
   "cell_type": "code",
   "execution_count": null,
   "outputs": [],
   "source": [
    "umbra_path = r\"/home/luca/Documents/Bachelorarbeit/umbra-students\"\n",
    "dbms_connector_u = UmbraConnector(dbname=UMBRA_DB, user=UMBRA_USER, password=UMBRA_PW, port=UMBRA_PORT, host=UMBRA_HOST,\n",
    "                                  umbra_dir=UMBRA_DIR)\n",
    "\n",
    "dbms_connector_p = PostgresqlConnector(dbname=POSTGRES_DB, user=POSTGRES_USER, password=POSTGRES_PW,\n",
    "                                       port=POSTGRES_PORT, host=POSTGRES_HOST)\n",
    "\n",
    "def run_for_all(file_location, bias, one_pass=False, mode=\"\", materialize=None):\n",
    "    t0 = time.time()\n",
    "    run_inspection(to_sql=False)\n",
    "    t1 = time.time()\n",
    "    print(\"\\nTime spend with original: \" + str(t1 - t0))\n",
    "\n",
    "    t0 = time.time()\n",
    "    run_inspection(file_location=file_location, bias=bias, pto_sql=True, dbms_connector=dbms_connector_u, sql_one_run=one_pass, mode=mode, materialize=materialize)\n",
    "    t1 = time.time()\n",
    "    print(\"\\nTime spend with modified SQL inspections: \" + str(t1 - t0))\n",
    "\n",
    "    t0 = time.time()\n",
    "    run_inspection(file_location=file_location, bias=bias, to_sql=True, dbms_connector=dbms_connector_p, sql_one_run=one_pass, mode=mode, materialize=materialize)\n",
    "    t1 = time.time()\n",
    "    print(\"\\nTime spend with modified SQL inspections: \" + str(t1 - t0))\n"
   ],
   "metadata": {
    "collapsed": false,
    "pycharm": {
     "name": "#%%\n"
    }
   }
  },
  {
   "cell_type": "markdown",
   "source": [
    "## Execute the inspections:"
   ],
   "metadata": {
    "collapsed": false
   }
  },
  {
   "cell_type": "code",
   "execution_count": null,
   "outputs": [],
   "source": [
    "run_for_all(HEALTHCARE_FILE_PY, HEALTHCARE_BIAS, one_pass=False, mode=\"\", materialize=None)\n"
   ],
   "metadata": {
    "collapsed": false,
    "pycharm": {
     "name": "#%%\n"
    }
   }
  },
  {
   "cell_type": "code",
   "execution_count": null,
   "outputs": [],
   "source": [
    "run_for_all(COMPAS_FILE_PY, HEALTHCARE_BIAS, one_pass=False, mode=\"\", materialize=None)\n"
   ],
   "metadata": {
    "collapsed": false,
    "pycharm": {
     "name": "#%%\n"
    }
   }
  },
  {
   "cell_type": "markdown",
   "source": [
    "## Benchmark of default inspection using MATERIALIZED VIEWs:\n",
    "\n",
    "While doing the default inspection, parts of the generated code get executed multiple times. This is the reason\n",
    "the option to MATERIALIZE Views, called more that once, got added. This way NO part of the pipeline is executed\n",
    "more that ONCE.\n",
    "\n",
    "In our case only postgres supports this option."
   ],
   "metadata": {
    "collapsed": false
   }
  },
  {
   "cell_type": "code",
   "execution_count": null,
   "outputs": [],
   "source": [
    "pipeline_inspection_benchmark(HEALTHCARE_DATA_PATHS, healthcare_no_bias, mode=\"VIEW\", materialize=True,\n",
    "                              exclude_umbra=True, title=\"HealthcareInspectionComparisonVIEWMAT\")\n",
    "\n",
    "\n"
   ],
   "metadata": {
    "collapsed": false,
    "pycharm": {
     "name": "#%%\n"
    }
   }
  }
 ],
 "metadata": {
  "kernelspec": {
   "display_name": "Python 3 (ipykernel)",
   "language": "python",
   "name": "python3"
  },
  "language_info": {
   "codemirror_mode": {
    "name": "ipython",
    "version": 3
   },
   "file_extension": ".py",
   "mimetype": "text/x-python",
   "name": "python",
   "nbconvert_exporter": "python",
   "pygments_lexer": "ipython3",
   "version": "3.8.10"
  }
 },
 "nbformat": 4,
 "nbformat_minor": 1
}
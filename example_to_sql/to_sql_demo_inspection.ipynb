{
 "cells": [
  {
   "cell_type": "markdown",
   "metadata": {
    "collapsed": true,
    "pycharm": {
     "name": "#%% md\n"
    }
   },
   "source": [
    "# Showcase of the \"to_sql\" functionality of mlinspect\n",
    "\n",
    "It will be shown how parts of the original mlinspect example pipelines\n",
    "\"healthcare\" and \"compas\" will be inspected using the additional \"to_sql\"\n",
    "functionality."
   ]
  },
  {
   "cell_type": "markdown",
   "source": [
    "## Required packages:\n",
    "See: requirements/requirements.txt and requirements/requirements.dev.txt"
   ],
   "metadata": {
    "collapsed": false
   }
  },
  {
   "cell_type": "markdown",
   "source": [
    "## Some parameters you might want to set:"
   ],
   "metadata": {
    "collapsed": false
   }
  },
  {
   "cell_type": "code",
   "execution_count": 1,
   "outputs": [],
   "source": [
    "import pathlib\n",
    "import timeit\n",
    "from inspect import cleandoc\n",
    "import matplotlib.pyplot as plt\n",
    "\n",
    "from mlinspect.to_sql.dbms_connectors.postgresql_connector import PostgresqlConnector\n",
    "from mlinspect.to_sql.dbms_connectors.umbra_connector import UmbraConnector\n",
    "from pandas_connector import PandasConnector\n",
    "from mlinspect import PipelineInspector\n",
    "from mlinspect.utils import get_project_root\n",
    "from _code_as_string import get_healthcare_pipe_code\n",
    "from pandas_connector import PandasConnector\n",
    "from _benchmark_utility import plot_compare, ROOT_DIR, PLOT_DIR\n",
    "from _code_as_string import Join, GroupBy, Selection, Projection\n",
    "\n",
    "DO_CLEANUP = True\n",
    "SIZES = [(10 ** i) for i in range(2, 5, 1)]\n",
    "BENCH_REP = 10\n",
    "MLINSPECT_ROOT_DIR = get_project_root()\n",
    "\n",
    "# DBMS related:\n",
    "UMBRA_DIR = r\"/home/luca/Documents/Bachelorarbeit/umbra-students\"\n",
    "UMBRA_USER = \"postgres\"\n",
    "UMBRA_PW = \" \"\n",
    "UMBRA_DB = \"\"\n",
    "UMBRA_PORT = 5433\n",
    "UMBRA_HOST = \"/tmp/\"\n",
    "\n",
    "POSTGRES_USER = \"luca\"\n",
    "POSTGRES_PW = \"password\"\n",
    "POSTGRES_DB = \"healthcare_benchmark\"\n",
    "POSTGRES_PORT = 5432\n",
    "POSTGRES_HOST = \"localhost\""
   ],
   "metadata": {
    "collapsed": false,
    "pycharm": {
     "name": "#%%\n"
    }
   }
  },
  {
   "cell_type": "markdown",
   "source": [
    "# Data Generation\n",
    "\n",
    "To be able to benchmark and compare the different approaches, some datasets\n",
    "will need to be generated before. The datasets are just and expansion of the\n",
    "original ones."
   ],
   "metadata": {
    "collapsed": false
   }
  },
  {
   "cell_type": "code",
   "execution_count": 2,
   "outputs": [
    {
     "name": "stdout",
     "output_type": "stream",
     "text": [
      "/bin/bash: {sys.executable}: command not found\r\n",
      "Data generated or found for: size = 100 -- compas\n",
      "Data generated or found for: size = 1000 -- compas\n",
      "Data generated or found for: size = 10000 -- compas\n",
      "Data generated or found for: size = 100 -- healthcare\n",
      "Data generated or found for: size = 1000 -- healthcare\n",
      "Data generated or found for: size = 10000 -- healthcare\n"
     ]
    }
   ],
   "source": [
    "!{sys.executable} -m pip install faker\n",
    "\n",
    "from data_generation.compas_data_generation import generate_compas_dataset\n",
    "from data_generation.healthcare_data_generation import generate_healthcare_dataset\n",
    "\n",
    "# We only generate the files, that are not already existing:\n",
    "\n",
    "COMPAS_DATA_PATHS = generate_compas_dataset(SIZES)\n",
    "HEALTHCARE_DATA_PATHS = generate_healthcare_dataset(SIZES)"
   ],
   "metadata": {
    "collapsed": false,
    "pycharm": {
     "name": "#%%\n"
    }
   }
  },
  {
   "cell_type": "markdown",
   "source": [
    "## Benchmark Inspection:"
   ],
   "metadata": {
    "collapsed": false
   }
  },
  {
   "cell_type": "code",
   "execution_count": 3,
   "outputs": [
    {
     "name": "stdout",
     "output_type": "stream",
     "text": [
      "Running pandas...  -- size 100\n"
     ]
    },
    {
     "name": "stderr",
     "output_type": "stream",
     "text": [
      "No user with password configured. For initial setup, connect via a domain socket:\n",
      "   psql -h /tmp -U postgres\n",
      "2021-07-26 08:50:11.891419: W tensorflow/stream_executor/platform/default/dso_loader.cc:64] Could not load dynamic library 'libcudart.so.11.0'; dlerror: libcudart.so.11.0: cannot open shared object file: No such file or directory\n",
      "2021-07-26 08:50:11.891439: I tensorflow/stream_executor/cuda/cudart_stub.cc:29] Ignore above cudart dlerror if you do not have a GPU set up on your machine.\n"
     ]
    },
    {
     "name": "stdout",
     "output_type": "stream",
     "text": [
      "<connection object at 0x7fda88fc5af0; dsn: 'user=luca password=xxx dbname=healthcare_benchmark host=localhost port=5432', closed: 0>\n",
      "Running postgres...  -- size 100\n"
     ]
    },
    {
     "name": "stderr",
     "output_type": "stream",
     "text": [
      "No user with password configured. For initial setup, connect via a domain socket:\n",
      "   psql -h /tmp -U postgres\n",
      "No user with password configured. For initial setup, connect via a domain socket:\n",
      "   psql -h /tmp -U postgres\n"
     ]
    },
    {
     "name": "stdout",
     "output_type": "stream",
     "text": [
      "<connection object at 0x7fd98e0d3af0; dsn: 'user=luca password=xxx dbname=healthcare_benchmark host=localhost port=5432', closed: 0>\n"
     ]
    },
    {
     "name": "stderr",
     "output_type": "stream",
     "text": [
      "No user with password configured. For initial setup, connect via a domain socket:\n",
      "   psql -h /tmp -U postgres\n"
     ]
    },
    {
     "name": "stdout",
     "output_type": "stream",
     "text": [
      "<connection object at 0x7fd98968d9c0; dsn: 'user=luca password=xxx dbname=healthcare_benchmark host=localhost port=5432', closed: 0>\n"
     ]
    },
    {
     "name": "stderr",
     "output_type": "stream",
     "text": [
      "No user with password configured. For initial setup, connect via a domain socket:\n",
      "   psql -h /tmp -U postgres\n"
     ]
    },
    {
     "name": "stdout",
     "output_type": "stream",
     "text": [
      "<connection object at 0x7fd9897da2a0; dsn: 'user=luca password=xxx dbname=healthcare_benchmark host=localhost port=5432', closed: 0>\n"
     ]
    },
    {
     "name": "stderr",
     "output_type": "stream",
     "text": [
      "No user with password configured. For initial setup, connect via a domain socket:\n",
      "   psql -h /tmp -U postgres\n"
     ]
    },
    {
     "name": "stdout",
     "output_type": "stream",
     "text": [
      "<connection object at 0x7fd9897239c0; dsn: 'user=luca password=xxx dbname=healthcare_benchmark host=localhost port=5432', closed: 0>\n"
     ]
    },
    {
     "name": "stderr",
     "output_type": "stream",
     "text": [
      "No user with password configured. For initial setup, connect via a domain socket:\n",
      "   psql -h /tmp -U postgres\n"
     ]
    },
    {
     "name": "stdout",
     "output_type": "stream",
     "text": [
      "<connection object at 0x7fd98968de80; dsn: 'user=luca password=xxx dbname=healthcare_benchmark host=localhost port=5432', closed: 0>\n"
     ]
    },
    {
     "name": "stderr",
     "output_type": "stream",
     "text": [
      "No user with password configured. For initial setup, connect via a domain socket:\n",
      "   psql -h /tmp -U postgres\n"
     ]
    },
    {
     "name": "stdout",
     "output_type": "stream",
     "text": [
      "<connection object at 0x7fd989633040; dsn: 'user=luca password=xxx dbname=healthcare_benchmark host=localhost port=5432', closed: 0>\n"
     ]
    },
    {
     "name": "stderr",
     "output_type": "stream",
     "text": [
      "No user with password configured. For initial setup, connect via a domain socket:\n",
      "   psql -h /tmp -U postgres\n"
     ]
    },
    {
     "name": "stdout",
     "output_type": "stream",
     "text": [
      "<connection object at 0x7fd989639760; dsn: 'user=luca password=xxx dbname=healthcare_benchmark host=localhost port=5432', closed: 0>\n"
     ]
    },
    {
     "name": "stderr",
     "output_type": "stream",
     "text": [
      "No user with password configured. For initial setup, connect via a domain socket:\n",
      "   psql -h /tmp -U postgres\n"
     ]
    },
    {
     "name": "stdout",
     "output_type": "stream",
     "text": [
      "<connection object at 0x7fd98962ae80; dsn: 'user=luca password=xxx dbname=healthcare_benchmark host=localhost port=5432', closed: 0>\n"
     ]
    },
    {
     "name": "stderr",
     "output_type": "stream",
     "text": [
      "No user with password configured. For initial setup, connect via a domain socket:\n",
      "   psql -h /tmp -U postgres\n"
     ]
    },
    {
     "name": "stdout",
     "output_type": "stream",
     "text": [
      "<connection object at 0x7fd9895e5c20; dsn: 'user=luca password=xxx dbname=healthcare_benchmark host=localhost port=5432', closed: 0>\n",
      "Running umbra... -- size 100\n"
     ]
    },
    {
     "name": "stderr",
     "output_type": "stream",
     "text": [
      "No user with password configured. For initial setup, connect via a domain socket:\n",
      "   psql -h /tmp -U postgres\n"
     ]
    },
    {
     "name": "stdout",
     "output_type": "stream",
     "text": [
      "<connection object at 0x7fd989606d50; dsn: 'user=luca password=xxx dbname=healthcare_benchmark host=localhost port=5432', closed: 0>\n",
      "<connection object at 0x7fd9896013d0; dsn: 'user=luca password=xxx dbname=healthcare_benchmark host=localhost port=5432', closed: 0>\n"
     ]
    },
    {
     "name": "stderr",
     "output_type": "stream",
     "text": [
      "Killed\n",
      "No user with password configured. For initial setup, connect via a domain socket:\n",
      "   psql -h /tmp -U postgres\n"
     ]
    },
    {
     "name": "stdout",
     "output_type": "stream",
     "text": [
      "<connection object at 0x7fd9895a7d50; dsn: 'user=luca password=xxx dbname=healthcare_benchmark host=localhost port=5432', closed: 0>\n"
     ]
    },
    {
     "name": "stderr",
     "output_type": "stream",
     "text": [
      "Killed\n",
      "No user with password configured. For initial setup, connect via a domain socket:\n",
      "   psql -h /tmp -U postgres\n"
     ]
    },
    {
     "name": "stdout",
     "output_type": "stream",
     "text": [
      "<connection object at 0x7fd9895a7d50; dsn: 'user=luca password=xxx dbname=healthcare_benchmark host=localhost port=5432', closed: 0>\n"
     ]
    },
    {
     "name": "stderr",
     "output_type": "stream",
     "text": [
      "Killed\n",
      "No user with password configured. For initial setup, connect via a domain socket:\n",
      "   psql -h /tmp -U postgres\n"
     ]
    },
    {
     "name": "stdout",
     "output_type": "stream",
     "text": [
      "<connection object at 0x7fd9895da040; dsn: 'user=luca password=xxx dbname=healthcare_benchmark host=localhost port=5432', closed: 0>\n"
     ]
    },
    {
     "name": "stderr",
     "output_type": "stream",
     "text": [
      "Killed\n",
      "No user with password configured. For initial setup, connect via a domain socket:\n",
      "   psql -h /tmp -U postgres\n"
     ]
    },
    {
     "name": "stdout",
     "output_type": "stream",
     "text": [
      "<connection object at 0x7fd9895659c0; dsn: 'user=luca password=xxx dbname=healthcare_benchmark host=localhost port=5432', closed: 0>\n"
     ]
    },
    {
     "name": "stderr",
     "output_type": "stream",
     "text": [
      "Killed\n",
      "No user with password configured. For initial setup, connect via a domain socket:\n",
      "   psql -h /tmp -U postgres\n"
     ]
    },
    {
     "name": "stdout",
     "output_type": "stream",
     "text": [
      "<connection object at 0x7fd98956a3d0; dsn: 'user=luca password=xxx dbname=healthcare_benchmark host=localhost port=5432', closed: 0>\n"
     ]
    },
    {
     "name": "stderr",
     "output_type": "stream",
     "text": [
      "Killed\n",
      "No user with password configured. For initial setup, connect via a domain socket:\n",
      "   psql -h /tmp -U postgres\n"
     ]
    },
    {
     "name": "stdout",
     "output_type": "stream",
     "text": [
      "<connection object at 0x7fd989584d50; dsn: 'user=luca password=xxx dbname=healthcare_benchmark host=localhost port=5432', closed: 0>\n"
     ]
    },
    {
     "name": "stderr",
     "output_type": "stream",
     "text": [
      "Killed\n",
      "No user with password configured. For initial setup, connect via a domain socket:\n",
      "   psql -h /tmp -U postgres\n"
     ]
    },
    {
     "name": "stdout",
     "output_type": "stream",
     "text": [
      "<connection object at 0x7fd989584d50; dsn: 'user=luca password=xxx dbname=healthcare_benchmark host=localhost port=5432', closed: 0>\n"
     ]
    },
    {
     "name": "stderr",
     "output_type": "stream",
     "text": [
      "Killed\n",
      "No user with password configured. For initial setup, connect via a domain socket:\n",
      "   psql -h /tmp -U postgres\n"
     ]
    },
    {
     "name": "stdout",
     "output_type": "stream",
     "text": [
      "<connection object at 0x7fd989584d50; dsn: 'user=luca password=xxx dbname=healthcare_benchmark host=localhost port=5432', closed: 0>\n"
     ]
    },
    {
     "name": "stderr",
     "output_type": "stream",
     "text": [
      "Killed\n",
      "No user with password configured. For initial setup, connect via a domain socket:\n",
      "   psql -h /tmp -U postgres\n"
     ]
    },
    {
     "name": "stdout",
     "output_type": "stream",
     "text": [
      "<connection object at 0x7fd989545af0; dsn: 'user=luca password=xxx dbname=healthcare_benchmark host=localhost port=5432', closed: 0>\n",
      "Running pandas...  -- size 1000\n"
     ]
    },
    {
     "name": "stderr",
     "output_type": "stream",
     "text": [
      "Killed\n",
      "No user with password configured. For initial setup, connect via a domain socket:\n",
      "   psql -h /tmp -U postgres\n"
     ]
    },
    {
     "name": "stdout",
     "output_type": "stream",
     "text": [
      "<connection object at 0x7fd989545af0; dsn: 'user=luca password=xxx dbname=healthcare_benchmark host=localhost port=5432', closed: 0>\n",
      "Running postgres...  -- size 1000\n"
     ]
    },
    {
     "name": "stderr",
     "output_type": "stream",
     "text": [
      "No user with password configured. For initial setup, connect via a domain socket:\n",
      "   psql -h /tmp -U postgres\n",
      "No user with password configured. For initial setup, connect via a domain socket:\n",
      "   psql -h /tmp -U postgres\n"
     ]
    },
    {
     "name": "stdout",
     "output_type": "stream",
     "text": [
      "<connection object at 0x7fd98941d170; dsn: 'user=luca password=xxx dbname=healthcare_benchmark host=localhost port=5432', closed: 0>\n"
     ]
    },
    {
     "name": "stderr",
     "output_type": "stream",
     "text": [
      "No user with password configured. For initial setup, connect via a domain socket:\n",
      "   psql -h /tmp -U postgres\n"
     ]
    },
    {
     "name": "stdout",
     "output_type": "stream",
     "text": [
      "<connection object at 0x7fd989224c20; dsn: 'user=luca password=xxx dbname=healthcare_benchmark host=localhost port=5432', closed: 0>\n"
     ]
    },
    {
     "name": "stderr",
     "output_type": "stream",
     "text": [
      "No user with password configured. For initial setup, connect via a domain socket:\n",
      "   psql -h /tmp -U postgres\n"
     ]
    },
    {
     "name": "stdout",
     "output_type": "stream",
     "text": [
      "<connection object at 0x7fd989250af0; dsn: 'user=luca password=xxx dbname=healthcare_benchmark host=localhost port=5432', closed: 0>\n"
     ]
    },
    {
     "name": "stderr",
     "output_type": "stream",
     "text": [
      "No user with password configured. For initial setup, connect via a domain socket:\n",
      "   psql -h /tmp -U postgres\n"
     ]
    },
    {
     "name": "stdout",
     "output_type": "stream",
     "text": [
      "<connection object at 0x7fd9894f7c20; dsn: 'user=luca password=xxx dbname=healthcare_benchmark host=localhost port=5432', closed: 0>\n"
     ]
    },
    {
     "name": "stderr",
     "output_type": "stream",
     "text": [
      "No user with password configured. For initial setup, connect via a domain socket:\n",
      "   psql -h /tmp -U postgres\n"
     ]
    },
    {
     "name": "stdout",
     "output_type": "stream",
     "text": [
      "<connection object at 0x7fd98950faf0; dsn: 'user=luca password=xxx dbname=healthcare_benchmark host=localhost port=5432', closed: 0>\n"
     ]
    },
    {
     "name": "stderr",
     "output_type": "stream",
     "text": [
      "No user with password configured. For initial setup, connect via a domain socket:\n",
      "   psql -h /tmp -U postgres\n"
     ]
    },
    {
     "name": "stdout",
     "output_type": "stream",
     "text": [
      "<connection object at 0x7fd9894a8d50; dsn: 'user=luca password=xxx dbname=healthcare_benchmark host=localhost port=5432', closed: 0>\n"
     ]
    },
    {
     "name": "stderr",
     "output_type": "stream",
     "text": [
      "No user with password configured. For initial setup, connect via a domain socket:\n",
      "   psql -h /tmp -U postgres\n"
     ]
    },
    {
     "name": "stdout",
     "output_type": "stream",
     "text": [
      "<connection object at 0x7fd9894b53d0; dsn: 'user=luca password=xxx dbname=healthcare_benchmark host=localhost port=5432', closed: 0>\n"
     ]
    },
    {
     "name": "stderr",
     "output_type": "stream",
     "text": [
      "No user with password configured. For initial setup, connect via a domain socket:\n",
      "   psql -h /tmp -U postgres\n"
     ]
    },
    {
     "name": "stdout",
     "output_type": "stream",
     "text": [
      "<connection object at 0x7fd989402d50; dsn: 'user=luca password=xxx dbname=healthcare_benchmark host=localhost port=5432', closed: 0>\n"
     ]
    },
    {
     "name": "stderr",
     "output_type": "stream",
     "text": [
      "No user with password configured. For initial setup, connect via a domain socket:\n",
      "   psql -h /tmp -U postgres\n"
     ]
    },
    {
     "name": "stdout",
     "output_type": "stream",
     "text": [
      "<connection object at 0x7fd9894a8e80; dsn: 'user=luca password=xxx dbname=healthcare_benchmark host=localhost port=5432', closed: 0>\n",
      "Running umbra... -- size 1000\n",
      "<connection object at 0x7fd989434170; dsn: 'user=luca password=xxx dbname=healthcare_benchmark host=localhost port=5432', closed: 0>\n"
     ]
    },
    {
     "name": "stderr",
     "output_type": "stream",
     "text": [
      "No user with password configured. For initial setup, connect via a domain socket:\n",
      "   psql -h /tmp -U postgres\n"
     ]
    },
    {
     "name": "stdout",
     "output_type": "stream",
     "text": [
      "<connection object at 0x7fd989439af0; dsn: 'user=luca password=xxx dbname=healthcare_benchmark host=localhost port=5432', closed: 0>\n"
     ]
    },
    {
     "name": "stderr",
     "output_type": "stream",
     "text": [
      "Killed\n",
      "No user with password configured. For initial setup, connect via a domain socket:\n",
      "   psql -h /tmp -U postgres\n"
     ]
    },
    {
     "name": "stdout",
     "output_type": "stream",
     "text": [
      "<connection object at 0x7fd98943b500; dsn: 'user=luca password=xxx dbname=healthcare_benchmark host=localhost port=5432', closed: 0>\n"
     ]
    },
    {
     "name": "stderr",
     "output_type": "stream",
     "text": [
      "Killed\n",
      "No user with password configured. For initial setup, connect via a domain socket:\n",
      "   psql -h /tmp -U postgres\n"
     ]
    },
    {
     "name": "stdout",
     "output_type": "stream",
     "text": [
      "<connection object at 0x7fd989471d50; dsn: 'user=luca password=xxx dbname=healthcare_benchmark host=localhost port=5432', closed: 0>\n"
     ]
    },
    {
     "name": "stderr",
     "output_type": "stream",
     "text": [
      "Killed\n",
      "No user with password configured. For initial setup, connect via a domain socket:\n",
      "   psql -h /tmp -U postgres\n"
     ]
    },
    {
     "name": "stdout",
     "output_type": "stream",
     "text": [
      "<connection object at 0x7fd989471d50; dsn: 'user=luca password=xxx dbname=healthcare_benchmark host=localhost port=5432', closed: 0>\n"
     ]
    },
    {
     "name": "stderr",
     "output_type": "stream",
     "text": [
      "Killed\n",
      "No user with password configured. For initial setup, connect via a domain socket:\n",
      "   psql -h /tmp -U postgres\n"
     ]
    },
    {
     "name": "stdout",
     "output_type": "stream",
     "text": [
      "<connection object at 0x7fd989473170; dsn: 'user=luca password=xxx dbname=healthcare_benchmark host=localhost port=5432', closed: 0>\n"
     ]
    },
    {
     "name": "stderr",
     "output_type": "stream",
     "text": [
      "Killed\n",
      "No user with password configured. For initial setup, connect via a domain socket:\n",
      "   psql -h /tmp -U postgres\n"
     ]
    },
    {
     "name": "stdout",
     "output_type": "stream",
     "text": [
      "<connection object at 0x7fd98926baf0; dsn: 'user=luca password=xxx dbname=healthcare_benchmark host=localhost port=5432', closed: 0>\n"
     ]
    },
    {
     "name": "stderr",
     "output_type": "stream",
     "text": [
      "Killed\n",
      "No user with password configured. For initial setup, connect via a domain socket:\n",
      "   psql -h /tmp -U postgres\n"
     ]
    },
    {
     "name": "stdout",
     "output_type": "stream",
     "text": [
      "<connection object at 0x7fd98926baf0; dsn: 'user=luca password=xxx dbname=healthcare_benchmark host=localhost port=5432', closed: 0>\n"
     ]
    },
    {
     "name": "stderr",
     "output_type": "stream",
     "text": [
      "Killed\n",
      "No user with password configured. For initial setup, connect via a domain socket:\n",
      "   psql -h /tmp -U postgres\n"
     ]
    },
    {
     "name": "stdout",
     "output_type": "stream",
     "text": [
      "<connection object at 0x7fd989274e80; dsn: 'user=luca password=xxx dbname=healthcare_benchmark host=localhost port=5432', closed: 0>\n"
     ]
    },
    {
     "name": "stderr",
     "output_type": "stream",
     "text": [
      "Killed\n",
      "No user with password configured. For initial setup, connect via a domain socket:\n",
      "   psql -h /tmp -U postgres\n"
     ]
    },
    {
     "name": "stdout",
     "output_type": "stream",
     "text": [
      "<connection object at 0x7fd98935dd50; dsn: 'user=luca password=xxx dbname=healthcare_benchmark host=localhost port=5432', closed: 0>\n"
     ]
    },
    {
     "name": "stderr",
     "output_type": "stream",
     "text": [
      "Killed\n",
      "No user with password configured. For initial setup, connect via a domain socket:\n",
      "   psql -h /tmp -U postgres\n"
     ]
    },
    {
     "name": "stdout",
     "output_type": "stream",
     "text": [
      "<connection object at 0x7fd9893242a0; dsn: 'user=luca password=xxx dbname=healthcare_benchmark host=localhost port=5432', closed: 0>\n",
      "Running pandas...  -- size 10000\n"
     ]
    },
    {
     "name": "stderr",
     "output_type": "stream",
     "text": [
      "Killed\n",
      "No user with password configured. For initial setup, connect via a domain socket:\n",
      "   psql -h /tmp -U postgres\n"
     ]
    },
    {
     "name": "stdout",
     "output_type": "stream",
     "text": [
      "<connection object at 0x7fd989328c20; dsn: 'user=luca password=xxx dbname=healthcare_benchmark host=localhost port=5432', closed: 0>\n",
      "Running postgres...  -- size 10000\n"
     ]
    },
    {
     "name": "stderr",
     "output_type": "stream",
     "text": [
      "No user with password configured. For initial setup, connect via a domain socket:\n",
      "   psql -h /tmp -U postgres\n",
      "No user with password configured. For initial setup, connect via a domain socket:\n",
      "   psql -h /tmp -U postgres\n"
     ]
    },
    {
     "name": "stdout",
     "output_type": "stream",
     "text": [
      "<connection object at 0x7fd9893242a0; dsn: 'user=luca password=xxx dbname=healthcare_benchmark host=localhost port=5432', closed: 0>\n"
     ]
    },
    {
     "name": "stderr",
     "output_type": "stream",
     "text": [
      "No user with password configured. For initial setup, connect via a domain socket:\n",
      "   psql -h /tmp -U postgres\n"
     ]
    },
    {
     "name": "stdout",
     "output_type": "stream",
     "text": [
      "<connection object at 0x7fd989328c20; dsn: 'user=luca password=xxx dbname=healthcare_benchmark host=localhost port=5432', closed: 0>\n"
     ]
    },
    {
     "name": "stderr",
     "output_type": "stream",
     "text": [
      "No user with password configured. For initial setup, connect via a domain socket:\n",
      "   psql -h /tmp -U postgres\n"
     ]
    },
    {
     "name": "stdout",
     "output_type": "stream",
     "text": [
      "<connection object at 0x7fd9892c7170; dsn: 'user=luca password=xxx dbname=healthcare_benchmark host=localhost port=5432', closed: 0>\n"
     ]
    },
    {
     "name": "stderr",
     "output_type": "stream",
     "text": [
      "No user with password configured. For initial setup, connect via a domain socket:\n",
      "   psql -h /tmp -U postgres\n"
     ]
    },
    {
     "name": "stdout",
     "output_type": "stream",
     "text": [
      "<connection object at 0x7fd9892afd50; dsn: 'user=luca password=xxx dbname=healthcare_benchmark host=localhost port=5432', closed: 0>\n"
     ]
    },
    {
     "name": "stderr",
     "output_type": "stream",
     "text": [
      "No user with password configured. For initial setup, connect via a domain socket:\n",
      "   psql -h /tmp -U postgres\n"
     ]
    },
    {
     "name": "stdout",
     "output_type": "stream",
     "text": [
      "<connection object at 0x7fd9892db890; dsn: 'user=luca password=xxx dbname=healthcare_benchmark host=localhost port=5432', closed: 0>\n"
     ]
    },
    {
     "name": "stderr",
     "output_type": "stream",
     "text": [
      "No user with password configured. For initial setup, connect via a domain socket:\n",
      "   psql -h /tmp -U postgres\n"
     ]
    },
    {
     "name": "stdout",
     "output_type": "stream",
     "text": [
      "<connection object at 0x7fd989393e80; dsn: 'user=luca password=xxx dbname=healthcare_benchmark host=localhost port=5432', closed: 0>\n"
     ]
    },
    {
     "name": "stderr",
     "output_type": "stream",
     "text": [
      "No user with password configured. For initial setup, connect via a domain socket:\n",
      "   psql -h /tmp -U postgres\n"
     ]
    },
    {
     "name": "stdout",
     "output_type": "stream",
     "text": [
      "<connection object at 0x7fd989387d50; dsn: 'user=luca password=xxx dbname=healthcare_benchmark host=localhost port=5432', closed: 0>\n"
     ]
    },
    {
     "name": "stderr",
     "output_type": "stream",
     "text": [
      "No user with password configured. For initial setup, connect via a domain socket:\n",
      "   psql -h /tmp -U postgres\n"
     ]
    },
    {
     "name": "stdout",
     "output_type": "stream",
     "text": [
      "<connection object at 0x7fd9893782a0; dsn: 'user=luca password=xxx dbname=healthcare_benchmark host=localhost port=5432', closed: 0>\n"
     ]
    },
    {
     "name": "stderr",
     "output_type": "stream",
     "text": [
      "No user with password configured. For initial setup, connect via a domain socket:\n",
      "   psql -h /tmp -U postgres\n"
     ]
    },
    {
     "name": "stdout",
     "output_type": "stream",
     "text": [
      "<connection object at 0x7fd9893a2c20; dsn: 'user=luca password=xxx dbname=healthcare_benchmark host=localhost port=5432', closed: 0>\n",
      "Running umbra... -- size 10000\n",
      "<connection object at 0x7fd9893879c0; dsn: 'user=luca password=xxx dbname=healthcare_benchmark host=localhost port=5432', closed: 0>\n"
     ]
    },
    {
     "name": "stderr",
     "output_type": "stream",
     "text": [
      "No user with password configured. For initial setup, connect via a domain socket:\n",
      "   psql -h /tmp -U postgres\n"
     ]
    },
    {
     "name": "stdout",
     "output_type": "stream",
     "text": [
      "<connection object at 0x7fd98923b040; dsn: 'user=luca password=xxx dbname=healthcare_benchmark host=localhost port=5432', closed: 0>\n"
     ]
    },
    {
     "name": "stderr",
     "output_type": "stream",
     "text": [
      "Killed\n",
      "No user with password configured. For initial setup, connect via a domain socket:\n",
      "   psql -h /tmp -U postgres\n"
     ]
    },
    {
     "name": "stdout",
     "output_type": "stream",
     "text": [
      "<connection object at 0x7fd9892419c0; dsn: 'user=luca password=xxx dbname=healthcare_benchmark host=localhost port=5432', closed: 0>\n"
     ]
    },
    {
     "name": "stderr",
     "output_type": "stream",
     "text": [
      "Killed\n",
      "No user with password configured. For initial setup, connect via a domain socket:\n",
      "   psql -h /tmp -U postgres\n"
     ]
    },
    {
     "name": "stdout",
     "output_type": "stream",
     "text": [
      "<connection object at 0x7fd98903d3d0; dsn: 'user=luca password=xxx dbname=healthcare_benchmark host=localhost port=5432', closed: 0>\n"
     ]
    },
    {
     "name": "stderr",
     "output_type": "stream",
     "text": [
      "Killed\n",
      "No user with password configured. For initial setup, connect via a domain socket:\n",
      "   psql -h /tmp -U postgres\n"
     ]
    },
    {
     "name": "stdout",
     "output_type": "stream",
     "text": [
      "<connection object at 0x7fd989030d50; dsn: 'user=luca password=xxx dbname=healthcare_benchmark host=localhost port=5432', closed: 0>\n"
     ]
    },
    {
     "name": "stderr",
     "output_type": "stream",
     "text": [
      "Killed\n",
      "No user with password configured. For initial setup, connect via a domain socket:\n",
      "   psql -h /tmp -U postgres\n"
     ]
    },
    {
     "name": "stdout",
     "output_type": "stream",
     "text": [
      "<connection object at 0x7fd989030d50; dsn: 'user=luca password=xxx dbname=healthcare_benchmark host=localhost port=5432', closed: 0>\n"
     ]
    },
    {
     "name": "stderr",
     "output_type": "stream",
     "text": [
      "Killed\n",
      "No user with password configured. For initial setup, connect via a domain socket:\n",
      "   psql -h /tmp -U postgres\n"
     ]
    },
    {
     "name": "stdout",
     "output_type": "stream",
     "text": [
      "<connection object at 0x7fd989035170; dsn: 'user=luca password=xxx dbname=healthcare_benchmark host=localhost port=5432', closed: 0>\n"
     ]
    },
    {
     "name": "stderr",
     "output_type": "stream",
     "text": [
      "Killed\n",
      "No user with password configured. For initial setup, connect via a domain socket:\n",
      "   psql -h /tmp -U postgres\n"
     ]
    },
    {
     "name": "stdout",
     "output_type": "stream",
     "text": [
      "<connection object at 0x7fd98905baf0; dsn: 'user=luca password=xxx dbname=healthcare_benchmark host=localhost port=5432', closed: 0>\n"
     ]
    },
    {
     "name": "stderr",
     "output_type": "stream",
     "text": [
      "Killed\n",
      "No user with password configured. For initial setup, connect via a domain socket:\n",
      "   psql -h /tmp -U postgres\n"
     ]
    },
    {
     "name": "stdout",
     "output_type": "stream",
     "text": [
      "<connection object at 0x7fd98905baf0; dsn: 'user=luca password=xxx dbname=healthcare_benchmark host=localhost port=5432', closed: 0>\n"
     ]
    },
    {
     "name": "stderr",
     "output_type": "stream",
     "text": [
      "Killed\n",
      "No user with password configured. For initial setup, connect via a domain socket:\n",
      "   psql -h /tmp -U postgres\n"
     ]
    },
    {
     "name": "stdout",
     "output_type": "stream",
     "text": [
      "<connection object at 0x7fd988c6ee80; dsn: 'user=luca password=xxx dbname=healthcare_benchmark host=localhost port=5432', closed: 0>\n"
     ]
    },
    {
     "name": "stderr",
     "output_type": "stream",
     "text": [
      "Killed\n",
      "No user with password configured. For initial setup, connect via a domain socket:\n",
      "   psql -h /tmp -U postgres\n"
     ]
    },
    {
     "name": "stdout",
     "output_type": "stream",
     "text": [
      "<connection object at 0x7fd988c7ed50; dsn: 'user=luca password=xxx dbname=healthcare_benchmark host=localhost port=5432', closed: 0>\n"
     ]
    },
    {
     "data": {
      "text/plain": "<Figure size 288x288 with 1 Axes>",
      "image/png": "[encoded data removed]"
     },
     "metadata": {},
     "output_type": "display_data"
    }
   ],
   "source": [
    "def get_inspection_code_healthcare(pipeline_code, to_sql, dbms_connector, one_run=False):\n",
    "    setup_code = cleandoc(f\"\"\"\n",
    "from inspect import cleandoc\n",
    "from mlinspect.utils import get_project_root\n",
    "from mlinspect import PipelineInspector\n",
    "from mlinspect.inspections import RowLineage, MaterializeFirstOutputRows\n",
    "from mlinspect.checks import NoBiasIntroducedFor, NoIllegalFeatures\n",
    "from demo.feature_overview.no_missing_embeddings import NoMissingEmbeddings\n",
    "from inspect import cleandoc\n",
    "from example_pipelines.healthcare import custom_monkeypatching\n",
    "from mlinspect.to_sql.dbms_connectors.postgresql_connector import PostgresqlConnector\n",
    "from mlinspect.to_sql.dbms_connectors.umbra_connector import UmbraConnector\n",
    "from mlinspect import PipelineInspector\n",
    "\n",
    "dbms_connector_u = UmbraConnector(dbname=\\'{UMBRA_DB}\\', user=\\'{UMBRA_USER}\\', password=\\'{UMBRA_PW}\\',\n",
    "    port={UMBRA_PORT}, host=\\'{UMBRA_HOST}\\', umbra_dir= r\\'{UMBRA_DIR}\\')\n",
    "dbms_connector_p = PostgresqlConnector(dbname=\\'{POSTGRES_DB}\\', user=\\'{POSTGRES_USER}\\',\n",
    "    password=\\'{POSTGRES_PW}\\', port={POSTGRES_PORT}, host=\\'{POSTGRES_HOST}\\')\n",
    "\n",
    "pipeline_code = cleandoc(f\\\"\\\"\\\"{pipeline_code}\\\"\\\"\\\")\n",
    "\n",
    "pipeline_inspector = PipelineInspector.on_pipeline_from_string(pipeline_code) \\\\\n",
    "    .add_custom_monkey_patching_module(custom_monkeypatching) \\\\\n",
    "    .add_check(NoBiasIntroducedFor([\\'age_group\\', \\'race\\'])) \\\\\n",
    "    .add_check(NoIllegalFeatures()) \\\\\n",
    "    .add_check(NoMissingEmbeddings()) \\\\\n",
    "    .add_required_inspection(RowLineage(5)) \\\\\n",
    "    .add_required_inspection(MaterializeFirstOutputRows(5))\n",
    "    \"\"\")\n",
    "    if to_sql:\n",
    "        return setup_code, f\"pipeline_inspector.execute_in_sql(dbms_connector={dbms_connector}, \" \\\n",
    "                           f\"sql_one_run={one_run}, mode=\\'CTE\\')\"\n",
    "\n",
    "    return setup_code, f\"pipeline_inspector.execute()\"\n",
    "\n",
    "\n",
    "def run(pipeline_code, to_sql=False, dbms_connector=None, one_run=False):\n",
    "    setup_code, test_code = get_inspection_code_healthcare(pipeline_code, to_sql, dbms_connector, one_run)\n",
    "    if to_sql:\n",
    "        result = []\n",
    "        for i in range(BENCH_REP):\n",
    "            print(f\"run {i} of {BENCH_REP} ...\")\n",
    "            # This special case is necessary to deduct the time for dropping the existing tables and views!\n",
    "            result.append(timeit.timeit(test_code, setup=setup_code, number=1) * 1000)  # in s\n",
    "        return sum(result) / BENCH_REP\n",
    "\n",
    "    return (timeit.timeit(test_code, setup=setup_code, number=BENCH_REP) / BENCH_REP) * 1000  # in s\n",
    "\n",
    "\n",
    "def pipeline_inspection_benchmark(display_hardware_usage: bool = False):\n",
    "    pandas_times = []\n",
    "    postgres_times = []\n",
    "    umbra_times = []\n",
    "    for sql_one_run in [False]:\n",
    "        for i, (path_to_csv_pat, path_to_csv_his) in enumerate(HEALTHCARE_DATA_PATHS):\n",
    "            setup_code, test_code = get_healthcare_pipe_code(path_to_csv_pat, path_to_csv_his)\n",
    "            pipe_code = setup_code + \"\\n\" + test_code\n",
    "\n",
    "            print(f\"Running pandas...  -- size {SIZES[i]}\")\n",
    "            pandas_times.append(run(pipe_code, to_sql=False, dbms_connector=None, one_run=sql_one_run))\n",
    "            print(f\"Running postgres...  -- size {SIZES[i]}\")\n",
    "            postgres_times.append(run(pipe_code, to_sql=True, dbms_connector=\"dbms_connector_p\", one_run=sql_one_run))\n",
    "            print(f\"Running umbra... -- size {SIZES[i]}\")\n",
    "            umbra_times.append(run(pipe_code, to_sql=True, dbms_connector=\"dbms_connector_u\", one_run=sql_one_run))\n",
    "\n",
    "            # sys.argv = [\"psrecord\", \"--duration=100\", \"--log=activity.txt\", \"1540\"]\n",
    "            # main()\n",
    "\n",
    "        names = [\"Pandas\", \"Postgresql\", \"Umbra\"]\n",
    "        title = \"healthcare_pandas_compare\"\n",
    "        table = [pandas_times, postgres_times, umbra_times]\n",
    "        plot = plot_compare(title, SIZES, all_y=table, all_y_names=names, save=True)\n",
    "        plot.show()\n",
    "\n",
    "pipeline_inspection_benchmark()\n",
    "\n",
    "\n"
   ],
   "metadata": {
    "collapsed": false,
    "pycharm": {
     "name": "#%%\n"
    }
   }
  }
 ],
 "metadata": {
  "kernelspec": {
   "display_name": "Python 3",
   "language": "python",
   "name": "python3"
  },
  "language_info": {
   "codemirror_mode": {
    "name": "ipython",
    "version": 2
   },
   "file_extension": ".py",
   "mimetype": "text/x-python",
   "name": "python",
   "nbconvert_exporter": "python",
   "pygments_lexer": "ipython2",
   "version": "2.7.6"
  }
 },
 "nbformat": 4,
 "nbformat_minor": 0
}
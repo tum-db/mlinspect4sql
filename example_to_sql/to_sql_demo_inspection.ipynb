{
 "cells": [
  {
   "cell_type": "markdown",
   "source": [
    "# Performance showcase of added \"to_sql\" functionality in mlinspect\n",
    "\n",
    "Here the performance of the proposed inspection using sql will be compared to the original one in pandas. Part of\n",
    "the \"healthcare\" and \"compas\" pipeline will be used."
   ],
   "metadata": {
    "collapsed": false
   }
  },
  {
   "cell_type": "markdown",
   "source": [
    "## Required packages:\n",
    "See: requirements/requirements.txt and requirements/requirements.dev.txt"
   ],
   "metadata": {
    "collapsed": false
   }
  },
  {
   "cell_type": "markdown",
   "source": [
    "## Some parameters you might want to set:"
   ],
   "metadata": {
    "collapsed": false
   }
  },
  {
   "cell_type": "code",
   "execution_count": 1,
   "outputs": [
    {
     "name": "stderr",
     "output_type": "stream",
     "text": [
      "No handles with labels found to put in legend.\n"
     ]
    },
    {
     "data": {
      "text/plain": "<Figure size 288x288 with 1 Axes>",
      "image/png": "[encoded data removed]"
     },
     "metadata": {},
     "output_type": "display_data"
    }
   ],
   "source": [
    "import os\n",
    "import sys\n",
    "module_path = os.path.abspath(os.path.join('..'))\n",
    "if module_path not in sys.path:\n",
    "    sys.path.append(module_path)\n",
    "import time\n",
    "\n",
    "import timeit\n",
    "from inspect import cleandoc\n",
    "from mlinspect.utils import get_project_root\n",
    "from _code_as_string import get_healthcare_pipe_code, get_compas_pipe_code, print_generated_code\n",
    "from _benchmark_utility import plot_compare\n",
    "import os\n",
    "\n",
    "import numpy as np\n",
    "\n",
    "from mlinspect.utils import get_project_root\n",
    "import pandas as pd\n",
    "from mlinspect import PipelineInspector, OperatorType\n",
    "from mlinspect.inspections import HistogramForColumns, RowLineage, MaterializeFirstOutputRows\n",
    "from mlinspect.checks import NoBiasIntroducedFor, NoIllegalFeatures\n",
    "from demo.feature_overview.no_missing_embeddings import NoMissingEmbeddings\n",
    "from inspect import cleandoc\n",
    "from example_pipelines.healthcare import custom_monkeypatching\n",
    "from mlinspect.to_sql.dbms_connectors.postgresql_connector import PostgresqlConnector\n",
    "import time\n",
    "from IPython.display import display\n",
    "from mlinspect.to_sql.dbms_connectors.umbra_connector import UmbraConnector\n",
    "\n",
    "SIZES = [(10 ** i) for i in range(2, 5, 1)]\n",
    "\n",
    "# DBMS related:\n",
    "UMBRA_DIR = r\"/home/luca/Documents/Bachelorarbeit/umbra-students\"\n",
    "UMBRA_USER = \"postgres\"\n",
    "UMBRA_PW = \" \"\n",
    "UMBRA_DB = \"\"\n",
    "UMBRA_PORT = 5433\n",
    "UMBRA_HOST = \"/tmp/\"\n",
    "\n",
    "POSTGRES_USER = \"luca\"\n",
    "POSTGRES_PW = \"password\"\n",
    "POSTGRES_DB = \"healthcare_benchmark\"\n",
    "POSTGRES_PORT = 5432\n",
    "POSTGRES_HOST = \"localhost\"\n",
    "\n",
    "HEALTHCARE_FILE_PY = os.path.join(str(get_project_root()), \"example_pipelines\", \"healthcare\", \"healthcare.py\")\n",
    "COMPAS_FILE_PY = os.path.join(str(get_project_root()), \"example_pipelines\", \"compas\", \"compas.py\")\n",
    "ADULT_SIMPLE_FILE_PY = os.path.join(str(get_project_root()), \"example_pipelines\", \"adult_simple\", \"adult_simple.py\")\n",
    "ADULT_COMPLEX_FILE_PY = os.path.join(str(get_project_root()), \"example_pipelines\", \"adult_complex\", \"adult_complex.py\")\n",
    "\n",
    "# No model training:\n",
    "HEALTHCARE_FILE_PY_R = os.path.join(str(get_project_root()), \"test\", \"monkeypatchingSQL\", \"pipelines_for_tests\",\n",
    "                                    \"healthcare\", \"healthcare_res.py\")\n",
    "COMPAS_FILE_PY_R = os.path.join(str(get_project_root()), \"test\", \"monkeypatchingSQL\", \"pipelines_for_tests\", \"compas\",\n",
    "                              \"compas_res.py\")\n",
    "ADULT_SIMPLE_FILE_PY_R = os.path.join(str(get_project_root()), \"test\", \"monkeypatchingSQL\", \"pipelines_for_tests\",\n",
    "                                    \"adult_simple\", \"adult_simple_res.py\")\n",
    "ADULT_COMPLEX_FILE_PY_R = os.path.join(str(get_project_root()), \"test\", \"monkeypatchingSQL\", \"pipelines_for_tests\",\n",
    "                                     \"adult_complex\", \"adult_complex_res.py\")\n",
    "\n",
    "# HEALTHCARE_BIAS = \"[\\'age_group\\', \\'race\\']\"\n",
    "# COMPAS_BIAS = \"[\\'sex\\', \\'race\\']\"\n",
    "HEALTHCARE_BIAS = ['age_group', 'race']\n",
    "COMPAS_BIAS = ['sex', 'race']"
   ],
   "metadata": {
    "collapsed": false,
    "pycharm": {
     "name": "#%%\n"
    }
   }
  },
  {
   "cell_type": "markdown",
   "source": [
    "## Benchmark setup:"
   ],
   "metadata": {
    "collapsed": false
   }
  },
  {
   "cell_type": "code",
   "execution_count": 2,
   "outputs": [],
   "source": [
    "def run_inspection(file_location, bias, to_sql, dbms_connector=None, mode=None, materialize=None):\n",
    "    from PIL import Image\n",
    "    import matplotlib.pyplot as plt\n",
    "    from mlinspect.visualisation import save_fig_to_path\n",
    "\n",
    "    inspector_result = PipelineInspector \\\n",
    "        .on_pipeline_from_py_file(file_location) \\\n",
    "        .add_custom_monkey_patching_module(custom_monkeypatching) \\\n",
    "        .add_check(NoBiasIntroducedFor(bias)) \\\n",
    "        .add_check(NoIllegalFeatures()) \\\n",
    "        .add_check(NoMissingEmbeddings()) \\\n",
    "        .add_required_inspection(RowLineage(5)) \\\n",
    "        .add_required_inspection(MaterializeFirstOutputRows(5))\n",
    "\n",
    "    if to_sql:\n",
    "        inspector_result = inspector_result.execute_in_sql(dbms_connector=dbms_connector, mode=mode,\n",
    "                                                           materialize=materialize, row_wise=False)\n",
    "    else:\n",
    "        inspector_result = inspector_result.execute()\n",
    "\n",
    "    extracted_dag = inspector_result.dag\n",
    "    filename = os.path.join(str(get_project_root()), \"demo\", \"feature_overview\", \"healthcare.png\")\n",
    "    save_fig_to_path(extracted_dag, filename)\n",
    "    im = Image.open(filename)\n",
    "    plt.imshow(im)\n",
    "\n",
    "    check_results = inspector_result.check_to_check_results\n",
    "    no_bias_check_result = check_results[NoBiasIntroducedFor(bias)]\n",
    "\n",
    "    distribution_changes_overview_df = NoBiasIntroducedFor.get_distribution_changes_overview_as_df(\n",
    "        no_bias_check_result)\n",
    "    result = \"\"\n",
    "    result += distribution_changes_overview_df.to_markdown()\n",
    "\n",
    "    for i in list(no_bias_check_result.bias_distribution_change.items()):\n",
    "        _, join_distribution_changes = i\n",
    "        for column, distribution_change in join_distribution_changes.items():\n",
    "            result += \"\\n\"\n",
    "            result += f\"\\033[1m Column '{column}'\\033[0m\"\n",
    "            result += distribution_change.before_and_after_df.to_markdown()\n",
    "\n",
    "    print(result)\n",
    "    return result"
   ],
   "metadata": {
    "collapsed": false,
    "pycharm": {
     "name": "#%%\n"
    }
   }
  },
  {
   "cell_type": "markdown",
   "source": [
    "## Benchmark of default inspection using CTEs:"
   ],
   "metadata": {
    "collapsed": false
   }
  },
  {
   "cell_type": "code",
   "execution_count": 3,
   "outputs": [],
   "source": [
    "umbra_path = r\"/home/luca/Documents/Bachelorarbeit/umbra-students\"\n",
    "dbms_connector_u = UmbraConnector(dbname=UMBRA_DB, user=UMBRA_USER, password=UMBRA_PW, port=UMBRA_PORT, host=UMBRA_HOST,\n",
    "                                  umbra_dir=UMBRA_DIR)\n",
    "\n",
    "dbms_connector_p = PostgresqlConnector(dbname=POSTGRES_DB, user=POSTGRES_USER, password=POSTGRES_PW,\n",
    "                                       port=POSTGRES_PORT, host=POSTGRES_HOST)\n",
    "\n",
    "def run_for_all(file_location, bias, mode=\"\", materialize=None):\n",
    "    t0 = time.time()\n",
    "    run_inspection(file_location=file_location, bias=bias, to_sql=False)\n",
    "    t1 = time.time()\n",
    "    print(\"\\nTime spend with original: \" + str(t1 - t0))\n",
    "\n",
    "    t0 = time.time()\n",
    "    run_inspection(file_location=file_location, bias=bias, to_sql=True, dbms_connector=dbms_connector_p, mode=mode,\n",
    "                   materialize=materialize)\n",
    "    t1 = time.time()\n",
    "    print(\"\\nTime spend with modified SQL inspections: \" + str(t1 - t0))\n",
    "\n",
    "    if not materialize: # Materialized not supported by Umbra -> main-memory performance\n",
    "        t0 = time.time()\n",
    "        run_inspection(file_location=file_location, bias=bias, to_sql=True, dbms_connector=dbms_connector_u, mode=mode,\n",
    "                       materialize=materialize)\n",
    "        t1 = time.time()\n",
    "        print(\"\\nTime spend with modified SQL inspections: \" + str(t1 - t0))\n"
   ],
   "metadata": {
    "collapsed": false,
    "pycharm": {
     "name": "#%%\n"
    }
   }
  },
  {
   "cell_type": "markdown",
   "source": [
    "## Execute the inspections:"
   ],
   "metadata": {
    "collapsed": false
   }
  },
  {
   "cell_type": "code",
   "execution_count": 4,
   "outputs": [
    {
     "name": "stderr",
     "output_type": "stream",
     "text": [
      "2021-09-14 15:41:58.949631: W tensorflow/stream_executor/platform/default/dso_loader.cc:64] Could not load dynamic library 'libcudart.so.11.0'; dlerror: libcudart.so.11.0: cannot open shared object file: No such file or directory\n",
      "2021-09-14 15:41:58.949657: I tensorflow/stream_executor/cuda/cudart_stub.cc:29] Ignore above cudart dlerror if you do not have a GPU set up on your machine.\n"
     ]
    },
    {
     "name": "stdout",
     "output_type": "stream",
     "text": [
      "|    | operator_type            | description                                                       | code_reference                                                            | source_code                                     | module                                                                     | 'age_group' distribution change below the configured minimum test threshold   | 'race' distribution change below the configured minimum test threshold   |\n",
      "|---:|:-------------------------|:------------------------------------------------------------------|:--------------------------------------------------------------------------|:------------------------------------------------|:---------------------------------------------------------------------------|:------------------------------------------------------------------------------|:-------------------------------------------------------------------------|\n",
      "|  0 | OperatorType.JOIN        | on '['ssn']'                                                      | CodeReference(lineno=25, col_offset=7, end_lineno=25, end_col_offset=44)  | patients.merge(histories, on=['ssn'])           | FunctionInfo(module='pandas.core.frame', function_name='merge')            | False                                                                         | False                                                                    |\n",
      "|  1 | OperatorType.JOIN        | on '['age_group']'                                                | CodeReference(lineno=28, col_offset=7, end_lineno=28, end_col_offset=50)  | data.merge(complications, on=['age_group'])     | FunctionInfo(module='pandas.core.frame', function_name='merge')            | False                                                                         | False                                                                    |\n",
      "|  2 | OperatorType.SELECTION   | Select by Series: data[data['county'].isin(COUNTIES_OF_INTEREST)] | CodeReference(lineno=31, col_offset=7, end_lineno=31, end_col_offset=54)  | data[data['county'].isin(COUNTIES_OF_INTEREST)] | FunctionInfo(module='pandas.core.frame', function_name='__getitem__')      | False                                                                         | True                                                                     |\n",
      "|  3 | OperatorType.TRANSFORMER | Simple Imputer                                                    | CodeReference(lineno=34, col_offset=15, end_lineno=34, end_col_offset=54) | SimpleImputer(strategy='most_frequent')         | FunctionInfo(module='sklearn.impute._base', function_name='SimpleImputer') | False                                                                         | False                                                                    |\n",
      "\u001B[1m Column 'age_group'\u001B[0m|    | sensitive_column_value   |   count_before |   count_after |   ratio_before |   ratio_after |   relative_ratio_change |\n",
      "|---:|:-------------------------|---------------:|--------------:|---------------:|--------------:|------------------------:|\n",
      "|  0 | group1                   |            281 |           281 |       0.316798 |      0.316798 |                       0 |\n",
      "|  1 | group2                   |            298 |           298 |       0.335964 |      0.335964 |                       0 |\n",
      "|  2 | group3                   |            308 |           308 |       0.347238 |      0.347238 |                       0 |\n",
      "\u001B[1m Column 'race'\u001B[0m|    | sensitive_column_value   |   count_before |   count_after |   ratio_before |   ratio_after |   relative_ratio_change |\n",
      "|---:|:-------------------------|---------------:|--------------:|---------------:|--------------:|------------------------:|\n",
      "|  0 | race1                    |            284 |           284 |       0.32018  |      0.32018  |                       0 |\n",
      "|  1 | race2                    |            232 |           232 |       0.261556 |      0.261556 |                       0 |\n",
      "|  2 | race3                    |            276 |           276 |       0.311161 |      0.311161 |                       0 |\n",
      "|  3 | nan                      |             95 |            95 |       0.107103 |      0.107103 |                       0 |\n",
      "\u001B[1m Column 'age_group'\u001B[0m|    | sensitive_column_value   |   count_before |   count_after |   ratio_before |   ratio_after |   relative_ratio_change |\n",
      "|---:|:-------------------------|---------------:|--------------:|---------------:|--------------:|------------------------:|\n",
      "|  0 | group1                   |              1 |           281 |       0.333333 |      0.316798 |             -0.0496054  |\n",
      "|  1 | group2                   |              1 |           298 |       0.333333 |      0.335964 |              0.00789177 |\n",
      "|  2 | group3                   |              1 |           308 |       0.333333 |      0.347238 |              0.0417136  |\n",
      "\u001B[1m Column 'race'\u001B[0m|    | sensitive_column_value   |   count_before |   count_after |   ratio_before |   ratio_after |   relative_ratio_change |\n",
      "|---:|:-------------------------|---------------:|--------------:|---------------:|--------------:|------------------------:|\n",
      "|  0 | race1                    |            284 |           284 |       0.32018  |      0.32018  |                       0 |\n",
      "|  1 | race2                    |            232 |           232 |       0.261556 |      0.261556 |                       0 |\n",
      "|  2 | race3                    |            276 |           276 |       0.311161 |      0.311161 |                       0 |\n",
      "|  3 | nan                      |             95 |            95 |       0.107103 |      0.107103 |                       0 |\n",
      "\u001B[1m Column 'age_group'\u001B[0m|    | sensitive_column_value   |   count_before |   count_after |   ratio_before |   ratio_after |   relative_ratio_change |\n",
      "|---:|:-------------------------|---------------:|--------------:|---------------:|--------------:|------------------------:|\n",
      "|  0 | group1                   |            281 |            92 |       0.316798 |      0.317241 |              0.00139894 |\n",
      "|  1 | group2                   |            298 |            99 |       0.335964 |      0.341379 |              0.016119   |\n",
      "|  2 | group3                   |            308 |            99 |       0.347238 |      0.341379 |             -0.0168719  |\n",
      "\u001B[1m Column 'race'\u001B[0m|    | sensitive_column_value   |   count_before |   count_after |   ratio_before |   ratio_after |   relative_ratio_change |\n",
      "|---:|:-------------------------|---------------:|--------------:|---------------:|--------------:|------------------------:|\n",
      "|  0 | race1                    |            284 |           117 |       0.32018  |      0.403448 |               0.260066  |\n",
      "|  1 | race2                    |            232 |           100 |       0.261556 |      0.344828 |               0.318371  |\n",
      "|  2 | race3                    |            276 |            39 |       0.311161 |      0.134483 |              -0.567804  |\n",
      "|  3 | nan                      |             95 |            34 |       0.107103 |      0.117241 |               0.0946642 |\n",
      "\u001B[1m Column 'age_group'\u001B[0m|    | sensitive_column_value   |   count_before |   count_after |   ratio_before |   ratio_after |   relative_ratio_change |\n",
      "|---:|:-------------------------|---------------:|--------------:|---------------:|--------------:|------------------------:|\n",
      "|  0 | group1                   |             92 |            92 |       0.317241 |      0.317241 |                       0 |\n",
      "|  1 | group2                   |             99 |            99 |       0.341379 |      0.341379 |                       0 |\n",
      "|  2 | group3                   |             99 |            99 |       0.341379 |      0.341379 |                       0 |\n",
      "\u001B[1m Column 'race'\u001B[0m|    | sensitive_column_value   |   count_before |   count_after |   ratio_before |   ratio_after |   relative_ratio_change |\n",
      "|---:|:-------------------------|---------------:|--------------:|---------------:|--------------:|------------------------:|\n",
      "|  0 | race1                    |            117 |           151 |       0.403448 |      0.52069  |                0.290598 |\n",
      "|  1 | race2                    |            100 |           100 |       0.344828 |      0.344828 |                0        |\n",
      "|  2 | race3                    |             39 |            39 |       0.134483 |      0.134483 |                0        |\n",
      "|  3 | nan                      |             34 |             0 |       0.117241 |      0        |               -1        |\n",
      "\n",
      "Time spend with original: 1.46018648147583\n",
      "|    | operator_type            | description                                                       | code_reference                                                            | source_code                                     | module                                                                     | 'age_group' distribution change below the configured minimum test threshold   | 'race' distribution change below the configured minimum test threshold   |\n",
      "|---:|:-------------------------|:------------------------------------------------------------------|:--------------------------------------------------------------------------|:------------------------------------------------|:---------------------------------------------------------------------------|:------------------------------------------------------------------------------|:-------------------------------------------------------------------------|\n",
      "|  0 | OperatorType.JOIN        | on '['ssn']'                                                      | CodeReference(lineno=25, col_offset=7, end_lineno=25, end_col_offset=44)  | patients.merge(histories, on=['ssn'])           | FunctionInfo(module='pandas.core.frame', function_name='merge')            | False                                                                         | False                                                                    |\n",
      "|  1 | OperatorType.JOIN        | on '['age_group']'                                                | CodeReference(lineno=28, col_offset=7, end_lineno=28, end_col_offset=50)  | data.merge(complications, on=['age_group'])     | FunctionInfo(module='pandas.core.frame', function_name='merge')            | False                                                                         | False                                                                    |\n",
      "|  2 | OperatorType.SELECTION   | Select by Series: data[data['county'].isin(COUNTIES_OF_INTEREST)] | CodeReference(lineno=31, col_offset=7, end_lineno=31, end_col_offset=54)  | data[data['county'].isin(COUNTIES_OF_INTEREST)] | FunctionInfo(module='pandas.core.frame', function_name='__getitem__')      | False                                                                         | True                                                                     |\n",
      "|  3 | OperatorType.TRANSFORMER | Simple Imputer                                                    | CodeReference(lineno=34, col_offset=15, end_lineno=34, end_col_offset=54) | SimpleImputer(strategy='most_frequent')         | FunctionInfo(module='sklearn.impute._base', function_name='SimpleImputer') | False                                                                         | False                                                                    |\n",
      "\u001B[1m Column 'age_group'\u001B[0m|    | sensitive_column_value   |   count_before |   count_after |   ratio_before |   ratio_after |   relative_ratio_change |\n",
      "|---:|:-------------------------|---------------:|--------------:|---------------:|--------------:|------------------------:|\n",
      "|  0 | group1                   |            281 |           281 |       0.316798 |      0.316798 |                       0 |\n",
      "|  1 | group2                   |            298 |           298 |       0.335964 |      0.335964 |                       0 |\n",
      "|  2 | group3                   |            308 |           308 |       0.347238 |      0.347238 |                       0 |\n",
      "\u001B[1m Column 'race'\u001B[0m|    | sensitive_column_value   |   count_before |   count_after |   ratio_before |   ratio_after |   relative_ratio_change |\n",
      "|---:|:-------------------------|---------------:|--------------:|---------------:|--------------:|------------------------:|\n",
      "|  0 | race1                    |            284 |           284 |       0.32018  |      0.32018  |                       0 |\n",
      "|  1 | race2                    |            232 |           232 |       0.261556 |      0.261556 |                       0 |\n",
      "|  2 | race3                    |            276 |           276 |       0.311161 |      0.311161 |                       0 |\n",
      "|  3 | nan                      |             95 |            95 |       0.107103 |      0.107103 |                       0 |\n",
      "\u001B[1m Column 'age_group'\u001B[0m|    | sensitive_column_value   |   count_before |   count_after |   ratio_before |   ratio_after |   relative_ratio_change |\n",
      "|---:|:-------------------------|---------------:|--------------:|---------------:|--------------:|------------------------:|\n",
      "|  0 | group1                   |              1 |           281 |       0.333333 |      0.316798 |             -0.0496054  |\n",
      "|  1 | group2                   |              1 |           298 |       0.333333 |      0.335964 |              0.00789177 |\n",
      "|  2 | group3                   |              1 |           308 |       0.333333 |      0.347238 |              0.0417136  |\n",
      "\u001B[1m Column 'race'\u001B[0m|    | sensitive_column_value   |   count_before |   count_after |   ratio_before |   ratio_after |   relative_ratio_change |\n",
      "|---:|:-------------------------|---------------:|--------------:|---------------:|--------------:|------------------------:|\n",
      "|  0 | race1                    |            284 |           284 |       0.32018  |      0.32018  |                       0 |\n",
      "|  1 | race2                    |            232 |           232 |       0.261556 |      0.261556 |                       0 |\n",
      "|  2 | race3                    |            276 |           276 |       0.311161 |      0.311161 |                       0 |\n",
      "|  3 | nan                      |             95 |            95 |       0.107103 |      0.107103 |                       0 |\n",
      "\u001B[1m Column 'age_group'\u001B[0m|    | sensitive_column_value   |   count_before |   count_after |   ratio_before |   ratio_after |   relative_ratio_change |\n",
      "|---:|:-------------------------|---------------:|--------------:|---------------:|--------------:|------------------------:|\n",
      "|  0 | group1                   |            281 |            92 |       0.316798 |      0.317241 |              0.00139894 |\n",
      "|  1 | group2                   |            298 |            99 |       0.335964 |      0.341379 |              0.016119   |\n",
      "|  2 | group3                   |            308 |            99 |       0.347238 |      0.341379 |             -0.0168719  |\n",
      "\u001B[1m Column 'race'\u001B[0m|    | sensitive_column_value   |   count_before |   count_after |   ratio_before |   ratio_after |   relative_ratio_change |\n",
      "|---:|:-------------------------|---------------:|--------------:|---------------:|--------------:|------------------------:|\n",
      "|  0 | race1                    |            284 |           117 |       0.32018  |      0.403448 |               0.260066  |\n",
      "|  1 | race2                    |            232 |           100 |       0.261556 |      0.344828 |               0.318371  |\n",
      "|  2 | race3                    |            276 |            39 |       0.311161 |      0.134483 |              -0.567804  |\n",
      "|  3 | nan                      |             95 |            34 |       0.107103 |      0.117241 |               0.0946642 |\n",
      "\u001B[1m Column 'age_group'\u001B[0m|    | sensitive_column_value   |   count_before |   count_after |   ratio_before |   ratio_after |   relative_ratio_change |\n",
      "|---:|:-------------------------|---------------:|--------------:|---------------:|--------------:|------------------------:|\n",
      "|  0 | group1                   |             92 |            92 |       0.317241 |      0.317241 |                       0 |\n",
      "|  1 | group2                   |             99 |            99 |       0.341379 |      0.341379 |                       0 |\n",
      "|  2 | group3                   |             99 |            99 |       0.341379 |      0.341379 |                       0 |\n",
      "\u001B[1m Column 'race'\u001B[0m|    | sensitive_column_value   |   count_before |   count_after |   ratio_before |   ratio_after |   relative_ratio_change |\n",
      "|---:|:-------------------------|---------------:|--------------:|---------------:|--------------:|------------------------:|\n",
      "|  0 | race1                    |            117 |           151 |       0.403448 |      0.52069  |                0.290598 |\n",
      "|  1 | race2                    |            100 |           100 |       0.344828 |      0.344828 |                0        |\n",
      "|  2 | race3                    |             39 |            39 |       0.134483 |      0.134483 |                0        |\n",
      "|  3 | nan                      |             34 |             0 |       0.117241 |      0        |               -1        |\n",
      "\n",
      "Time spend with modified SQL inspections: 0.3975043296813965\n",
      "|    | operator_type            | description                                                       | code_reference                                                            | source_code                                     | module                                                                     | 'age_group' distribution change below the configured minimum test threshold   | 'race' distribution change below the configured minimum test threshold   |\n",
      "|---:|:-------------------------|:------------------------------------------------------------------|:--------------------------------------------------------------------------|:------------------------------------------------|:---------------------------------------------------------------------------|:------------------------------------------------------------------------------|:-------------------------------------------------------------------------|\n",
      "|  0 | OperatorType.JOIN        | on '['ssn']'                                                      | CodeReference(lineno=25, col_offset=7, end_lineno=25, end_col_offset=44)  | patients.merge(histories, on=['ssn'])           | FunctionInfo(module='pandas.core.frame', function_name='merge')            | False                                                                         | False                                                                    |\n",
      "|  1 | OperatorType.JOIN        | on '['age_group']'                                                | CodeReference(lineno=28, col_offset=7, end_lineno=28, end_col_offset=50)  | data.merge(complications, on=['age_group'])     | FunctionInfo(module='pandas.core.frame', function_name='merge')            | False                                                                         | False                                                                    |\n",
      "|  2 | OperatorType.SELECTION   | Select by Series: data[data['county'].isin(COUNTIES_OF_INTEREST)] | CodeReference(lineno=31, col_offset=7, end_lineno=31, end_col_offset=54)  | data[data['county'].isin(COUNTIES_OF_INTEREST)] | FunctionInfo(module='pandas.core.frame', function_name='__getitem__')      | False                                                                         | True                                                                     |\n",
      "|  3 | OperatorType.TRANSFORMER | Simple Imputer                                                    | CodeReference(lineno=34, col_offset=15, end_lineno=34, end_col_offset=54) | SimpleImputer(strategy='most_frequent')         | FunctionInfo(module='sklearn.impute._base', function_name='SimpleImputer') | False                                                                         | False                                                                    |\n",
      "\u001B[1m Column 'age_group'\u001B[0m|    | sensitive_column_value   |   count_before |   count_after |   ratio_before |   ratio_after |   relative_ratio_change |\n",
      "|---:|:-------------------------|---------------:|--------------:|---------------:|--------------:|------------------------:|\n",
      "|  0 | group1                   |            281 |           281 |       0.316798 |      0.316798 |                       0 |\n",
      "|  1 | group2                   |            298 |           298 |       0.335964 |      0.335964 |                       0 |\n",
      "|  2 | group3                   |            308 |           308 |       0.347238 |      0.347238 |                       0 |\n",
      "\u001B[1m Column 'race'\u001B[0m|    | sensitive_column_value   |   count_before |   count_after |   ratio_before |   ratio_after |   relative_ratio_change |\n",
      "|---:|:-------------------------|---------------:|--------------:|---------------:|--------------:|------------------------:|\n",
      "|  0 | race1                    |            284 |           284 |       0.32018  |      0.32018  |                       0 |\n",
      "|  1 | race2                    |            232 |           232 |       0.261556 |      0.261556 |                       0 |\n",
      "|  2 | race3                    |            276 |           276 |       0.311161 |      0.311161 |                       0 |\n",
      "|  3 | nan                      |             95 |            95 |       0.107103 |      0.107103 |                       0 |\n",
      "\u001B[1m Column 'age_group'\u001B[0m|    | sensitive_column_value   |   count_before |   count_after |   ratio_before |   ratio_after |   relative_ratio_change |\n",
      "|---:|:-------------------------|---------------:|--------------:|---------------:|--------------:|------------------------:|\n",
      "|  0 | group1                   |              1 |           281 |       0.333333 |      0.316798 |             -0.0496054  |\n",
      "|  1 | group2                   |              1 |           298 |       0.333333 |      0.335964 |              0.00789177 |\n",
      "|  2 | group3                   |              1 |           308 |       0.333333 |      0.347238 |              0.0417136  |\n",
      "\u001B[1m Column 'race'\u001B[0m|    | sensitive_column_value   |   count_before |   count_after |   ratio_before |   ratio_after |   relative_ratio_change |\n",
      "|---:|:-------------------------|---------------:|--------------:|---------------:|--------------:|------------------------:|\n",
      "|  0 | race1                    |            284 |           284 |       0.32018  |      0.32018  |                       0 |\n",
      "|  1 | race2                    |            232 |           232 |       0.261556 |      0.261556 |                       0 |\n",
      "|  2 | race3                    |            276 |           276 |       0.311161 |      0.311161 |                       0 |\n",
      "|  3 | nan                      |             95 |            95 |       0.107103 |      0.107103 |                       0 |\n",
      "\u001B[1m Column 'age_group'\u001B[0m|    | sensitive_column_value   |   count_before |   count_after |   ratio_before |   ratio_after |   relative_ratio_change |\n",
      "|---:|:-------------------------|---------------:|--------------:|---------------:|--------------:|------------------------:|\n",
      "|  0 | group1                   |            281 |            92 |       0.316798 |      0.317241 |              0.00139894 |\n",
      "|  1 | group2                   |            298 |            99 |       0.335964 |      0.341379 |              0.016119   |\n",
      "|  2 | group3                   |            308 |            99 |       0.347238 |      0.341379 |             -0.0168719  |\n",
      "\u001B[1m Column 'race'\u001B[0m|    | sensitive_column_value   |   count_before |   count_after |   ratio_before |   ratio_after |   relative_ratio_change |\n",
      "|---:|:-------------------------|---------------:|--------------:|---------------:|--------------:|------------------------:|\n",
      "|  0 | race1                    |            284 |           117 |       0.32018  |      0.403448 |               0.260066  |\n",
      "|  1 | race2                    |            232 |           100 |       0.261556 |      0.344828 |               0.318371  |\n",
      "|  2 | race3                    |            276 |            39 |       0.311161 |      0.134483 |              -0.567804  |\n",
      "|  3 | nan                      |             95 |            34 |       0.107103 |      0.117241 |               0.0946642 |\n",
      "\u001B[1m Column 'age_group'\u001B[0m|    | sensitive_column_value   |   count_before |   count_after |   ratio_before |   ratio_after |   relative_ratio_change |\n",
      "|---:|:-------------------------|---------------:|--------------:|---------------:|--------------:|------------------------:|\n",
      "|  0 | group1                   |             92 |            92 |       0.317241 |      0.317241 |                       0 |\n",
      "|  1 | group2                   |             99 |            99 |       0.341379 |      0.341379 |                       0 |\n",
      "|  2 | group3                   |             99 |            99 |       0.341379 |      0.341379 |                       0 |\n",
      "\u001B[1m Column 'race'\u001B[0m|    | sensitive_column_value   |   count_before |   count_after |   ratio_before |   ratio_after |   relative_ratio_change |\n",
      "|---:|:-------------------------|---------------:|--------------:|---------------:|--------------:|------------------------:|\n",
      "|  0 | race1                    |            117 |           151 |       0.403448 |      0.52069  |                0.290598 |\n",
      "|  1 | race2                    |            100 |           100 |       0.344828 |      0.344828 |                0        |\n",
      "|  2 | race3                    |             39 |            39 |       0.134483 |      0.134483 |                0        |\n",
      "|  3 | nan                      |             34 |             0 |       0.117241 |      0        |               -1        |\n",
      "\n",
      "Time spend with modified SQL inspections: 0.39014196395874023\n"
     ]
    },
    {
     "data": {
      "text/plain": "<Figure size 288x288 with 1 Axes>",
      "image/png": "[encoded data removed]"
     },
     "metadata": {},
     "output_type": "display_data"
    }
   ],
   "source": [
    "run_for_all(HEALTHCARE_FILE_PY_R, HEALTHCARE_BIAS, mode=\"CTE\", materialize=None)\n"
   ],
   "metadata": {
    "collapsed": false,
    "pycharm": {
     "name": "#%%\n"
    }
   }
  },
  {
   "cell_type": "code",
   "execution_count": 5,
   "outputs": [
    {
     "name": "stdout",
     "output_type": "stream",
     "text": [
      "|    | operator_type          | description                                                                                                                  | code_reference                                                             | source_code                                                                                                | module                                                                | 'sex' distribution change below the configured minimum test threshold   | 'race' distribution change below the configured minimum test threshold   |\n",
      "|---:|:-----------------------|:-----------------------------------------------------------------------------------------------------------------------------|:---------------------------------------------------------------------------|:-----------------------------------------------------------------------------------------------------------|:----------------------------------------------------------------------|:------------------------------------------------------------------------|:-------------------------------------------------------------------------|\n",
      "|  0 | OperatorType.SELECTION | Select by Series: train_data[(train_data['days_b_screening_arrest'] <= 30) & (train_data['days_b_screening_arrest'] >= -30)] | CodeReference(lineno=27, col_offset=13, end_lineno=27, end_col_offset=119) | train_data[(train_data['days_b_screening_arrest'] <= 30) & (train_data['days_b_screening_arrest'] >= -30)] | FunctionInfo(module='pandas.core.frame', function_name='__getitem__') | False                                                                   | True                                                                     |\n",
      "|  1 | OperatorType.SELECTION | Select by Series: train_data[train_data['is_recid'] != -1]                                                                   | CodeReference(lineno=28, col_offset=13, end_lineno=28, end_col_offset=53)  | train_data[train_data['is_recid'] != -1]                                                                   | FunctionInfo(module='pandas.core.frame', function_name='__getitem__') | False                                                                   | False                                                                    |\n",
      "|  2 | OperatorType.SELECTION | Select by Series: train_data[train_data['c_charge_degree'] != \"O\"]                                                           | CodeReference(lineno=29, col_offset=13, end_lineno=29, end_col_offset=61)  | train_data[train_data['c_charge_degree'] != \"O\"]                                                           | FunctionInfo(module='pandas.core.frame', function_name='__getitem__') | False                                                                   | False                                                                    |\n",
      "|  3 | OperatorType.SELECTION | Select by Series: train_data[train_data['score_text'] != 'N/A']                                                              | CodeReference(lineno=30, col_offset=13, end_lineno=30, end_col_offset=58)  | train_data[train_data['score_text'] != 'N/A']                                                              | FunctionInfo(module='pandas.core.frame', function_name='__getitem__') | False                                                                   | False                                                                    |\n",
      "\u001B[1m Column 'sex'\u001B[0m|    | sensitive_column_value   |   count_before |   count_after |   ratio_before |   ratio_after |   relative_ratio_change |\n",
      "|---:|:-------------------------|---------------:|--------------:|---------------:|--------------:|------------------------:|\n",
      "|  0 | Female                   |            970 |           825 |       0.192117 |      0.191105 |             -0.00526927 |\n",
      "|  1 | Male                     |           4079 |          3492 |       0.807883 |      0.808895 |              0.00125305 |\n",
      "\u001B[1m Column 'race'\u001B[0m|    | sensitive_column_value   |   count_before |   count_after |   ratio_before |   ratio_after |   relative_ratio_change |\n",
      "|---:|:-------------------------|---------------:|--------------:|---------------:|--------------:|------------------------:|\n",
      "|  0 | African-American         |           2588 |          2228 |     0.512577   |    0.516099   |              0.00687194 |\n",
      "|  1 | Asian                    |             23 |            22 |     0.00455536 |    0.00509613 |              0.118712   |\n",
      "|  2 | Caucasian                |           1707 |          1462 |     0.338087   |    0.338661   |              0.00169885 |\n",
      "|  3 | Hispanic                 |            452 |           357 |     0.0895227  |    0.0826963  |             -0.0762529  |\n",
      "|  4 | Native American          |             14 |             8 |     0.00277283 |    0.00185314 |             -0.331679   |\n",
      "|  5 | Other                    |            265 |           240 |     0.0524856  |    0.0555942  |              0.0592261  |\n",
      "\u001B[1m Column 'sex'\u001B[0m|    | sensitive_column_value   |   count_before |   count_after |   ratio_before |   ratio_after |   relative_ratio_change |\n",
      "|---:|:-------------------------|---------------:|--------------:|---------------:|--------------:|------------------------:|\n",
      "|  0 | Female                   |            825 |           825 |       0.191105 |      0.191105 |                       0 |\n",
      "|  1 | Male                     |           3492 |          3492 |       0.808895 |      0.808895 |                       0 |\n",
      "\u001B[1m Column 'race'\u001B[0m|    | sensitive_column_value   |   count_before |   count_after |   ratio_before |   ratio_after |   relative_ratio_change |\n",
      "|---:|:-------------------------|---------------:|--------------:|---------------:|--------------:|------------------------:|\n",
      "|  0 | African-American         |           2228 |          2228 |     0.516099   |    0.516099   |                       0 |\n",
      "|  1 | Asian                    |             22 |            22 |     0.00509613 |    0.00509613 |                       0 |\n",
      "|  2 | Caucasian                |           1462 |          1462 |     0.338661   |    0.338661   |                       0 |\n",
      "|  3 | Hispanic                 |            357 |           357 |     0.0826963  |    0.0826963  |                       0 |\n",
      "|  4 | Native American          |              8 |             8 |     0.00185314 |    0.00185314 |                       0 |\n",
      "|  5 | Other                    |            240 |           240 |     0.0555942  |    0.0555942  |                       0 |\n",
      "\u001B[1m Column 'sex'\u001B[0m|    | sensitive_column_value   |   count_before |   count_after |   ratio_before |   ratio_after |   relative_ratio_change |\n",
      "|---:|:-------------------------|---------------:|--------------:|---------------:|--------------:|------------------------:|\n",
      "|  0 | Female                   |            825 |           825 |       0.191105 |      0.191105 |                       0 |\n",
      "|  1 | Male                     |           3492 |          3492 |       0.808895 |      0.808895 |                       0 |\n",
      "\u001B[1m Column 'race'\u001B[0m|    | sensitive_column_value   |   count_before |   count_after |   ratio_before |   ratio_after |   relative_ratio_change |\n",
      "|---:|:-------------------------|---------------:|--------------:|---------------:|--------------:|------------------------:|\n",
      "|  0 | African-American         |           2228 |          2228 |     0.516099   |    0.516099   |                       0 |\n",
      "|  1 | Asian                    |             22 |            22 |     0.00509613 |    0.00509613 |                       0 |\n",
      "|  2 | Caucasian                |           1462 |          1462 |     0.338661   |    0.338661   |                       0 |\n",
      "|  3 | Hispanic                 |            357 |           357 |     0.0826963  |    0.0826963  |                       0 |\n",
      "|  4 | Native American          |              8 |             8 |     0.00185314 |    0.00185314 |                       0 |\n",
      "|  5 | Other                    |            240 |           240 |     0.0555942  |    0.0555942  |                       0 |\n",
      "\u001B[1m Column 'sex'\u001B[0m|    | sensitive_column_value   |   count_before |   count_after |   ratio_before |   ratio_after |   relative_ratio_change |\n",
      "|---:|:-------------------------|---------------:|--------------:|---------------:|--------------:|------------------------:|\n",
      "|  0 | Female                   |            825 |           825 |       0.191105 |      0.191105 |                       0 |\n",
      "|  1 | Male                     |           3492 |          3492 |       0.808895 |      0.808895 |                       0 |\n",
      "\u001B[1m Column 'race'\u001B[0m|    | sensitive_column_value   |   count_before |   count_after |   ratio_before |   ratio_after |   relative_ratio_change |\n",
      "|---:|:-------------------------|---------------:|--------------:|---------------:|--------------:|------------------------:|\n",
      "|  0 | African-American         |           2228 |          2228 |     0.516099   |    0.516099   |                       0 |\n",
      "|  1 | Asian                    |             22 |            22 |     0.00509613 |    0.00509613 |                       0 |\n",
      "|  2 | Caucasian                |           1462 |          1462 |     0.338661   |    0.338661   |                       0 |\n",
      "|  3 | Hispanic                 |            357 |           357 |     0.0826963  |    0.0826963  |                       0 |\n",
      "|  4 | Native American          |              8 |             8 |     0.00185314 |    0.00185314 |                       0 |\n",
      "|  5 | Other                    |            240 |           240 |     0.0555942  |    0.0555942  |                       0 |\n",
      "\n",
      "Time spend with original: 1.372272253036499\n",
      "|    | operator_type          | description                                                                                                                  | code_reference                                                             | source_code                                                                                                | module                                                                | 'sex' distribution change below the configured minimum test threshold   | 'race' distribution change below the configured minimum test threshold   |\n",
      "|---:|:-----------------------|:-----------------------------------------------------------------------------------------------------------------------------|:---------------------------------------------------------------------------|:-----------------------------------------------------------------------------------------------------------|:----------------------------------------------------------------------|:------------------------------------------------------------------------|:-------------------------------------------------------------------------|\n",
      "|  0 | OperatorType.SELECTION | Select by Series: train_data[(train_data['days_b_screening_arrest'] <= 30) & (train_data['days_b_screening_arrest'] >= -30)] | CodeReference(lineno=27, col_offset=13, end_lineno=27, end_col_offset=119) | train_data[(train_data['days_b_screening_arrest'] <= 30) & (train_data['days_b_screening_arrest'] >= -30)] | FunctionInfo(module='pandas.core.frame', function_name='__getitem__') | False                                                                   | True                                                                     |\n",
      "|  1 | OperatorType.SELECTION | Select by Series: train_data[train_data['is_recid'] != -1]                                                                   | CodeReference(lineno=28, col_offset=13, end_lineno=28, end_col_offset=53)  | train_data[train_data['is_recid'] != -1]                                                                   | FunctionInfo(module='pandas.core.frame', function_name='__getitem__') | False                                                                   | False                                                                    |\n",
      "|  2 | OperatorType.SELECTION | Select by Series: train_data[train_data['c_charge_degree'] != \"O\"]                                                           | CodeReference(lineno=29, col_offset=13, end_lineno=29, end_col_offset=61)  | train_data[train_data['c_charge_degree'] != \"O\"]                                                           | FunctionInfo(module='pandas.core.frame', function_name='__getitem__') | False                                                                   | False                                                                    |\n",
      "|  3 | OperatorType.SELECTION | Select by Series: train_data[train_data['score_text'] != 'N/A']                                                              | CodeReference(lineno=30, col_offset=13, end_lineno=30, end_col_offset=58)  | train_data[train_data['score_text'] != 'N/A']                                                              | FunctionInfo(module='pandas.core.frame', function_name='__getitem__') | False                                                                   | False                                                                    |\n",
      "\u001B[1m Column 'sex'\u001B[0m|    | sensitive_column_value   |   count_before |   count_after |   ratio_before |   ratio_after |   relative_ratio_change |\n",
      "|---:|:-------------------------|---------------:|--------------:|---------------:|--------------:|------------------------:|\n",
      "|  0 | Female                   |            970 |           825 |       0.192117 |      0.191105 |             -0.00526927 |\n",
      "|  1 | Male                     |           4079 |          3492 |       0.807883 |      0.808895 |              0.00125305 |\n",
      "\u001B[1m Column 'race'\u001B[0m|    | sensitive_column_value   |   count_before |   count_after |   ratio_before |   ratio_after |   relative_ratio_change |\n",
      "|---:|:-------------------------|---------------:|--------------:|---------------:|--------------:|------------------------:|\n",
      "|  0 | African-American         |           2588 |          2228 |     0.512577   |    0.516099   |              0.00687194 |\n",
      "|  1 | Asian                    |             23 |            22 |     0.00455536 |    0.00509613 |              0.118712   |\n",
      "|  2 | Caucasian                |           1707 |          1462 |     0.338087   |    0.338661   |              0.00169885 |\n",
      "|  3 | Hispanic                 |            452 |           357 |     0.0895227  |    0.0826963  |             -0.0762529  |\n",
      "|  4 | Native American          |             14 |             8 |     0.00277283 |    0.00185314 |             -0.331679   |\n",
      "|  5 | Other                    |            265 |           240 |     0.0524856  |    0.0555942  |              0.0592261  |\n",
      "\u001B[1m Column 'sex'\u001B[0m|    | sensitive_column_value   |   count_before |   count_after |   ratio_before |   ratio_after |   relative_ratio_change |\n",
      "|---:|:-------------------------|---------------:|--------------:|---------------:|--------------:|------------------------:|\n",
      "|  0 | Female                   |            825 |           825 |       0.191105 |      0.191105 |                       0 |\n",
      "|  1 | Male                     |           3492 |          3492 |       0.808895 |      0.808895 |                       0 |\n",
      "\u001B[1m Column 'race'\u001B[0m|    | sensitive_column_value   |   count_before |   count_after |   ratio_before |   ratio_after |   relative_ratio_change |\n",
      "|---:|:-------------------------|---------------:|--------------:|---------------:|--------------:|------------------------:|\n",
      "|  0 | African-American         |           2228 |          2228 |     0.516099   |    0.516099   |                       0 |\n",
      "|  1 | Asian                    |             22 |            22 |     0.00509613 |    0.00509613 |                       0 |\n",
      "|  2 | Caucasian                |           1462 |          1462 |     0.338661   |    0.338661   |                       0 |\n",
      "|  3 | Hispanic                 |            357 |           357 |     0.0826963  |    0.0826963  |                       0 |\n",
      "|  4 | Native American          |              8 |             8 |     0.00185314 |    0.00185314 |                       0 |\n",
      "|  5 | Other                    |            240 |           240 |     0.0555942  |    0.0555942  |                       0 |\n",
      "\u001B[1m Column 'sex'\u001B[0m|    | sensitive_column_value   |   count_before |   count_after |   ratio_before |   ratio_after |   relative_ratio_change |\n",
      "|---:|:-------------------------|---------------:|--------------:|---------------:|--------------:|------------------------:|\n",
      "|  0 | Female                   |            825 |           825 |       0.191105 |      0.191105 |                       0 |\n",
      "|  1 | Male                     |           3492 |          3492 |       0.808895 |      0.808895 |                       0 |\n",
      "\u001B[1m Column 'race'\u001B[0m|    | sensitive_column_value   |   count_before |   count_after |   ratio_before |   ratio_after |   relative_ratio_change |\n",
      "|---:|:-------------------------|---------------:|--------------:|---------------:|--------------:|------------------------:|\n",
      "|  0 | African-American         |           2228 |          2228 |     0.516099   |    0.516099   |                       0 |\n",
      "|  1 | Asian                    |             22 |            22 |     0.00509613 |    0.00509613 |                       0 |\n",
      "|  2 | Caucasian                |           1462 |          1462 |     0.338661   |    0.338661   |                       0 |\n",
      "|  3 | Hispanic                 |            357 |           357 |     0.0826963  |    0.0826963  |                       0 |\n",
      "|  4 | Native American          |              8 |             8 |     0.00185314 |    0.00185314 |                       0 |\n",
      "|  5 | Other                    |            240 |           240 |     0.0555942  |    0.0555942  |                       0 |\n",
      "\u001B[1m Column 'sex'\u001B[0m|    | sensitive_column_value   |   count_before |   count_after |   ratio_before |   ratio_after |   relative_ratio_change |\n",
      "|---:|:-------------------------|---------------:|--------------:|---------------:|--------------:|------------------------:|\n",
      "|  0 | Female                   |            825 |           825 |       0.191105 |      0.191105 |                       0 |\n",
      "|  1 | Male                     |           3492 |          3492 |       0.808895 |      0.808895 |                       0 |\n",
      "\u001B[1m Column 'race'\u001B[0m|    | sensitive_column_value   |   count_before |   count_after |   ratio_before |   ratio_after |   relative_ratio_change |\n",
      "|---:|:-------------------------|---------------:|--------------:|---------------:|--------------:|------------------------:|\n",
      "|  0 | African-American         |           2228 |          2228 |     0.516099   |    0.516099   |                       0 |\n",
      "|  1 | Asian                    |             22 |            22 |     0.00509613 |    0.00509613 |                       0 |\n",
      "|  2 | Caucasian                |           1462 |          1462 |     0.338661   |    0.338661   |                       0 |\n",
      "|  3 | Hispanic                 |            357 |           357 |     0.0826963  |    0.0826963  |                       0 |\n",
      "|  4 | Native American          |              8 |             8 |     0.00185314 |    0.00185314 |                       0 |\n",
      "|  5 | Other                    |            240 |           240 |     0.0555942  |    0.0555942  |                       0 |\n",
      "\n",
      "Time spend with modified SQL inspections: 0.8636095523834229\n",
      "|    | operator_type          | description                                                                                                                  | code_reference                                                             | source_code                                                                                                | module                                                                | 'sex' distribution change below the configured minimum test threshold   | 'race' distribution change below the configured minimum test threshold   |\n",
      "|---:|:-----------------------|:-----------------------------------------------------------------------------------------------------------------------------|:---------------------------------------------------------------------------|:-----------------------------------------------------------------------------------------------------------|:----------------------------------------------------------------------|:------------------------------------------------------------------------|:-------------------------------------------------------------------------|\n",
      "|  0 | OperatorType.SELECTION | Select by Series: train_data[(train_data['days_b_screening_arrest'] <= 30) & (train_data['days_b_screening_arrest'] >= -30)] | CodeReference(lineno=27, col_offset=13, end_lineno=27, end_col_offset=119) | train_data[(train_data['days_b_screening_arrest'] <= 30) & (train_data['days_b_screening_arrest'] >= -30)] | FunctionInfo(module='pandas.core.frame', function_name='__getitem__') | False                                                                   | True                                                                     |\n",
      "|  1 | OperatorType.SELECTION | Select by Series: train_data[train_data['is_recid'] != -1]                                                                   | CodeReference(lineno=28, col_offset=13, end_lineno=28, end_col_offset=53)  | train_data[train_data['is_recid'] != -1]                                                                   | FunctionInfo(module='pandas.core.frame', function_name='__getitem__') | False                                                                   | False                                                                    |\n",
      "|  2 | OperatorType.SELECTION | Select by Series: train_data[train_data['c_charge_degree'] != \"O\"]                                                           | CodeReference(lineno=29, col_offset=13, end_lineno=29, end_col_offset=61)  | train_data[train_data['c_charge_degree'] != \"O\"]                                                           | FunctionInfo(module='pandas.core.frame', function_name='__getitem__') | False                                                                   | False                                                                    |\n",
      "|  3 | OperatorType.SELECTION | Select by Series: train_data[train_data['score_text'] != 'N/A']                                                              | CodeReference(lineno=30, col_offset=13, end_lineno=30, end_col_offset=58)  | train_data[train_data['score_text'] != 'N/A']                                                              | FunctionInfo(module='pandas.core.frame', function_name='__getitem__') | False                                                                   | False                                                                    |\n",
      "\u001B[1m Column 'sex'\u001B[0m|    | sensitive_column_value   |   count_before |   count_after |   ratio_before |   ratio_after |   relative_ratio_change |\n",
      "|---:|:-------------------------|---------------:|--------------:|---------------:|--------------:|------------------------:|\n",
      "|  0 | Female                   |            970 |           825 |       0.192117 |      0.191105 |             -0.00526927 |\n",
      "|  1 | Male                     |           4079 |          3492 |       0.807883 |      0.808895 |              0.00125305 |\n",
      "\u001B[1m Column 'race'\u001B[0m|    | sensitive_column_value   |   count_before |   count_after |   ratio_before |   ratio_after |   relative_ratio_change |\n",
      "|---:|:-------------------------|---------------:|--------------:|---------------:|--------------:|------------------------:|\n",
      "|  0 | African-American         |           2588 |          2228 |     0.512577   |    0.516099   |              0.00687194 |\n",
      "|  1 | Asian                    |             23 |            22 |     0.00455536 |    0.00509613 |              0.118712   |\n",
      "|  2 | Caucasian                |           1707 |          1462 |     0.338087   |    0.338661   |              0.00169885 |\n",
      "|  3 | Hispanic                 |            452 |           357 |     0.0895227  |    0.0826963  |             -0.0762529  |\n",
      "|  4 | Native American          |             14 |             8 |     0.00277283 |    0.00185314 |             -0.331679   |\n",
      "|  5 | Other                    |            265 |           240 |     0.0524856  |    0.0555942  |              0.0592261  |\n",
      "\u001B[1m Column 'sex'\u001B[0m|    | sensitive_column_value   |   count_before |   count_after |   ratio_before |   ratio_after |   relative_ratio_change |\n",
      "|---:|:-------------------------|---------------:|--------------:|---------------:|--------------:|------------------------:|\n",
      "|  0 | Female                   |            825 |           825 |       0.191105 |      0.191105 |                       0 |\n",
      "|  1 | Male                     |           3492 |          3492 |       0.808895 |      0.808895 |                       0 |\n",
      "\u001B[1m Column 'race'\u001B[0m|    | sensitive_column_value   |   count_before |   count_after |   ratio_before |   ratio_after |   relative_ratio_change |\n",
      "|---:|:-------------------------|---------------:|--------------:|---------------:|--------------:|------------------------:|\n",
      "|  0 | African-American         |           2228 |          2228 |     0.516099   |    0.516099   |                       0 |\n",
      "|  1 | Asian                    |             22 |            22 |     0.00509613 |    0.00509613 |                       0 |\n",
      "|  2 | Caucasian                |           1462 |          1462 |     0.338661   |    0.338661   |                       0 |\n",
      "|  3 | Hispanic                 |            357 |           357 |     0.0826963  |    0.0826963  |                       0 |\n",
      "|  4 | Native American          |              8 |             8 |     0.00185314 |    0.00185314 |                       0 |\n",
      "|  5 | Other                    |            240 |           240 |     0.0555942  |    0.0555942  |                       0 |\n",
      "\u001B[1m Column 'sex'\u001B[0m|    | sensitive_column_value   |   count_before |   count_after |   ratio_before |   ratio_after |   relative_ratio_change |\n",
      "|---:|:-------------------------|---------------:|--------------:|---------------:|--------------:|------------------------:|\n",
      "|  0 | Female                   |            825 |           825 |       0.191105 |      0.191105 |                       0 |\n",
      "|  1 | Male                     |           3492 |          3492 |       0.808895 |      0.808895 |                       0 |\n",
      "\u001B[1m Column 'race'\u001B[0m|    | sensitive_column_value   |   count_before |   count_after |   ratio_before |   ratio_after |   relative_ratio_change |\n",
      "|---:|:-------------------------|---------------:|--------------:|---------------:|--------------:|------------------------:|\n",
      "|  0 | African-American         |           2228 |          2228 |     0.516099   |    0.516099   |                       0 |\n",
      "|  1 | Asian                    |             22 |            22 |     0.00509613 |    0.00509613 |                       0 |\n",
      "|  2 | Caucasian                |           1462 |          1462 |     0.338661   |    0.338661   |                       0 |\n",
      "|  3 | Hispanic                 |            357 |           357 |     0.0826963  |    0.0826963  |                       0 |\n",
      "|  4 | Native American          |              8 |             8 |     0.00185314 |    0.00185314 |                       0 |\n",
      "|  5 | Other                    |            240 |           240 |     0.0555942  |    0.0555942  |                       0 |\n",
      "\u001B[1m Column 'sex'\u001B[0m|    | sensitive_column_value   |   count_before |   count_after |   ratio_before |   ratio_after |   relative_ratio_change |\n",
      "|---:|:-------------------------|---------------:|--------------:|---------------:|--------------:|------------------------:|\n",
      "|  0 | Female                   |            825 |           825 |       0.191105 |      0.191105 |                       0 |\n",
      "|  1 | Male                     |           3492 |          3492 |       0.808895 |      0.808895 |                       0 |\n",
      "\u001B[1m Column 'race'\u001B[0m|    | sensitive_column_value   |   count_before |   count_after |   ratio_before |   ratio_after |   relative_ratio_change |\n",
      "|---:|:-------------------------|---------------:|--------------:|---------------:|--------------:|------------------------:|\n",
      "|  0 | African-American         |           2228 |          2228 |     0.516099   |    0.516099   |                       0 |\n",
      "|  1 | Asian                    |             22 |            22 |     0.00509613 |    0.00509613 |                       0 |\n",
      "|  2 | Caucasian                |           1462 |          1462 |     0.338661   |    0.338661   |                       0 |\n",
      "|  3 | Hispanic                 |            357 |           357 |     0.0826963  |    0.0826963  |                       0 |\n",
      "|  4 | Native American          |              8 |             8 |     0.00185314 |    0.00185314 |                       0 |\n",
      "|  5 | Other                    |            240 |           240 |     0.0555942  |    0.0555942  |                       0 |\n",
      "\n",
      "Time spend with modified SQL inspections: 0.7007842063903809\n"
     ]
    },
    {
     "data": {
      "text/plain": "<Figure size 288x288 with 1 Axes>",
      "image/png": "[encoded data removed]"
     },
     "metadata": {},
     "output_type": "display_data"
    }
   ],
   "source": [
    "run_for_all(COMPAS_FILE_PY_R, COMPAS_BIAS, mode=\"CTE\", materialize=None)\n"
   ],
   "metadata": {
    "collapsed": false,
    "pycharm": {
     "name": "#%%\n"
    }
   }
  },
  {
   "cell_type": "markdown",
   "source": [
    "## End-to-End example of the preprocessing-pipeline inspection + model training:\n",
    "\n",
    "Slightly different inspections results are expected because of the random split. Still, the resulting model accuracy should\n",
    "be similar."
   ],
   "metadata": {
    "collapsed": false
   }
  },
  {
   "cell_type": "code",
   "execution_count": 6,
   "outputs": [
    {
     "name": "stderr",
     "output_type": "stream",
     "text": [
      "2021-09-14 15:42:04.966426: W tensorflow/stream_executor/platform/default/dso_loader.cc:64] Could not load dynamic library 'libcuda.so.1'; dlerror: libcuda.so.1: cannot open shared object file: No such file or directory\n",
      "2021-09-14 15:42:04.966455: W tensorflow/stream_executor/cuda/cuda_driver.cc:326] failed call to cuInit: UNKNOWN ERROR (303)\n",
      "2021-09-14 15:42:04.966469: I tensorflow/stream_executor/cuda/cuda_diagnostics.cc:156] kernel driver does not appear to be running on this host (luca-TUXEDO-Pulse-15-Gen1): /proc/driver/nvidia/version does not exist\n",
      "2021-09-14 15:42:04.966629: I tensorflow/core/platform/cpu_feature_guard.cc:142] This TensorFlow binary is optimized with oneAPI Deep Neural Network Library (oneDNN) to use the following CPU instructions in performance-critical operations:  AVX2 FMA\n",
      "To enable them in other operations, rebuild TensorFlow with the appropriate compiler flags.\n",
      "2021-09-14 15:42:05.113331: I tensorflow/compiler/mlir/mlir_graph_optimization_pass.cc:176] None of the MLIR Optimization Passes are enabled (registered 2)\n",
      "2021-09-14 15:42:05.130781: I tensorflow/core/platform/profile_utils/cpu_utils.cc:114] CPU Frequency: 2894525000 Hz\n"
     ]
    },
    {
     "ename": "AttributeError",
     "evalue": "'NoneType' object has no attribute '_iter'",
     "output_type": "error",
     "traceback": [
      "\u001B[0;31m---------------------------------------------------------------------------\u001B[0m",
      "\u001B[0;31mAttributeError\u001B[0m                            Traceback (most recent call last)",
      "\u001B[0;32m/tmp/ipykernel_616429/59564321.py\u001B[0m in \u001B[0;36m<module>\u001B[0;34m\u001B[0m\n\u001B[0;32m----> 1\u001B[0;31m \u001B[0mrun_for_all\u001B[0m\u001B[0;34m(\u001B[0m\u001B[0mHEALTHCARE_FILE_PY\u001B[0m\u001B[0;34m,\u001B[0m \u001B[0mHEALTHCARE_BIAS\u001B[0m\u001B[0;34m,\u001B[0m \u001B[0mmode\u001B[0m\u001B[0;34m=\u001B[0m\u001B[0;34m\"VIEW\"\u001B[0m\u001B[0;34m,\u001B[0m \u001B[0mmaterialize\u001B[0m\u001B[0;34m=\u001B[0m\u001B[0;32mTrue\u001B[0m\u001B[0;34m)\u001B[0m\u001B[0;34m\u001B[0m\u001B[0;34m\u001B[0m\u001B[0m\n\u001B[0m\u001B[1;32m      2\u001B[0m \u001B[0;34m\u001B[0m\u001B[0m\n\u001B[1;32m      3\u001B[0m \u001B[0;34m\u001B[0m\u001B[0m\n\u001B[1;32m      4\u001B[0m \u001B[0;34m\u001B[0m\u001B[0m\n",
      "\u001B[0;32m/tmp/ipykernel_616429/4020250218.py\u001B[0m in \u001B[0;36mrun_for_all\u001B[0;34m(file_location, bias, mode, materialize)\u001B[0m\n\u001B[1;32m      8\u001B[0m \u001B[0;32mdef\u001B[0m \u001B[0mrun_for_all\u001B[0m\u001B[0;34m(\u001B[0m\u001B[0mfile_location\u001B[0m\u001B[0;34m,\u001B[0m \u001B[0mbias\u001B[0m\u001B[0;34m,\u001B[0m \u001B[0mmode\u001B[0m\u001B[0;34m=\u001B[0m\u001B[0;34m\"\"\u001B[0m\u001B[0;34m,\u001B[0m \u001B[0mmaterialize\u001B[0m\u001B[0;34m=\u001B[0m\u001B[0;32mNone\u001B[0m\u001B[0;34m)\u001B[0m\u001B[0;34m:\u001B[0m\u001B[0;34m\u001B[0m\u001B[0;34m\u001B[0m\u001B[0m\n\u001B[1;32m      9\u001B[0m     \u001B[0mt0\u001B[0m \u001B[0;34m=\u001B[0m \u001B[0mtime\u001B[0m\u001B[0;34m.\u001B[0m\u001B[0mtime\u001B[0m\u001B[0;34m(\u001B[0m\u001B[0;34m)\u001B[0m\u001B[0;34m\u001B[0m\u001B[0;34m\u001B[0m\u001B[0m\n\u001B[0;32m---> 10\u001B[0;31m     \u001B[0mrun_inspection\u001B[0m\u001B[0;34m(\u001B[0m\u001B[0mfile_location\u001B[0m\u001B[0;34m=\u001B[0m\u001B[0mfile_location\u001B[0m\u001B[0;34m,\u001B[0m \u001B[0mbias\u001B[0m\u001B[0;34m=\u001B[0m\u001B[0mbias\u001B[0m\u001B[0;34m,\u001B[0m \u001B[0mto_sql\u001B[0m\u001B[0;34m=\u001B[0m\u001B[0;32mFalse\u001B[0m\u001B[0;34m)\u001B[0m\u001B[0;34m\u001B[0m\u001B[0;34m\u001B[0m\u001B[0m\n\u001B[0m\u001B[1;32m     11\u001B[0m     \u001B[0mt1\u001B[0m \u001B[0;34m=\u001B[0m \u001B[0mtime\u001B[0m\u001B[0;34m.\u001B[0m\u001B[0mtime\u001B[0m\u001B[0;34m(\u001B[0m\u001B[0;34m)\u001B[0m\u001B[0;34m\u001B[0m\u001B[0;34m\u001B[0m\u001B[0m\n\u001B[1;32m     12\u001B[0m     \u001B[0mprint\u001B[0m\u001B[0;34m(\u001B[0m\u001B[0;34m\"\\nTime spend with original: \"\u001B[0m \u001B[0;34m+\u001B[0m \u001B[0mstr\u001B[0m\u001B[0;34m(\u001B[0m\u001B[0mt1\u001B[0m \u001B[0;34m-\u001B[0m \u001B[0mt0\u001B[0m\u001B[0;34m)\u001B[0m\u001B[0;34m)\u001B[0m\u001B[0;34m\u001B[0m\u001B[0;34m\u001B[0m\u001B[0m\n",
      "\u001B[0;32m/tmp/ipykernel_616429/1064766331.py\u001B[0m in \u001B[0;36mrun_inspection\u001B[0;34m(file_location, bias, to_sql, dbms_connector, mode, materialize)\u001B[0m\n\u001B[1;32m     17\u001B[0m                                                            materialize=materialize, row_wise=False)\n\u001B[1;32m     18\u001B[0m     \u001B[0;32melse\u001B[0m\u001B[0;34m:\u001B[0m\u001B[0;34m\u001B[0m\u001B[0;34m\u001B[0m\u001B[0m\n\u001B[0;32m---> 19\u001B[0;31m         \u001B[0minspector_result\u001B[0m \u001B[0;34m=\u001B[0m \u001B[0minspector_result\u001B[0m\u001B[0;34m.\u001B[0m\u001B[0mexecute\u001B[0m\u001B[0;34m(\u001B[0m\u001B[0;34m)\u001B[0m\u001B[0;34m\u001B[0m\u001B[0;34m\u001B[0m\u001B[0m\n\u001B[0m\u001B[1;32m     20\u001B[0m \u001B[0;34m\u001B[0m\u001B[0m\n\u001B[1;32m     21\u001B[0m     \u001B[0mextracted_dag\u001B[0m \u001B[0;34m=\u001B[0m \u001B[0minspector_result\u001B[0m\u001B[0;34m.\u001B[0m\u001B[0mdag\u001B[0m\u001B[0;34m\u001B[0m\u001B[0;34m\u001B[0m\u001B[0m\n",
      "\u001B[0;32m~/Documents/Bachelorarbeit/mlinspect/mlinspect/_pipeline_inspector.py\u001B[0m in \u001B[0;36mexecute\u001B[0;34m(self)\u001B[0m\n\u001B[1;32m     83\u001B[0m         \u001B[0mInstrument\u001B[0m \u001B[0;32mand\u001B[0m \u001B[0mexecute\u001B[0m \u001B[0mthe\u001B[0m \u001B[0mpipeline\u001B[0m\u001B[0;34m\u001B[0m\u001B[0;34m\u001B[0m\u001B[0m\n\u001B[1;32m     84\u001B[0m         \"\"\"\n\u001B[0;32m---> 85\u001B[0;31m         return singleton.run(notebook_path=self.notebook_path,\n\u001B[0m\u001B[1;32m     86\u001B[0m                              \u001B[0mpython_path\u001B[0m\u001B[0;34m=\u001B[0m\u001B[0mself\u001B[0m\u001B[0;34m.\u001B[0m\u001B[0mpython_path\u001B[0m\u001B[0;34m,\u001B[0m\u001B[0;34m\u001B[0m\u001B[0;34m\u001B[0m\u001B[0m\n\u001B[1;32m     87\u001B[0m                              \u001B[0mpython_code\u001B[0m\u001B[0;34m=\u001B[0m\u001B[0mself\u001B[0m\u001B[0;34m.\u001B[0m\u001B[0mpython_code\u001B[0m\u001B[0;34m,\u001B[0m\u001B[0;34m\u001B[0m\u001B[0;34m\u001B[0m\u001B[0m\n",
      "\u001B[0;32m~/Documents/Bachelorarbeit/mlinspect/mlinspect/instrumentation/_pipeline_executor.py\u001B[0m in \u001B[0;36mrun\u001B[0;34m(self, notebook_path, python_path, python_code, inspections, checks, reset_state, track_code_references, custom_monkey_patching, to_sql, dbms_connector, mode, materialize, row_wise)\u001B[0m\n\u001B[1;32m    165\u001B[0m \u001B[0;34m\u001B[0m\u001B[0m\n\u001B[1;32m    166\u001B[0m         \u001B[0;31m# Here the modified code is created and run:\u001B[0m\u001B[0;34m\u001B[0m\u001B[0;34m\u001B[0m\u001B[0;34m\u001B[0m\u001B[0m\n\u001B[0;32m--> 167\u001B[0;31m         \u001B[0mself\u001B[0m\u001B[0;34m.\u001B[0m\u001B[0mrun_inspections\u001B[0m\u001B[0;34m(\u001B[0m\u001B[0mnotebook_path\u001B[0m\u001B[0;34m,\u001B[0m \u001B[0mpython_code\u001B[0m\u001B[0;34m,\u001B[0m \u001B[0mpython_path\u001B[0m\u001B[0;34m)\u001B[0m\u001B[0;34m\u001B[0m\u001B[0;34m\u001B[0m\u001B[0m\n\u001B[0m\u001B[1;32m    168\u001B[0m         check_to_results = dict(\n\u001B[1;32m    169\u001B[0m             (check, check.evaluate(self.inspection_results)) for check in checks)\n",
      "\u001B[0;32m~/Documents/Bachelorarbeit/mlinspect/mlinspect/instrumentation/_pipeline_executor.py\u001B[0m in \u001B[0;36mrun_inspections\u001B[0;34m(self, notebook_path, python_code, python_path)\u001B[0m\n\u001B[1;32m    183\u001B[0m         \u001B[0mmodified_code\u001B[0m \u001B[0;34m=\u001B[0m \u001B[0mastor\u001B[0m\u001B[0;34m.\u001B[0m\u001B[0mto_source\u001B[0m\u001B[0;34m(\u001B[0m\u001B[0mparsed_modified_ast\u001B[0m\u001B[0;34m)\u001B[0m\u001B[0;34m\u001B[0m\u001B[0;34m\u001B[0m\u001B[0m\n\u001B[1;32m    184\u001B[0m         \u001B[0;31m# Do the monkey patching and the inspection:\u001B[0m\u001B[0;34m\u001B[0m\u001B[0;34m\u001B[0m\u001B[0;34m\u001B[0m\u001B[0m\n\u001B[0;32m--> 185\u001B[0;31m         \u001B[0mexec\u001B[0m\u001B[0;34m(\u001B[0m\u001B[0mcompile\u001B[0m\u001B[0;34m(\u001B[0m\u001B[0mmodified_code\u001B[0m\u001B[0;34m,\u001B[0m \u001B[0mfilename\u001B[0m\u001B[0;34m=\u001B[0m\u001B[0mself\u001B[0m\u001B[0;34m.\u001B[0m\u001B[0msource_code_path\u001B[0m\u001B[0;34m,\u001B[0m \u001B[0mmode\u001B[0m\u001B[0;34m=\u001B[0m\u001B[0;34m\"exec\"\u001B[0m\u001B[0;34m)\u001B[0m\u001B[0;34m,\u001B[0m \u001B[0mPipelineExecutor\u001B[0m\u001B[0;34m.\u001B[0m\u001B[0mscript_scope\u001B[0m\u001B[0;34m)\u001B[0m\u001B[0;34m\u001B[0m\u001B[0;34m\u001B[0m\u001B[0m\n\u001B[0m\u001B[1;32m    186\u001B[0m         \u001B[0;32mreturn\u001B[0m\u001B[0;34m\u001B[0m\u001B[0;34m\u001B[0m\u001B[0m\n\u001B[1;32m    187\u001B[0m \u001B[0;34m\u001B[0m\u001B[0m\n",
      "\u001B[0;32m~/Documents/Bachelorarbeit/mlinspect/example_pipelines/healthcare/healthcare.py\u001B[0m in \u001B[0;36m<module>\u001B[0;34m\u001B[0m\n",
      "\u001B[0;32m~/Documents/Bachelorarbeit/mlinspect/venv/lib/python3.8/site-packages/sklearn/utils/metaestimators.py\u001B[0m in \u001B[0;36m<lambda>\u001B[0;34m(*args, **kwargs)\u001B[0m\n\u001B[1;32m    117\u001B[0m \u001B[0;34m\u001B[0m\u001B[0m\n\u001B[1;32m    118\u001B[0m         \u001B[0;31m# lambda, but not partial, allows help() to work with update_wrapper\u001B[0m\u001B[0;34m\u001B[0m\u001B[0;34m\u001B[0m\u001B[0;34m\u001B[0m\u001B[0m\n\u001B[0;32m--> 119\u001B[0;31m         \u001B[0mout\u001B[0m \u001B[0;34m=\u001B[0m \u001B[0;32mlambda\u001B[0m \u001B[0;34m*\u001B[0m\u001B[0margs\u001B[0m\u001B[0;34m,\u001B[0m \u001B[0;34m**\u001B[0m\u001B[0mkwargs\u001B[0m\u001B[0;34m:\u001B[0m \u001B[0mself\u001B[0m\u001B[0;34m.\u001B[0m\u001B[0mfn\u001B[0m\u001B[0;34m(\u001B[0m\u001B[0mobj\u001B[0m\u001B[0;34m,\u001B[0m \u001B[0;34m*\u001B[0m\u001B[0margs\u001B[0m\u001B[0;34m,\u001B[0m \u001B[0;34m**\u001B[0m\u001B[0mkwargs\u001B[0m\u001B[0;34m)\u001B[0m\u001B[0;34m\u001B[0m\u001B[0;34m\u001B[0m\u001B[0m\n\u001B[0m\u001B[1;32m    120\u001B[0m         \u001B[0;31m# update the docstring of the returned function\u001B[0m\u001B[0;34m\u001B[0m\u001B[0;34m\u001B[0m\u001B[0;34m\u001B[0m\u001B[0m\n\u001B[1;32m    121\u001B[0m         \u001B[0mupdate_wrapper\u001B[0m\u001B[0;34m(\u001B[0m\u001B[0mout\u001B[0m\u001B[0;34m,\u001B[0m \u001B[0mself\u001B[0m\u001B[0;34m.\u001B[0m\u001B[0mfn\u001B[0m\u001B[0;34m)\u001B[0m\u001B[0;34m\u001B[0m\u001B[0;34m\u001B[0m\u001B[0m\n",
      "\u001B[0;32m~/Documents/Bachelorarbeit/mlinspect/venv/lib/python3.8/site-packages/sklearn/pipeline.py\u001B[0m in \u001B[0;36mscore\u001B[0;34m(self, X, y, sample_weight)\u001B[0m\n\u001B[1;32m    604\u001B[0m         \"\"\"\n\u001B[1;32m    605\u001B[0m         \u001B[0mXt\u001B[0m \u001B[0;34m=\u001B[0m \u001B[0mX\u001B[0m\u001B[0;34m\u001B[0m\u001B[0;34m\u001B[0m\u001B[0m\n\u001B[0;32m--> 606\u001B[0;31m         \u001B[0;32mfor\u001B[0m \u001B[0m_\u001B[0m\u001B[0;34m,\u001B[0m \u001B[0mname\u001B[0m\u001B[0;34m,\u001B[0m \u001B[0mtransform\u001B[0m \u001B[0;32min\u001B[0m \u001B[0mself\u001B[0m\u001B[0;34m.\u001B[0m\u001B[0m_iter\u001B[0m\u001B[0;34m(\u001B[0m\u001B[0mwith_final\u001B[0m\u001B[0;34m=\u001B[0m\u001B[0;32mFalse\u001B[0m\u001B[0;34m)\u001B[0m\u001B[0;34m:\u001B[0m\u001B[0;34m\u001B[0m\u001B[0;34m\u001B[0m\u001B[0m\n\u001B[0m\u001B[1;32m    607\u001B[0m             \u001B[0mXt\u001B[0m \u001B[0;34m=\u001B[0m \u001B[0mtransform\u001B[0m\u001B[0;34m.\u001B[0m\u001B[0mtransform\u001B[0m\u001B[0;34m(\u001B[0m\u001B[0mXt\u001B[0m\u001B[0;34m)\u001B[0m\u001B[0;34m\u001B[0m\u001B[0;34m\u001B[0m\u001B[0m\n\u001B[1;32m    608\u001B[0m         \u001B[0mscore_params\u001B[0m \u001B[0;34m=\u001B[0m \u001B[0;34m{\u001B[0m\u001B[0;34m}\u001B[0m\u001B[0;34m\u001B[0m\u001B[0;34m\u001B[0m\u001B[0m\n",
      "\u001B[0;31mAttributeError\u001B[0m: 'NoneType' object has no attribute '_iter'"
     ]
    }
   ],
   "source": [
    "run_for_all(HEALTHCARE_FILE_PY, HEALTHCARE_BIAS, mode=\"VIEW\", materialize=True)\n",
    "\n",
    "\n"
   ],
   "metadata": {
    "collapsed": false,
    "pycharm": {
     "name": "#%%\n"
    }
   }
  }
 ],
 "metadata": {
  "kernelspec": {
   "display_name": "Python 3 (ipykernel)",
   "language": "python",
   "name": "python3"
  },
  "language_info": {
   "codemirror_mode": {
    "name": "ipython",
    "version": 3
   },
   "file_extension": ".py",
   "mimetype": "text/x-python",
   "name": "python",
   "nbconvert_exporter": "python",
   "pygments_lexer": "ipython3",
   "version": "3.8.10"
  }
 },
 "nbformat": 4,
 "nbformat_minor": 1
}
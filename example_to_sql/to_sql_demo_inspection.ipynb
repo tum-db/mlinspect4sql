{
 "cells": [
  {
   "cell_type": "markdown",
   "metadata": {
    "collapsed": true,
    "pycharm": {
     "name": "#%% md\n"
    }
   },
   "source": [
    "# Performance showcase of novel \"to_sql\" functionality in mlinspect\n",
    "\n",
    "Here the performance of the proposed inspection using sql will be compared to the original one in pandas. Part of\n",
    "the \"healthcare\" and \"compas\" pipeline will be used."
   ]
  },
  {
   "cell_type": "markdown",
   "source": [
    "## Required packages:\n",
    "See: requirements/requirements.txt and requirements/requirements.dev.txt"
   ],
   "metadata": {
    "collapsed": false
   }
  },
  {
   "cell_type": "markdown",
   "source": [
    "## Some parameters you might want to set:"
   ],
   "metadata": {
    "collapsed": false
   }
  },
  {
   "cell_type": "code",
   "execution_count": 12,
   "outputs": [],
   "source": [
    "import timeit\n",
    "from inspect import cleandoc\n",
    "from mlinspect.utils import get_project_root\n",
    "from _code_as_string import get_healthcare_pipe_code, get_compas_pipe_code, print_generated_code\n",
    "from _benchmark_utility import plot_compare\n",
    "\n",
    "DO_CLEANUP = True\n",
    "SIZES = [(10 ** i) for i in range(2, 5, 1)]\n",
    "BENCH_REP = 1\n",
    "MLINSPECT_ROOT_DIR = get_project_root()\n",
    "\n",
    "# DBMS related:\n",
    "UMBRA_DIR = r\"/home/luca/Documents/Bachelorarbeit/umbra-students\"\n",
    "UMBRA_USER = \"postgres\"\n",
    "UMBRA_PW = \" \"\n",
    "UMBRA_DB = \"\"\n",
    "UMBRA_PORT = 5433\n",
    "UMBRA_HOST = \"/tmp/\"\n",
    "\n",
    "POSTGRES_USER = \"luca\"\n",
    "POSTGRES_PW = \"password\"\n",
    "POSTGRES_DB = \"healthcare_benchmark\"\n",
    "POSTGRES_PORT = 5432\n",
    "POSTGRES_HOST = \"localhost\""
   ],
   "metadata": {
    "collapsed": false,
    "pycharm": {
     "name": "#%%\n"
    }
   }
  },
  {
   "cell_type": "markdown",
   "source": [
    "# Data GenerationCTE\n",
    "\n",
    "To be able to benchmark and compare the different approaches, some datasets\n",
    "will need to be generated before. The datasets are just and expansion of the\n",
    "original ones."
   ],
   "metadata": {
    "collapsed": false
   }
  },
  {
   "cell_type": "code",
   "execution_count": 13,
   "outputs": [
    {
     "name": "stdout",
     "output_type": "stream",
     "text": [
      "Requirement already satisfied: faker in /home/luca/Documents/Bachelorarbeit/mlinspect/venv/lib/python3.8/site-packages (8.10.2)\r\n",
      "Requirement already satisfied: python-dateutil>=2.4 in /home/luca/Documents/Bachelorarbeit/mlinspect/venv/lib/python3.8/site-packages (from faker) (2.8.2)\r\n",
      "Requirement already satisfied: text-unidecode==1.3 in /home/luca/Documents/Bachelorarbeit/mlinspect/venv/lib/python3.8/site-packages (from faker) (1.3)\r\n",
      "Requirement already satisfied: six>=1.5 in /home/luca/Documents/Bachelorarbeit/mlinspect/venv/lib/python3.8/site-packages (from python-dateutil>=2.4->faker) (1.15.0)\r\n",
      "Data generated or found for: size = 100 -- compas\n",
      "Data generated or found for: size = 1000 -- compas\n",
      "Data generated or found for: size = 10000 -- compas\n",
      "Data generated or found for: size = 100 -- healthcare\n",
      "Data generated or found for: size = 1000 -- healthcare\n",
      "Data generated or found for: size = 10000 -- healthcare\n"
     ]
    }
   ],
   "source": [
    "!{sys.executable} -m pip install faker\n",
    "\n",
    "from data_generation.compas_data_generation import generate_compas_dataset\n",
    "from data_generation.healthcare_data_generation import generate_healthcare_dataset\n",
    "\n",
    "# We only generate the files, that are not already existing:\n",
    "\n",
    "COMPAS_DATA_PATHS = generate_compas_dataset(SIZES)\n",
    "HEALTHCARE_DATA_PATHS = generate_healthcare_dataset(SIZES)"
   ],
   "metadata": {
    "collapsed": false,
    "pycharm": {
     "name": "#%%\n"
    }
   }
  },
  {
   "cell_type": "markdown",
   "source": [
    "## Benchmark setup:"
   ],
   "metadata": {
    "collapsed": false
   }
  },
  {
   "cell_type": "code",
   "execution_count": 14,
   "outputs": [],
   "source": [
    "def get_inspection_code(pipeline_code, to_sql, dbms_connector, no_bias, mode, materialize=False,\n",
    "                                   one_run=False):\n",
    "    setup_code = cleandoc(f\"\"\"\n",
    "from inspect import cleandoc\n",
    "from mlinspect.utils import get_project_root\n",
    "from mlinspect import PipelineInspector\n",
    "from mlinspect.inspections import RowLineage, MaterializeFirstOutputRows\n",
    "from mlinspect.checks import NoBiasIntroducedFor, NoIllegalFeatures\n",
    "from demo.feature_overview.no_missing_embeddings import NoMissingEmbeddings\n",
    "from inspect import cleandoc\n",
    "from example_pipelines.healthcare import custom_monkeypatching\n",
    "from mlinspect.to_sql.dbms_connectors.postgresql_connector import PostgresqlConnector\n",
    "from mlinspect.to_sql.dbms_connectors.umbra_connector import UmbraConnector\n",
    "from mlinspect import PipelineInspector\n",
    "\n",
    "dbms_connector_u = UmbraConnector(dbname=\\'{UMBRA_DB}\\', user=\\'{UMBRA_USER}\\', password=\\'{UMBRA_PW}\\',\n",
    "    port={UMBRA_PORT}, host=\\'{UMBRA_HOST}\\', umbra_dir= r\\'{UMBRA_DIR}\\')\n",
    "dbms_connector_p = PostgresqlConnector(dbname=\\'{POSTGRES_DB}\\', user=\\'{POSTGRES_USER}\\',\n",
    "    password=\\'{POSTGRES_PW}\\', port={POSTGRES_PORT}, host=\\'{POSTGRES_HOST}\\')\n",
    "\n",
    "pipeline_code = cleandoc(f\\\"\\\"\\\"{pipeline_code}\\\"\\\"\\\")\n",
    "\n",
    "pipeline_inspector = PipelineInspector.on_pipeline_from_string(pipeline_code) \\\\\n",
    "    .add_custom_monkey_patching_module(custom_monkeypatching) \\\\\n",
    "    .add_check(NoBiasIntroducedFor({no_bias})) \\\\\n",
    "    .add_check(NoIllegalFeatures()) \\\\\n",
    "    .add_check(NoMissingEmbeddings()) \\\\\n",
    "    .add_required_inspection(RowLineage(5)) \\\\\n",
    "    .add_required_inspection(MaterializeFirstOutputRows(5))\n",
    "    \"\"\") + \"\\n\"\n",
    "    if to_sql:\n",
    "        return setup_code, f\"pipeline_inspector.execute_in_sql(dbms_connector={dbms_connector}, \" \\\n",
    "                           f\"sql_one_run={one_run}, mode=\\'{mode}\\', materialize={materialize})\"\n",
    "\n",
    "    return setup_code, f\"pipeline_inspector.execute()\"\n",
    "\n",
    "\n",
    "def run(pipeline_code, to_sql=False, dbms_connector=None, no_bias=None, mode=None, materialize=False, one_run=False):\n",
    "    setup_code, test_code = get_inspection_code(pipeline_code, to_sql, dbms_connector, no_bias,\n",
    "                                                           mode, materialize, one_run)\n",
    "    if to_sql:\n",
    "        result = []\n",
    "        for i in range(BENCH_REP):\n",
    "            # print(f\"run {i} of {BENCH_REP} ...\")\n",
    "            # This special case is necessary to deduct the time for dropping the existing tables and views!\n",
    "            result.append(timeit.timeit(test_code, setup=setup_code, number=1) * 1000)  # in s\n",
    "        return sum(result) / BENCH_REP\n",
    "\n",
    "    return (timeit.timeit(test_code, setup=setup_code, number=BENCH_REP) / BENCH_REP) * 1000  # in s\n",
    "\n",
    "\n",
    "def pipeline_inspection_benchmark(data_paths, no_bias, mode, title, materialize=False, exclude_umbra=False,\n",
    "                                  display_hardware_usage: bool = False):\n",
    "    pandas_times = []\n",
    "    postgres_times = []\n",
    "    umbra_times = []\n",
    "    for i, (path_to_csv_1, path_to_csv_2) in enumerate(data_paths):\n",
    "\n",
    "        if \"compas\" in str(path_to_csv_1):\n",
    "            setup_code, test_code = get_compas_pipe_code(path_to_csv_1, path_to_csv_2)\n",
    "        elif \"healthcare\" in str(path_to_csv_1):\n",
    "            setup_code, test_code = get_healthcare_pipe_code(path_to_csv_1, path_to_csv_2)\n",
    "        else:\n",
    "            assert False\n",
    "        pipe_code = setup_code + test_code\n",
    "\n",
    "        print(f\"Running pandas...  -- size {SIZES[i]}\")\n",
    "        pandas_times.append(run(pipe_code, to_sql=False, dbms_connector=None, no_bias=no_bias))\n",
    "        print(f\"Running postgres...  -- size {SIZES[i]}\")\n",
    "        postgres_times.append(run(pipe_code, True, \"dbms_connector_p\", no_bias, mode=mode, materialize=materialize))\n",
    "        if not exclude_umbra:\n",
    "            print(f\"Running umbra... -- size {SIZES[i]}\")\n",
    "            umbra_times.append(run(pipe_code, True, \"dbms_connector_u\", no_bias, mode=mode, materialize=materialize))\n",
    "\n",
    "        # sys.argv = [\"psrecord\", \"--duration=100\", \"--log=activity.txt\", \"1540\"]\n",
    "        # main()\n",
    "\n",
    "    names = [\"Pandas\", \"Postgresql\", \"Umbra\"]\n",
    "    table = [pandas_times, postgres_times, umbra_times]\n",
    "    if exclude_umbra:\n",
    "        names = names[:-1]\n",
    "        table = table[:-1]\n",
    "    plot_compare(title, SIZES, all_y=table, all_y_names=names, save=True)"
   ],
   "metadata": {
    "collapsed": false,
    "pycharm": {
     "name": "#%%\n"
    }
   }
  },
  {
   "cell_type": "markdown",
   "source": [
    "## Benchmark of default inspection using CTEs:"
   ],
   "metadata": {
    "collapsed": false,
    "pycharm": {
     "name": "#%% md\n"
    }
   }
  },
  {
   "cell_type": "code",
   "execution_count": 15,
   "outputs": [
    {
     "name": "stdout",
     "output_type": "stream",
     "text": [
      "\n",
      "Just translation to SQL is performed! \n",
      "-> SQL-Code placed at: mlinspect/to_sql/generated_code\n",
      "\n",
      "CREATE TABLE healthcare_histories_generated_100_mlinid0 (\n",
      "\t\"smoker\" VARCHAR(100),\n",
      "\t\"complications\" INT,\n",
      "\t\"ssn\" VARCHAR(100)\n",
      ");\n",
      "\n",
      "COPY healthcare_histories_generated_100_mlinid0(\"smoker\", \"complications\", \"ssn\") FROM '/home/luca/Documents/Bachelorarbeit/mlinspect/example_to_sql/data_generation/generated_csv/healthcare_histories_generated_100.csv' WITH (DELIMITER ',', NULL '?', FORMAT CSV, HEADER TRUE);\n",
      "\n",
      "\n",
      "CREATE TABLE healthcare_patients_generated_100_mlinid1 (\n",
      "\t\"id\" INT,\n",
      "\t\"first_name\" VARCHAR(100),\n",
      "\t\"last_name\" VARCHAR(100),\n",
      "\t\"race\" VARCHAR(100),\n",
      "\t\"county\" VARCHAR(100),\n",
      "\t\"num_children\" INT,\n",
      "\t\"income\" INT,\n",
      "\t\"age_group\" VARCHAR(100),\n",
      "\t\"ssn\" VARCHAR(100)\n",
      ");\n",
      "\n",
      "COPY healthcare_patients_generated_100_mlinid1(\"id\", \"first_name\", \"last_name\", \"race\", \"county\", \"num_children\", \"income\", \"age_group\", \"ssn\") FROM '/home/luca/Documents/Bachelorarbeit/mlinspect/example_to_sql/data_generation/generated_csv/healthcare_patients_generated_100.csv' WITH (DELIMITER ',', NULL '?', FORMAT CSV, HEADER TRUE);\n",
      "\n",
      "\n",
      "\n",
      "WITH healthcare_histories_generated_100_mlinid0_ctid AS (\n",
      "\tSELECT *, ctid AS healthcare_histories_generated_100_mlinid0_ctid\n",
      "\tFROM healthcare_histories_generated_100_mlinid0\n",
      "),\n",
      "healthcare_patients_generated_100_mlinid1_ctid AS (\n",
      "\tSELECT *, ctid AS healthcare_patients_generated_100_mlinid1_ctid\n",
      "\tFROM healthcare_patients_generated_100_mlinid1\n",
      "),\n",
      "block_mlinid2_1 AS (\n",
      "\tSELECT tb1.\"smoker\", tb1.\"complications\", tb1.\"ssn\", tb1.healthcare_histories_generated_100_mlinid0_ctid, tb2.\"id\", tb2.\"first_name\", tb2.\"last_name\", tb2.\"race\", tb2.\"county\", tb2.\"num_children\", tb2.\"income\", tb2.\"age_group\", tb2.healthcare_patients_generated_100_mlinid1_ctid\n",
      "\tFROM healthcare_histories_generated_100_mlinid0_ctid tb1 \n",
      "\tINNER JOIN healthcare_patients_generated_100_mlinid1_ctid tb2 ON tb1.\"ssn\" = tb2.\"ssn\"\n",
      "),\n",
      "block_mlinid3_2 AS (\n",
      "\tSELECT \"age_group\", AVG(\"complications\") AS \"mean_complications\" \n",
      "\tFROM block_mlinid2_1\n",
      "\tGROUP BY \"age_group\"\n",
      "),\n",
      "block_mlinid4_3 AS (\n",
      "\tSELECT tb1.\"smoker\", tb1.\"complications\", tb1.\"ssn\", tb1.\"id\", tb1.\"first_name\", tb1.\"last_name\", tb1.\"race\", tb1.\"county\", tb1.\"num_children\", tb1.\"income\", tb1.\"age_group\", tb1.healthcare_histories_generated_100_mlinid0_ctid, tb1.healthcare_patients_generated_100_mlinid1_ctid, tb2.\"mean_complications\"\n",
      "\tFROM block_mlinid2_1 tb1 \n",
      "\tINNER JOIN block_mlinid3_2 tb2 ON tb1.\"age_group\" = tb2.\"age_group\"\n",
      "),\n",
      "block_mlinid5_4 AS (\n",
      "\tSELECT \"complications\", healthcare_histories_generated_100_mlinid0_ctid, healthcare_patients_generated_100_mlinid1_ctid\n",
      "\tFROM block_mlinid4_3\n",
      "),\n",
      "block_mlinid6_5 AS (\n",
      "\tSELECT \"mean_complications\", healthcare_histories_generated_100_mlinid0_ctid, healthcare_patients_generated_100_mlinid1_ctid\n",
      "\tFROM block_mlinid4_3\n",
      "),\n",
      "block_mlinid7_7 AS (\n",
      "\tSELECT (1.2 * \"mean_complications\") AS op_6, healthcare_histories_generated_100_mlinid0_ctid, healthcare_patients_generated_100_mlinid1_ctid\n",
      "\tFROM block_mlinid4_3\n",
      "),\n",
      "block_mlinid8_9 AS (\n",
      "\tSELECT ((\"complications\" > (1.2 * \"mean_complications\"))) AS op_8, healthcare_histories_generated_100_mlinid0_ctid, healthcare_patients_generated_100_mlinid1_ctid\n",
      "\tFROM block_mlinid4_3\n",
      "),\n",
      "block_mlinid9_10 AS (\n",
      "\tSELECT *, (\"complications\" > (1.2 * \"mean_complications\")) AS label\n",
      "\tFROM block_mlinid4_3\n",
      "),\n",
      "block_mlinid10_11 AS (\n",
      "\tSELECT \"smoker\", \"last_name\", \"county\", \"num_children\", \"race\", \"income\", \"label\", healthcare_histories_generated_100_mlinid0_ctid, healthcare_patients_generated_100_mlinid1_ctid\n",
      "\tFROM block_mlinid9_10\n",
      "),\n",
      "block_mlinid11_12 AS (\n",
      "\tSELECT \"county\", healthcare_histories_generated_100_mlinid0_ctid, healthcare_patients_generated_100_mlinid1_ctid\n",
      "\tFROM block_mlinid10_11\n",
      "),\n",
      "block_mlinid12_13 AS (\n",
      "\tSELECT (\"county\" IN ('county2', 'county3')), healthcare_histories_generated_100_mlinid0_ctid, healthcare_patients_generated_100_mlinid1_ctid\n",
      "\tFROM block_mlinid10_11\n",
      "),\n",
      "block_mlinid13_14 AS (\n",
      "\tSELECT * \n",
      "\tFROM block_mlinid10_11 \n",
      "\tWHERE (\"county\" IN ('county2', 'county3'))\n",
      ")\n",
      "SELECT \"smoker\", \"last_name\", \"county\", \"num_children\", \"race\", \"income\", \"label\" FROM block_mlinid13_14;\n"
     ]
    }
   ],
   "source": [
    "healthcare_no_bias = \"[\\'age_group\\', \\'race\\']\"\n",
    "compas_no_bias = \"[\\'sex\\', \\'race\\']\"\n",
    "\n",
    "# Example of the SQL code that gets generated for healthcare with CTE:\n",
    "set_up, test = get_healthcare_pipe_code(*HEALTHCARE_DATA_PATHS[0])\n",
    "set_up, test = get_inspection_code(set_up+test, to_sql=True, dbms_connector=None,\n",
    "                                          no_bias=healthcare_no_bias, mode=\"CTE\", materialize=False, one_run=False)\n",
    "exec(set_up+test)\n",
    "\n",
    "# print_generated_code()"
   ],
   "metadata": {
    "collapsed": false,
    "pycharm": {
     "name": "#%%\n"
    }
   }
  },
  {
   "cell_type": "code",
   "execution_count": 16,
   "outputs": [
    {
     "name": "stdout",
     "output_type": "stream",
     "text": [
      "Running pandas...  -- size 100\n",
      "Running postgres...  -- size 100\n",
      "Running umbra... -- size 100\n",
      "Running pandas...  -- size 1000\n",
      "Running postgres...  -- size 1000\n",
      "Running umbra... -- size 1000\n",
      "Running pandas...  -- size 10000\n",
      "Running postgres...  -- size 10000\n",
      "Running umbra... -- size 10000\n"
     ]
    },
    {
     "data": {
      "text/plain": "<Figure size 288x288 with 1 Axes>",
      "image/png": "[encoded data removed]"
     },
     "metadata": {},
     "output_type": "display_data"
    }
   ],
   "source": [
    "pipeline_inspection_benchmark(HEALTHCARE_DATA_PATHS, healthcare_no_bias, mode=\"CTE\",\n",
    "                              title=\"HealthcareInspectionComparisonCTE\")"
   ],
   "metadata": {
    "collapsed": false,
    "pycharm": {
     "name": "#%%\n"
    }
   }
  },
  {
   "cell_type": "code",
   "execution_count": 17,
   "outputs": [
    {
     "name": "stdout",
     "output_type": "stream",
     "text": [
      "Running pandas...  -- size 100\n",
      "Running postgres...  -- size 100\n",
      "Running umbra... -- size 100\n",
      "Running pandas...  -- size 1000\n",
      "Running postgres...  -- size 1000\n",
      "Running umbra... -- size 1000\n",
      "Running pandas...  -- size 10000\n",
      "Running postgres...  -- size 10000\n",
      "Running umbra... -- size 10000\n"
     ]
    },
    {
     "data": {
      "text/plain": "<Figure size 288x288 with 1 Axes>",
      "image/png": "[encoded data removed]"
     },
     "metadata": {},
     "output_type": "display_data"
    }
   ],
   "source": [
    "pipeline_inspection_benchmark(COMPAS_DATA_PATHS, compas_no_bias, mode=\"CTE\",\n",
    "                              title=\"CompasInspectionComparisonCTE\")"
   ],
   "metadata": {
    "collapsed": false,
    "pycharm": {
     "name": "#%%\n"
    }
   }
  },
  {
   "cell_type": "markdown",
   "source": [
    "## Benchmark of default inspection using VIEWs:"
   ],
   "metadata": {
    "collapsed": false
   }
  },
  {
   "cell_type": "code",
   "execution_count": 18,
   "outputs": [
    {
     "name": "stdout",
     "output_type": "stream",
     "text": [
      "\n",
      "Just translation to SQL is performed! \n",
      "-> SQL-Code placed at: mlinspect/to_sql/generated_code\n",
      "\n",
      "CREATE TABLE compas_train_generated_100_mlinid0 (\n",
      "\t\"Unnamed: 0\" INT,\n",
      "\t\"id\" INT,\n",
      "\t\"name\" VARCHAR(100),\n",
      "\t\"first\" VARCHAR(100),\n",
      "\t\"last\" VARCHAR(100),\n",
      "\t\"compas_screening_date\" VARCHAR(100),\n",
      "\t\"sex\" VARCHAR(100),\n",
      "\t\"dob\" VARCHAR(100),\n",
      "\t\"age\" INT,\n",
      "\t\"age_cat\" VARCHAR(100),\n",
      "\t\"race\" VARCHAR(100),\n",
      "\t\"juv_fel_count\" INT,\n",
      "\t\"decile_score\" INT,\n",
      "\t\"juv_misd_count\" INT,\n",
      "\t\"juv_other_count\" INT,\n",
      "\t\"priors_count\" INT,\n",
      "\t\"days_b_screening_arrest\" FLOAT,\n",
      "\t\"c_jail_in\" VARCHAR(100),\n",
      "\t\"c_jail_out\" VARCHAR(100),\n",
      "\t\"c_case_number\" VARCHAR(100),\n",
      "\t\"c_offense_date\" VARCHAR(100),\n",
      "\t\"c_arrest_date\" VARCHAR(100),\n",
      "\t\"c_days_from_compas\" FLOAT,\n",
      "\t\"c_charge_degree\" VARCHAR(100),\n",
      "\t\"c_charge_desc\" VARCHAR(100),\n",
      "\t\"is_recid\" INT,\n",
      "\t\"r_case_number\" VARCHAR(100),\n",
      "\t\"r_charge_degree\" VARCHAR(100),\n",
      "\t\"r_days_from_arrest\" FLOAT,\n",
      "\t\"r_offense_date\" VARCHAR(100),\n",
      "\t\"r_charge_desc\" VARCHAR(100),\n",
      "\t\"r_jail_in\" VARCHAR(100),\n",
      "\t\"r_jail_out\" VARCHAR(100),\n",
      "\t\"violent_recid\" FLOAT,\n",
      "\t\"is_violent_recid\" INT,\n",
      "\t\"vr_case_number\" VARCHAR(100),\n",
      "\t\"vr_charge_degree\" VARCHAR(100),\n",
      "\t\"vr_offense_date\" VARCHAR(100),\n",
      "\t\"vr_charge_desc\" VARCHAR(100),\n",
      "\t\"type_of_assessment\" VARCHAR(100),\n",
      "\t\"decile_score.1\" INT,\n",
      "\t\"score_text\" VARCHAR(100),\n",
      "\t\"screening_date\" VARCHAR(100),\n",
      "\t\"v_type_of_assessment\" VARCHAR(100),\n",
      "\t\"v_decile_score\" INT,\n",
      "\t\"v_score_text\" VARCHAR(100),\n",
      "\t\"v_screening_date\" VARCHAR(100),\n",
      "\t\"in_custody\" VARCHAR(100),\n",
      "\t\"out_custody\" VARCHAR(100),\n",
      "\t\"priors_count.1\" INT,\n",
      "\t\"start\" INT,\n",
      "\t\"end\" INT,\n",
      "\t\"event\" INT,\n",
      "\t\"two_year_recid\" INT\n",
      ");\n",
      "\n",
      "COPY compas_train_generated_100_mlinid0(\"Unnamed: 0\", \"id\", \"name\", \"first\", \"last\", \"compas_screening_date\", \"sex\", \"dob\", \"age\", \"age_cat\", \"race\", \"juv_fel_count\", \"decile_score\", \"juv_misd_count\", \"juv_other_count\", \"priors_count\", \"days_b_screening_arrest\", \"c_jail_in\", \"c_jail_out\", \"c_case_number\", \"c_offense_date\", \"c_arrest_date\", \"c_days_from_compas\", \"c_charge_degree\", \"c_charge_desc\", \"is_recid\", \"r_case_number\", \"r_charge_degree\", \"r_days_from_arrest\", \"r_offense_date\", \"r_charge_desc\", \"r_jail_in\", \"r_jail_out\", \"violent_recid\", \"is_violent_recid\", \"vr_case_number\", \"vr_charge_degree\", \"vr_offense_date\", \"vr_charge_desc\", \"type_of_assessment\", \"decile_score.1\", \"score_text\", \"screening_date\", \"v_type_of_assessment\", \"v_decile_score\", \"v_score_text\", \"v_screening_date\", \"in_custody\", \"out_custody\", \"priors_count.1\", \"start\", \"end\", \"event\", \"two_year_recid\") FROM '/home/luca/Documents/Bachelorarbeit/mlinspect/example_to_sql/data_generation/generated_csv/compas_train_generated_100.csv' WITH (DELIMITER ',', NULL '', FORMAT CSV, HEADER TRUE);\n",
      "\n",
      "\n",
      "CREATE TABLE compas_test_generated_100_mlinid1 (\n",
      "\t\"Unnamed: 0\" INT,\n",
      "\t\"id\" INT,\n",
      "\t\"name\" VARCHAR(100),\n",
      "\t\"first\" VARCHAR(100),\n",
      "\t\"last\" VARCHAR(100),\n",
      "\t\"compas_screening_date\" VARCHAR(100),\n",
      "\t\"sex\" VARCHAR(100),\n",
      "\t\"dob\" VARCHAR(100),\n",
      "\t\"age\" INT,\n",
      "\t\"age_cat\" VARCHAR(100),\n",
      "\t\"race\" VARCHAR(100),\n",
      "\t\"juv_fel_count\" INT,\n",
      "\t\"decile_score\" INT,\n",
      "\t\"juv_misd_count\" INT,\n",
      "\t\"juv_other_count\" INT,\n",
      "\t\"priors_count\" INT,\n",
      "\t\"days_b_screening_arrest\" FLOAT,\n",
      "\t\"c_jail_in\" VARCHAR(100),\n",
      "\t\"c_jail_out\" VARCHAR(100),\n",
      "\t\"c_case_number\" VARCHAR(100),\n",
      "\t\"c_offense_date\" VARCHAR(100),\n",
      "\t\"c_arrest_date\" VARCHAR(100),\n",
      "\t\"c_days_from_compas\" FLOAT,\n",
      "\t\"c_charge_degree\" VARCHAR(100),\n",
      "\t\"c_charge_desc\" VARCHAR(100),\n",
      "\t\"is_recid\" INT,\n",
      "\t\"r_case_number\" VARCHAR(100),\n",
      "\t\"r_charge_degree\" VARCHAR(100),\n",
      "\t\"r_days_from_arrest\" FLOAT,\n",
      "\t\"r_offense_date\" VARCHAR(100),\n",
      "\t\"r_charge_desc\" VARCHAR(100),\n",
      "\t\"r_jail_in\" VARCHAR(100),\n",
      "\t\"r_jail_out\" VARCHAR(100),\n",
      "\t\"violent_recid\" FLOAT,\n",
      "\t\"is_violent_recid\" INT,\n",
      "\t\"vr_case_number\" VARCHAR(100),\n",
      "\t\"vr_charge_degree\" VARCHAR(100),\n",
      "\t\"vr_offense_date\" VARCHAR(100),\n",
      "\t\"vr_charge_desc\" VARCHAR(100),\n",
      "\t\"type_of_assessment\" VARCHAR(100),\n",
      "\t\"decile_score.1\" INT,\n",
      "\t\"score_text\" VARCHAR(100),\n",
      "\t\"screening_date\" VARCHAR(100),\n",
      "\t\"v_type_of_assessment\" VARCHAR(100),\n",
      "\t\"v_decile_score\" INT,\n",
      "\t\"v_score_text\" VARCHAR(100),\n",
      "\t\"v_screening_date\" VARCHAR(100),\n",
      "\t\"in_custody\" VARCHAR(100),\n",
      "\t\"out_custody\" VARCHAR(100),\n",
      "\t\"priors_count.1\" INT,\n",
      "\t\"start\" INT,\n",
      "\t\"end\" INT,\n",
      "\t\"event\" INT,\n",
      "\t\"two_year_recid\" INT\n",
      ");\n",
      "\n",
      "COPY compas_test_generated_100_mlinid1(\"Unnamed: 0\", \"id\", \"name\", \"first\", \"last\", \"compas_screening_date\", \"sex\", \"dob\", \"age\", \"age_cat\", \"race\", \"juv_fel_count\", \"decile_score\", \"juv_misd_count\", \"juv_other_count\", \"priors_count\", \"days_b_screening_arrest\", \"c_jail_in\", \"c_jail_out\", \"c_case_number\", \"c_offense_date\", \"c_arrest_date\", \"c_days_from_compas\", \"c_charge_degree\", \"c_charge_desc\", \"is_recid\", \"r_case_number\", \"r_charge_degree\", \"r_days_from_arrest\", \"r_offense_date\", \"r_charge_desc\", \"r_jail_in\", \"r_jail_out\", \"violent_recid\", \"is_violent_recid\", \"vr_case_number\", \"vr_charge_degree\", \"vr_offense_date\", \"vr_charge_desc\", \"type_of_assessment\", \"decile_score.1\", \"score_text\", \"screening_date\", \"v_type_of_assessment\", \"v_decile_score\", \"v_score_text\", \"v_screening_date\", \"in_custody\", \"out_custody\", \"priors_count.1\", \"start\", \"end\", \"event\", \"two_year_recid\") FROM '/home/luca/Documents/Bachelorarbeit/mlinspect/example_to_sql/data_generation/generated_csv/compas_test_generated_100.csv' WITH (DELIMITER ',', NULL '', FORMAT CSV, HEADER TRUE);\n",
      "\n",
      "\n",
      "\n",
      "CREATE VIEW compas_train_generated_100_mlinid0_ctid AS (\n",
      "\tSELECT *, ctid AS compas_train_generated_100_mlinid0_ctid\n",
      "\tFROM compas_train_generated_100_mlinid0\n",
      ");\n",
      "CREATE VIEW compas_test_generated_100_mlinid1_ctid AS (\n",
      "\tSELECT *, ctid AS compas_test_generated_100_mlinid1_ctid\n",
      "\tFROM compas_test_generated_100_mlinid1\n",
      ");\n",
      "CREATE VIEW block_mlinid2_1 AS (\n",
      "\tSELECT \"sex\", \"dob\", \"age\", \"c_charge_degree\", \"race\", \"score_text\", \"priors_count\", \"days_b_screening_arrest\", \"decile_score\", \"is_recid\", \"two_year_recid\", \"c_jail_in\", \"c_jail_out\", compas_train_generated_100_mlinid0_ctid\n",
      "\tFROM compas_train_generated_100_mlinid0_ctid\n",
      ");\n",
      "CREATE VIEW block_mlinid3_2 AS (\n",
      "\tSELECT \"sex\", \"dob\", \"age\", \"c_charge_degree\", \"race\", \"score_text\", \"priors_count\", \"days_b_screening_arrest\", \"decile_score\", \"is_recid\", \"two_year_recid\", \"c_jail_in\", \"c_jail_out\", compas_test_generated_100_mlinid1_ctid\n",
      "\tFROM compas_test_generated_100_mlinid1_ctid\n",
      ");\n",
      "CREATE VIEW block_mlinid4_3 AS (\n",
      "\tSELECT \"days_b_screening_arrest\", compas_train_generated_100_mlinid0_ctid\n",
      "\tFROM block_mlinid2_1\n",
      ");\n",
      "CREATE VIEW block_mlinid5_5 AS (\n",
      "\tSELECT (\"days_b_screening_arrest\" <= 30) AS op_4, compas_train_generated_100_mlinid0_ctid\n",
      "\tFROM block_mlinid2_1\n",
      ");\n",
      "CREATE VIEW block_mlinid6_6 AS (\n",
      "\tSELECT \"days_b_screening_arrest\", compas_train_generated_100_mlinid0_ctid\n",
      "\tFROM block_mlinid2_1\n",
      ");\n",
      "CREATE VIEW block_mlinid7_8 AS (\n",
      "\tSELECT (\"days_b_screening_arrest\" >= -30) AS op_7, compas_train_generated_100_mlinid0_ctid\n",
      "\tFROM block_mlinid2_1\n",
      ");\n",
      "CREATE VIEW block_mlinid8_10 AS (\n",
      "\tSELECT (((\"days_b_screening_arrest\" <= 30) AND (\"days_b_screening_arrest\" >= -30))) AS op_9, compas_train_generated_100_mlinid0_ctid\n",
      "\tFROM block_mlinid2_1\n",
      ");\n",
      "CREATE VIEW block_mlinid9_11 AS (\n",
      "\tSELECT * \n",
      "\tFROM block_mlinid2_1 \n",
      "\tWHERE ((\"days_b_screening_arrest\" <= 30) AND (\"days_b_screening_arrest\" >= -30))\n",
      ");\n",
      "CREATE VIEW block_mlinid10_12 AS (\n",
      "\tSELECT \"is_recid\", compas_train_generated_100_mlinid0_ctid\n",
      "\tFROM block_mlinid9_11\n",
      ");\n",
      "CREATE VIEW block_mlinid11_14 AS (\n",
      "\tSELECT (\"is_recid\" != -1) AS op_13, compas_train_generated_100_mlinid0_ctid\n",
      "\tFROM block_mlinid9_11\n",
      ");\n",
      "CREATE VIEW block_mlinid12_15 AS (\n",
      "\tSELECT * \n",
      "\tFROM block_mlinid9_11 \n",
      "\tWHERE (\"is_recid\" != -1)\n",
      ");\n",
      "CREATE VIEW block_mlinid13_16 AS (\n",
      "\tSELECT \"c_charge_degree\", compas_train_generated_100_mlinid0_ctid\n",
      "\tFROM block_mlinid12_15\n",
      ");\n",
      "CREATE VIEW block_mlinid14_18 AS (\n",
      "\tSELECT (\"c_charge_degree\" != 'O') AS op_17, compas_train_generated_100_mlinid0_ctid\n",
      "\tFROM block_mlinid12_15\n",
      ");\n",
      "CREATE VIEW block_mlinid15_19 AS (\n",
      "\tSELECT * \n",
      "\tFROM block_mlinid12_15 \n",
      "\tWHERE (\"c_charge_degree\" != 'O')\n",
      ");\n",
      "CREATE VIEW block_mlinid16_20 AS (\n",
      "\tSELECT \"score_text\", compas_train_generated_100_mlinid0_ctid\n",
      "\tFROM block_mlinid15_19\n",
      ");\n",
      "CREATE VIEW block_mlinid17_22 AS (\n",
      "\tSELECT (\"score_text\" != 'N/A') AS op_21, compas_train_generated_100_mlinid0_ctid\n",
      "\tFROM block_mlinid15_19\n",
      ");\n",
      "CREATE VIEW block_mlinid18_23 AS (\n",
      "\tSELECT * \n",
      "\tFROM block_mlinid15_19 \n",
      "\tWHERE (\"score_text\" != 'N/A')\n",
      ");\n",
      "CREATE VIEW block_mlinid19_24 AS (\n",
      "\tSELECT compas_train_generated_100_mlinid0_ctid, \"age\", \"priors_count\", \"days_b_screening_arrest\", \"decile_score\", \"is_recid\", \"two_year_recid\", REGEXP_REPLACE(\"sex\",'^Medium$','Low') AS \"sex\", REGEXP_REPLACE(\"dob\",'^Medium$','Low') AS \"dob\", REGEXP_REPLACE(\"c_charge_degree\",'^Medium$','Low') AS \"c_charge_degree\", REGEXP_REPLACE(\"race\",'^Medium$','Low') AS \"race\", REGEXP_REPLACE(\"score_text\",'^Medium$','Low') AS \"score_text\", REGEXP_REPLACE(\"c_jail_in\",'^Medium$','Low') AS \"c_jail_in\", REGEXP_REPLACE(\"c_jail_out\",'^Medium$','Low') AS \"c_jail_out\"\n",
      "\tFROM block_mlinid18_23\n",
      ");\n",
      "CREATE VIEW block_mlinid20_25 AS (\n",
      "\tSELECT compas_test_generated_100_mlinid1_ctid, \"age\", \"priors_count\", \"days_b_screening_arrest\", \"decile_score\", \"is_recid\", \"two_year_recid\", REGEXP_REPLACE(\"sex\",'^Medium$','Low') AS \"sex\", REGEXP_REPLACE(\"dob\",'^Medium$','Low') AS \"dob\", REGEXP_REPLACE(\"c_charge_degree\",'^Medium$','Low') AS \"c_charge_degree\", REGEXP_REPLACE(\"race\",'^Medium$','Low') AS \"race\", REGEXP_REPLACE(\"score_text\",'^Medium$','Low') AS \"score_text\", REGEXP_REPLACE(\"c_jail_in\",'^Medium$','Low') AS \"c_jail_in\", REGEXP_REPLACE(\"c_jail_out\",'^Medium$','Low') AS \"c_jail_out\"\n",
      "\tFROM block_mlinid3_2\n",
      ");\n",
      "\n",
      "SELECT \"sex\", \"dob\", \"age\", \"c_charge_degree\", \"race\", \"score_text\", \"priors_count\", \"days_b_screening_arrest\", \"decile_score\", \"is_recid\", \"two_year_recid\", \"c_jail_in\", \"c_jail_out\" FROM block_mlinid20_25;\n"
     ]
    }
   ],
   "source": [
    "# The SQL code that gets generated for compas with VIEW:\n",
    "set_up, test = get_compas_pipe_code(*COMPAS_DATA_PATHS[0])\n",
    "set_up, test = get_inspection_code(set_up+test, to_sql=True, dbms_connector=None,\n",
    "                                          no_bias=healthcare_no_bias, mode=\"VIEW\", materialize=False, one_run=False)\n",
    "exec(set_up+test)\n",
    "\n",
    "# print_generated_code()\n"
   ],
   "metadata": {
    "collapsed": false,
    "pycharm": {
     "name": "#%%\n"
    }
   }
  },
  {
   "cell_type": "code",
   "execution_count": 19,
   "outputs": [
    {
     "name": "stdout",
     "output_type": "stream",
     "text": [
      "Running pandas...  -- size 100\n",
      "Running postgres...  -- size 100\n",
      "Running umbra... -- size 100\n",
      "Running pandas...  -- size 1000\n",
      "Running postgres...  -- size 1000\n",
      "Running umbra... -- size 1000\n",
      "Running pandas...  -- size 10000\n",
      "Running postgres...  -- size 10000\n",
      "Running umbra... -- size 10000\n"
     ]
    },
    {
     "data": {
      "text/plain": "<Figure size 288x288 with 1 Axes>",
      "image/png": "[encoded data removed]"
     },
     "metadata": {},
     "output_type": "display_data"
    }
   ],
   "source": [
    "pipeline_inspection_benchmark(HEALTHCARE_DATA_PATHS, healthcare_no_bias, mode=\"VIEW\",\n",
    "                              title=\"HealthcareInspectionComparisonVIEW\")"
   ],
   "metadata": {
    "collapsed": false,
    "pycharm": {
     "name": "#%%\n"
    }
   }
  },
  {
   "cell_type": "code",
   "execution_count": 20,
   "outputs": [
    {
     "name": "stdout",
     "output_type": "stream",
     "text": [
      "Running pandas...  -- size 100\n",
      "Running postgres...  -- size 100\n",
      "Running umbra... -- size 100\n",
      "Running pandas...  -- size 1000\n",
      "Running postgres...  -- size 1000\n",
      "Running umbra... -- size 1000\n",
      "Running pandas...  -- size 10000\n",
      "Running postgres...  -- size 10000\n",
      "Running umbra... -- size 10000\n"
     ]
    },
    {
     "data": {
      "text/plain": "<Figure size 288x288 with 1 Axes>",
      "image/png": "[encoded data removed]"
     },
     "metadata": {},
     "output_type": "display_data"
    }
   ],
   "source": [
    "pipeline_inspection_benchmark(COMPAS_DATA_PATHS, compas_no_bias, mode=\"VIEW\",\n",
    "                              title=\"CompasInspectionComparisonVIEW\")"
   ],
   "metadata": {
    "collapsed": false,
    "pycharm": {
     "name": "#%%\n"
    }
   }
  },
  {
   "cell_type": "markdown",
   "source": [
    "## Benchmark of default inspection using MATERIALIZED VIEWs:\n",
    "\n",
    "While doing the default inspection, parts of the generated code get executed multiple times. This is the reason\n",
    "the option to MATERIALIZE Views, called more that once, got added. This way NO part of the pipeline is executed\n",
    "more that ONCE.\n",
    "\n",
    "In our case only postgres supports this option."
   ],
   "metadata": {
    "collapsed": false
   }
  },
  {
   "cell_type": "code",
   "execution_count": 21,
   "outputs": [
    {
     "name": "stdout",
     "output_type": "stream",
     "text": [
      "Running pandas...  -- size 100\n",
      "Running postgres...  -- size 100\n",
      "Running pandas...  -- size 1000\n",
      "Running postgres...  -- size 1000\n",
      "Running pandas...  -- size 10000\n",
      "Running postgres...  -- size 10000\n"
     ]
    },
    {
     "data": {
      "text/plain": "<Figure size 288x288 with 1 Axes>",
      "image/png": "[encoded data removed]"
     },
     "metadata": {},
     "output_type": "display_data"
    }
   ],
   "source": [
    "pipeline_inspection_benchmark(HEALTHCARE_DATA_PATHS, healthcare_no_bias, mode=\"VIEW\", materialize=True,\n",
    "                              exclude_umbra=True, title=\"HealthcareInspectionComparisonVIEWMAT\")"
   ],
   "metadata": {
    "collapsed": false,
    "pycharm": {
     "name": "#%%\n"
    }
   }
  },
  {
   "cell_type": "code",
   "execution_count": 22,
   "outputs": [
    {
     "name": "stdout",
     "output_type": "stream",
     "text": [
      "CREATE TABLE healthcare_histories_generated_10000_mlinid0 (\n",
      "\t\"smoker\" VARCHAR(100),\n",
      "\t\"complications\" INT,\n",
      "\t\"ssn\" VARCHAR(100)\n",
      ");\n",
      "\n",
      "COPY healthcare_histories_generated_10000_mlinid0(\"smoker\", \"complications\", \"ssn\") FROM '/home/luca/Documents/Bachelorarbeit/mlinspect/example_to_sql/data_generation/generated_csv/healthcare_histories_generated_10000.csv' WITH (DELIMITER ',', NULL '?', FORMAT CSV, HEADER TRUE);\n",
      "\n",
      "\n",
      "CREATE TABLE healthcare_patients_generated_10000_mlinid1 (\n",
      "\t\"id\" INT,\n",
      "\t\"first_name\" VARCHAR(100),\n",
      "\t\"last_name\" VARCHAR(100),\n",
      "\t\"race\" VARCHAR(100),\n",
      "\t\"county\" VARCHAR(100),\n",
      "\t\"num_children\" INT,\n",
      "\t\"income\" INT,\n",
      "\t\"age_group\" VARCHAR(100),\n",
      "\t\"ssn\" VARCHAR(100)\n",
      ");\n",
      "\n",
      "COPY healthcare_patients_generated_10000_mlinid1(\"id\", \"first_name\", \"last_name\", \"race\", \"county\", \"num_children\", \"income\", \"age_group\", \"ssn\") FROM '/home/luca/Documents/Bachelorarbeit/mlinspect/example_to_sql/data_generation/generated_csv/healthcare_patients_generated_10000.csv' WITH (DELIMITER ',', NULL '?', FORMAT CSV, HEADER TRUE);\n",
      "\n",
      "\n",
      "\n",
      "CREATE VIEW healthcare_histories_generated_10000_mlinid0_ctid AS (\n",
      "\tSELECT *, ctid AS healthcare_histories_generated_10000_mlinid0_ctid\n",
      "\tFROM healthcare_histories_generated_10000_mlinid0\n",
      ");\n",
      "CREATE VIEW healthcare_patients_generated_10000_mlinid1_ctid AS (\n",
      "\tSELECT *, ctid AS healthcare_patients_generated_10000_mlinid1_ctid\n",
      "\tFROM healthcare_patients_generated_10000_mlinid1\n",
      ");\n",
      "CREATE VIEW block_mlinid2_1 AS (\n",
      "\tSELECT tb1.\"smoker\", tb1.\"complications\", tb1.\"ssn\", tb1.healthcare_histories_generated_10000_mlinid0_ctid, tb2.\"id\", tb2.\"first_name\", tb2.\"last_name\", tb2.\"race\", tb2.\"county\", tb2.\"num_children\", tb2.\"income\", tb2.\"age_group\", tb2.healthcare_patients_generated_10000_mlinid1_ctid\n",
      "\tFROM healthcare_histories_generated_10000_mlinid0_ctid tb1 \n",
      "\tINNER JOIN healthcare_patients_generated_10000_mlinid1_ctid tb2 ON tb1.\"ssn\" = tb2.\"ssn\"\n",
      ");\n",
      "CREATE MATERIALIZED VIEW block_mlinid2_1_materialized AS (\n",
      "\tSELECT tb1.\"smoker\", tb1.\"complications\", tb1.\"ssn\", tb1.healthcare_histories_generated_10000_mlinid0_ctid, tb2.\"id\", tb2.\"first_name\", tb2.\"last_name\", tb2.\"race\", tb2.\"county\", tb2.\"num_children\", tb2.\"income\", tb2.\"age_group\", tb2.healthcare_patients_generated_10000_mlinid1_ctid\n",
      "\tFROM healthcare_histories_generated_10000_mlinid0_ctid tb1 \n",
      "\tINNER JOIN healthcare_patients_generated_10000_mlinid1_ctid tb2 ON tb1.\"ssn\" = tb2.\"ssn\"\n",
      ");\n",
      "CREATE VIEW block_mlinid3_2 AS (\n",
      "\tSELECT \"age_group\", AVG(\"complications\") AS \"mean_complications\" \n",
      "\tFROM block_mlinid2_1_materialized\n",
      "\tGROUP BY \"age_group\"\n",
      ");\n",
      "CREATE MATERIALIZED VIEW block_mlinid3_2_materialized AS (\n",
      "\tSELECT \"age_group\", AVG(\"complications\") AS \"mean_complications\" \n",
      "\tFROM block_mlinid2_1_materialized\n",
      "\tGROUP BY \"age_group\"\n",
      ");\n",
      "CREATE VIEW block_mlinid4_3 AS (\n",
      "\tSELECT tb1.\"smoker\", tb1.\"complications\", tb1.\"ssn\", tb1.\"id\", tb1.\"first_name\", tb1.\"last_name\", tb1.\"race\", tb1.\"county\", tb1.\"num_children\", tb1.\"income\", tb1.\"age_group\", tb1.healthcare_patients_generated_10000_mlinid1_ctid, tb1.healthcare_histories_generated_10000_mlinid0_ctid, tb2.\"mean_complications\"\n",
      "\tFROM block_mlinid2_1_materialized tb1 \n",
      "\tINNER JOIN block_mlinid3_2_materialized tb2 ON tb1.\"age_group\" = tb2.\"age_group\"\n",
      ");\n",
      "CREATE MATERIALIZED VIEW block_mlinid4_3_materialized AS (\n",
      "\tSELECT tb1.\"smoker\", tb1.\"complications\", tb1.\"ssn\", tb1.\"id\", tb1.\"first_name\", tb1.\"last_name\", tb1.\"race\", tb1.\"county\", tb1.\"num_children\", tb1.\"income\", tb1.\"age_group\", tb1.healthcare_patients_generated_10000_mlinid1_ctid, tb1.healthcare_histories_generated_10000_mlinid0_ctid, tb2.\"mean_complications\"\n",
      "\tFROM block_mlinid2_1_materialized tb1 \n",
      "\tINNER JOIN block_mlinid3_2_materialized tb2 ON tb1.\"age_group\" = tb2.\"age_group\"\n",
      ");\n",
      "CREATE VIEW block_mlinid5_4 AS (\n",
      "\tSELECT \"complications\", healthcare_patients_generated_10000_mlinid1_ctid, healthcare_histories_generated_10000_mlinid0_ctid\n",
      "\tFROM block_mlinid4_3_materialized\n",
      ");\n",
      "CREATE MATERIALIZED VIEW block_mlinid5_4_materialized AS (\n",
      "\tSELECT \"complications\", healthcare_patients_generated_10000_mlinid1_ctid, healthcare_histories_generated_10000_mlinid0_ctid\n",
      "\tFROM block_mlinid4_3_materialized\n",
      ");\n",
      "CREATE VIEW block_mlinid6_5 AS (\n",
      "\tSELECT \"mean_complications\", healthcare_patients_generated_10000_mlinid1_ctid, healthcare_histories_generated_10000_mlinid0_ctid\n",
      "\tFROM block_mlinid4_3_materialized\n",
      ");\n",
      "CREATE MATERIALIZED VIEW block_mlinid6_5_materialized AS (\n",
      "\tSELECT \"mean_complications\", healthcare_patients_generated_10000_mlinid1_ctid, healthcare_histories_generated_10000_mlinid0_ctid\n",
      "\tFROM block_mlinid4_3_materialized\n",
      ");\n",
      "CREATE VIEW block_mlinid7_7 AS (\n",
      "\tSELECT (1.2 * \"mean_complications\") AS op_6, healthcare_patients_generated_10000_mlinid1_ctid, healthcare_histories_generated_10000_mlinid0_ctid\n",
      "\tFROM block_mlinid4_3_materialized\n",
      ");\n",
      "CREATE VIEW block_mlinid8_9 AS (\n",
      "\tSELECT ((\"complications\" > (1.2 * \"mean_complications\"))) AS op_8, healthcare_patients_generated_10000_mlinid1_ctid, healthcare_histories_generated_10000_mlinid0_ctid\n",
      "\tFROM block_mlinid4_3_materialized\n",
      ");\n",
      "CREATE VIEW block_mlinid9_10 AS (\n",
      "\tSELECT *, (\"complications\" > (1.2 * \"mean_complications\")) AS label\n",
      "\tFROM block_mlinid4_3_materialized\n",
      ");\n",
      "CREATE MATERIALIZED VIEW block_mlinid9_10_materialized AS (\n",
      "\tSELECT *, (\"complications\" > (1.2 * \"mean_complications\")) AS label\n",
      "\tFROM block_mlinid4_3_materialized\n",
      ");\n",
      "CREATE VIEW block_mlinid10_11 AS (\n",
      "\tSELECT \"smoker\", \"last_name\", \"county\", \"num_children\", \"race\", \"income\", \"label\", healthcare_patients_generated_10000_mlinid1_ctid, healthcare_histories_generated_10000_mlinid0_ctid\n",
      "\tFROM block_mlinid9_10_materialized\n",
      ");\n",
      "CREATE MATERIALIZED VIEW block_mlinid10_11_materialized AS (\n",
      "\tSELECT \"smoker\", \"last_name\", \"county\", \"num_children\", \"race\", \"income\", \"label\", healthcare_patients_generated_10000_mlinid1_ctid, healthcare_histories_generated_10000_mlinid0_ctid\n",
      "\tFROM block_mlinid9_10_materialized\n",
      ");\n",
      "CREATE VIEW block_mlinid11_12 AS (\n",
      "\tSELECT \"county\", healthcare_patients_generated_10000_mlinid1_ctid, healthcare_histories_generated_10000_mlinid0_ctid\n",
      "\tFROM block_mlinid10_11_materialized\n",
      ");\n",
      "CREATE MATERIALIZED VIEW block_mlinid11_12_materialized AS (\n",
      "\tSELECT \"county\", healthcare_patients_generated_10000_mlinid1_ctid, healthcare_histories_generated_10000_mlinid0_ctid\n",
      "\tFROM block_mlinid10_11_materialized\n",
      ");\n",
      "CREATE VIEW block_mlinid12_13 AS (\n",
      "\tSELECT (\"county\" IN ('county2', 'county3')), healthcare_patients_generated_10000_mlinid1_ctid, healthcare_histories_generated_10000_mlinid0_ctid\n",
      "\tFROM block_mlinid10_11_materialized\n",
      ");\n",
      "CREATE VIEW block_mlinid13_14 AS (\n",
      "\tSELECT * \n",
      "\tFROM block_mlinid10_11_materialized \n",
      "\tWHERE (\"county\" IN ('county2', 'county3'))\n",
      ");\n",
      "CREATE MATERIALIZED VIEW block_mlinid13_14_materialized AS (\n",
      "\tSELECT * \n",
      "\tFROM block_mlinid10_11_materialized \n",
      "\tWHERE (\"county\" IN ('county2', 'county3'))\n",
      ");\n",
      "\n",
      "SELECT \"smoker\", \"last_name\", \"county\", \"num_children\", \"race\", \"income\", \"label\" FROM block_mlinid13_14_materialized;\n"
     ]
    }
   ],
   "source": [
    "# SQL code that got generated for healthcare with VIEW with the MATERIALIZE OPTION:\n",
    "# print_generated_code()"
   ],
   "metadata": {
    "collapsed": false,
    "pycharm": {
     "name": "#%%\n"
    }
   }
  }
 ],
 "metadata": {
  "kernelspec": {
   "display_name": "Python 3",
   "language": "python",
   "name": "python3"
  },
  "language_info": {
   "codemirror_mode": {
    "name": "ipython",
    "version": 2
   },
   "file_extension": ".py",
   "mimetype": "text/x-python",
   "name": "python",
   "nbconvert_exporter": "python",
   "pygments_lexer": "ipython2",
   "version": "2.7.6"
  }
 },
 "nbformat": 4,
 "nbformat_minor": 0
}
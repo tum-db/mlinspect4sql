{
 "cells": [
  {
   "cell_type": "markdown",
   "source": [
    "# Showcase of the \"to_sql\" functionality of mlinspect\n",
    "\n",
    "It will be shown how parts of the original mlinspect example pipelines\n",
    "\"healthcare\" and \"compas\" will be inspected using the additional \"to_sql\"\n",
    "functionality."
   ],
   "metadata": {
    "collapsed": false,
    "pycharm": {
     "name": "#%% md\n"
    }
   }
  },
  {
   "cell_type": "markdown",
   "source": [
    "## First install the required packages"
   ],
   "metadata": {
    "collapsed": false,
    "pycharm": {
     "name": "#%% md\n"
    }
   }
  },
  {
   "cell_type": "code",
   "execution_count": 1,
   "outputs": [
    {
     "name": "stdout",
     "output_type": "stream",
     "text": [
      "Requirement already satisfied: faker in /home/luca/Documents/Bachelorarbeit/mlinspect/venv/lib/python3.8/site-packages (8.10.2)\r\n",
      "Requirement already satisfied: python-dateutil>=2.4 in /home/luca/Documents/Bachelorarbeit/mlinspect/venv/lib/python3.8/site-packages (from faker) (2.8.2)\r\n",
      "Requirement already satisfied: text-unidecode==1.3 in /home/luca/Documents/Bachelorarbeit/mlinspect/venv/lib/python3.8/site-packages (from faker) (1.3)\r\n",
      "Requirement already satisfied: six>=1.5 in /home/luca/Documents/Bachelorarbeit/mlinspect/venv/lib/python3.8/site-packages (from python-dateutil>=2.4->faker) (1.15.0)\r\n"
     ]
    }
   ],
   "source": [
    "# Install the pip packages in the current Jupyter kernel\n",
    "import pathlib\n",
    "import sys\n",
    "!{sys.executable} -m pip install faker"
   ],
   "metadata": {
    "collapsed": false,
    "pycharm": {
     "name": "#%%\n"
    }
   }
  },
  {
   "cell_type": "markdown",
   "source": [
    "## Some parameters you might want to set:#"
   ],
   "metadata": {
    "collapsed": false,
    "pycharm": {
     "name": "#%% md\n"
    }
   }
  },
  {
   "cell_type": "code",
   "execution_count": 2,
   "outputs": [],
   "source": [
    "from inspect import cleandoc\n",
    "import matplotlib.pyplot as plt\n",
    "\n",
    "from mlinspect.to_sql.dbms_connectors.postgresql_connector import PostgresqlConnector\n",
    "from mlinspect.to_sql.dbms_connectors.umbra_connector import UmbraConnector\n",
    "from pandas_connector import PandasConnector\n",
    "from mlinspect import PipelineInspector\n",
    "\n",
    "from pandas_connector import PandasConnector\n",
    "from _benchmark_utility import plot_compare, ROOT_DIR, PLOT_DIR\n",
    "from _code_as_string import Join, GroupBy, Selection, Projection\n",
    "\n",
    "\n",
    "UMBRA_DIR = r\"/home/luca/Documents/Bachelorarbeit/umbra-students\"\n",
    "DO_CLEANUP = True\n",
    "SIZES = [(10 ** i) for i in range(2, 5, 1)]\n",
    "BENCH_REP = 10"
   ],
   "metadata": {
    "collapsed": false,
    "pycharm": {
     "name": "#%%\n"
    }
   }
  },
  {
   "cell_type": "markdown",
   "source": [
    "# Data Generation\n",
    "\n",
    "To be able to benchmark and compare the different approaches, some datasets\n",
    "will need to be generated before. The datasets are just and expansion of the\n",
    "original ones."
   ],
   "metadata": {
    "collapsed": false
   }
  },
  {
   "cell_type": "code",
   "execution_count": 3,
   "outputs": [
    {
     "name": "stdout",
     "output_type": "stream",
     "text": [
      "Data generated or found for: size = 100 -- compas\n",
      "Data generated or found for: size = 1000 -- compas\n",
      "Data generated or found for: size = 10000 -- compas\n",
      "Data generated or found for: size = 100 -- healthcare\n",
      "Data generated or found for: size = 1000 -- healthcare\n",
      "Data generated or found for: size = 10000 -- healthcare\n"
     ]
    }
   ],
   "source": [
    "from data_generation._compas_data_generation import generate_compas_dataset\n",
    "from data_generation._healthcare_data_generation import generate_healthcare_dataset\n",
    "\n",
    "# compas_tain, compas_test \\\n",
    "COMPAS_DATA_PATHS = generate_compas_dataset(SIZES)\n",
    "# healthcare_histories, healthcare_patients \\\n",
    "HEALTHCARE_DATA_PATHS = generate_healthcare_dataset(SIZES)"
   ],
   "metadata": {
    "collapsed": false,
    "pycharm": {
     "name": "#%%\n"
    }
   }
  },
  {
   "cell_type": "markdown",
   "source": [
    "## Benchmark simple operations (not exhaustive)"
   ],
   "metadata": {
    "collapsed": false
   }
  },
  {
   "cell_type": "code",
   "execution_count": 4,
   "outputs": [
    {
     "name": "stderr",
     "output_type": "stream",
     "text": [
      "No user with password configured. For initial setup, connect via a domain socket:\n",
      "   psql -h /tmp -U postgres\n"
     ]
    },
    {
     "name": "stdout",
     "output_type": "stream",
     "text": [
      "ITERATION: 0 - for table size of: 100\n",
      "Executing Query in Umbra...\n",
      "Done in 0.00024010000000000004!\n",
      "Executing Query in Postgres...\n",
      "Done in 0.7606!\n",
      "Executing Query in Pandas...\n",
      "Done in 6.436101500003133!\n",
      "Executing Query in Umbra...\n",
      "Done in 0.00011879999999999999!\n",
      "Executing Query in Postgres...\n",
      "Done in 0.16779999999999998!\n",
      "Executing Query in Pandas...\n",
      "Done in 2.9921291999926325!\n",
      "Executing Query in Umbra...\n",
      "Done in 0.0002501!\n",
      "Executing Query in Postgres...\n",
      "Done in 0.3201!\n",
      "Executing Query in Pandas...\n",
      "Done in 2.754871999786701!\n",
      "Executing Query in Umbra...\n",
      "Done in 0.00040439999999999996!\n",
      "Executing Query in Postgres...\n",
      "Done in 0.41739999999999994!\n",
      "Executing Query in Pandas...\n",
      "Done in 5.992562399842427!\n"
     ]
    },
    {
     "name": "stderr",
     "output_type": "stream",
     "text": [
      "Killed\n",
      "No user with password configured. For initial setup, connect via a domain socket:\n",
      "   psql -h /tmp -U postgres\n"
     ]
    },
    {
     "name": "stdout",
     "output_type": "stream",
     "text": [
      "ITERATION: 1 - for table size of: 1000\n",
      "Executing Query in Umbra...\n",
      "Done in 0.0013532!\n",
      "Executing Query in Postgres...\n",
      "Done in 7.074799999999999!\n",
      "Executing Query in Pandas...\n",
      "Done in 10.651518899976509!\n",
      "Executing Query in Umbra...\n",
      "Done in 0.0002775!\n",
      "Executing Query in Postgres...\n",
      "Done in 1.2537999999999998!\n",
      "Executing Query in Pandas...\n",
      "Done in 3.233038899998064!\n",
      "Executing Query in Umbra...\n",
      "Done in 0.0001959!\n",
      "Executing Query in Postgres...\n",
      "Done in 2.5202!\n",
      "Executing Query in Pandas...\n",
      "Done in 3.486932800296927!\n",
      "Executing Query in Umbra...\n",
      "Done in 0.0003922!\n",
      "Executing Query in Postgres...\n",
      "Done in 2.9019999999999997!\n",
      "Executing Query in Pandas...\n",
      "Done in 9.111791900068056!\n"
     ]
    },
    {
     "name": "stderr",
     "output_type": "stream",
     "text": [
      "Killed\n",
      "No user with password configured. For initial setup, connect via a domain socket:\n",
      "   psql -h /tmp -U postgres\n"
     ]
    },
    {
     "name": "stdout",
     "output_type": "stream",
     "text": [
      "ITERATION: 2 - for table size of: 10000\n",
      "Executing Query in Umbra...\n",
      "Done in 0.0038932000000000003!\n",
      "Executing Query in Postgres...\n",
      "Done in 71.6102!\n",
      "Executing Query in Pandas...\n",
      "Done in 29.38362800014147!\n",
      "Executing Query in Umbra...\n",
      "Done in 0.0007945000000000001!\n",
      "Executing Query in Postgres...\n",
      "Done in 11.685300000000002!\n",
      "Executing Query in Pandas...\n",
      "Done in 7.914400400113663!\n",
      "Executing Query in Umbra...\n",
      "Done in 0.0005466000000000002!\n",
      "Executing Query in Postgres...\n",
      "Done in 24.428000000000004!\n",
      "Executing Query in Pandas...\n",
      "Done in 7.647850699868286!\n",
      "Executing Query in Umbra...\n",
      "Done in 0.000835!\n",
      "Executing Query in Postgres...\n",
      "Done in 26.625199999999996!\n",
      "Executing Query in Pandas...\n",
      "Done in 12.53135229999316!\n"
     ]
    },
    {
     "data": {
      "text/plain": "<Figure size 288x288 with 1 Axes>",
      "image/png": "[encoded data removed]"
     },
     "metadata": {},
     "output_type": "display_data"
    },
    {
     "data": {
      "text/plain": "<Figure size 288x288 with 1 Axes>",
      "image/png": "[encoded data removed]"
     },
     "metadata": {},
     "output_type": "display_data"
    },
    {
     "data": {
      "text/plain": "<Figure size 288x288 with 1 Axes>",
      "image/png": "[encoded data removed]"
     },
     "metadata": {},
     "output_type": "display_data"
    },
    {
     "data": {
      "text/plain": "<Figure size 288x288 with 1 Axes>",
      "image/png": "[encoded data removed]"
     },
     "metadata": {},
     "output_type": "display_data"
    }
   ],
   "source": [
    "# Based on mlinspect benchmarks.\n",
    "t1_name = \"histories\"\n",
    "t2_name = \"patients\"\n",
    "\n",
    "operations = [\"Join\", \"Select\", \"Project\", \"GroupBy\"]\n",
    "\n",
    "umbra_times = [[] for _ in operations]\n",
    "postgres_times = [[] for _ in operations]\n",
    "pandas_times = [[] for _ in operations]\n",
    "\n",
    "postgres = PostgresqlConnector(dbname=\"healthcare_benchmark\", user=\"luca\", password=\"password\", port=5432,\n",
    "                               host=\"localhost\")\n",
    "pandas = PandasConnector()\n",
    "repetitions = 10\n",
    "for i, (table1, table2) in enumerate(HEALTHCARE_DATA_PATHS):\n",
    "\n",
    "    umbra = UmbraConnector(dbname=\"\", user=\"postgres\", password=\" \", port=5433, host=\"/tmp/\",\n",
    "                           umbra_dir=UMBRA_DIR)\n",
    "\n",
    "    umbra.add_csv(table_name=t2_name, path_to_csv=table2, null_symbols=[\"?\"], delimiter=\",\", header=True)\n",
    "    umbra.add_csv(table_name=t1_name, path_to_csv=table1, null_symbols=[\"?\"], delimiter=\",\", header=True)\n",
    "\n",
    "    postgres.add_csv(table_name=t2_name, path_to_csv=table2, null_symbols=[\"?\"], delimiter=\",\", header=True)\n",
    "    postgres.add_csv(table_name=t1_name, path_to_csv=table1, null_symbols=[\"?\"], delimiter=\",\", header=True)\n",
    "\n",
    "    print(f\"ITERATION: {i} - for table size of: {SIZES[i]}\")\n",
    "\n",
    "    input_join = t1_name, t2_name, \"ssn\"\n",
    "    umbra_times[0].append(umbra.benchmark_run(Join.get_sql_code(*input_join), repetitions))\n",
    "    postgres_times[0].append(postgres.benchmark_run(Join.get_sql_code(*input_join), repetitions))\n",
    "    pandas_times[0].append(\n",
    "        pandas.benchmark_run(Join.get_pandas_code(table1, table2, \"ssn\"), repetitions=repetitions))\n",
    "\n",
    "    input_sel = t1_name, \"complications\", \">\", \"5\"\n",
    "    umbra_times[1].append(umbra.benchmark_run(Selection.get_sql_code(*input_sel), repetitions))\n",
    "    postgres_times[1].append(postgres.benchmark_run(Selection.get_sql_code(*input_sel), repetitions))\n",
    "    pandas_times[1].append(\n",
    "        pandas.benchmark_run(Selection.get_pandas_code(table1, \"complications\", \">\", \"5\"),\n",
    "                             repetitions=repetitions))\n",
    "\n",
    "    input_project = t1_name, \"smoker\"\n",
    "    umbra_times[2].append(umbra.benchmark_run(Projection.get_sql_code(*input_project), repetitions))\n",
    "    postgres_times[2].append(postgres.benchmark_run(Projection.get_sql_code(*input_project), repetitions))\n",
    "    pandas_times[2].append(\n",
    "        pandas.benchmark_run(Projection.get_pandas_code(table1, \"smoker\"), repetitions=repetitions))\n",
    "\n",
    "    input_project = t1_name, \"smoker\", \"complications\", \"AVG\"\n",
    "    umbra_times[3].append(umbra.benchmark_run(GroupBy.get_sql_code(*input_project), repetitions))\n",
    "    postgres_times[3].append(postgres.benchmark_run(GroupBy.get_sql_code(*input_project), repetitions))\n",
    "    pandas_times[3].append(\n",
    "        pandas.benchmark_run(GroupBy.get_pandas_code(table1, \"smoker\", \"complications\", \"mean\"),\n",
    "                             repetitions=repetitions))\n",
    "    # in the end we have 3 lists == [[*joins*][*selections*][*projections*]]\n",
    "\n",
    "names = [\"Umbra\", \"Postgresql\", \"Pandas\"]\n",
    "for i, title in enumerate(operations):\n",
    "    table = [umbra_times[i], postgres_times[i], pandas_times[i]]\n",
    "    plot = plot_compare(title, SIZES, all_y=table, all_y_names=names, save=True)"
   ],
   "metadata": {
    "collapsed": false,
    "pycharm": {
     "name": "#%%\n"
    }
   }
  },
  {
   "cell_type": "markdown",
   "source": [
    "### The original results:\n",
    "**Join**:\n",
    "\n",
    "![](./plots/Join.png)\n",
    "\n",
    "**GroupBy**:\n",
    "\n",
    "![](./plots/GroupBy.png)\n",
    "\n",
    "**Select**:\n",
    "\n",
    "![](./plots/Select.png)\n",
    "\n",
    "**Project**:\n",
    "\n",
    "![](./plots/Project.png)\n",
    "\n"
   ],
   "metadata": {
    "collapsed": false,
    "pycharm": {
     "name": "#%% md\n"
    }
   }
  },
  {
   "cell_type": "markdown",
   "source": [
    "## Benchmark pure pipeline:"
   ],
   "metadata": {
    "collapsed": false
   }
  },
  {
   "cell_type": "code",
   "execution_count": 8,
   "outputs": [
    {
     "name": "stdout",
     "output_type": "stream",
     "text": [
      "<connection object at 0x7f82f3b01e80; dsn: 'user=luca password=xxx dbname=healthcare_benchmark host=localhost port=5432', closed: 0>\n",
      "ITERATION: 0 - for table size of: 100\n",
      "\n",
      "Just translation to SQL is performed! \n",
      "-> SQL-Code placed at: mlinspect/to_sql/generated_code\n",
      "\n"
     ]
    },
    {
     "name": "stderr",
     "output_type": "stream",
     "text": [
      "Killed\n",
      "No user with password configured. For initial setup, connect via a domain socket:\n",
      "   psql -h /tmp -U postgres\n"
     ]
    },
    {
     "name": "stdout",
     "output_type": "stream",
     "text": [
      "Executing Query in Umbra...\n",
      "Done in 0.0010190999999999998!\n",
      "Executing Query in Postgres...\n",
      "Done in 2.2216000000000005!\n",
      "Executing Query in Pandas...\n",
      "Done in 19.63406639988534!\n",
      "ITERATION: 1 - for table size of: 1000\n",
      "\n",
      "Just translation to SQL is performed! \n",
      "-> SQL-Code placed at: mlinspect/to_sql/generated_code\n",
      "\n"
     ]
    },
    {
     "name": "stderr",
     "output_type": "stream",
     "text": [
      "Killed\n",
      "No user with password configured. For initial setup, connect via a domain socket:\n",
      "   psql -h /tmp -U postgres\n"
     ]
    },
    {
     "name": "stdout",
     "output_type": "stream",
     "text": [
      "Executing Query in Umbra...\n",
      "Done in 0.0012866000000000002!\n",
      "Executing Query in Postgres...\n",
      "Done in 17.45!\n",
      "Executing Query in Pandas...\n",
      "Done in 17.949244499686756!\n",
      "ITERATION: 2 - for table size of: 10000\n",
      "\n",
      "Just translation to SQL is performed! \n",
      "-> SQL-Code placed at: mlinspect/to_sql/generated_code\n",
      "\n"
     ]
    },
    {
     "name": "stderr",
     "output_type": "stream",
     "text": [
      "Killed\n",
      "No user with password configured. For initial setup, connect via a domain socket:\n",
      "   psql -h /tmp -U postgres\n"
     ]
    },
    {
     "name": "stdout",
     "output_type": "stream",
     "text": [
      "Executing Query in Umbra...\n",
      "Done in 0.0046902!\n",
      "Executing Query in Postgres...\n",
      "Done in 175.22639999999998!\n",
      "Executing Query in Pandas...\n",
      "Done in 39.57875470005092!\n",
      "Plotting..\n"
     ]
    },
    {
     "data": {
      "text/plain": "<Figure size 288x288 with 1 Axes>",
      "image/png": "[encoded data removed]"
     },
     "metadata": {},
     "output_type": "display_data"
    }
   ],
   "source": [
    "def get_healthcare_pipe_code_orig(path_histories, path_patients):\n",
    "    setup_code = cleandoc(\"\"\"\n",
    "        import os\n",
    "        import pandas as pd\n",
    "        from mlinspect.utils import get_project_root\n",
    "        \"\"\")\n",
    "\n",
    "    test_code = cleandoc(f\"\"\"\n",
    "        COUNTIES_OF_INTEREST = ['county2', 'county3']\n",
    "\n",
    "        patients = pd.read_csv('{path_patients}', na_values='?')\n",
    "        histories = pd.read_csv('{path_histories}', na_values='?')\n",
    "\n",
    "        data = patients.merge(histories, on=['ssn'])\n",
    "        complications = data.groupby('age_group') \\\n",
    "            .agg(mean_complications=('complications', 'mean'))\n",
    "        data = data.merge(complications, on=['age_group'])\n",
    "        data['label'] = data['complications'] > 1.2 * data['mean_complications']\n",
    "        data = data[['smoker', 'last_name', 'county', 'num_children', 'race', 'income', 'label']]\n",
    "        data = data[data['county'].isin(COUNTIES_OF_INTEREST)]\n",
    "        \"\"\")\n",
    "\n",
    "    return setup_code, test_code\n",
    "\n",
    "\n",
    "def get_healthcare_SQL_str(pipeline_code, mode, materialize):\n",
    "    PipelineInspector \\\n",
    "        .on_pipeline_from_string(pipeline_code) \\\n",
    "        .execute_in_sql(dbms_connector=None, mode=mode, materialize=materialize)\n",
    "\n",
    "    setup_file = \\\n",
    "        pathlib.Path(r\"/home/luca/Documents/Bachelorarbeit/mlinspect/mlinspect/to_sql/generated_code/create_table.sql\")\n",
    "    test_file = \\\n",
    "        pathlib.Path(r\"/home/luca/Documents/Bachelorarbeit/mlinspect/mlinspect/to_sql/generated_code/pipeline.sql\")\n",
    "\n",
    "    with setup_file.open(\"r\") as file:\n",
    "        setup_code = file.read()\n",
    "\n",
    "    with test_file.open(\"r\") as file:\n",
    "        test_code = file.read()\n",
    "\n",
    "    return setup_code, test_code\n",
    "\n",
    "umbra_times = []\n",
    "postgres_times = []\n",
    "pandas_times = []\n",
    "\n",
    "postgres = PostgresqlConnector(dbname=\"healthcare_benchmark\", user=\"luca\", password=\"password\", port=5432,\n",
    "                               host=\"localhost\")\n",
    "pandas = PandasConnector()\n",
    "\n",
    "for i, (path_to_csv_his, path_to_csv_pat) in enumerate(HEALTHCARE_DATA_PATHS):\n",
    "    print(f\"ITERATION: {i} - for table size of: {SIZES[i]}\")\n",
    "\n",
    "    setup_code_orig, test_code_orig = get_healthcare_pipe_code_orig(path_to_csv_his, path_to_csv_pat)\n",
    "\n",
    "    setup_code, test_code = get_healthcare_SQL_str(setup_code_orig + \"\\n\" + test_code_orig, mode=\"CTE\",\n",
    "                                                   materialize=False)\n",
    "\n",
    "    ################################################################################################################\n",
    "    # time Umbra:\n",
    "    umbra = UmbraConnector(dbname=\"\", user=\"postgres\", password=\" \", port=5433, host=\"/tmp/\", umbra_dir=UMBRA_DIR)\n",
    "    umbra.run(setup_code)\n",
    "    umbra_times.append(umbra.benchmark_run(test_code, repetitions=BENCH_REP))\n",
    "\n",
    "    ################################################################################################################\n",
    "    # time Postgres:\n",
    "    postgres.run(setup_code)\n",
    "    postgres_times.append(postgres.benchmark_run(test_code, repetitions=BENCH_REP))\n",
    "\n",
    "    ################################################################################################################\n",
    "    # time Pandas:\n",
    "    pandas_times.append(pandas.benchmark_run(pandas_code=test_code_orig, setup_code=setup_code_orig,\n",
    "                                             repetitions=BENCH_REP))\n",
    "    ################################################################################################################\n",
    "\n",
    "print(f\"Plotting..\")\n",
    "names = [\"Umbra\", \"Postgresql\", \"Pandas\"]\n",
    "title = \"HealthcarePurePipeComparison\"\n",
    "table = [umbra_times, postgres_times, pandas_times]\n",
    "plot = plot_compare(title, SIZES, all_y=table, all_y_names=names, save=True)"
   ],
   "metadata": {
    "collapsed": false,
    "pycharm": {
     "name": "#%%\n"
    }
   }
  },
  {
   "cell_type": "markdown",
   "source": [
    "### The original results:\n",
    "**Join**:\n",
    "\n",
    "![](./plots/HealthcarePurePipeComparison.png)"
   ],
   "metadata": {
    "collapsed": false,
    "pycharm": {
     "name": "#%% md\n"
    }
   }
  },
  {
   "cell_type": "markdown",
   "source": [
    "## Benchmark Inspection:"
   ],
   "metadata": {
    "collapsed": false,
    "pycharm": {
     "name": "#%% md\n"
    }
   }
  },
  {
   "cell_type": "code",
   "execution_count": null,
   "outputs": [],
   "source": [],
   "metadata": {
    "collapsed": false,
    "pycharm": {
     "name": "#%%\n"
    }
   }
  },
  {
   "cell_type": "code",
   "execution_count": 6,
   "outputs": [],
   "source": [
    "# Clean_up:\n",
    "\n",
    "if DO_CLEANUP:\n",
    "    [f.unlink() for f in PLOT_DIR.glob(\"*_.png\") if f.is_file()]"
   ],
   "metadata": {
    "collapsed": false,
    "pycharm": {
     "name": "#%%\n"
    }
   }
  }
 ],
 "metadata": {
  "kernelspec": {
   "display_name": "Python 3",
   "language": "python",
   "name": "python3"
  },
  "language_info": {
   "codemirror_mode": {
    "name": "ipython",
    "version": 2
   },
   "file_extension": ".py",
   "mimetype": "text/x-python",
   "name": "python",
   "nbconvert_exporter": "python",
   "pygments_lexer": "ipython2",
   "version": "2.7.6"
  }
 },
 "nbformat": 4,
 "nbformat_minor": 0
}
{
 "cells": [
  {
   "cell_type": "markdown",
   "source": [
    "# Showcase of the \"to_sql\" functionality of mlinspect\n",
    "\n",
    "It will be shown how parts of the original mlinspect example pipelines\n",
    "\"healthcare\" and \"compas\" will be inspected using the additional \"to_sql\"\n",
    "functionality."
   ],
   "metadata": {
    "collapsed": false,
    "pycharm": {
     "name": "#%% md\n"
    }
   }
  },
  {
   "cell_type": "markdown",
   "source": [
    "## First install the required packages"
   ],
   "metadata": {
    "collapsed": false,
    "pycharm": {
     "name": "#%% md\n"
    }
   }
  },
  {
   "cell_type": "code",
   "execution_count": 1,
   "outputs": [
    {
     "name": "stdout",
     "output_type": "stream",
     "text": [
      "Requirement already satisfied: faker in /home/luca/Documents/Bachelorarbeit/mlinspect/venv/lib/python3.8/site-packages (8.10.2)\r\n",
      "Requirement already satisfied: python-dateutil>=2.4 in /home/luca/Documents/Bachelorarbeit/mlinspect/venv/lib/python3.8/site-packages (from faker) (2.8.2)\r\n",
      "Requirement already satisfied: text-unidecode==1.3 in /home/luca/Documents/Bachelorarbeit/mlinspect/venv/lib/python3.8/site-packages (from faker) (1.3)\r\n",
      "Requirement already satisfied: six>=1.5 in /home/luca/Documents/Bachelorarbeit/mlinspect/venv/lib/python3.8/site-packages (from python-dateutil>=2.4->faker) (1.15.0)\r\n"
     ]
    }
   ],
   "source": [
    "# Install the pip packages in the current Jupyter kernel\n",
    "import pathlib\n",
    "import sys\n",
    "!{sys.executable} -m pip install faker"
   ],
   "metadata": {
    "collapsed": false,
    "pycharm": {
     "name": "#%%\n"
    }
   }
  },
  {
   "cell_type": "markdown",
   "source": [
    "## Some parameters you might want to set:#"
   ],
   "metadata": {
    "collapsed": false,
    "pycharm": {
     "name": "#%% md\n"
    }
   }
  },
  {
   "cell_type": "code",
   "execution_count": 2,
   "outputs": [],
   "source": [
    "from mlinspect.to_sql.dbms_connectors.postgresql_connector import PostgresqlConnector\n",
    "from mlinspect.to_sql.dbms_connectors.umbra_connector import UmbraConnector\n",
    "from pandas_connector import PandasConnector\n",
    "from _benchmark_utility import plot_compare, ROOT_DIR, PLOT_DIR\n",
    "from _code_as_string import Join, GroupBy, Selection, Projection\n",
    "import matplotlib.pyplot as plt\n",
    "\n",
    "UMBRA_DIR = r\"/home/luca/Documents/Bachelorarbeit/umbra-students\"\n",
    "DO_CLEANUP = True\n",
    "SIZES = [(10 ** i) for i in range(2, 5, 1)]"
   ],
   "metadata": {
    "collapsed": false,
    "pycharm": {
     "name": "#%%\n"
    }
   }
  },
  {
   "cell_type": "markdown",
   "source": [
    "# Data Generation\n",
    "\n",
    "To be able to benchmark and compare the different approaches, some datasets\n",
    "will need to be generated before. The datasets are just and expansion of the\n",
    "original ones."
   ],
   "metadata": {
    "collapsed": false
   }
  },
  {
   "cell_type": "code",
   "execution_count": 3,
   "outputs": [
    {
     "name": "stdout",
     "output_type": "stream",
     "text": [
      "Data generated or found for: size = 100 -- compas\n",
      "Data generated or found for: size = 1000 -- compas\n",
      "Data generated or found for: size = 10000 -- compas\n",
      "Data generated or found for: size = 100 -- healthcare\n",
      "Data generated or found for: size = 1000 -- healthcare\n",
      "Data generated or found for: size = 10000 -- healthcare\n"
     ]
    }
   ],
   "source": [
    "from data_generation._compas_data_generation import generate_compas_dataset\n",
    "from data_generation._healthcare_data_generation import generate_healthcare_dataset\n",
    "\n",
    "# compas_tain, compas_test \\\n",
    "COMPAS_DATA_PATHS = generate_compas_dataset(SIZES)\n",
    "# healthcare_histories, healthcare_patients \\\n",
    "HEALTHCARE_DATA_PATHS = generate_healthcare_dataset(SIZES)"
   ],
   "metadata": {
    "collapsed": false,
    "pycharm": {
     "name": "#%%\n"
    }
   }
  },
  {
   "cell_type": "markdown",
   "source": [
    "## Operation performance comparison (not exhaustive)"
   ],
   "metadata": {
    "collapsed": false
   }
  },
  {
   "cell_type": "code",
   "execution_count": 4,
   "outputs": [
    {
     "name": "stderr",
     "output_type": "stream",
     "text": [
      "No user with password configured. For initial setup, connect via a domain socket:\n",
      "   psql -h /tmp -U postgres\n"
     ]
    },
    {
     "name": "stdout",
     "output_type": "stream",
     "text": [
      "ITERATION: 0 - for table size of: 10\n",
      "Executing Query in Umbra...\n",
      "Done in 0.00015159999999999997!\n",
      "Executing Query in Postgres...\n",
      "Done in 0.1661!\n",
      "Executing Query in Pandas...\n",
      "Done in 5.2119509999101865!\n",
      "Executing Query in Umbra...\n",
      "Done in 6.969999999999999e-05!\n",
      "Executing Query in Postgres...\n",
      "Done in 0.038200000000000005!\n",
      "Executing Query in Pandas...\n",
      "Done in 2.0973257000150625!\n",
      "Executing Query in Umbra...\n",
      "Done in 0.00018599999999999997!\n",
      "Executing Query in Postgres...\n",
      "Done in 0.05079999999999999!\n",
      "Executing Query in Pandas...\n",
      "Done in 2.0894274000966107!\n",
      "Executing Query in Umbra...\n",
      "Done in 0.0003611!\n",
      "Executing Query in Postgres...\n",
      "Done in 0.1316!\n",
      "Executing Query in Pandas...\n",
      "Done in 4.415974600124173!\n"
     ]
    },
    {
     "name": "stderr",
     "output_type": "stream",
     "text": [
      "Killed\n",
      "No user with password configured. For initial setup, connect via a domain socket:\n",
      "   psql -h /tmp -U postgres\n"
     ]
    },
    {
     "name": "stdout",
     "output_type": "stream",
     "text": [
      "ITERATION: 1 - for table size of: 100\n",
      "Executing Query in Umbra...\n",
      "Done in 0.0008550000000000001!\n",
      "Executing Query in Postgres...\n",
      "Done in 2.5728999999999997!\n",
      "Executing Query in Pandas...\n",
      "Done in 6.286476999957813!\n",
      "Executing Query in Umbra...\n",
      "Done in 0.0002379!\n",
      "Executing Query in Postgres...\n",
      "Done in 0.2577!\n",
      "Executing Query in Pandas...\n",
      "Done in 2.415727399966272!\n",
      "Executing Query in Umbra...\n",
      "Done in 0.0001237!\n",
      "Executing Query in Postgres...\n",
      "Done in 0.34010000000000007!\n",
      "Executing Query in Pandas...\n",
      "Done in 2.492799500032561!\n",
      "Executing Query in Umbra...\n",
      "Done in 0.0003474!\n",
      "Executing Query in Postgres...\n",
      "Done in 0.6932!\n",
      "Executing Query in Pandas...\n",
      "Done in 5.054322300020431!\n"
     ]
    },
    {
     "name": "stderr",
     "output_type": "stream",
     "text": [
      "Killed\n",
      "No user with password configured. For initial setup, connect via a domain socket:\n",
      "   psql -h /tmp -U postgres\n"
     ]
    },
    {
     "name": "stdout",
     "output_type": "stream",
     "text": [
      "ITERATION: 2 - for table size of: 1000\n",
      "Executing Query in Umbra...\n",
      "Done in 0.0037941000000000003!\n",
      "Executing Query in Postgres...\n",
      "Done in 30.729499999999994!\n",
      "Executing Query in Pandas...\n",
      "Done in 20.659322400024394!\n",
      "Executing Query in Umbra...\n",
      "Done in 0.0009146!\n",
      "Executing Query in Postgres...\n",
      "Done in 1.1766!\n",
      "Executing Query in Pandas...\n",
      "Done in 5.6836554000256!\n",
      "Executing Query in Umbra...\n",
      "Done in 0.0002307!\n",
      "Executing Query in Postgres...\n",
      "Done in 1.7165!\n",
      "Executing Query in Pandas...\n",
      "Done in 5.529232799926831!\n",
      "Executing Query in Umbra...\n",
      "Done in 0.0005372!\n",
      "Executing Query in Postgres...\n",
      "Done in 2.1515!\n",
      "Executing Query in Pandas...\n",
      "Done in 9.292400199956319!\n"
     ]
    },
    {
     "data": {
      "text/plain": "<Figure size 288x288 with 1 Axes>",
      "image/png": "[encoded data removed]"
     },
     "metadata": {},
     "output_type": "display_data"
    },
    {
     "data": {
      "text/plain": "<Figure size 288x288 with 1 Axes>",
      "image/png": "[encoded data removed]"
     },
     "metadata": {},
     "output_type": "display_data"
    },
    {
     "data": {
      "text/plain": "<Figure size 288x288 with 1 Axes>",
      "image/png": "[encoded data removed]"
     },
     "metadata": {},
     "output_type": "display_data"
    },
    {
     "data": {
      "text/plain": "<Figure size 288x288 with 1 Axes>",
      "image/png": "[encoded data removed]"
     },
     "metadata": {},
     "output_type": "display_data"
    }
   ],
   "source": [
    "# Based on mlinspect benchmarks.\n",
    "t1_name = \"histories\"\n",
    "t2_name = \"patients\"\n",
    "\n",
    "operations = [\"Join\", \"Select\", \"Project\", \"GroupBy\"]\n",
    "\n",
    "umbra_times = [[] for _ in operations]\n",
    "postgres_times = [[] for _ in operations]\n",
    "pandas_times = [[] for _ in operations]\n",
    "\n",
    "postgres = PostgresqlConnector(dbname=\"healthcare_benchmark\", user=\"luca\", password=\"password\", port=5432,\n",
    "                               host=\"localhost\")\n",
    "pandas = PandasConnector()\n",
    "repetitions = 10\n",
    "for i, (table1, table2) in enumerate(HEALTHCARE_DATA_PATHS):\n",
    "\n",
    "    umbra = UmbraConnector(dbname=\"\", user=\"postgres\", password=\" \", port=5433, host=\"/tmp/\",\n",
    "                           umbra_dir=UMBRA_DIR)\n",
    "\n",
    "    umbra.add_csv(table_name=t2_name, path_to_csv=table2, null_symbols=[\"?\"], delimiter=\",\", header=True)\n",
    "    umbra.add_csv(table_name=t1_name, path_to_csv=table1, null_symbols=[\"?\"], delimiter=\",\", header=True)\n",
    "\n",
    "    postgres.add_csv(table_name=t2_name, path_to_csv=table2, null_symbols=[\"?\"], delimiter=\",\", header=True)\n",
    "    postgres.add_csv(table_name=t1_name, path_to_csv=table1, null_symbols=[\"?\"], delimiter=\",\", header=True)\n",
    "\n",
    "    print(f\"ITERATION: {i} - for table size of: {(10 ** (i + 1))}\")\n",
    "\n",
    "    input_join = t1_name, t2_name, \"ssn\"\n",
    "    umbra_times[0].append(umbra.benchmark_run(Join.get_sql_code(*input_join), repetitions))\n",
    "    postgres_times[0].append(postgres.benchmark_run(Join.get_sql_code(*input_join), repetitions))\n",
    "    pandas_times[0].append(\n",
    "        pandas.benchmark_run(Join.get_pandas_code(table1, table2, \"ssn\"), repetitions=repetitions))\n",
    "\n",
    "    input_sel = t1_name, \"complications\", \">\", \"5\"\n",
    "    umbra_times[1].append(umbra.benchmark_run(Selection.get_sql_code(*input_sel), repetitions))\n",
    "    postgres_times[1].append(postgres.benchmark_run(Selection.get_sql_code(*input_sel), repetitions))\n",
    "    pandas_times[1].append(\n",
    "        pandas.benchmark_run(Selection.get_pandas_code(table1, \"complications\", \">\", \"5\"),\n",
    "                             repetitions=repetitions))\n",
    "\n",
    "    input_project = t1_name, \"smoker\"\n",
    "    umbra_times[2].append(umbra.benchmark_run(Projection.get_sql_code(*input_project), repetitions))\n",
    "    postgres_times[2].append(postgres.benchmark_run(Projection.get_sql_code(*input_project), repetitions))\n",
    "    pandas_times[2].append(\n",
    "        pandas.benchmark_run(Projection.get_pandas_code(table1, \"smoker\"), repetitions=repetitions))\n",
    "\n",
    "    input_project = t1_name, \"smoker\", \"complications\", \"AVG\"\n",
    "    umbra_times[3].append(umbra.benchmark_run(GroupBy.get_sql_code(*input_project), repetitions))\n",
    "    postgres_times[3].append(postgres.benchmark_run(GroupBy.get_sql_code(*input_project), repetitions))\n",
    "    pandas_times[3].append(\n",
    "        pandas.benchmark_run(GroupBy.get_pandas_code(table1, \"smoker\", \"complications\", \"mean\"),\n",
    "                             repetitions=repetitions))\n",
    "    # in the end we have 3 lists == [[*joins*][*selections*][*projections*]]\n",
    "\n",
    "names = [\"Umbra\", \"Postgresql\", \"Pandas\"]\n",
    "for i, title in enumerate(operations):\n",
    "    table = [umbra_times[i], postgres_times[i], pandas_times[i]]\n",
    "    plot = plot_compare(title, SIZES, all_y=table, all_y_names=names, save=True)"
   ],
   "metadata": {
    "collapsed": false,
    "pycharm": {
     "name": "#%%\n"
    }
   }
  },
  {
   "cell_type": "markdown",
   "source": [
    "### The original results:\n",
    "**Join**:\n",
    "\n",
    "![](./plots/Join.png)\n",
    "\n",
    "**GroupBy**:\n",
    "\n",
    "![](./plots/GroupBy.png)\n",
    "\n",
    "**Select**:\n",
    "\n",
    "![](./plots/Select.png)\n",
    "\n",
    "**Project**:\n",
    "\n",
    "![](./plots/Project.png)\n",
    "\n"
   ],
   "metadata": {
    "collapsed": false,
    "pycharm": {
     "name": "#%% md\n"
    }
   }
  },
  {
   "cell_type": "markdown",
   "source": [],
   "metadata": {
    "collapsed": false
   }
  },
  {
   "cell_type": "code",
   "execution_count": 5,
   "outputs": [],
   "source": [
    "# Clean_up:\n",
    "\n",
    "if DO_CLEANUP:\n",
    "    [f.unlink() for f in PLOT_DIR.glob(\"*_*.png\") if f.is_file()]"
   ],
   "metadata": {
    "collapsed": false,
    "pycharm": {
     "name": "#%%\n"
    }
   }
  }
 ],
 "metadata": {
  "kernelspec": {
   "display_name": "Python 3",
   "language": "python",
   "name": "python3"
  },
  "language_info": {
   "codemirror_mode": {
    "name": "ipython",
    "version": 2
   },
   "file_extension": ".py",
   "mimetype": "text/x-python",
   "name": "python",
   "nbconvert_exporter": "python",
   "pygments_lexer": "ipython2",
   "version": "2.7.6"
  }
 },
 "nbformat": 4,
 "nbformat_minor": 0
}
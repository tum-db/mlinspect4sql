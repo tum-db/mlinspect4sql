{
 "cells": [
  {
   "cell_type": "markdown",
   "source": [
    "# Showcase of the \"to_sql\" functionality of mlinspect\n",
    "\n",
    "It will be shown how parts of the original mlinspect example pipelines\n",
    "\"healthcare\" and \"compas\" will be inspected using the additional \"to_sql\"\n",
    "functionality."
   ],
   "metadata": {
    "collapsed": false,
    "pycharm": {
     "name": "#%% md\n"
    }
   }
  },
  {
   "cell_type": "markdown",
   "source": [
    "## First install the required packages"
   ],
   "metadata": {
    "collapsed": false,
    "pycharm": {
     "name": "#%% md\n"
    }
   }
  },
  {
   "cell_type": "code",
   "execution_count": null,
   "outputs": [],
   "source": [
    "# Install the pip packages in the current Jupyter kernel\n",
    "import sys\n",
    "!{sys.executable} -m pip install faker"
   ],
   "metadata": {
    "collapsed": false,
    "pycharm": {
     "name": "#%%\n"
    }
   }
  },
  {
   "cell_type": "markdown",
   "source": [
    "## Some parameters you might want to set:#"
   ],
   "metadata": {
    "collapsed": false,
    "pycharm": {
     "name": "#%% md\n"
    }
   }
  },
  {
   "cell_type": "code",
   "execution_count": 8,
   "outputs": [],
   "source": [
    "import pathlib\n",
    "import timeit\n",
    "from inspect import cleandoc\n",
    "import matplotlib.pyplot as plt\n",
    "\n",
    "from mlinspect.to_sql.dbms_connectors.postgresql_connector import PostgresqlConnector\n",
    "from mlinspect.to_sql.dbms_connectors.umbra_connector import UmbraConnector\n",
    "from pandas_connector import PandasConnector\n",
    "from mlinspect import PipelineInspector\n",
    "\n",
    "from pandas_connector import PandasConnector\n",
    "from _benchmark_utility import plot_compare, ROOT_DIR, PLOT_DIR\n",
    "from _code_as_string import Join, GroupBy, Selection, Projection\n",
    "\n",
    "DO_CLEANUP = True\n",
    "SIZES = [(10 ** i) for i in range(2, 5, 1)]\n",
    "BENCH_REP = 10\n",
    "\n",
    "# DBMS related:\n",
    "UMBRA_DIR = r\"/home/luca/Documents/Bachelorarbeit/umbra-students\"\n",
    "UMBRA_USER = \"postgres\"\n",
    "UMBRA_PW = \" \"\n",
    "UMBRA_DB = \"\"\n",
    "UMBRA_PORT = 5433\n",
    "UMBRA_HOST = \"/tmp/\"\n",
    "\n",
    "POSTGRES_USER = \"luca\"\n",
    "POSTGRES_PW = \"password\"\n",
    "POSTGRES_DB = \"healthcare_benchmark\"\n",
    "POSTGRES_PORT = 5432\n",
    "POSTGRES_HOST = \"localhost\""
   ],
   "metadata": {
    "collapsed": false,
    "pycharm": {
     "name": "#%%\n"
    }
   }
  },
  {
   "cell_type": "markdown",
   "source": [
    "# Data Generation\n",
    "\n",
    "To be able to benchmark and compare the different approaches, some datasets\n",
    "will need to be generated before. The datasets are just and expansion of the\n",
    "original ones."
   ],
   "metadata": {
    "collapsed": false
   }
  },
  {
   "cell_type": "code",
   "execution_count": 3,
   "outputs": [
    {
     "name": "stdout",
     "output_type": "stream",
     "text": [
      "Data generated or found for: size = 100 -- compas\n",
      "Data generated or found for: size = 1000 -- compas\n",
      "Data generated or found for: size = 10000 -- compas\n",
      "Data generated or found for: size = 100 -- healthcare\n",
      "Data generated or found for: size = 1000 -- healthcare\n",
      "Data generated or found for: size = 10000 -- healthcare\n"
     ]
    }
   ],
   "source": [
    "from data_generation._compas_data_generation import generate_compas_dataset\n",
    "from data_generation._healthcare_data_generation import generate_healthcare_dataset\n",
    "\n",
    "# compas_tain, compas_test \\\n",
    "COMPAS_DATA_PATHS = generate_compas_dataset(SIZES)\n",
    "# healthcare_histories, healthcare_patients \\\n",
    "HEALTHCARE_DATA_PATHS = generate_healthcare_dataset(SIZES)"
   ],
   "metadata": {
    "collapsed": false,
    "pycharm": {
     "name": "#%%\n"
    }
   }
  },
  {
   "cell_type": "markdown",
   "source": [
    "## Benchmark simple operations (not exhaustive)"
   ],
   "metadata": {
    "collapsed": false
   }
  },
  {
   "cell_type": "code",
   "execution_count": 10,
   "outputs": [
    {
     "name": "stderr",
     "output_type": "stream",
     "text": [
      "Killed\n",
      "No user with password configured. For initial setup, connect via a domain socket:\n",
      "   psql -h /tmp -U postgres\n"
     ]
    },
    {
     "name": "stdout",
     "output_type": "stream",
     "text": [
      "ITERATION: 0 - for table size of: 100\n",
      "Executing Query in Umbra...\n",
      "Done in 0.0003177000000000001!\n",
      "Executing Query in Postgres...\n",
      "Done in 0.17!\n",
      "Executing Query in Pandas...\n",
      "Done in 9.017838099998698!\n",
      "Executing Query in Umbra...\n",
      "Done in 0.00010540000000000003!\n",
      "Executing Query in Postgres...\n",
      "Done in 0.04229999999999999!\n",
      "Executing Query in Pandas...\n",
      "Done in 3.31612900000664!\n",
      "Executing Query in Umbra...\n",
      "Done in 0.0002403!\n",
      "Executing Query in Postgres...\n",
      "Done in 0.0792!\n",
      "Executing Query in Pandas...\n",
      "Done in 3.298348599992096!\n",
      "Executing Query in Umbra...\n",
      "Done in 0.0005539!\n",
      "Executing Query in Postgres...\n",
      "Done in 0.09530000000000001!\n",
      "Executing Query in Pandas...\n",
      "Done in 12.675372199998947!\n"
     ]
    },
    {
     "name": "stderr",
     "output_type": "stream",
     "text": [
      "Killed\n",
      "No user with password configured. For initial setup, connect via a domain socket:\n",
      "   psql -h /tmp -U postgres\n"
     ]
    },
    {
     "name": "stdout",
     "output_type": "stream",
     "text": [
      "ITERATION: 1 - for table size of: 1000\n",
      "Executing Query in Umbra...\n",
      "Done in 0.0014258!\n",
      "Executing Query in Postgres...\n",
      "Done in 1.0085000000000002!\n",
      "Executing Query in Pandas...\n",
      "Done in 8.7979378!\n",
      "Executing Query in Umbra...\n",
      "Done in 0.0002056!\n",
      "Executing Query in Postgres...\n",
      "Done in 0.24170000000000003!\n",
      "Executing Query in Pandas...\n",
      "Done in 2.859052700000575!\n",
      "Executing Query in Umbra...\n",
      "Done in 0.00019869999999999995!\n",
      "Executing Query in Postgres...\n",
      "Done in 0.2916!\n",
      "Executing Query in Pandas...\n",
      "Done in 2.7112010999985614!\n",
      "Executing Query in Umbra...\n",
      "Done in 0.0004556!\n",
      "Executing Query in Postgres...\n",
      "Done in 0.5596!\n",
      "Executing Query in Pandas...\n",
      "Done in 6.593199099995672!\n"
     ]
    },
    {
     "name": "stderr",
     "output_type": "stream",
     "text": [
      "Killed\n",
      "No user with password configured. For initial setup, connect via a domain socket:\n",
      "   psql -h /tmp -U postgres\n"
     ]
    },
    {
     "name": "stdout",
     "output_type": "stream",
     "text": [
      "ITERATION: 2 - for table size of: 10000\n",
      "Executing Query in Umbra...\n",
      "Done in 0.0036105000000000004!\n",
      "Executing Query in Postgres...\n",
      "Done in 9.538!\n",
      "Executing Query in Pandas...\n",
      "Done in 30.77262959999416!\n",
      "Executing Query in Umbra...\n",
      "Done in 0.0006693000000000001!\n",
      "Executing Query in Postgres...\n",
      "Done in 1.6340000000000003!\n",
      "Executing Query in Pandas...\n",
      "Done in 8.428138399995078!\n",
      "Executing Query in Umbra...\n",
      "Done in 0.0003818!\n",
      "Executing Query in Postgres...\n",
      "Done in 2.1203000000000003!\n",
      "Executing Query in Pandas...\n",
      "Done in 8.322655599999962!\n",
      "Executing Query in Umbra...\n",
      "Done in 0.0007373000000000001!\n",
      "Executing Query in Postgres...\n",
      "Done in 3.6430999999999996!\n",
      "Executing Query in Pandas...\n",
      "Done in 13.235964799991962!\n"
     ]
    },
    {
     "data": {
      "text/plain": "<Figure size 288x288 with 1 Axes>",
      "image/png": "[encoded data removed]"
     },
     "metadata": {},
     "output_type": "display_data"
    },
    {
     "data": {
      "text/plain": "<Figure size 288x288 with 1 Axes>",
      "image/png": "[encoded data removed]"
     },
     "metadata": {},
     "output_type": "display_data"
    },
    {
     "data": {
      "text/plain": "<Figure size 288x288 with 1 Axes>",
      "image/png": "[encoded data removed]"
     },
     "metadata": {},
     "output_type": "display_data"
    },
    {
     "data": {
      "text/plain": "<Figure size 288x288 with 1 Axes>",
      "image/png": "[encoded data removed]"
     },
     "metadata": {},
     "output_type": "display_data"
    }
   ],
   "source": [
    "# Based on mlinspect benchmarks.\n",
    "\n",
    "def simple_op_benchmark():\n",
    "    t1_name = \"histories\"\n",
    "    t2_name = \"patients\"\n",
    "\n",
    "    operations = [\"Join\", \"Select\", \"Project\", \"GroupBy\"]\n",
    "\n",
    "    umbra_times = [[] for _ in operations]\n",
    "    postgres_times = [[] for _ in operations]\n",
    "    pandas_times = [[] for _ in operations]\n",
    "\n",
    "    postgres = PostgresqlConnector(dbname=\"healthcare_benchmark\", user=\"luca\", password=\"password\", port=5432,\n",
    "                                   host=\"localhost\")\n",
    "    pandas = PandasConnector()\n",
    "    repetitions = 10\n",
    "    for i, (table1, table2) in enumerate(HEALTHCARE_DATA_PATHS):\n",
    "\n",
    "        umbra = UmbraConnector(dbname=\"\", user=\"postgres\", password=\" \", port=5433, host=\"/tmp/\",\n",
    "                               umbra_dir=UMBRA_DIR)\n",
    "\n",
    "        umbra.add_csv(table_name=t2_name, path_to_csv=table2, null_symbols=[\"?\"], delimiter=\",\", header=True)\n",
    "        umbra.add_csv(table_name=t1_name, path_to_csv=table1, null_symbols=[\"?\"], delimiter=\",\", header=True)\n",
    "\n",
    "        postgres.add_csv(table_name=t2_name, path_to_csv=table2, null_symbols=[\"?\"], delimiter=\",\", header=True)\n",
    "        postgres.add_csv(table_name=t1_name, path_to_csv=table1, null_symbols=[\"?\"], delimiter=\",\", header=True)\n",
    "\n",
    "        print(f\"ITERATION: {i} - for table size of: {SIZES[i]}\")\n",
    "\n",
    "        input_join = t1_name, t2_name, \"ssn\"\n",
    "        umbra_times[0].append(umbra.benchmark_run(Join.get_sql_code(*input_join), repetitions))\n",
    "        postgres_times[0].append(postgres.benchmark_run(Join.get_sql_code(*input_join), repetitions))\n",
    "        pandas_times[0].append(\n",
    "            pandas.benchmark_run(Join.get_pandas_code(table1, table2, \"ssn\"), repetitions=repetitions))\n",
    "\n",
    "        input_sel = t1_name, \"complications\", \">\", \"5\"\n",
    "        umbra_times[1].append(umbra.benchmark_run(Selection.get_sql_code(*input_sel), repetitions))\n",
    "        postgres_times[1].append(postgres.benchmark_run(Selection.get_sql_code(*input_sel), repetitions))\n",
    "        pandas_times[1].append(\n",
    "            pandas.benchmark_run(Selection.get_pandas_code(table1, \"complications\", \">\", \"5\"),\n",
    "                                 repetitions=repetitions))\n",
    "\n",
    "        input_project = t1_name, \"smoker\"\n",
    "        umbra_times[2].append(umbra.benchmark_run(Projection.get_sql_code(*input_project), repetitions))\n",
    "        postgres_times[2].append(postgres.benchmark_run(Projection.get_sql_code(*input_project), repetitions))\n",
    "        pandas_times[2].append(\n",
    "            pandas.benchmark_run(Projection.get_pandas_code(table1, \"smoker\"), repetitions=repetitions))\n",
    "\n",
    "        input_project = t1_name, \"smoker\", \"complications\", \"AVG\"\n",
    "        umbra_times[3].append(umbra.benchmark_run(GroupBy.get_sql_code(*input_project), repetitions))\n",
    "        postgres_times[3].append(postgres.benchmark_run(GroupBy.get_sql_code(*input_project), repetitions))\n",
    "        pandas_times[3].append(\n",
    "            pandas.benchmark_run(GroupBy.get_pandas_code(table1, \"smoker\", \"complications\", \"mean\"),\n",
    "                                 repetitions=repetitions))\n",
    "        # in the end we have 3 lists == [[*joins*][*selections*][*projections*]]\n",
    "\n",
    "    names = [\"Umbra\", \"Postgresql\", \"Pandas\"]\n",
    "    for i, title in enumerate(operations):\n",
    "        table = [umbra_times[i], postgres_times[i], pandas_times[i]]\n",
    "        plot_compare(title, SIZES, all_y=table, all_y_names=names, save=True)\n",
    "\n",
    "\n",
    "simple_op_benchmark()"
   ],
   "metadata": {
    "collapsed": false,
    "pycharm": {
     "name": "#%%\n"
    }
   }
  },
  {
   "cell_type": "markdown",
   "source": [
    "### The original results:\n",
    "**Join**:\n",
    "\n",
    "![](./plots/Join.png)\n",
    "\n",
    "**GroupBy**:\n",
    "\n",
    "![](./plots/GroupBy.png)\n",
    "\n",
    "**Select**:\n",
    "\n",
    "![](./plots/Select.png)\n",
    "\n",
    "**Project**:\n",
    "\n",
    "![](./plots/Project.png)\n",
    "\n"
   ],
   "metadata": {
    "collapsed": false,
    "pycharm": {
     "name": "#%% md\n"
    }
   }
  },
  {
   "cell_type": "markdown",
   "source": [
    "## Benchmark pure pipeline:"
   ],
   "metadata": {
    "collapsed": false
   }
  },
  {
   "cell_type": "code",
   "execution_count": 5,
   "outputs": [],
   "source": [
    "def get_healthcare_pipe_code_orig(path_histories, path_patients):\n",
    "    setup_code = cleandoc(\"\"\"\n",
    "        import os\n",
    "        import pandas as pd\n",
    "        from mlinspect.utils import get_project_root\n",
    "        \"\"\")\n",
    "\n",
    "    test_code = cleandoc(f\"\"\"\n",
    "        COUNTIES_OF_INTEREST = ['county2', 'county3']\n",
    "\n",
    "        patients = pd.read_csv('{path_patients}', na_values='?')\n",
    "        histories = pd.read_csv('{path_histories}', na_values='?')\n",
    "\n",
    "        data = patients.merge(histories, on=['ssn'])\n",
    "        complications = data.groupby('age_group') \\\n",
    "            .agg(mean_complications=('complications', 'mean'))\n",
    "        data = data.merge(complications, on=['age_group'])\n",
    "        data['label'] = data['complications'] > 1.2 * data['mean_complications']\n",
    "        data = data[['smoker', 'last_name', 'county', 'num_children', 'race', 'income', 'label']]\n",
    "        data = data[data['county'].isin(COUNTIES_OF_INTEREST)]\n",
    "        \"\"\")\n",
    "\n",
    "    return setup_code, test_code\n",
    "\n",
    "\n",
    "def get_healthcare_SQL_str(pipeline_code, mode, materialize):\n",
    "    PipelineInspector \\\n",
    "        .on_pipeline_from_string(pipeline_code) \\\n",
    "        .execute_in_sql(dbms_connector=None, mode=mode, materialize=materialize)\n",
    "\n",
    "    setup_file = \\\n",
    "        pathlib.Path(r\"/home/luca/Documents/Bachelorarbeit/mlinspect/mlinspect/to_sql/generated_code/create_table.sql\")\n",
    "    test_file = \\\n",
    "        pathlib.Path(r\"/home/luca/Documents/Bachelorarbeit/mlinspect/mlinspect/to_sql/generated_code/pipeline.sql\")\n",
    "\n",
    "    with setup_file.open(\"r\") as file:\n",
    "        setup_code = file.read()\n",
    "\n",
    "    with test_file.open(\"r\") as file:\n",
    "        test_code = file.read()\n",
    "\n",
    "    return setup_code, test_code"
   ],
   "metadata": {
    "collapsed": false,
    "pycharm": {
     "name": "#%%\n"
    }
   }
  },
  {
   "cell_type": "code",
   "execution_count": 9,
   "outputs": [
    {
     "name": "stdout",
     "output_type": "stream",
     "text": [
      "ITERATION: 0 - for table size of: 100\n",
      "\n",
      "Just translation to SQL is performed! \n",
      "-> SQL-Code placed at: mlinspect/to_sql/generated_code\n",
      "\n"
     ]
    },
    {
     "name": "stderr",
     "output_type": "stream",
     "text": [
      "No user with password configured. For initial setup, connect via a domain socket:\n",
      "   psql -h /tmp -U postgres\n"
     ]
    },
    {
     "name": "stdout",
     "output_type": "stream",
     "text": [
      "Executing Query in Umbra...\n",
      "Done in 0.0009016999999999999!\n",
      "Executing Query in Postgres...\n",
      "Done in 0.45840000000000003!\n",
      "Executing Query in Pandas...\n",
      "Done in 27.8417558000001!\n",
      "ITERATION: 1 - for table size of: 1000\n",
      "\n",
      "Just translation to SQL is performed! \n",
      "-> SQL-Code placed at: mlinspect/to_sql/generated_code\n",
      "\n"
     ]
    },
    {
     "name": "stderr",
     "output_type": "stream",
     "text": [
      "Killed\n",
      "No user with password configured. For initial setup, connect via a domain socket:\n",
      "   psql -h /tmp -U postgres\n"
     ]
    },
    {
     "name": "stdout",
     "output_type": "stream",
     "text": [
      "Executing Query in Umbra...\n",
      "Done in 0.0013144!\n",
      "Executing Query in Postgres...\n",
      "Done in 3.201200000000001!\n",
      "Executing Query in Pandas...\n",
      "Done in 16.784041699997942!\n",
      "ITERATION: 2 - for table size of: 10000\n",
      "\n",
      "Just translation to SQL is performed! \n",
      "-> SQL-Code placed at: mlinspect/to_sql/generated_code\n",
      "\n"
     ]
    },
    {
     "name": "stderr",
     "output_type": "stream",
     "text": [
      "Killed\n",
      "No user with password configured. For initial setup, connect via a domain socket:\n",
      "   psql -h /tmp -U postgres\n"
     ]
    },
    {
     "name": "stdout",
     "output_type": "stream",
     "text": [
      "Executing Query in Umbra...\n",
      "Done in 0.004005!\n",
      "Executing Query in Postgres...\n",
      "Done in 32.3308!\n",
      "Executing Query in Pandas...\n",
      "Done in 45.57387759999756!\n",
      "Plotting..\n"
     ]
    },
    {
     "data": {
      "text/plain": "<Figure size 288x288 with 1 Axes>",
      "image/png": "[encoded data removed]"
     },
     "metadata": {},
     "output_type": "display_data"
    }
   ],
   "source": [
    "def pure_pipeline_benchmark():\n",
    "    umbra_times = []\n",
    "    postgres_times = []\n",
    "    pandas_times = []\n",
    "\n",
    "    postgres = PostgresqlConnector(dbname=\"healthcare_benchmark\", user=\"luca\", password=\"password\", port=5432,\n",
    "                                   host=\"localhost\")\n",
    "    pandas = PandasConnector()\n",
    "\n",
    "    for i, (path_to_csv_his, path_to_csv_pat) in enumerate(HEALTHCARE_DATA_PATHS):\n",
    "        print(f\"ITERATION: {i} - for table size of: {SIZES[i]}\")\n",
    "\n",
    "        setup_code_orig, test_code_orig = get_healthcare_pipe_code_orig(path_to_csv_his, path_to_csv_pat)\n",
    "\n",
    "        setup_code, test_code = get_healthcare_SQL_str(setup_code_orig + \"\\n\" + test_code_orig, mode=\"CTE\",\n",
    "                                                       materialize=False)\n",
    "\n",
    "        ################################################################################################################\n",
    "        # time Umbra:\n",
    "        umbra = UmbraConnector(dbname=\"\", user=\"postgres\", password=\" \", port=5433, host=\"/tmp/\", umbra_dir=UMBRA_DIR)\n",
    "        umbra.run(setup_code)\n",
    "        umbra_times.append(umbra.benchmark_run(test_code, repetitions=BENCH_REP))\n",
    "\n",
    "        ################################################################################################################\n",
    "        # time Postgres:\n",
    "        postgres.run(setup_code)\n",
    "        postgres_times.append(postgres.benchmark_run(test_code, repetitions=BENCH_REP))\n",
    "\n",
    "        ################################################################################################################\n",
    "        # time Pandas:\n",
    "        pandas_times.append(pandas.benchmark_run(pandas_code=test_code_orig, setup_code=setup_code_orig,\n",
    "                                                 repetitions=BENCH_REP))\n",
    "        ################################################################################################################\n",
    "\n",
    "    print(f\"Plotting..\")\n",
    "    names = [\"Umbra\", \"Postgresql\", \"Pandas\"]\n",
    "    title = \"HealthcarePurePipeComparison\"\n",
    "    table = [umbra_times, postgres_times, pandas_times]\n",
    "    plot_compare(title, SIZES, all_y=table, all_y_names=names, save=True)\n",
    "\n",
    "pure_pipeline_benchmark()"
   ],
   "metadata": {
    "collapsed": false,
    "pycharm": {
     "name": "#%%\n"
    }
   }
  },
  {
   "cell_type": "markdown",
   "source": [
    "### The original results:\n",
    "**Join**:\n",
    "\n",
    "![](./plots/HealthcarePurePipeComparison.png)"
   ],
   "metadata": {
    "collapsed": false,
    "pycharm": {
     "name": "#%% md\n"
    }
   }
  },
  {
   "cell_type": "markdown",
   "source": [
    "## Benchmark Inspection:"
   ],
   "metadata": {
    "collapsed": false,
    "pycharm": {
     "name": "#%% md\n"
    }
   }
  },
  {
   "cell_type": "code",
   "execution_count": null,
   "outputs": [
    {
     "name": "stdout",
     "output_type": "stream",
     "text": [
      "Running pandas...  -- size 100\n"
     ]
    },
    {
     "name": "stderr",
     "output_type": "stream",
     "text": [
      "Killed\n",
      "No user with password configured. For initial setup, connect via a domain socket:\n",
      "   psql -h /tmp -U postgres\n"
     ]
    },
    {
     "name": "stdout",
     "output_type": "stream",
     "text": [
      "<connection object at 0x7f2cd96dfc20; dsn: 'user=luca password=xxx dbname=healthcare_benchmark host=localhost port=5432', closed: 0>\n",
      "Running postgres...  -- size 100\n"
     ]
    },
    {
     "name": "stderr",
     "output_type": "stream",
     "text": [
      "No user with password configured. For initial setup, connect via a domain socket:\n",
      "   psql -h /tmp -U postgres\n"
     ]
    }
   ],
   "source": [
    "def get_inspection_code(pipeline_code, to_sql, dbms_connector, one_run=False):\n",
    "    setup_code = cleandoc(f\"\"\"\n",
    "from inspect import cleandoc\n",
    "from mlinspect.utils import get_project_root\n",
    "from mlinspect import PipelineInspector\n",
    "from mlinspect.inspections import RowLineage, MaterializeFirstOutputRows\n",
    "from mlinspect.checks import NoBiasIntroducedFor, NoIllegalFeatures\n",
    "from demo.feature_overview.no_missing_embeddings import NoMissingEmbeddings\n",
    "from inspect import cleandoc\n",
    "from example_pipelines.healthcare import custom_monkeypatching\n",
    "from mlinspect.to_sql.dbms_connectors.postgresql_connector import PostgresqlConnector\n",
    "from mlinspect.to_sql.dbms_connectors.umbra_connector import UmbraConnector\n",
    "from mlinspect import PipelineInspector\n",
    "\n",
    "dbms_connector_u = UmbraConnector(dbname=\\'{UMBRA_DB}\\', user=\\'{UMBRA_USER}\\', password=\\'{UMBRA_PW}\\',\n",
    "    port={UMBRA_PORT}, host=\\'{UMBRA_HOST}\\', umbra_dir= r\\'{UMBRA_DIR}\\')\n",
    "dbms_connector_p = PostgresqlConnector(dbname=\\'{POSTGRES_DB}\\', user=\\'{POSTGRES_USER}\\',\n",
    "    password=\\'{POSTGRES_PW}\\', port={POSTGRES_PORT}, host=\\'{POSTGRES_HOST}\\')\n",
    "\n",
    "pipeline_code = cleandoc(f\\\"\\\"\\\"{pipeline_code}\\\"\\\"\\\")\n",
    "\n",
    "pipeline_inspector = PipelineInspector.on_pipeline_from_string(pipeline_code) \\\\\n",
    "    .add_custom_monkey_patching_module(custom_monkeypatching) \\\\\n",
    "    .add_check(NoBiasIntroducedFor([\\'age_group\\', \\'race\\'])) \\\\\n",
    "    .add_check(NoIllegalFeatures()) \\\\\n",
    "    .add_check(NoMissingEmbeddings()) \\\\\n",
    "    .add_required_inspection(RowLineage(5)) \\\\\n",
    "    .add_required_inspection(MaterializeFirstOutputRows(5))\n",
    "    \"\"\")\n",
    "    if to_sql:\n",
    "        return setup_code, f\"pipeline_inspector.execute_in_sql(dbms_connector={dbms_connector}, \" \\\n",
    "                           f\"sql_one_run={one_run}, mode=\\'CTE\\')\"\n",
    "\n",
    "    return setup_code, f\"pipeline_inspector.execute()\"\n",
    "\n",
    "\n",
    "def run(pipeline_code, to_sql=False, dbms_connector=None, one_run=False):\n",
    "    setup_code, test_code = get_inspection_code(pipeline_code, to_sql, dbms_connector, one_run)\n",
    "    if to_sql:\n",
    "        result = []\n",
    "        for _ in range(BENCH_REP):\n",
    "            # This special case is necessary to deduct the time for dropping the existing tables and views!\n",
    "            result.append(timeit.timeit(test_code, setup=setup_code, number=1) * 1000)  # in s\n",
    "        return sum(result) / BENCH_REP\n",
    "\n",
    "    return (timeit.timeit(test_code, setup=setup_code, number=BENCH_REP) / BENCH_REP) * 1000  # in s\n",
    "\n",
    "\n",
    "def pipeline_inspection_benchmark(display_hardware_usage: bool = False):\n",
    "    pandas_times = []\n",
    "    postgres_times = []\n",
    "    umbra_times = []\n",
    "    for sql_one_run in [False]:\n",
    "        for i, (path_to_csv_pat, path_to_csv_his) in enumerate(HEALTHCARE_DATA_PATHS):\n",
    "            setup_code, test_code = get_healthcare_pipe_code_orig(path_to_csv_pat, path_to_csv_his)\n",
    "            pipe_code = setup_code + \"\\n\" + test_code\n",
    "\n",
    "            print(f\"Running pandas...  -- size {SIZES[i]}\")\n",
    "            pandas_times.append(run(pipe_code, to_sql=False, dbms_connector=None, one_run=sql_one_run))\n",
    "            print(f\"Running postgres...  -- size {SIZES[i]}\")\n",
    "            postgres_times.append(run(pipe_code, to_sql=True, dbms_connector=\"dbms_connector_p\", one_run=sql_one_run))\n",
    "            print(f\"Running umbra... -- size {SIZES[i]}\")\n",
    "            umbra_times.append(run(pipe_code, to_sql=True, dbms_connector=\"dbms_connector_u\", one_run=sql_one_run))\n",
    "\n",
    "            # sys.argv = [\"psrecord\", \"--duration=100\", \"--log=activity.txt\", \"1540\"]\n",
    "            # main()\n",
    "\n",
    "        names = [\"Pandas\", \"Postgresql\", \"Umbra\"]\n",
    "        title = \"healthcare_pandas_compare\"\n",
    "        table = [pandas_times, postgres_times, umbra_times]\n",
    "        plot = plot_compare(title, SIZES, all_y=table, all_y_names=names, save=True)\n",
    "        plot.show()\n",
    "\n",
    "pipeline_inspection_benchmark()"
   ],
   "metadata": {
    "collapsed": false,
    "pycharm": {
     "name": "#%%\n",
     "is_executing": true
    }
   }
  },
  {
   "cell_type": "code",
   "execution_count": 11,
   "outputs": [],
   "source": [
    "# Clean_up:\n",
    "\n",
    "if DO_CLEANUP:\n",
    "    [f.unlink() for f in PLOT_DIR.glob(\"*_.png\") if f.is_file()]"
   ],
   "metadata": {
    "collapsed": false,
    "pycharm": {
     "name": "#%%\n"
    }
   }
  }
 ],
 "metadata": {
  "kernelspec": {
   "display_name": "Python 3",
   "language": "python",
   "name": "python3"
  },
  "language_info": {
   "codemirror_mode": {
    "name": "ipython",
    "version": 2
   },
   "file_extension": ".py",
   "mimetype": "text/x-python",
   "name": "python",
   "nbconvert_exporter": "python",
   "pygments_lexer": "ipython2",
   "version": "2.7.6"
  }
 },
 "nbformat": 4,
 "nbformat_minor": 0
}
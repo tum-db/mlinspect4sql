{
 "cells": [
  {
   "cell_type": "markdown",
   "metadata": {
    "collapsed": true,
    "pycharm": {
     "name": "#%% md\n"
    }
   },
   "source": [
    "# Benchmark pure pipeline:\n",
    "\n",
    "Runtime comparison, of the translated pipelines. As well as showcase of the original and translated code."
   ]
  },
  {
   "cell_type": "code",
   "execution_count": 1,
   "metadata": {
    "pycharm": {
     "name": "#%%\n"
    }
   },
   "outputs": [],
   "source": [
    "import pathlib\n",
    "from inspect import cleandoc\n",
    "from mlinspect import PipelineInspector\n",
    "from mlinspect.utils import get_project_root\n",
    "import os\n",
    "import time"
   ]
  },
  {
   "cell_type": "markdown",
   "metadata": {
    "pycharm": {
     "name": "#%% md\n"
    }
   },
   "source": [
    "### The code of the \"healthcare\" pipeline that will be translated:"
   ]
  },
  {
   "cell_type": "code",
   "execution_count": 2,
   "metadata": {
    "pycharm": {
     "name": "#%%\n"
    }
   },
   "outputs": [],
   "source": [
    "# No model training:\n",
    "HEALTHCARE_FILE_PY_R = os.path.join(str(get_project_root()), \"test\", \"monkeypatchingSQL\", \"pipelines_for_tests\",\n",
    "                                    \"healthcare\", \"healthcare_res.py\")\n",
    "COMPAS_FILE_PY_R = os.path.join(str(get_project_root()), \"test\", \"monkeypatchingSQL\", \"pipelines_for_tests\", \"compas\",\n",
    "                              \"compas_res.py\")\n",
    "ADULT_SIMPLE_FILE_PY_R = os.path.join(str(get_project_root()), \"test\", \"monkeypatchingSQL\", \"pipelines_for_tests\",\n",
    "                                    \"adult_simple\", \"adult_simple_res.py\")\n",
    "ADULT_COMPLEX_FILE_PY_R = os.path.join(str(get_project_root()), \"test\", \"monkeypatchingSQL\", \"pipelines_for_tests\",\n",
    "                                     \"adult_complex\", \"adult_complex_res.py\")\n",
    "\n",
    "HEALTHCARE_BIAS = ['age_group', 'race']\n",
    "COMPAS_BIAS = ['sex', 'race']\n"
   ]
  },
  {
   "cell_type": "code",
   "execution_count": 3,
   "metadata": {
    "pycharm": {
     "name": "#%%\n"
    }
   },
   "outputs": [],
   "source": [
    "## The function to retrieve the generated code:\n",
    "def get_sql_query(file_location, mode, materialize):\n",
    "    PipelineInspector \\\n",
    "        .on_pipeline_from_py_file(file_location) \\\n",
    "        .execute_in_sql(dbms_connector=None, mode=mode, materialize=materialize)\n",
    "\n",
    "    setup_file = \\\n",
    "        pathlib.Path(get_project_root() / r\"mlinspect/to_sql/generated_code/create_table.sql\")\n",
    "    test_file = \\\n",
    "        pathlib.Path(get_project_root() / r\"mlinspect/to_sql/generated_code/pipeline.sql\")\n",
    "\n",
    "    with setup_file.open(\"r\") as file:\n",
    "        set_up_code = file.read()\n",
    "\n",
    "    with test_file.open(\"r\") as file:\n",
    "        test__code = file.read()\n",
    "\n",
    "    return set_up_code, test__code"
   ]
  },
  {
   "cell_type": "markdown",
   "metadata": {
    "pycharm": {
     "name": "#%% md\n"
    }
   },
   "source": [
    "## Generated Code Showcase:\n",
    "The code generated shows all the sql_code for the last call on the DBMS. The commented parts are the queries with which\n",
    "the data for training, testing and validation were retrieved."
   ]
  },
  {
   "cell_type": "code",
   "execution_count": 4,
   "metadata": {
    "pycharm": {
     "name": "#%%\n"
    }
   },
   "outputs": [
    {
     "name": "stdout",
     "output_type": "stream",
     "text": [
      "\n",
      "Just translation to SQL is performed! \n",
      "-> SQL-Code placed at: mlinspect/to_sql/generated_code.sql\n",
      "\n"
     ]
    },
    {
     "name": "stderr",
     "output_type": "stream",
     "text": [
      "2022-04-05 15:20:34.774215: W tensorflow/stream_executor/platform/default/dso_loader.cc:64] Could not load dynamic library 'libcudart.so.11.0'; dlerror: libcudart.so.11.0: cannot open shared object file: No such file or directory; LD_LIBRARY_PATH: /usr/local/lib64\n",
      "2022-04-05 15:20:34.774233: I tensorflow/stream_executor/cuda/cudart_stub.cc:29] Ignore above cudart dlerror if you do not have a GPU set up on your machine.\n"
     ]
    },
    {
     "name": "stdout",
     "output_type": "stream",
     "text": [
      "pipeline start\n",
      "\n",
      "Time spend 1.3218860626220703\n",
      "CREATE TABLE adult_train_1_mlinid0 (\n",
      "\t\"Unnamed: 0\" INT,\n",
      "\t\"age\" INT,\n",
      "\t\"workclass\" VARCHAR(100),\n",
      "\t\"fnlwgt\" INT,\n",
      "\t\"education\" VARCHAR(100),\n",
      "\t\"education-num\" INT,\n",
      "\t\"marital-status\" VARCHAR(100),\n",
      "\t\"occupation\" VARCHAR(100),\n",
      "\t\"relationship\" VARCHAR(100),\n",
      "\t\"race\" VARCHAR(100),\n",
      "\t\"sex\" VARCHAR(100),\n",
      "\t\"capital-gain\" INT,\n",
      "\t\"capital-loss\" INT,\n",
      "\t\"hours-per-week\" INT,\n",
      "\t\"native-country\" VARCHAR(100),\n",
      "\t\"income-per-year\" VARCHAR(100)\n",
      ");\n",
      "\n",
      "COPY adult_train_1_mlinid0(\"Unnamed: 0\", \"age\", \"workclass\", \"fnlwgt\", \"education\", \"education-num\", \"marital-status\", \"occupation\", \"relationship\", \"race\", \"sex\", \"capital-gain\", \"capital-loss\", \"hours-per-week\", \"native-country\", \"income-per-year\") FROM '/home/maximilian/TUM/thesis/scalerandi/mlinspect/test/monkeypatchingSQL/pipelines_for_tests/adult_complex/adult_train.csv' WITH (DELIMITER ',', NULL '', FORMAT CSV, HEADER TRUE);\n",
      "\n",
      "\n",
      "\n",
      "WITH adult_train_1_mlinid0_ctid AS (\n",
      "\tSELECT *, ctid AS adult_train_1_mlinid0_ctid\n",
      "\tFROM adult_train_1_mlinid0\n",
      "),\n",
      "block_mlinid1_2 AS (\n",
      "\tSELECT *\n",
      "\tFROM adult_train_1_mlinid0_ctid \n",
      "\tWHERE NOT (\"age\" IS NULL OR \"workclass\" IS NULL OR \"fnlwgt\" IS NULL OR \"education\" IS NULL OR \"education-num\" IS NULL OR \"marital-status\" IS NULL OR \"occupation\" IS NULL OR \"relationship\" IS NULL OR \"race\" IS NULL OR \"sex\" IS NULL OR \"capital-gain\" IS NULL OR \"capital-loss\" IS NULL OR \"hours-per-week\" IS NULL OR \"native-country\" IS NULL OR \"income-per-year\" IS NULL)\n",
      "),\n",
      "block_mlinid2_3 AS (\n",
      "\tSELECT \"income-per-year\", adult_train_1_mlinid0_ctid\n",
      "\tFROM block_mlinid1_2\n",
      "),\n",
      "block_binarize_mlinid4_4 AS (\n",
      "\tSELECT (CASE\n",
      "\t\t\tWHEN (\"income-per-year\" = '>50K') THEN 0\n",
      "\t\t\tWHEN (\"income-per-year\" = '<=50K') THEN 1\n",
      "\t\tEND) AS \"income-per-year\",\n",
      "\t\"age\", \"workclass\", \"fnlwgt\", \"education\", \"education-num\", \"marital-status\", \"occupation\", \"relationship\", \"race\", \"sex\", \"capital-gain\", \"capital-loss\", \"hours-per-week\", \"native-country\", adult_train_1_mlinid0_ctid\n",
      "\tFROM block_mlinid1_2\n",
      "),\n",
      "block_one_hot_fit_5_6 AS (\n",
      "\tSELECT \"workclass\", \n",
      "\t(array_fill(0, ARRAY[\"rank\" - 1]) || 1 ) || array_fill(0, ARRAY[ CAST((select COUNT(distinct(\"workclass\")) FROM block_mlinid1_2) AS int) - (\"rank\")]) AS \"workclass_one_hot\" \n",
      "\t\tFROM (\n",
      "\t\tSELECT \"workclass\", CAST(ROW_NUMBER() OVER() AS int) AS \"rank\" \n",
      "\t\tFROM (SELECT distinct(\"workclass\") FROM block_mlinid1_2) oh\n",
      "\t) one_hot_help\n",
      "),\n",
      "block_one_hot_fit_7_8 AS (\n",
      "\tSELECT \"education\", \n",
      "\t(array_fill(0, ARRAY[\"rank\" - 1]) || 1 ) || array_fill(0, ARRAY[ CAST((select COUNT(distinct(\"education\")) FROM block_mlinid1_2) AS int) - (\"rank\")]) AS \"education_one_hot\" \n",
      "\t\tFROM (\n",
      "\t\tSELECT \"education\", CAST(ROW_NUMBER() OVER() AS int) AS \"rank\" \n",
      "\t\tFROM (SELECT distinct(\"education\") FROM block_mlinid1_2) oh\n",
      "\t) one_hot_help\n",
      "),\n",
      "block_onehot_mlinid6_9 AS (\n",
      "\tSELECT \n",
      "\t\t\"age\",\n",
      "\t\t\"workclass_one_hot\" AS \"workclass\",\n",
      "\t\t\"education_one_hot\" AS \"education\",\n",
      "\t\t\"hours-per-week\",\n",
      "\t\tadult_train_1_mlinid0_ctid \n",
      "\tFROM block_one_hot_fit_5_6, block_one_hot_fit_7_8, block_mlinid1_2\n",
      "\tWHERE\n",
      "\t \tblock_mlinid1_2.\"workclass\" = block_one_hot_fit_5_6.\"workclass\" AND \n",
      "\t\tblock_mlinid1_2.\"education\" = block_one_hot_fit_7_8.\"education\"\n",
      "),\n",
      "block_std_scalar_fit_10_std_avg_11 AS (\n",
      "\tSELECT (SELECT AVG(\"age\") FROM block_mlinid1_2) AS avg_col_std_scal,(SELECT STDDEV_POP(\"age\") FROM block_mlinid1_2) AS std_dev_col_std_scal\n",
      "),\n",
      "block_std_scalar_fit_12_std_avg_13 AS (\n",
      "\tSELECT (SELECT AVG(\"hours-per-week\") FROM block_mlinid1_2) AS avg_col_std_scal,(SELECT STDDEV_POP(\"hours-per-week\") FROM block_mlinid1_2) AS std_dev_col_std_scal\n",
      "),\n",
      "block_stdscaler_mlinid7_14 AS (\n",
      "\tSELECT \n",
      "\t\t((\"age\" - (SELECT avg_col_std_scal FROM block_std_scalar_fit_10_std_avg_11)) / (SELECT std_dev_col_std_scal FROM block_std_scalar_fit_10_std_avg_11)) AS \"age\",\n",
      "\t\t\"workclass\",\n",
      "\t\t\"education\",\n",
      "\t\t((\"hours-per-week\" - (SELECT avg_col_std_scal FROM block_std_scalar_fit_12_std_avg_13)) / (SELECT std_dev_col_std_scal FROM block_std_scalar_fit_12_std_avg_13)) AS \"hours-per-week\",\n",
      "\t\tadult_train_1_mlinid0_ctid \n",
      "\tFROM block_mlinid1_2\n",
      "),\n",
      "block_column_transformer_lvl0_15 AS (\n",
      "\t\n",
      "\tSELECT \n",
      "\t\t\"education_one_hot\" AS \"education\",\n",
      "\t\t\"workclass_one_hot\" AS \"workclass\",\n",
      "\t\t((\"age\" - (SELECT avg_col_std_scal FROM block_std_scalar_fit_10_std_avg_11)) / (SELECT std_dev_col_std_scal FROM block_std_scalar_fit_10_std_avg_11)) AS \"age\",\n",
      "\t\t((\"hours-per-week\" - (SELECT avg_col_std_scal FROM block_std_scalar_fit_12_std_avg_13)) / (SELECT std_dev_col_std_scal FROM block_std_scalar_fit_12_std_avg_13)) AS \"hours-per-week\",\n",
      "\t\tadult_train_1_mlinid0_ctid \n",
      "\tFROM block_one_hot_fit_7_8, block_one_hot_fit_5_6, block_mlinid1_2\n",
      "\tWHERE\n",
      "\t\tblock_mlinid1_2.\"education\" = block_one_hot_fit_7_8.\"education\" AND \n",
      "\t\tblock_mlinid1_2.\"workclass\" = block_one_hot_fit_5_6.\"workclass\"\n",
      ")\n",
      "SELECT \"education\", \"workclass\", \"age\", \"hours-per-week\" FROM block_column_transformer_lvl0_15;\n"
     ]
    }
   ],
   "source": [
    "# The code generated using \"CTE\":\n",
    "t0 = time.time()\n",
    "setup_code, test_code = get_sql_query(ADULT_SIMPLE_FILE_PY_R, mode=\"CTE\", materialize=False)\n",
    "t1 = time.time()\n",
    "print(\"\\nTime spend \" + str(t1 - t0))\n",
    "print(setup_code + \"\\n\" + test_code)\n"
   ]
  },
  {
   "cell_type": "code",
   "execution_count": 5,
   "metadata": {
    "pycharm": {
     "name": "#%%\n"
    }
   },
   "outputs": [
    {
     "name": "stdout",
     "output_type": "stream",
     "text": [
      "\n",
      "Just translation to SQL is performed! \n",
      "-> SQL-Code placed at: mlinspect/to_sql/generated_code.sql\n",
      "\n",
      "pipeline start\n",
      "\n",
      "Time spend 0.06610774993896484\n",
      "CREATE TABLE adult_train_16_mlinid0 (\n",
      "\t\"Unnamed: 0\" INT,\n",
      "\t\"age\" INT,\n",
      "\t\"workclass\" VARCHAR(100),\n",
      "\t\"fnlwgt\" INT,\n",
      "\t\"education\" VARCHAR(100),\n",
      "\t\"education-num\" INT,\n",
      "\t\"marital-status\" VARCHAR(100),\n",
      "\t\"occupation\" VARCHAR(100),\n",
      "\t\"relationship\" VARCHAR(100),\n",
      "\t\"race\" VARCHAR(100),\n",
      "\t\"sex\" VARCHAR(100),\n",
      "\t\"capital-gain\" INT,\n",
      "\t\"capital-loss\" INT,\n",
      "\t\"hours-per-week\" INT,\n",
      "\t\"native-country\" VARCHAR(100),\n",
      "\t\"income-per-year\" VARCHAR(100)\n",
      ");\n",
      "\n",
      "COPY adult_train_16_mlinid0(\"Unnamed: 0\", \"age\", \"workclass\", \"fnlwgt\", \"education\", \"education-num\", \"marital-status\", \"occupation\", \"relationship\", \"race\", \"sex\", \"capital-gain\", \"capital-loss\", \"hours-per-week\", \"native-country\", \"income-per-year\") FROM '/home/maximilian/TUM/thesis/scalerandi/mlinspect/test/monkeypatchingSQL/pipelines_for_tests/adult_complex/adult_train.csv' WITH (DELIMITER ',', NULL '', FORMAT CSV, HEADER TRUE);\n",
      "\n",
      "\n",
      "\n",
      "CREATE VIEW adult_train_16_mlinid0_ctid AS (\n",
      "\tSELECT *, ctid AS adult_train_16_mlinid0_ctid\n",
      "\tFROM adult_train_16_mlinid0\n",
      ");\n",
      "CREATE VIEW block_mlinid1_17 AS (\n",
      "\tSELECT *\n",
      "\tFROM adult_train_16_mlinid0_ctid \n",
      "\tWHERE NOT (\"age\" IS NULL OR \"workclass\" IS NULL OR \"fnlwgt\" IS NULL OR \"education\" IS NULL OR \"education-num\" IS NULL OR \"marital-status\" IS NULL OR \"occupation\" IS NULL OR \"relationship\" IS NULL OR \"race\" IS NULL OR \"sex\" IS NULL OR \"capital-gain\" IS NULL OR \"capital-loss\" IS NULL OR \"hours-per-week\" IS NULL OR \"native-country\" IS NULL OR \"income-per-year\" IS NULL)\n",
      ");\n",
      "CREATE VIEW block_mlinid2_18 AS (\n",
      "\tSELECT \"income-per-year\", adult_train_16_mlinid0_ctid\n",
      "\tFROM block_mlinid1_17\n",
      ");\n",
      "CREATE VIEW block_binarize_mlinid4_19 AS (\n",
      "\tSELECT (CASE\n",
      "\t\t\tWHEN (\"income-per-year\" = '>50K') THEN 0\n",
      "\t\t\tWHEN (\"income-per-year\" = '<=50K') THEN 1\n",
      "\t\tEND) AS \"income-per-year\",\n",
      "\t\"age\", \"workclass\", \"fnlwgt\", \"education\", \"education-num\", \"marital-status\", \"occupation\", \"relationship\", \"race\", \"sex\", \"capital-gain\", \"capital-loss\", \"hours-per-week\", \"native-country\", adult_train_16_mlinid0_ctid\n",
      "\tFROM block_mlinid1_17\n",
      ");\n",
      "CREATE VIEW block_one_hot_fit_20_21 AS (\n",
      "\tSELECT \"workclass\", \n",
      "\t(array_fill(0, ARRAY[\"rank\" - 1]) || 1 ) || array_fill(0, ARRAY[ CAST((select COUNT(distinct(\"workclass\")) FROM block_mlinid1_17) AS int) - (\"rank\")]) AS \"workclass_one_hot\" \n",
      "\t\tFROM (\n",
      "\t\tSELECT \"workclass\", CAST(ROW_NUMBER() OVER() AS int) AS \"rank\" \n",
      "\t\tFROM (SELECT distinct(\"workclass\") FROM block_mlinid1_17) oh\n",
      "\t) one_hot_help\n",
      ");\n",
      "CREATE VIEW block_one_hot_fit_22_23 AS (\n",
      "\tSELECT \"education\", \n",
      "\t(array_fill(0, ARRAY[\"rank\" - 1]) || 1 ) || array_fill(0, ARRAY[ CAST((select COUNT(distinct(\"education\")) FROM block_mlinid1_17) AS int) - (\"rank\")]) AS \"education_one_hot\" \n",
      "\t\tFROM (\n",
      "\t\tSELECT \"education\", CAST(ROW_NUMBER() OVER() AS int) AS \"rank\" \n",
      "\t\tFROM (SELECT distinct(\"education\") FROM block_mlinid1_17) oh\n",
      "\t) one_hot_help\n",
      ");\n",
      "CREATE VIEW block_onehot_mlinid6_24 AS (\n",
      "\tSELECT \n",
      "\t\t\"age\",\n",
      "\t\t\"workclass_one_hot\" AS \"workclass\",\n",
      "\t\t\"education_one_hot\" AS \"education\",\n",
      "\t\t\"hours-per-week\",\n",
      "\t\tadult_train_16_mlinid0_ctid \n",
      "\tFROM block_one_hot_fit_20_21, block_one_hot_fit_22_23, block_mlinid1_17\n",
      "\tWHERE\n",
      "\t \tblock_mlinid1_17.\"workclass\" = block_one_hot_fit_20_21.\"workclass\" AND \n",
      "\t\tblock_mlinid1_17.\"education\" = block_one_hot_fit_22_23.\"education\"\n",
      ");\n",
      "CREATE VIEW block_std_scalar_fit_25_std_avg_26 AS (\n",
      "\tSELECT (SELECT AVG(\"age\") FROM block_mlinid1_17) AS avg_col_std_scal,(SELECT STDDEV_POP(\"age\") FROM block_mlinid1_17) AS std_dev_col_std_scal\n",
      ");\n",
      "CREATE VIEW block_std_scalar_fit_27_std_avg_28 AS (\n",
      "\tSELECT (SELECT AVG(\"hours-per-week\") FROM block_mlinid1_17) AS avg_col_std_scal,(SELECT STDDEV_POP(\"hours-per-week\") FROM block_mlinid1_17) AS std_dev_col_std_scal\n",
      ");\n",
      "CREATE VIEW block_stdscaler_mlinid7_29 AS (\n",
      "\tSELECT \n",
      "\t\t((\"age\" - (SELECT avg_col_std_scal FROM block_std_scalar_fit_25_std_avg_26)) / (SELECT std_dev_col_std_scal FROM block_std_scalar_fit_25_std_avg_26)) AS \"age\",\n",
      "\t\t\"workclass\",\n",
      "\t\t\"education\",\n",
      "\t\t((\"hours-per-week\" - (SELECT avg_col_std_scal FROM block_std_scalar_fit_27_std_avg_28)) / (SELECT std_dev_col_std_scal FROM block_std_scalar_fit_27_std_avg_28)) AS \"hours-per-week\",\n",
      "\t\tadult_train_16_mlinid0_ctid \n",
      "\tFROM block_mlinid1_17\n",
      ");\n",
      "CREATE VIEW block_column_transformer_lvl0_30 AS (\n",
      "\t\n",
      "\tSELECT \n",
      "\t\t\"education_one_hot\" AS \"education\",\n",
      "\t\t\"workclass_one_hot\" AS \"workclass\",\n",
      "\t\t((\"age\" - (SELECT avg_col_std_scal FROM block_std_scalar_fit_25_std_avg_26)) / (SELECT std_dev_col_std_scal FROM block_std_scalar_fit_25_std_avg_26)) AS \"age\",\n",
      "\t\t((\"hours-per-week\" - (SELECT avg_col_std_scal FROM block_std_scalar_fit_27_std_avg_28)) / (SELECT std_dev_col_std_scal FROM block_std_scalar_fit_27_std_avg_28)) AS \"hours-per-week\",\n",
      "\t\tadult_train_16_mlinid0_ctid \n",
      "\tFROM block_mlinid1_17, block_one_hot_fit_22_23, block_one_hot_fit_20_21\n",
      "\tWHERE\n",
      "\t\tblock_mlinid1_17.\"education\" = block_one_hot_fit_22_23.\"education\" AND \n",
      "\t\tblock_mlinid1_17.\"workclass\" = block_one_hot_fit_20_21.\"workclass\"\n",
      ");\n",
      "\n",
      "SELECT \"education\", \"workclass\", \"age\", \"hours-per-week\" FROM block_column_transformer_lvl0_30;\n"
     ]
    }
   ],
   "source": [
    "# The code generated using \"VIEW\":\n",
    "t0 = time.time()\n",
    "setup_code, test_code = get_sql_query(ADULT_SIMPLE_FILE_PY_R, mode=\"VIEW\", materialize=False)\n",
    "t1 = time.time()\n",
    "print(\"\\nTime spend \" + str(t1 - t0))\n",
    "view_no_mat = setup_code + \"\\n\" + test_code\n",
    "print(view_no_mat)"
   ]
  },
  {
   "cell_type": "markdown",
   "metadata": {},
   "source": [
    "### Full example of the entire code generated using \"VIEW\" + \"MATERIALIZE\":"
   ]
  },
  {
   "cell_type": "code",
   "execution_count": 6,
   "metadata": {
    "pycharm": {
     "name": "#%%\n"
    }
   },
   "outputs": [
    {
     "name": "stdout",
     "output_type": "stream",
     "text": [
      "\n",
      "Just translation to SQL is performed! \n",
      "-> SQL-Code placed at: mlinspect/to_sql/generated_code.sql\n",
      "\n",
      "pipeline start\n",
      "\n",
      "Time spend 0.07538580894470215\n",
      "CREATE TABLE adult_train_31_mlinid0 (\n",
      "\t\"Unnamed: 0\" INT,\n",
      "\t\"age\" INT,\n",
      "\t\"workclass\" VARCHAR(100),\n",
      "\t\"fnlwgt\" INT,\n",
      "\t\"education\" VARCHAR(100),\n",
      "\t\"education-num\" INT,\n",
      "\t\"marital-status\" VARCHAR(100),\n",
      "\t\"occupation\" VARCHAR(100),\n",
      "\t\"relationship\" VARCHAR(100),\n",
      "\t\"race\" VARCHAR(100),\n",
      "\t\"sex\" VARCHAR(100),\n",
      "\t\"capital-gain\" INT,\n",
      "\t\"capital-loss\" INT,\n",
      "\t\"hours-per-week\" INT,\n",
      "\t\"native-country\" VARCHAR(100),\n",
      "\t\"income-per-year\" VARCHAR(100)\n",
      ");\n",
      "\n",
      "COPY adult_train_31_mlinid0(\"Unnamed: 0\", \"age\", \"workclass\", \"fnlwgt\", \"education\", \"education-num\", \"marital-status\", \"occupation\", \"relationship\", \"race\", \"sex\", \"capital-gain\", \"capital-loss\", \"hours-per-week\", \"native-country\", \"income-per-year\") FROM '/home/maximilian/TUM/thesis/scalerandi/mlinspect/test/monkeypatchingSQL/pipelines_for_tests/adult_complex/adult_train.csv' WITH (DELIMITER ',', NULL '', FORMAT CSV, HEADER TRUE);\n",
      "\n",
      "\n",
      "\n",
      "CREATE VIEW adult_train_31_mlinid0_ctid AS (\n",
      "\tSELECT *, ctid AS adult_train_31_mlinid0_ctid\n",
      "\tFROM adult_train_31_mlinid0\n",
      ");\n",
      "CREATE VIEW block_mlinid1_32 AS (\n",
      "\tSELECT *\n",
      "\tFROM adult_train_31_mlinid0_ctid \n",
      "\tWHERE NOT (\"age\" IS NULL OR \"workclass\" IS NULL OR \"fnlwgt\" IS NULL OR \"education\" IS NULL OR \"education-num\" IS NULL OR \"marital-status\" IS NULL OR \"occupation\" IS NULL OR \"relationship\" IS NULL OR \"race\" IS NULL OR \"sex\" IS NULL OR \"capital-gain\" IS NULL OR \"capital-loss\" IS NULL OR \"hours-per-week\" IS NULL OR \"native-country\" IS NULL OR \"income-per-year\" IS NULL)\n",
      ");\n",
      "CREATE VIEW block_mlinid2_33 AS (\n",
      "\tSELECT \"income-per-year\", adult_train_31_mlinid0_ctid\n",
      "\tFROM block_mlinid1_32\n",
      ");\n",
      "CREATE VIEW block_binarize_mlinid4_34 AS (\n",
      "\tSELECT (CASE\n",
      "\t\t\tWHEN (\"income-per-year\" = '>50K') THEN 0\n",
      "\t\t\tWHEN (\"income-per-year\" = '<=50K') THEN 1\n",
      "\t\tEND) AS \"income-per-year\",\n",
      "\t\"age\", \"workclass\", \"fnlwgt\", \"education\", \"education-num\", \"marital-status\", \"occupation\", \"relationship\", \"race\", \"sex\", \"capital-gain\", \"capital-loss\", \"hours-per-week\", \"native-country\", adult_train_31_mlinid0_ctid\n",
      "\tFROM block_mlinid1_32\n",
      ");\n",
      "CREATE MATERIALIZED VIEW block_mlinid1_32_materialized AS (\n",
      "\tSELECT *\n",
      "\tFROM adult_train_31_mlinid0_ctid \n",
      "\tWHERE NOT (\"age\" IS NULL OR \"workclass\" IS NULL OR \"fnlwgt\" IS NULL OR \"education\" IS NULL OR \"education-num\" IS NULL OR \"marital-status\" IS NULL OR \"occupation\" IS NULL OR \"relationship\" IS NULL OR \"race\" IS NULL OR \"sex\" IS NULL OR \"capital-gain\" IS NULL OR \"capital-loss\" IS NULL OR \"hours-per-week\" IS NULL OR \"native-country\" IS NULL OR \"income-per-year\" IS NULL)\n",
      ");\n",
      "CREATE MATERIALIZED VIEW block_one_hot_fit_35_36_materialized AS (\n",
      "\tSELECT \"workclass\", \n",
      "\t(array_fill(0, ARRAY[\"rank\" - 1]) || 1 ) || array_fill(0, ARRAY[ CAST((select COUNT(distinct(\"workclass\")) FROM block_mlinid1_32_materialized) AS int) - (\"rank\")]) AS \"workclass_one_hot\" \n",
      "\t\tFROM (\n",
      "\t\tSELECT \"workclass\", CAST(ROW_NUMBER() OVER() AS int) AS \"rank\" \n",
      "\t\tFROM (SELECT distinct(\"workclass\") FROM block_mlinid1_32_materialized) oh\n",
      "\t) one_hot_help\n",
      ");\n",
      "CREATE MATERIALIZED VIEW block_one_hot_fit_37_38_materialized AS (\n",
      "\tSELECT \"education\", \n",
      "\t(array_fill(0, ARRAY[\"rank\" - 1]) || 1 ) || array_fill(0, ARRAY[ CAST((select COUNT(distinct(\"education\")) FROM block_mlinid1_32_materialized) AS int) - (\"rank\")]) AS \"education_one_hot\" \n",
      "\t\tFROM (\n",
      "\t\tSELECT \"education\", CAST(ROW_NUMBER() OVER() AS int) AS \"rank\" \n",
      "\t\tFROM (SELECT distinct(\"education\") FROM block_mlinid1_32_materialized) oh\n",
      "\t) one_hot_help\n",
      ");\n",
      "CREATE VIEW block_onehot_mlinid6_39 AS (\n",
      "\tSELECT \n",
      "\t\t\"age\",\n",
      "\t\t\"workclass_one_hot\" AS \"workclass\",\n",
      "\t\t\"education_one_hot\" AS \"education\",\n",
      "\t\t\"hours-per-week\",\n",
      "\t\tadult_train_31_mlinid0_ctid \n",
      "\tFROM block_one_hot_fit_35_36_materialized, block_one_hot_fit_37_38_materialized, block_mlinid1_32_materialized\n",
      "\tWHERE\n",
      "\t \tblock_mlinid1_32_materialized.\"workclass\" = block_one_hot_fit_35_36_materialized.\"workclass\" AND \n",
      "\t\tblock_mlinid1_32_materialized.\"education\" = block_one_hot_fit_37_38_materialized.\"education\"\n",
      ");\n",
      "CREATE MATERIALIZED VIEW block_std_scalar_fit_40_std_avg_41_materialized AS (\n",
      "\tSELECT (SELECT AVG(\"age\") FROM block_mlinid1_32_materialized) AS avg_col_std_scal,(SELECT STDDEV_POP(\"age\") FROM block_mlinid1_32_materialized) AS std_dev_col_std_scal\n",
      ");\n",
      "CREATE MATERIALIZED VIEW block_std_scalar_fit_42_std_avg_43_materialized AS (\n",
      "\tSELECT (SELECT AVG(\"hours-per-week\") FROM block_mlinid1_32_materialized) AS avg_col_std_scal,(SELECT STDDEV_POP(\"hours-per-week\") FROM block_mlinid1_32_materialized) AS std_dev_col_std_scal\n",
      ");\n",
      "CREATE VIEW block_stdscaler_mlinid7_44 AS (\n",
      "\tSELECT \n",
      "\t\t((\"age\" - (SELECT avg_col_std_scal FROM block_std_scalar_fit_40_std_avg_41_materialized)) / (SELECT std_dev_col_std_scal FROM block_std_scalar_fit_40_std_avg_41_materialized)) AS \"age\",\n",
      "\t\t\"workclass\",\n",
      "\t\t\"education\",\n",
      "\t\t((\"hours-per-week\" - (SELECT avg_col_std_scal FROM block_std_scalar_fit_42_std_avg_43_materialized)) / (SELECT std_dev_col_std_scal FROM block_std_scalar_fit_42_std_avg_43_materialized)) AS \"hours-per-week\",\n",
      "\t\tadult_train_31_mlinid0_ctid \n",
      "\tFROM block_mlinid1_32_materialized\n",
      ");\n",
      "CREATE VIEW block_column_transformer_lvl0_45 AS (\n",
      "\t\n",
      "\tSELECT \n",
      "\t\t\"education_one_hot\" AS \"education\",\n",
      "\t\t\"workclass_one_hot\" AS \"workclass\",\n",
      "\t\t((\"age\" - (SELECT avg_col_std_scal FROM block_std_scalar_fit_40_std_avg_41_materialized)) / (SELECT std_dev_col_std_scal FROM block_std_scalar_fit_40_std_avg_41_materialized)) AS \"age\",\n",
      "\t\t((\"hours-per-week\" - (SELECT avg_col_std_scal FROM block_std_scalar_fit_42_std_avg_43_materialized)) / (SELECT std_dev_col_std_scal FROM block_std_scalar_fit_42_std_avg_43_materialized)) AS \"hours-per-week\",\n",
      "\t\tadult_train_31_mlinid0_ctid \n",
      "\tFROM block_one_hot_fit_35_36_materialized, block_one_hot_fit_37_38_materialized, block_mlinid1_32\n",
      "\tWHERE\n",
      "\t\tblock_mlinid1_32.\"workclass\" = block_one_hot_fit_35_36_materialized.\"workclass\" AND \n",
      "\t\tblock_mlinid1_32.\"education\" = block_one_hot_fit_37_38_materialized.\"education\"\n",
      ");\n",
      "\n",
      "SELECT \"education\", \"workclass\", \"age\", \"hours-per-week\" FROM block_column_transformer_lvl0_45;\n"
     ]
    }
   ],
   "source": [
    "# The code generated using \"VIEW\" and \"MATERIALIZED\":\n",
    "t0 = time.time()\n",
    "setup_code_m, test_code_m = get_sql_query(ADULT_SIMPLE_FILE_PY_R, mode=\"VIEW\", materialize=True)\n",
    "t1 = time.time()\n",
    "print(\"\\nTime spend \" + str(t1 - t0))\n",
    "view_with_mat = setup_code_m + \"\\n\" + test_code_m\n",
    "print(view_with_mat)\n",
    "\n"
   ]
  }
 ],
 "metadata": {
  "interpreter": {
   "hash": "88cf9573b7b8588226248109e4f46f163d87635f37520c23a7b39ed1f0288615"
  },
  "kernelspec": {
   "display_name": "venv",
   "language": "python",
   "name": "venv"
  },
  "language_info": {
   "codemirror_mode": {
    "name": "ipython",
    "version": 3
   },
   "file_extension": ".py",
   "mimetype": "text/x-python",
   "name": "python",
   "nbconvert_exporter": "python",
   "pygments_lexer": "ipython3",
   "version": "3.8.10"
  }
 },
 "nbformat": 4,
 "nbformat_minor": 1
}
